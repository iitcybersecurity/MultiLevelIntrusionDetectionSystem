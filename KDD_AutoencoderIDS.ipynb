{
 "cells": [
  {
   "cell_type": "code",
   "execution_count": 14,
   "metadata": {},
   "outputs": [
    {
     "name": "stdout",
     "output_type": "stream",
     "text": [
      "Librerie importate con successo\n"
     ]
    }
   ],
   "source": [
    "import pandas as pd\n",
    "import numpy as np\n",
    "from tensorflow import keras\n",
    "from tensorflow.keras import regularizers\n",
    "from tensorflow.keras import layers\n",
    "from tensorflow.keras.utils import to_categorical\n",
    "from tensorflow.keras.models import Sequential\n",
    "from sklearn.model_selection import train_test_split as splitter\n",
    "import cProfile\n",
    "import pstats\n",
    "import os\n",
    "import sys\n",
    "from sklearn.metrics import classification_report, confusion_matrix\n",
    "from sklearn.preprocessing import LabelEncoder\n",
    "from datetime import datetime\n",
    "from matplotlib import pyplot as plt\n",
    "from matplotlib import dates as md\n",
    "\n",
    "print(\"Librerie importate con successo\")"
   ]
  },
  {
   "cell_type": "code",
   "execution_count": 15,
   "metadata": {},
   "outputs": [],
   "source": [
    "data = pd.read_csv('../Datasets/kdd_prediction.csv', delimiter=',',\n",
    "                       dtype={'protocol_type': str, 'service': str, 'flag': str, 'result': str})\n",
    "#print(\"Dataset : \\n\")\n",
    "#print(data.head()) #Stampa per visualizzare il dataset\n"
   ]
  },
  {
   "cell_type": "code",
   "execution_count": 16,
   "metadata": {},
   "outputs": [
    {
     "name": "stdout",
     "output_type": "stream",
     "text": [
      "Total :  13451\n",
      "Normal :  7500\n",
      "Malicious :  5951\n"
     ]
    },
    {
     "data": {
      "image/png": "[encoded data removed]",
      "text/plain": [
       "<Figure size 432x288 with 1 Axes>"
      ]
     },
     "metadata": {
      "needs_background": "light"
     },
     "output_type": "display_data"
    }
   ],
   "source": [
    "total_flows_count = data[\"result\"].count()\n",
    "normal_flows_count = len(data[data.result == \"normal\"])\n",
    "anomaly_flows_count = len(data[data.result != \"normal\"])\n",
    "\n",
    "print(\"Total : \",total_flows_count)\n",
    "print(\"Normal : \",normal_flows_count)\n",
    "print(\"Malicious : \",anomaly_flows_count)\n",
    "\n",
    "# x-coordinates of left sides of bars  \n",
    "left = [1, 1.5] \n",
    "  \n",
    "# heights of bars \n",
    "height = [normal_flows_count, anomaly_flows_count] \n",
    "  \n",
    "# labels for bars \n",
    "tick_label = ['Normal', 'Malicious'] \n",
    "  \n",
    "# bar chart\n",
    "plt.bar(left, height, tick_label = tick_label, \n",
    "        width = 0.4, color = ['green', 'red']) \n",
    "  \n",
    "# Rinominazione asse x \n",
    "plt.xlabel('Tipologia di record') \n",
    "# Rinominazione asse y \n",
    "plt.ylabel('Numero di record') \n",
    "# Titolo\n",
    "plt.title('Numero di samples del dataset') \n",
    "  \n",
    "plt.show() "
   ]
  },
  {
   "cell_type": "code",
   "execution_count": 17,
   "metadata": {},
   "outputs": [],
   "source": [
    "def preprocessing(data):\n",
    "    for column in data.columns:\n",
    "        if data[column].dtype == type(object):\n",
    "            le = LabelEncoder()\n",
    "            data[column] = le.fit_transform(data[column])"
   ]
  },
  {
   "cell_type": "code",
   "execution_count": 18,
   "metadata": {},
   "outputs": [
    {
     "name": "stdout",
     "output_type": "stream",
     "text": [
      "x_train dataframe shape:  (7500, 21)\n"
     ]
    },
    {
     "name": "stderr",
     "output_type": "stream",
     "text": [
      "<ipython-input-17-14dd7e54de29>:5: SettingWithCopyWarning: \n",
      "A value is trying to be set on a copy of a slice from a DataFrame.\n",
      "Try using .loc[row_indexer,col_indexer] = value instead\n",
      "\n",
      "See the caveats in the documentation: https://pandas.pydata.org/pandas-docs/stable/user_guide/indexing.html#returning-a-view-versus-a-copy\n",
      "  data[column] = le.fit_transform(data[column])\n"
     ]
    }
   ],
   "source": [
    "data_train = data[data.result == \"normal\"] #prendo solo i valori \"normali\" per il train\n",
    "\n",
    "preprocessing(data_train)\n",
    "        \n",
    "x_train = data_train.drop('result',axis=1) #rimuove la colonna result dal dataframe\n",
    "\n",
    "print(\"x_train dataframe shape: \", x_train.shape)"
   ]
  },
  {
   "cell_type": "code",
   "execution_count": 19,
   "metadata": {},
   "outputs": [
    {
     "name": "stdout",
     "output_type": "stream",
     "text": [
      "Training input shape:  (7500, 21, 1)\n"
     ]
    }
   ],
   "source": [
    "arr_train = x_train.to_numpy() #conversione da dataframe ad array numpy\n",
    "arr_train = arr_train.reshape(arr_train.shape[0],arr_train.shape[1],1) #converte la shape da 2d a 3d per layer LSTM\n",
    "print(\"Training input shape: \", arr_train.shape)"
   ]
  },
  {
   "cell_type": "code",
   "execution_count": 21,
   "metadata": {},
   "outputs": [
    {
     "name": "stdout",
     "output_type": "stream",
     "text": [
      "Model: \"sequential_2\"\n",
      "_________________________________________________________________\n",
      "Layer (type)                 Output Shape              Param #   \n",
      "=================================================================\n",
      "lstm_8 (LSTM)                (None, 21, 16)            1152      \n",
      "_________________________________________________________________\n",
      "lstm_9 (LSTM)                (None, 4)                 336       \n",
      "_________________________________________________________________\n",
      "repeat_vector_2 (RepeatVecto (None, 21, 4)             0         \n",
      "_________________________________________________________________\n",
      "lstm_10 (LSTM)               (None, 21, 4)             144       \n",
      "_________________________________________________________________\n",
      "lstm_11 (LSTM)               (None, 21, 16)            1344      \n",
      "_________________________________________________________________\n",
      "time_distributed_2 (TimeDist (None, 21, 1)             17        \n",
      "=================================================================\n",
      "Total params: 2,993\n",
      "Trainable params: 2,993\n",
      "Non-trainable params: 0\n",
      "_________________________________________________________________\n"
     ]
    }
   ],
   "source": [
    "model = keras.Sequential(\n",
    "    [\n",
    "       layers.Input(shape=(arr_train.shape[1], arr_train.shape[2])),\n",
    "       layers.LSTM(16, activation='relu', return_sequences=True, kernel_regularizer = regularizers.l2(0.00)),\n",
    "       layers.LSTM(4, activation='relu', return_sequences=False),\n",
    "       layers.RepeatVector(arr_train.shape[1]), \n",
    "       layers.LSTM(4, activation='relu', return_sequences=True),\n",
    "       layers.LSTM(16, activation='relu', return_sequences=True),  \n",
    "       layers.TimeDistributed(layers.Dense(1))    \n",
    "    ]\n",
    ")\n",
    "model.compile( optimizer='adam', loss='mse')\n",
    "model.summary()"
   ]
  },
  {
   "cell_type": "code",
   "execution_count": 22,
   "metadata": {
    "scrolled": true
   },
   "outputs": [
    {
     "name": "stdout",
     "output_type": "stream",
     "text": [
      "Epoch 1/45\n",
      "45/45 [==============================] - 3s 74ms/step - loss: 5.2390 - val_loss: 4.6478\n",
      "Epoch 2/45\n",
      "45/45 [==============================] - 2s 49ms/step - loss: 4.9929 - val_loss: 4.1092\n",
      "Epoch 3/45\n",
      "45/45 [==============================] - 2s 49ms/step - loss: 4.0691 - val_loss: 2.7002\n",
      "Epoch 4/45\n",
      "45/45 [==============================] - 2s 48ms/step - loss: 1.9794 - val_loss: 0.7949\n",
      "Epoch 5/45\n",
      "45/45 [==============================] - 2s 40ms/step - loss: 1.2219 - val_loss: 0.5846\n",
      "Epoch 6/45\n",
      "45/45 [==============================] - 2s 44ms/step - loss: 1.0880 - val_loss: 0.5248\n",
      "Epoch 7/45\n",
      "45/45 [==============================] - 2s 50ms/step - loss: 0.9953 - val_loss: 0.4656\n",
      "Epoch 8/45\n",
      "45/45 [==============================] - 2s 48ms/step - loss: 0.9139 - val_loss: 0.5151\n",
      "Epoch 9/45\n",
      "45/45 [==============================] - 2s 49ms/step - loss: 0.8121 - val_loss: 0.4504\n",
      "Epoch 10/45\n",
      "45/45 [==============================] - 2s 50ms/step - loss: 0.7756 - val_loss: 0.4168\n",
      "Epoch 11/45\n",
      "45/45 [==============================] - 2s 50ms/step - loss: 0.8449 - val_loss: 0.3507\n",
      "Epoch 12/45\n",
      "45/45 [==============================] - 2s 41ms/step - loss: 0.8147 - val_loss: 0.3066\n",
      "Epoch 13/45\n",
      "45/45 [==============================] - 2s 39ms/step - loss: 1.8899 - val_loss: 0.4297\n",
      "Epoch 14/45\n",
      "45/45 [==============================] - 2s 49ms/step - loss: 0.9162 - val_loss: 0.3445\n",
      "Epoch 15/45\n",
      "45/45 [==============================] - 2s 49ms/step - loss: 0.8860 - val_loss: 0.3269\n",
      "Epoch 16/45\n",
      "45/45 [==============================] - 2s 49ms/step - loss: 0.8317 - val_loss: 0.3138\n",
      "Epoch 17/45\n",
      "45/45 [==============================] - 2s 50ms/step - loss: 0.9123 - val_loss: 0.3062\n",
      "Epoch 18/45\n",
      "45/45 [==============================] - 2s 49ms/step - loss: 0.7875 - val_loss: 0.3151\n",
      "Epoch 19/45\n",
      "45/45 [==============================] - 2s 46ms/step - loss: 0.8155 - val_loss: 0.3054\n",
      "Epoch 20/45\n",
      "45/45 [==============================] - 2s 42ms/step - loss: 0.7945 - val_loss: 0.2957\n",
      "Epoch 21/45\n",
      "45/45 [==============================] - 2s 48ms/step - loss: 0.7700 - val_loss: 0.2952\n",
      "Epoch 22/45\n",
      "45/45 [==============================] - 2s 48ms/step - loss: 0.7438 - val_loss: 0.2914\n",
      "Epoch 23/45\n",
      "45/45 [==============================] - 2s 49ms/step - loss: 0.7245 - val_loss: 0.2808\n",
      "Epoch 24/45\n",
      "45/45 [==============================] - 2s 50ms/step - loss: 0.6935 - val_loss: 0.2745\n",
      "Epoch 25/45\n",
      "45/45 [==============================] - 2s 48ms/step - loss: 1.2753 - val_loss: 0.5108\n",
      "Epoch 26/45\n",
      "45/45 [==============================] - 2s 49ms/step - loss: 1.1066 - val_loss: 0.4166\n",
      "Epoch 27/45\n",
      "45/45 [==============================] - 2s 41ms/step - loss: 0.9812 - val_loss: 0.4369\n",
      "Epoch 28/45\n",
      "45/45 [==============================] - 2s 40ms/step - loss: 1.1296 - val_loss: 0.3720\n",
      "Epoch 29/45\n",
      "45/45 [==============================] - 2s 49ms/step - loss: 0.8724 - val_loss: 0.3303\n"
     ]
    }
   ],
   "source": [
    "history = model.fit(\n",
    "    arr_train,\n",
    "    arr_train,\n",
    "    epochs=45,\n",
    "    batch_size=125,\n",
    "    validation_split=0.25,\n",
    "    callbacks=[\n",
    "        keras.callbacks.EarlyStopping(monitor=\"val_loss\", patience=5, mode=\"min\")\n",
    "    ],\n",
    ")"
   ]
  },
  {
   "cell_type": "code",
   "execution_count": 23,
   "metadata": {},
   "outputs": [
    {
     "data": {
      "text/plain": [
       "<matplotlib.legend.Legend at 0x1ec8cd43dc0>"
      ]
     },
     "execution_count": 23,
     "metadata": {},
     "output_type": "execute_result"
    },
    {
     "data": {
      "image/png": "[encoded data removed]",
      "text/plain": [
       "<Figure size 432x288 with 1 Axes>"
      ]
     },
     "metadata": {
      "needs_background": "light"
     },
     "output_type": "display_data"
    }
   ],
   "source": [
    "plt.plot(history.history[\"loss\"], label=\"Training Loss\")\n",
    "plt.plot(history.history[\"val_loss\"], label=\"Validation Loss\")\n",
    "plt.legend()"
   ]
  },
  {
   "cell_type": "code",
   "execution_count": 24,
   "metadata": {},
   "outputs": [
    {
     "data": {
      "image/png": "[encoded data removed]",
      "text/plain": [
       "<Figure size 432x288 with 1 Axes>"
      ]
     },
     "metadata": {
      "needs_background": "light"
     },
     "output_type": "display_data"
    },
    {
     "name": "stdout",
     "output_type": "stream",
     "text": [
      "Reconstruction error threshold:  16.61854090306167\n"
     ]
    }
   ],
   "source": [
    "x_train_pred = model.predict(arr_train)\n",
    "train_mae_loss = np.mean(np.abs(x_train_pred - arr_train), axis=1)\n",
    "\n",
    "plt.hist(train_mae_loss, bins=50)\n",
    "plt.xlabel(\"Train MAE loss\")\n",
    "plt.ylabel(\"No of samples\")\n",
    "plt.show()\n",
    "\n",
    "# Get reconstruction loss threshold.\n",
    "threshold = np.max(train_mae_loss)\n",
    "print(\"Reconstruction error threshold: \", threshold)"
   ]
  },
  {
   "cell_type": "code",
   "execution_count": 25,
   "metadata": {},
   "outputs": [
    {
     "name": "stdout",
     "output_type": "stream",
     "text": [
      "x_test_splitted dataframe shape:  (4035, 21)\n"
     ]
    }
   ],
   "source": [
    "#data_test\n",
    "\n",
    "preprocessing(data)\n",
    "\n",
    "x_test = data.drop('result',axis=1) #rimuove la colonna result dal dataframe\n",
    "\n",
    "x_test = x_test.sample(frac=1).reset_index(drop=True) #randomizza le righe del dataframe resettando gli indici\n",
    "percentage = 30\n",
    "x_test_splitted = x_test.head(int(len(data_val)*(percentage/100))) #prendo il 30% del dataset completo per il test\n",
    "\n",
    "print(\"x_test_splitted dataframe shape: \", x_test_splitted.shape)"
   ]
  },
  {
   "cell_type": "code",
   "execution_count": 27,
   "metadata": {},
   "outputs": [
    {
     "name": "stdout",
     "output_type": "stream",
     "text": [
      "Test input shape:  (4035, 21, 1)\n"
     ]
    }
   ],
   "source": [
    "arr_test = x_test_splitted.to_numpy() #conversione da dataframe ad array numpy\n",
    "arr_test = arr_test.reshape(arr_test.shape[0],arr_test.shape[1],1) #converte la shape da 2d a 3d per layer LSTM\n",
    "print(\"Test input shape: \", arr_test.shape)"
   ]
  },
  {
   "cell_type": "code",
   "execution_count": 28,
   "metadata": {},
   "outputs": [
    {
     "data": {
      "image/png": "[encoded data removed]",
      "text/plain": [
       "<Figure size 432x288 with 1 Axes>"
      ]
     },
     "metadata": {
      "needs_background": "light"
     },
     "output_type": "display_data"
    },
    {
     "name": "stdout",
     "output_type": "stream",
     "text": [
      "Number of anomaly samples:  1\n",
      "Indices of anomaly samples:  (array([618], dtype=int64),)\n"
     ]
    }
   ],
   "source": [
    "arr_test_pred = model.predict(arr_test)\n",
    "test_mae_loss = np.mean(np.abs(arr_test_pred - arr_test), axis=1)\n",
    "test_mae_loss = test_mae_loss.reshape((-1))\n",
    "                                       \n",
    "plt.hist(test_mae_loss, bins=50)\n",
    "plt.xlabel(\"test MAE loss\")\n",
    "plt.ylabel(\"No of samples\")\n",
    "plt.show()\n",
    "\n",
    "# Detect all the samples which are anomalies.\n",
    "anomalies = (test_mae_loss > threshold).tolist()\n",
    "print(\"Number of anomaly samples: \", np.sum(anomalies))\n",
    "print(\"Indices of anomaly samples: \", np.where(anomalies))                                       "
   ]
  },
  {
   "cell_type": "code",
   "execution_count": null,
   "metadata": {},
   "outputs": [],
   "source": []
  }
 ],
 "metadata": {
  "kernelspec": {
   "display_name": "Python 3",
   "language": "python",
   "name": "python3"
  },
  "language_info": {
   "codemirror_mode": {
    "name": "ipython",
    "version": 3
   },
   "file_extension": ".py",
   "mimetype": "text/x-python",
   "name": "python",
   "nbconvert_exporter": "python",
   "pygments_lexer": "ipython3",
   "version": "3.8.3"
  }
 },
 "nbformat": 4,
 "nbformat_minor": 4
}
