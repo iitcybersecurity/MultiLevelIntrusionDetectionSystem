{
 "cells": [
  {
   "cell_type": "code",
   "execution_count": 179,
   "metadata": {},
   "outputs": [
    {
     "name": "stdout",
     "output_type": "stream",
     "text": [
      "Librerie importate con successo\n"
     ]
    }
   ],
   "source": [
    "import pandas as pd\n",
    "import numpy as np\n",
    "from tensorflow import keras\n",
    "from tensorflow.keras import regularizers\n",
    "from tensorflow.keras import layers\n",
    "from tensorflow.keras.utils import to_categorical\n",
    "from tensorflow.keras.models import Sequential\n",
    "from sklearn.model_selection import train_test_split as splitter\n",
    "import cProfile\n",
    "import pstats\n",
    "import os\n",
    "import sys\n",
    "from sklearn.metrics import classification_report, confusion_matrix\n",
    "from sklearn.preprocessing import LabelEncoder\n",
    "from datetime import datetime\n",
    "from matplotlib import pyplot as plt\n",
    "from matplotlib import dates as md\n",
    "\n",
    "print(\"Librerie importate con successo\")"
   ]
  },
  {
   "cell_type": "code",
   "execution_count": 180,
   "metadata": {},
   "outputs": [],
   "source": [
    "data = pd.read_csv('../Datasets/kdd_prediction.csv', delimiter=',',\n",
    "                       dtype={'protocol_type': str, 'service': str, 'flag': str, 'result': str})\n",
    "#print(\"Dataset : \\n\")\n",
    "#print(data.head()) #Stampa per visualizzare il dataset\n"
   ]
  },
  {
   "cell_type": "code",
   "execution_count": 181,
   "metadata": {},
   "outputs": [
    {
     "name": "stdout",
     "output_type": "stream",
     "text": [
      "Total :  13451\n",
      "Normal :  7500\n",
      "Malicious :  5951\n"
     ]
    },
    {
     "data": {
      "image/png": "[encoded data removed]",
      "text/plain": [
       "<Figure size 432x288 with 1 Axes>"
      ]
     },
     "metadata": {
      "needs_background": "light"
     },
     "output_type": "display_data"
    }
   ],
   "source": [
    "total_flows_count = data[\"result\"].count()\n",
    "normal_flows_count = len(data[data.result == \"normal\"])\n",
    "anomaly_flows_count = len(data[data.result != \"normal\"])\n",
    "\n",
    "print(\"Total : \",total_flows_count)\n",
    "print(\"Normal : \",normal_flows_count)\n",
    "print(\"Malicious : \",anomaly_flows_count)\n",
    "\n",
    "# x-coordinates of left sides of bars  \n",
    "left = [1, 1.5] \n",
    "  \n",
    "# heights of bars \n",
    "height = [normal_flows_count, anomaly_flows_count] \n",
    "  \n",
    "# labels for bars \n",
    "tick_label = ['Normal', 'Malicious'] \n",
    "  \n",
    "# bar chart\n",
    "plt.bar(left, height, tick_label = tick_label, \n",
    "        width = 0.4, color = ['green', 'red']) \n",
    "  \n",
    "# Rinominazione asse x \n",
    "plt.xlabel('Tipologia di record') \n",
    "# Rinominazione asse y \n",
    "plt.ylabel('Numero di record') \n",
    "# Titolo\n",
    "plt.title('Numero di samples del dataset') \n",
    "  \n",
    "plt.show() "
   ]
  },
  {
   "cell_type": "code",
   "execution_count": 182,
   "metadata": {},
   "outputs": [],
   "source": [
    "def preprocessing(data):\n",
    "    for column in data.columns:\n",
    "        if data[column].dtype == type(object):\n",
    "            le = LabelEncoder()\n",
    "            data[column] = le.fit_transform(data[column])"
   ]
  },
  {
   "cell_type": "code",
   "execution_count": 183,
   "metadata": {},
   "outputs": [
    {
     "name": "stdout",
     "output_type": "stream",
     "text": [
      "x_train dataframe shape:  (7500, 21)\n"
     ]
    },
    {
     "name": "stderr",
     "output_type": "stream",
     "text": [
      "<ipython-input-182-14dd7e54de29>:5: SettingWithCopyWarning: \n",
      "A value is trying to be set on a copy of a slice from a DataFrame.\n",
      "Try using .loc[row_indexer,col_indexer] = value instead\n",
      "\n",
      "See the caveats in the documentation: https://pandas.pydata.org/pandas-docs/stable/user_guide/indexing.html#returning-a-view-versus-a-copy\n",
      "  data[column] = le.fit_transform(data[column])\n"
     ]
    }
   ],
   "source": [
    "data_train = data[data.result == \"normal\"] #prendo solo i valori \"normali\" per il train\n",
    "\n",
    "preprocessing(data_train)\n",
    "#preprocessing(data)\n",
    "        \n",
    "x_train = data_train.drop('result',axis=1) #rimuove la colonna result dal dataframe\n",
    "#data_val = data.drop('result', axis=1) #per la validation mi servono tutti i record, anche quelli malevoli\n",
    "\n",
    "#valori per la validation\n",
    "#data_val = data_val.sample(frac=1).reset_index(drop=True) #randomizza le righe del dataframe resettando gli indici\n",
    "#percentage = 25\n",
    "#x_val = data_val.head(int(len(data_val)*(percentage/100))) #prendo il 25% del dataset per la validation\n",
    "\n",
    "print(\"x_train dataframe shape: \", x_train.shape)"
   ]
  },
  {
   "cell_type": "code",
   "execution_count": 184,
   "metadata": {},
   "outputs": [
    {
     "name": "stdout",
     "output_type": "stream",
     "text": [
      "Training input shape:  (7500, 21, 1)\n"
     ]
    }
   ],
   "source": [
    "arr_train = x_train.to_numpy() #conversione da dataframe ad array numpy\n",
    "arr_train = arr_train.reshape(arr_train.shape[0],arr_train.shape[1],1) #converte la shape da 2d a 3d per layer LSTM\n",
    "print(\"Training input shape: \", arr_train.shape)\n",
    "\n",
    "#arr_val = x_val.to_numpy()"
   ]
  },
  {
   "cell_type": "code",
   "execution_count": 185,
   "metadata": {},
   "outputs": [
    {
     "name": "stdout",
     "output_type": "stream",
     "text": [
      "Model: \"sequential_15\"\n",
      "_________________________________________________________________\n",
      "Layer (type)                 Output Shape              Param #   \n",
      "=================================================================\n",
      "lstm_60 (LSTM)               (None, 21, 16)            1152      \n",
      "_________________________________________________________________\n",
      "lstm_61 (LSTM)               (None, 4)                 336       \n",
      "_________________________________________________________________\n",
      "repeat_vector_15 (RepeatVect (None, 21, 4)             0         \n",
      "_________________________________________________________________\n",
      "lstm_62 (LSTM)               (None, 21, 4)             144       \n",
      "_________________________________________________________________\n",
      "lstm_63 (LSTM)               (None, 21, 16)            1344      \n",
      "_________________________________________________________________\n",
      "time_distributed_15 (TimeDis (None, 21, 1)             17        \n",
      "=================================================================\n",
      "Total params: 2,993\n",
      "Trainable params: 2,993\n",
      "Non-trainable params: 0\n",
      "_________________________________________________________________\n"
     ]
    }
   ],
   "source": [
    "model = keras.Sequential(\n",
    "    [\n",
    "       layers.Input(shape=(arr_train.shape[1], arr_train.shape[2])),\n",
    "       layers.LSTM(16, activation='relu', return_sequences=True, kernel_regularizer = regularizers.l2(0.00)),\n",
    "       layers.LSTM(4, activation='relu', return_sequences=False),\n",
    "       layers.RepeatVector(arr_train.shape[1]), \n",
    "       layers.LSTM(4, activation='relu', return_sequences=True),\n",
    "       layers.LSTM(16, activation='relu', return_sequences=True),  \n",
    "       layers.TimeDistributed(layers.Dense(1))    \n",
    "    ]\n",
    ")\n",
    "model.compile( optimizer='adam', loss='mse')\n",
    "model.summary()"
   ]
  },
  {
   "cell_type": "code",
   "execution_count": 186,
   "metadata": {
    "scrolled": true
   },
   "outputs": [
    {
     "name": "stdout",
     "output_type": "stream",
     "text": [
      "Epoch 1/45\n",
      "45/45 [==============================] - 1s 20ms/step - loss: 5.2387 - val_loss: 4.6325\n",
      "Epoch 2/45\n",
      "45/45 [==============================] - 0s 11ms/step - loss: 5.0594 - val_loss: 4.2360\n",
      "Epoch 3/45\n",
      "45/45 [==============================] - 1s 12ms/step - loss: 3.1479 - val_loss: 0.9584\n",
      "Epoch 4/45\n",
      "45/45 [==============================] - 1s 11ms/step - loss: 1.2531 - val_loss: 0.5853\n",
      "Epoch 5/45\n",
      "45/45 [==============================] - 1s 11ms/step - loss: 1.0774 - val_loss: 0.5496\n",
      "Epoch 6/45\n",
      "45/45 [==============================] - 1s 12ms/step - loss: 1.5332 - val_loss: 0.5463\n",
      "Epoch 7/45\n",
      "45/45 [==============================] - 1s 11ms/step - loss: 1.1147 - val_loss: 0.6099\n",
      "Epoch 8/45\n",
      "45/45 [==============================] - 1s 11ms/step - loss: 1.0783 - val_loss: 0.5114\n",
      "Epoch 9/45\n",
      "45/45 [==============================] - 1s 11ms/step - loss: 1.0385 - val_loss: 0.4939\n",
      "Epoch 10/45\n",
      "45/45 [==============================] - 1s 11ms/step - loss: 1.0235 - val_loss: 0.4818\n",
      "Epoch 11/45\n",
      "45/45 [==============================] - 0s 11ms/step - loss: 1.0116 - val_loss: 0.4707\n",
      "Epoch 12/45\n",
      "45/45 [==============================] - 1s 11ms/step - loss: 0.9981 - val_loss: 0.4606\n",
      "Epoch 13/45\n",
      "45/45 [==============================] - 0s 11ms/step - loss: 0.9862 - val_loss: 0.4482\n",
      "Epoch 14/45\n",
      "45/45 [==============================] - 0s 11ms/step - loss: 0.9709 - val_loss: 0.4312\n",
      "Epoch 15/45\n",
      "45/45 [==============================] - 0s 11ms/step - loss: 0.9581 - val_loss: 0.4171\n",
      "Epoch 16/45\n",
      "45/45 [==============================] - 1s 11ms/step - loss: 0.9386 - val_loss: 0.4007\n",
      "Epoch 17/45\n",
      "45/45 [==============================] - 1s 11ms/step - loss: 0.9232 - val_loss: 0.3871\n",
      "Epoch 18/45\n",
      "45/45 [==============================] - 1s 11ms/step - loss: 0.9027 - val_loss: 0.3664\n",
      "Epoch 19/45\n",
      "45/45 [==============================] - 0s 11ms/step - loss: 0.8897 - val_loss: 0.3623\n",
      "Epoch 20/45\n",
      "45/45 [==============================] - 1s 11ms/step - loss: 0.9081 - val_loss: 0.3729\n",
      "Epoch 21/45\n",
      "45/45 [==============================] - 1s 11ms/step - loss: 0.8846 - val_loss: 0.3677\n",
      "Epoch 22/45\n",
      "45/45 [==============================] - 1s 12ms/step - loss: 0.8668 - val_loss: 0.3366\n",
      "Epoch 23/45\n",
      "45/45 [==============================] - 1s 12ms/step - loss: 0.8636 - val_loss: 0.3593\n",
      "Epoch 24/45\n",
      "45/45 [==============================] - 1s 11ms/step - loss: 0.8526 - val_loss: 0.3213\n",
      "Epoch 25/45\n",
      "45/45 [==============================] - 1s 12ms/step - loss: 0.8274 - val_loss: 0.3295\n",
      "Epoch 26/45\n",
      "45/45 [==============================] - 1s 12ms/step - loss: 0.8138 - val_loss: 0.3137\n",
      "Epoch 27/45\n",
      "45/45 [==============================] - 1s 12ms/step - loss: 0.8351 - val_loss: 0.3138\n",
      "Epoch 28/45\n",
      "45/45 [==============================] - 1s 12ms/step - loss: 0.8200 - val_loss: 0.3030\n",
      "Epoch 29/45\n",
      "45/45 [==============================] - 1s 11ms/step - loss: 0.7990 - val_loss: 0.3022\n",
      "Epoch 30/45\n",
      "45/45 [==============================] - 1s 12ms/step - loss: 0.7902 - val_loss: 0.3078\n",
      "Epoch 31/45\n",
      "45/45 [==============================] - 1s 12ms/step - loss: 0.8314 - val_loss: 0.3417\n",
      "Epoch 32/45\n",
      "45/45 [==============================] - 1s 12ms/step - loss: 0.8176 - val_loss: 0.2942\n",
      "Epoch 33/45\n",
      "45/45 [==============================] - 1s 12ms/step - loss: 0.7908 - val_loss: 0.2899\n",
      "Epoch 34/45\n",
      "45/45 [==============================] - 1s 12ms/step - loss: 0.7711 - val_loss: 0.3252\n",
      "Epoch 35/45\n",
      "45/45 [==============================] - 1s 12ms/step - loss: 0.7528 - val_loss: 0.2948\n",
      "Epoch 36/45\n",
      "45/45 [==============================] - 1s 12ms/step - loss: 0.7281 - val_loss: 0.3552\n",
      "Epoch 37/45\n",
      "45/45 [==============================] - 1s 12ms/step - loss: 0.6517 - val_loss: 0.3485\n",
      "Epoch 38/45\n",
      "45/45 [==============================] - 1s 12ms/step - loss: 0.7035 - val_loss: 0.3457\n"
     ]
    }
   ],
   "source": [
    "history = model.fit(\n",
    "    arr_train,\n",
    "    arr_train,\n",
    "    epochs=45,\n",
    "    batch_size=125,\n",
    "    validation_split=0.25,\n",
    "    #validation_data=(x_val, y_val) #non ho però y_val volendo un autoencoder non supervisionato (?)\n",
    "    callbacks=[\n",
    "        keras.callbacks.EarlyStopping(monitor=\"val_loss\", patience=5, mode=\"min\")\n",
    "    ],\n",
    ")"
   ]
  },
  {
   "cell_type": "code",
   "execution_count": 187,
   "metadata": {},
   "outputs": [
    {
     "data": {
      "text/plain": [
       "<matplotlib.legend.Legend at 0x1f6e8a03430>"
      ]
     },
     "execution_count": 187,
     "metadata": {},
     "output_type": "execute_result"
    },
    {
     "data": {
      "image/png": "[encoded data removed]",
      "text/plain": [
       "<Figure size 432x288 with 1 Axes>"
      ]
     },
     "metadata": {
      "needs_background": "light"
     },
     "output_type": "display_data"
    }
   ],
   "source": [
    "plt.plot(history.history[\"loss\"], label=\"Training Loss\")\n",
    "plt.plot(history.history[\"val_loss\"], label=\"Validation Loss\")\n",
    "plt.legend()"
   ]
  },
  {
   "cell_type": "code",
   "execution_count": 188,
   "metadata": {},
   "outputs": [
    {
     "data": {
      "image/png": "[encoded data removed]",
      "text/plain": [
       "<Figure size 432x288 with 1 Axes>"
      ]
     },
     "metadata": {
      "needs_background": "light"
     },
     "output_type": "display_data"
    },
    {
     "name": "stdout",
     "output_type": "stream",
     "text": [
      "Reconstruction error threshold:  32.952735766462375\n"
     ]
    }
   ],
   "source": [
    "x_train_pred = model.predict(arr_train)\n",
    "train_mae_loss = np.mean(np.abs(x_train_pred - arr_train), axis=1)\n",
    "\n",
    "plt.hist(train_mae_loss, bins=50)\n",
    "plt.xlabel(\"Train MAE loss\")\n",
    "plt.ylabel(\"No of samples\")\n",
    "plt.show()\n",
    "\n",
    "# Get reconstruction loss threshold.\n",
    "threshold = np.max(train_mae_loss)\n",
    "print(\"Reconstruction error threshold: \", threshold)"
   ]
  },
  {
   "cell_type": "code",
   "execution_count": 189,
   "metadata": {},
   "outputs": [
    {
     "name": "stdout",
     "output_type": "stream",
     "text": [
      "x_test_splitted dataframe shape:  (4035, 21)\n"
     ]
    }
   ],
   "source": [
    "#data_test\n",
    "\n",
    "preprocessing(data)\n",
    "\n",
    "x_test = data.drop('result',axis=1) #rimuove la colonna result dal dataframe\n",
    "\n",
    "x_test = x_test.sample(frac=1).reset_index(drop=True) #randomizza le righe del dataframe resettando gli indici\n",
    "percentage = 30\n",
    "x_test_splitted = x_test.head(int(len(data_val)*(percentage/100))) #prendo il 30% del dataset completo per il test\n",
    "\n",
    "print(\"x_test_splitted dataframe shape: \", x_test_splitted.shape)"
   ]
  },
  {
   "cell_type": "code",
   "execution_count": 190,
   "metadata": {},
   "outputs": [
    {
     "name": "stdout",
     "output_type": "stream",
     "text": [
      "Training input shape:  (4035, 21, 1)\n"
     ]
    }
   ],
   "source": [
    "arr_test = x_test_splitted.to_numpy() #conversione da dataframe ad array numpy\n",
    "arr_test = arr_test.reshape(arr_test.shape[0],arr_test.shape[1],1) #converte la shape da 2d a 3d per layer LSTM\n",
    "print(\"Training input shape: \", arr_test.shape)"
   ]
  },
  {
   "cell_type": "code",
   "execution_count": 191,
   "metadata": {},
   "outputs": [
    {
     "data": {
      "image/png": "[encoded data removed]",
      "text/plain": [
       "<Figure size 432x288 with 1 Axes>"
      ]
     },
     "metadata": {
      "needs_background": "light"
     },
     "output_type": "display_data"
    },
    {
     "name": "stdout",
     "output_type": "stream",
     "text": [
      "Number of anomaly samples:  0\n",
      "Indices of anomaly samples:  (array([], dtype=int64),)\n"
     ]
    }
   ],
   "source": [
    "arr_test_pred = model.predict(arr_test)\n",
    "test_mae_loss = np.mean(np.abs(arr_test_pred - arr_test), axis=1)\n",
    "test_mae_loss = test_mae_loss.reshape((-1))\n",
    "                                       \n",
    "plt.hist(test_mae_loss, bins=50)\n",
    "plt.xlabel(\"test MAE loss\")\n",
    "plt.ylabel(\"No of samples\")\n",
    "plt.show()\n",
    "\n",
    "# Detect all the samples which are anomalies.\n",
    "anomalies = (test_mae_loss > threshold).tolist()\n",
    "print(\"Number of anomaly samples: \", np.sum(anomalies))\n",
    "print(\"Indices of anomaly samples: \", np.where(anomalies))                                       "
   ]
  },
  {
   "cell_type": "code",
   "execution_count": null,
   "metadata": {},
   "outputs": [],
   "source": []
  }
 ],
 "metadata": {
  "kernelspec": {
   "display_name": "Python 3",
   "language": "python",
   "name": "python3"
  },
  "language_info": {
   "codemirror_mode": {
    "name": "ipython",
    "version": 3
   },
   "file_extension": ".py",
   "mimetype": "text/x-python",
   "name": "python",
   "nbconvert_exporter": "python",
   "pygments_lexer": "ipython3",
   "version": "3.8.3"
  }
 },
 "nbformat": 4,
 "nbformat_minor": 4
}
