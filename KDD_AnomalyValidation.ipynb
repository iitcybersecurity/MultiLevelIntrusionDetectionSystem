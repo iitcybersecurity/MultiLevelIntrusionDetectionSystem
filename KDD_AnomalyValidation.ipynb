{
 "cells": [
  {
   "cell_type": "code",
   "execution_count": 266,
   "metadata": {},
   "outputs": [
    {
     "name": "stdout",
     "output_type": "stream",
     "text": [
      "Librerie importate con successo\n"
     ]
    }
   ],
   "source": [
    "import pandas as pd\n",
    "import numpy as np\n",
    "from tensorflow import keras\n",
    "from tensorflow.keras import regularizers\n",
    "from tensorflow.keras import layers\n",
    "from tensorflow.keras.utils import to_categorical\n",
    "from tensorflow.keras.models import Sequential\n",
    "from sklearn.model_selection import train_test_split as splitter\n",
    "import cProfile\n",
    "import pstats\n",
    "import os\n",
    "import sys\n",
    "from sklearn.metrics import classification_report, confusion_matrix\n",
    "from sklearn.preprocessing import LabelEncoder\n",
    "from sklearn.preprocessing import OneHotEncoder\n",
    "from datetime import datetime\n",
    "from matplotlib import pyplot as plt\n",
    "from matplotlib import dates as md\n",
    "\n",
    "print(\"Librerie importate con successo\")"
   ]
  },
  {
   "cell_type": "code",
   "execution_count": 267,
   "metadata": {},
   "outputs": [
    {
     "name": "stdout",
     "output_type": "stream",
     "text": [
      "Shape del dataset :  (13451, 22)\n"
     ]
    }
   ],
   "source": [
    "#Carico il dataset\n",
    "\n",
    "data = pd.read_csv('../Datasets/kdd_prediction.csv', delimiter=',',\n",
    "                       dtype={'protocol_type': str, 'service': str, 'flag': str, 'result': str})\n",
    "\n",
    "data = data.sample(frac=1, random_state=8324).reset_index(drop=True) #shuffle\n",
    "print(\"Shape del dataset : \", data.shape)"
   ]
  },
  {
   "cell_type": "code",
   "execution_count": 268,
   "metadata": {},
   "outputs": [
    {
     "name": "stdout",
     "output_type": "stream",
     "text": [
      "Total :  13451\n",
      "Normal :  7500\n",
      "Malicious :  5951\n"
     ]
    },
    {
     "data": {
      "image/png": "[encoded data removed]",
      "text/plain": [
       "<Figure size 432x288 with 1 Axes>"
      ]
     },
     "metadata": {
      "needs_background": "light"
     },
     "output_type": "display_data"
    }
   ],
   "source": [
    "#Effettuo il plot del dataset\n",
    "\n",
    "total_flows_count = data[\"result\"].count()\n",
    "normal_flows_count = len(data[data.result == \"normal\"])\n",
    "anomaly_flows_count = len(data[data.result != \"normal\"])\n",
    "\n",
    "print(\"Total : \",total_flows_count)\n",
    "print(\"Normal : \",normal_flows_count)\n",
    "print(\"Malicious : \",anomaly_flows_count)\n",
    "\n",
    "# x-coordinates of left sides of bars  \n",
    "left = [1, 1.5] \n",
    "  \n",
    "# heights of bars \n",
    "height = [normal_flows_count, anomaly_flows_count] \n",
    "  \n",
    "# labels for bars \n",
    "tick_label = ['Normal', 'Malicious'] \n",
    "  \n",
    "# bar chart\n",
    "plt.bar(left, height, tick_label = tick_label, \n",
    "        width = 0.4, color = ['green', 'red']) \n",
    "  \n",
    "# Rinominazione asse x \n",
    "plt.xlabel('Tipologia di record') \n",
    "# Rinominazione asse y \n",
    "plt.ylabel('Numero di record') \n",
    "# Titolo\n",
    "plt.title('Numero di samples del dataset') \n",
    "  \n",
    "plt.show() "
   ]
  },
  {
   "cell_type": "code",
   "execution_count": 269,
   "metadata": {},
   "outputs": [],
   "source": [
    "#funzioni utili per il preprocessing\n",
    "\n",
    "#effettua il preprocessing di una features già numerica\n",
    "def encode_numeric_zscore(df, name, mean=None, sd=None):\n",
    "    if mean is None:\n",
    "        mean = df[name].mean()\n",
    "\n",
    "    if sd is None:\n",
    "        sd = df[name].std()\n",
    "\n",
    "    df[name] = (df[name] - mean) / sd\n",
    "    \n",
    "#per il preprocessing di features non numeriche\n",
    "def encode_text_features(df):\n",
    "    le = LabelEncoder()\n",
    "    df_2 = df.apply(le.fit_transform)\n",
    "    enc = OneHotEncoder()\n",
    "\n",
    "    enc.fit(df_2)\n",
    "\n",
    "    onehotlabels = enc.transform(df_2).toarray()\n",
    "    return onehotlabels"
   ]
  },
  {
   "cell_type": "code",
   "execution_count": 270,
   "metadata": {},
   "outputs": [],
   "source": [
    "#preprocessing\n",
    "def preprocessing(data):\n",
    "    \n",
    "    data_objects = data.select_dtypes(include=[object]) #df con solo features non numeriche\n",
    "    \n",
    "    data_numerics = data.drop(['protocol_type', 'service', 'flag'], axis=1) #df con solo features numeriche\n",
    "    \n",
    "    #preprocessing features numeriche\n",
    "    encode_numeric_zscore(data_numerics, 'duration')\n",
    "    encode_numeric_zscore(data_numerics, 'src_bytes')\n",
    "    encode_numeric_zscore(data_numerics, 'dst_bytes')\n",
    "    encode_numeric_zscore(data_numerics, 'land')\n",
    "    encode_numeric_zscore(data_numerics, 'wrong_fragment')\n",
    "    encode_numeric_zscore(data_numerics, 'urgent')\n",
    "    encode_numeric_zscore(data_numerics, 'hot')\n",
    "    encode_numeric_zscore(data_numerics, 'num_failed_logins')\n",
    "    encode_numeric_zscore(data_numerics, 'logged_in')\n",
    "    encode_numeric_zscore(data_numerics, 'num_compromised')\n",
    "    encode_numeric_zscore(data_numerics, 'root_shell')\n",
    "    encode_numeric_zscore(data_numerics, 'su_attempted')\n",
    "    encode_numeric_zscore(data_numerics, 'num_root')\n",
    "    encode_numeric_zscore(data_numerics, 'num_file_creations')\n",
    "    encode_numeric_zscore(data_numerics, 'num_shells')\n",
    "    encode_numeric_zscore(data_numerics, 'num_access_files')\n",
    "    encode_numeric_zscore(data_numerics, 'is_guest_login')\n",
    "    encode_numeric_zscore(data_numerics, 'count')\n",
    "    \n",
    "    df_duration = data_numerics.duration #prelevo solo la colonna \"duration\" per concatenare come il df originale\n",
    "    \n",
    "    data_numerics = data_numerics.drop('duration', axis=1) #rimuovo la colonna duration\n",
    "    \n",
    "    #preprocessing del dataframe con features non numeriche\n",
    "    np_to_add = encode_text_features(data_objects)\n",
    "    \n",
    "    #dato che restituisce un array numpy effettuo la conversione a df\n",
    "    df_to_add = pd.DataFrame(data=np_to_add)\n",
    "    \n",
    "    #concatenazione per riottenere il df nella formattazione originale\n",
    "    frames = [df_duration, df_to_add, data_numerics]\n",
    "    data_finale = pd.concat(frames, axis=1)\n",
    "    return data_finale\n",
    "    "
   ]
  },
  {
   "cell_type": "code",
   "execution_count": 271,
   "metadata": {},
   "outputs": [
    {
     "name": "stdout",
     "output_type": "stream",
     "text": [
      "Data Train Shape :  (4500, 100)\n",
      "Data Train Shape :  (1500, 100)\n",
      "Shape dataframe per il train :  (4500, 99)\n",
      "Shape dataframe per la validation :  (1500, 99)\n"
     ]
    }
   ],
   "source": [
    "data = preprocessing(data)\n",
    "normal_data = data[data.result == \"normal\"] #prendo solo i valori \"normali\" \n",
    "\n",
    "#voglio che sia il train che la validation siano effettuati su record normali ma che siano tra loro differenti\n",
    "\n",
    "data_train, data_val, data_test = np.split(normal_data, [int(.6*len(normal_data)), int(.8*len(normal_data))])\n",
    "\n",
    "print(\"Data Train Shape : \",data_train.shape)\n",
    "print(\"Data Train Shape : \",data_val.shape)\n",
    "        \n",
    "x_train = data_train.drop('result',axis=1) #rimuove la colonna result dal dataframe\n",
    "x_val = data_val.drop('result', axis=1) #rimuove il label\n",
    "\n",
    "print(\"Shape dataframe per il train : \", x_train.shape)\n",
    "print(\"Shape dataframe per la validation : \", x_val.shape)"
   ]
  },
  {
   "cell_type": "code",
   "execution_count": 272,
   "metadata": {},
   "outputs": [
    {
     "name": "stdout",
     "output_type": "stream",
     "text": [
      "Model: \"sequential_20\"\n",
      "_________________________________________________________________\n",
      "Layer (type)                 Output Shape              Param #   \n",
      "=================================================================\n",
      "dense_167 (Dense)            (None, 512)               51200     \n",
      "_________________________________________________________________\n",
      "dropout_146 (Dropout)        (None, 512)               0         \n",
      "_________________________________________________________________\n",
      "leaky_re_lu_146 (LeakyReLU)  (None, 512)               0         \n",
      "_________________________________________________________________\n",
      "dense_168 (Dense)            (None, 256)               131328    \n",
      "_________________________________________________________________\n",
      "dropout_147 (Dropout)        (None, 256)               0         \n",
      "_________________________________________________________________\n",
      "leaky_re_lu_147 (LeakyReLU)  (None, 256)               0         \n",
      "_________________________________________________________________\n",
      "dense_169 (Dense)            (None, 128)               32896     \n",
      "_________________________________________________________________\n",
      "dropout_148 (Dropout)        (None, 128)               0         \n",
      "_________________________________________________________________\n",
      "leaky_re_lu_148 (LeakyReLU)  (None, 128)               0         \n",
      "_________________________________________________________________\n",
      "dense_170 (Dense)            (None, 64)                8256      \n",
      "_________________________________________________________________\n",
      "dropout_149 (Dropout)        (None, 64)                0         \n",
      "_________________________________________________________________\n",
      "leaky_re_lu_149 (LeakyReLU)  (None, 64)                0         \n",
      "_________________________________________________________________\n",
      "dense_171 (Dense)            (None, 128)               8320      \n",
      "_________________________________________________________________\n",
      "dropout_150 (Dropout)        (None, 128)               0         \n",
      "_________________________________________________________________\n",
      "leaky_re_lu_150 (LeakyReLU)  (None, 128)               0         \n",
      "_________________________________________________________________\n",
      "dense_172 (Dense)            (None, 256)               33024     \n",
      "_________________________________________________________________\n",
      "dropout_151 (Dropout)        (None, 256)               0         \n",
      "_________________________________________________________________\n",
      "leaky_re_lu_151 (LeakyReLU)  (None, 256)               0         \n",
      "_________________________________________________________________\n",
      "dense_173 (Dense)            (None, 512)               131584    \n",
      "_________________________________________________________________\n",
      "dropout_152 (Dropout)        (None, 512)               0         \n",
      "_________________________________________________________________\n",
      "leaky_re_lu_152 (LeakyReLU)  (None, 512)               0         \n",
      "_________________________________________________________________\n",
      "dense_174 (Dense)            (None, 99)                50787     \n",
      "=================================================================\n",
      "Total params: 447,395\n",
      "Trainable params: 447,395\n",
      "Non-trainable params: 0\n",
      "_________________________________________________________________\n"
     ]
    }
   ],
   "source": [
    "model = keras.Sequential(\n",
    "    [\n",
    "       layers.Input(shape=(x_train.shape[1],)),\n",
    "       layers.Dense(512),\n",
    "       layers.Dropout(0.5),\n",
    "       layers.LeakyReLU(0.01),\n",
    "       layers.Dense(256),\n",
    "       layers.Dropout(0.5),\n",
    "       layers.LeakyReLU(0.01),\n",
    "       layers.Dense(128),\n",
    "       layers.Dropout(0.5),\n",
    "       layers.LeakyReLU(0.01),\n",
    "        \n",
    "       layers.Dense(64),\n",
    "       layers.Dropout(0.5),\n",
    "       layers.LeakyReLU(0.01),\n",
    "        \n",
    "       layers.Dense(128),\n",
    "       layers.Dropout(0.5),\n",
    "       layers.LeakyReLU(0.01),\n",
    "       layers.Dense(256),\n",
    "       layers.Dropout(0.5),\n",
    "       layers.LeakyReLU(0.01),\n",
    "       layers.Dense(512),\n",
    "       layers.Dropout(0.5),\n",
    "       layers.LeakyReLU(0.01),\n",
    "       layers.Dense(x_train.shape[1], activation='sigmoid')\n",
    "    ]\n",
    ")\n",
    "\n",
    "model.compile( optimizer='adam', loss='mse')\n",
    "model.summary()"
   ]
  },
  {
   "cell_type": "code",
   "execution_count": 273,
   "metadata": {
    "scrolled": true
   },
   "outputs": [
    {
     "name": "stdout",
     "output_type": "stream",
     "text": [
      "Epoch 1/30\n",
      "900/900 [==============================] - 3s 3ms/step - loss: 0.0535 - val_loss: 0.1892\n",
      "Epoch 2/30\n",
      "900/900 [==============================] - 2s 2ms/step - loss: 0.0484 - val_loss: 0.1870\n",
      "Epoch 3/30\n",
      "900/900 [==============================] - 3s 3ms/step - loss: 0.0479 - val_loss: 0.1872\n",
      "Epoch 4/30\n",
      "900/900 [==============================] - 3s 3ms/step - loss: 0.0475 - val_loss: 0.1864\n",
      "Epoch 5/30\n",
      "900/900 [==============================] - 3s 4ms/step - loss: 0.0466 - val_loss: 0.1853\n",
      "Epoch 6/30\n",
      "900/900 [==============================] - 3s 3ms/step - loss: 0.0448 - val_loss: 0.1853\n",
      "Epoch 7/30\n",
      "900/900 [==============================] - 2s 2ms/step - loss: 0.0448 - val_loss: 0.1853\n",
      "Epoch 8/30\n",
      "900/900 [==============================] - 2s 3ms/step - loss: 0.0447 - val_loss: 0.1856\n",
      "Epoch 9/30\n",
      "900/900 [==============================] - 3s 3ms/step - loss: 0.0447 - val_loss: 0.1853\n",
      "Epoch 10/30\n",
      "900/900 [==============================] - 3s 3ms/step - loss: 0.0446 - val_loss: 0.1853\n",
      "Epoch 11/30\n",
      "900/900 [==============================] - 3s 3ms/step - loss: 0.0447 - val_loss: 0.1852\n",
      "Epoch 12/30\n",
      "900/900 [==============================] - 3s 3ms/step - loss: 0.0446 - val_loss: 0.1850\n",
      "Epoch 13/30\n",
      "900/900 [==============================] - 2s 2ms/step - loss: 0.0446 - val_loss: 0.1850\n",
      "Epoch 14/30\n",
      "900/900 [==============================] - 3s 3ms/step - loss: 0.0445 - val_loss: 0.1850\n",
      "Epoch 15/30\n",
      "900/900 [==============================] - 3s 3ms/step - loss: 0.0446 - val_loss: 0.1850\n",
      "Epoch 16/30\n",
      "900/900 [==============================] - 3s 3ms/step - loss: 0.0446 - val_loss: 0.1850\n",
      "Epoch 17/30\n",
      "900/900 [==============================] - 3s 3ms/step - loss: 0.0446 - val_loss: 0.1850\n",
      "Epoch 18/30\n",
      "900/900 [==============================] - 2s 3ms/step - loss: 0.0445 - val_loss: 0.1850\n",
      "Epoch 19/30\n",
      "900/900 [==============================] - 3s 3ms/step - loss: 0.0453 - val_loss: 0.1865\n",
      "Epoch 20/30\n",
      "900/900 [==============================] - 2s 3ms/step - loss: 0.0448 - val_loss: 0.1850\n",
      "Epoch 21/30\n",
      "900/900 [==============================] - 2s 3ms/step - loss: 0.0445 - val_loss: 0.1850\n",
      "Epoch 22/30\n",
      "900/900 [==============================] - 3s 3ms/step - loss: 0.0445 - val_loss: 0.1850\n",
      "Epoch 23/30\n",
      "900/900 [==============================] - 3s 3ms/step - loss: 0.0445 - val_loss: 0.1850\n",
      "Epoch 24/30\n",
      "900/900 [==============================] - 3s 3ms/step - loss: 0.0447 - val_loss: 0.1850\n",
      "Epoch 25/30\n",
      "900/900 [==============================] - 2s 3ms/step - loss: 0.0446 - val_loss: 0.1850\n",
      "Epoch 26/30\n",
      "900/900 [==============================] - 3s 3ms/step - loss: 0.0451 - val_loss: 0.1865\n",
      "Epoch 27/30\n",
      "900/900 [==============================] - 2s 3ms/step - loss: 0.0458 - val_loss: 0.1865\n",
      "Epoch 28/30\n",
      "900/900 [==============================] - 2s 3ms/step - loss: 0.0455 - val_loss: 0.1865\n",
      "Epoch 29/30\n",
      "900/900 [==============================] - 2s 3ms/step - loss: 0.0457 - val_loss: 0.1865\n",
      "Epoch 30/30\n",
      "900/900 [==============================] - 3s 3ms/step - loss: 0.0456 - val_loss: 0.1865\n"
     ]
    }
   ],
   "source": [
    "history = model.fit(\n",
    "    x_train,\n",
    "    x_train,\n",
    "    epochs=30,\n",
    "    batch_size=5,\n",
    "    validation_data=(x_val, x_val),\n",
    "    callbacks=[\n",
    "        keras.callbacks.EarlyStopping(monitor=\"val_loss\", patience=20, mode=\"min\")\n",
    "    ],\n",
    ")"
   ]
  },
  {
   "cell_type": "code",
   "execution_count": 274,
   "metadata": {},
   "outputs": [
    {
     "data": {
      "text/plain": [
       "<matplotlib.legend.Legend at 0x1b28ddd2640>"
      ]
     },
     "execution_count": 274,
     "metadata": {},
     "output_type": "execute_result"
    },
    {
     "data": {
      "image/png": "[encoded data removed]",
      "text/plain": [
       "<Figure size 432x288 with 1 Axes>"
      ]
     },
     "metadata": {
      "needs_background": "light"
     },
     "output_type": "display_data"
    }
   ],
   "source": [
    "plt.plot(history.history[\"loss\"], label=\"Training Loss\")\n",
    "plt.plot(history.history[\"val_loss\"], label=\"Validation Loss\")\n",
    "plt.legend()"
   ]
  },
  {
   "cell_type": "code",
   "execution_count": 275,
   "metadata": {},
   "outputs": [
    {
     "data": {
      "image/png": "[encoded data removed]",
      "text/plain": [
       "<Figure size 432x288 with 1 Axes>"
      ]
     },
     "metadata": {
      "needs_background": "light"
     },
     "output_type": "display_data"
    },
    {
     "name": "stdout",
     "output_type": "stream",
     "text": [
      "Reconstruction error threshold:  0.01692707148149886\n"
     ]
    }
   ],
   "source": [
    "x_train_pred = model.predict(x_train)\n",
    "train_mae_loss = np.mean(np.abs(x_train_pred - x_train), axis=1)\n",
    "train_mae_loss = train_mae_loss.ravel() #converte l'array numpy in 1d\n",
    "train_mae_loss = np.sort(train_mae_loss) #quicksort\n",
    "\n",
    "\n",
    "train_mae_loss_len = len(train_mae_loss)\n",
    "n_index = int(0.75*train_mae_loss_len)\n",
    "plt.hist(train_mae_loss, bins=100)\n",
    "plt.xlabel(\"Train MAE loss\")\n",
    "plt.ylabel(\"No of samples\")\n",
    "plt.show()\n",
    "\n",
    "# Get reconstruction loss threshold.\n",
    "train_mae_loss_split = train_mae_loss[:n_index]\n",
    "threshold = np.max(train_mae_loss_split)\n",
    "print(\"Reconstruction error threshold: \", threshold)"
   ]
  },
  {
   "cell_type": "code",
   "execution_count": 276,
   "metadata": {},
   "outputs": [
    {
     "name": "stdout",
     "output_type": "stream",
     "text": [
      "Shape del dataset per il test:  (2690, 100)\n"
     ]
    }
   ],
   "source": [
    "#data_test\n",
    "#il dataset per il test sarà formato dai 1500 sample normali prelevati precedentemente a cui aggiungerò dei sample anomali\n",
    "#in particolare prelevo il 20% dei sample anomali e li concateno ai 1500 normali precedentemente ottenuti\n",
    "\n",
    "anomaly_data = data[data.result != \"normal\"] #prendo solo i valori \"anomali\"\n",
    "\n",
    "percentage = 20\n",
    "anomaly_test_data = anomaly_data.head(int(len(anomaly_data)*(percentage/100)))\n",
    "\n",
    "frames = [data_test, anomaly_test_data]\n",
    "final_test_data = pd.concat(frames)\n",
    "\n",
    "print(\"Shape del dataset per il test: \", final_test_data.shape)"
   ]
  },
  {
   "cell_type": "code",
   "execution_count": 277,
   "metadata": {},
   "outputs": [
    {
     "name": "stdout",
     "output_type": "stream",
     "text": [
      "Total :  2690\n",
      "Normal :  1500\n",
      "Malicious :  1190\n"
     ]
    },
    {
     "data": {
      "image/png": "[encoded data removed]",
      "text/plain": [
       "<Figure size 432x288 with 1 Axes>"
      ]
     },
     "metadata": {
      "needs_background": "light"
     },
     "output_type": "display_data"
    },
    {
     "name": "stdout",
     "output_type": "stream",
     "text": [
      "x_test shape : (2690, 99)\n"
     ]
    }
   ],
   "source": [
    "total_flows_count_test = final_test_data[\"result\"].count()\n",
    "normal_flows_count_test = len(final_test_data[final_test_data.result == \"normal\"])\n",
    "anomaly_flows_count_test = len(final_test_data[final_test_data.result != \"normal\"])\n",
    "\n",
    "print(\"Total : \",total_flows_count_test)\n",
    "print(\"Normal : \",normal_flows_count_test)\n",
    "print(\"Malicious : \",anomaly_flows_count_test)\n",
    "\n",
    "# x-coordinates of left sides of bars  \n",
    "left = [1, 1.5] \n",
    "  \n",
    "# heights of bars \n",
    "height = [normal_flows_count_test, anomaly_flows_count_test] \n",
    "  \n",
    "# labels for bars \n",
    "tick_label = ['Normal', 'Malicious'] \n",
    "  \n",
    "# bar chart\n",
    "plt.bar(left, height, tick_label = tick_label, \n",
    "        width = 0.4, color = ['blue', 'orange']) \n",
    "  \n",
    "# Rinominazione asse x \n",
    "plt.xlabel('Tipologia di record') \n",
    "# Rinominazione asse y \n",
    "plt.ylabel('Numero di record') \n",
    "# Titolo\n",
    "plt.title('Numero di samples del dataset per il test') \n",
    "  \n",
    "plt.show() \n",
    "\n",
    "data_test_with_label = final_test_data.copy()\n",
    "x_test = final_test_data.drop('result',axis=1) #rimuove la colonna result dal dataframe\n",
    "print(\"x_test shape :\", x_test.shape)"
   ]
  },
  {
   "cell_type": "code",
   "execution_count": 278,
   "metadata": {},
   "outputs": [
    {
     "data": {
      "image/png": "[encoded data removed]",
      "text/plain": [
       "<Figure size 432x288 with 1 Axes>"
      ]
     },
     "metadata": {
      "needs_background": "light"
     },
     "output_type": "display_data"
    },
    {
     "name": "stdout",
     "output_type": "stream",
     "text": [
      "Number di sample anomali rilevati:  1545\n",
      "Numero di sample anomali rivelati erroneamente:  355\n",
      "Numero di sample anomali rilevati correttamente:  1190\n",
      "Numero di sample anomali non rivelati:  0\n",
      "\n",
      "\n",
      "Indices of anomaly samples:  (array([   3,   11,   14, ..., 2687, 2688, 2689], dtype=int64),)\n"
     ]
    }
   ],
   "source": [
    "arr_test_pred = model.predict(x_test)\n",
    "test_mae_loss = np.mean(np.abs(arr_test_pred - x_test), axis=1)\n",
    "#test_mae_loss = test_mae_loss.reshape((-1))\n",
    "                                       \n",
    "plt.hist(test_mae_loss, bins=50)\n",
    "plt.xlabel(\"test MAE loss\")\n",
    "plt.ylabel(\"No of samples\")\n",
    "plt.show()\n",
    "\n",
    "\n",
    "# Detect all the samples which are anomalies.\n",
    "anomalies = (test_mae_loss > threshold).tolist()\n",
    "count = 0\n",
    "false_negative = 0\n",
    "false_positive = 0\n",
    "\n",
    "\n",
    "for i in anomalies:\n",
    "    if ( i == True ):\n",
    "        if ( data_test_with_label.iloc[count].result == \"normal\"):\n",
    "            false_negative = false_negative + 1\n",
    "    if (i == False):\n",
    "        if( data_test_with_label.iloc[count].result != \"normal\"):\n",
    "            false_positive = false_positive + 1\n",
    "    count = count + 1\n",
    "        \n",
    "print(\"Number di sample anomali rilevati: \", np.sum(anomalies))\n",
    "print(\"Numero di sample anomali rivelati erroneamente: \", false_negative)\n",
    "print(\"Numero di sample anomali rilevati correttamente: \", np.sum(anomalies)-false_negative)\n",
    "print(\"Numero di sample anomali non rivelati: \", false_positive)\n",
    "print(\"\")\n",
    "print(\"\")\n",
    "print(\"Indices of anomaly samples: \", np.where(anomalies))                                       "
   ]
  },
  {
   "cell_type": "code",
   "execution_count": null,
   "metadata": {},
   "outputs": [],
   "source": []
  },
  {
   "cell_type": "code",
   "execution_count": null,
   "metadata": {},
   "outputs": [],
   "source": []
  },
  {
   "cell_type": "code",
   "execution_count": null,
   "metadata": {},
   "outputs": [],
   "source": []
  }
 ],
 "metadata": {
  "celltoolbar": "Raw Cell Format",
  "kernelspec": {
   "display_name": "Python 3",
   "language": "python",
   "name": "python3"
  },
  "language_info": {
   "codemirror_mode": {
    "name": "ipython",
    "version": 3
   },
   "file_extension": ".py",
   "mimetype": "text/x-python",
   "name": "python",
   "nbconvert_exporter": "python",
   "pygments_lexer": "ipython3",
   "version": "3.8.3"
  }
 },
 "nbformat": 4,
 "nbformat_minor": 4
}
