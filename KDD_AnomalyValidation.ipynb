{
 "cells": [
  {
   "cell_type": "code",
   "execution_count": 112,
   "metadata": {},
   "outputs": [
    {
     "name": "stdout",
     "output_type": "stream",
     "text": [
      "Librerie importate con successo\n"
     ]
    }
   ],
   "source": [
    "import pandas as pd\n",
    "import numpy as np\n",
    "from tensorflow import keras\n",
    "from tensorflow.keras import regularizers\n",
    "from tensorflow.keras import layers\n",
    "from tensorflow.keras.utils import to_categorical\n",
    "from tensorflow.keras.models import Sequential\n",
    "from sklearn.model_selection import train_test_split as splitter\n",
    "import cProfile\n",
    "import pstats\n",
    "import os\n",
    "import sys\n",
    "from sklearn.metrics import classification_report, confusion_matrix\n",
    "from sklearn.preprocessing import LabelEncoder\n",
    "from datetime import datetime\n",
    "from matplotlib import pyplot as plt\n",
    "from matplotlib import dates as md\n",
    "\n",
    "print(\"Librerie importate con successo\")"
   ]
  },
  {
   "cell_type": "code",
   "execution_count": 113,
   "metadata": {},
   "outputs": [
    {
     "name": "stdout",
     "output_type": "stream",
     "text": [
      "(13451, 22)\n"
     ]
    }
   ],
   "source": [
    "data = pd.read_csv('../Datasets/kdd_prediction.csv', delimiter=',',\n",
    "                       dtype={'protocol_type': str, 'service': str, 'flag': str, 'result': str})\n",
    "#print(\"Dataset : \\n\")\n",
    "#print(data.head()) #Stampa per visualizzare il dataset\n",
    "print(data.shape)"
   ]
  },
  {
   "cell_type": "code",
   "execution_count": 114,
   "metadata": {},
   "outputs": [
    {
     "name": "stdout",
     "output_type": "stream",
     "text": [
      "Total :  13451\n",
      "Normal :  7500\n",
      "Malicious :  5951\n"
     ]
    },
    {
     "data": {
      "image/png": "[encoded data removed]",
      "text/plain": [
       "<Figure size 432x288 with 1 Axes>"
      ]
     },
     "metadata": {
      "needs_background": "light"
     },
     "output_type": "display_data"
    }
   ],
   "source": [
    "total_flows_count = data[\"result\"].count()\n",
    "normal_flows_count = len(data[data.result == \"normal\"])\n",
    "anomaly_flows_count = len(data[data.result != \"normal\"])\n",
    "\n",
    "print(\"Total : \",total_flows_count)\n",
    "print(\"Normal : \",normal_flows_count)\n",
    "print(\"Malicious : \",anomaly_flows_count)\n",
    "\n",
    "# x-coordinates of left sides of bars  \n",
    "left = [1, 1.5] \n",
    "  \n",
    "# heights of bars \n",
    "height = [normal_flows_count, anomaly_flows_count] \n",
    "  \n",
    "# labels for bars \n",
    "tick_label = ['Normal', 'Malicious'] \n",
    "  \n",
    "# bar chart\n",
    "plt.bar(left, height, tick_label = tick_label, \n",
    "        width = 0.4, color = ['green', 'red']) \n",
    "  \n",
    "# Rinominazione asse x \n",
    "plt.xlabel('Tipologia di record') \n",
    "# Rinominazione asse y \n",
    "plt.ylabel('Numero di record') \n",
    "# Titolo\n",
    "plt.title('Numero di samples del dataset') \n",
    "  \n",
    "plt.show() "
   ]
  },
  {
   "cell_type": "code",
   "execution_count": 115,
   "metadata": {},
   "outputs": [],
   "source": [
    "def preprocessing(data):\n",
    "    for column in data.columns:\n",
    "        if data[column].dtype == type(object):\n",
    "            le = LabelEncoder()\n",
    "            data[column] = le.fit_transform(data[column])"
   ]
  },
  {
   "cell_type": "code",
   "execution_count": 116,
   "metadata": {},
   "outputs": [
    {
     "name": "stdout",
     "output_type": "stream",
     "text": [
      "x_train dataframe shape:  (7500, 21)\n",
      "x_val dataframe shape:  (3362, 21)\n"
     ]
    },
    {
     "name": "stderr",
     "output_type": "stream",
     "text": [
      "<ipython-input-115-14dd7e54de29>:5: SettingWithCopyWarning: \n",
      "A value is trying to be set on a copy of a slice from a DataFrame.\n",
      "Try using .loc[row_indexer,col_indexer] = value instead\n",
      "\n",
      "See the caveats in the documentation: https://pandas.pydata.org/pandas-docs/stable/user_guide/indexing.html#returning-a-view-versus-a-copy\n",
      "  data[column] = le.fit_transform(data[column])\n"
     ]
    }
   ],
   "source": [
    "\n",
    "data_train = data[data.result == \"normal\"] #prendo solo i valori \"normali\" per il train\n",
    "data_val = data.copy()\n",
    "\n",
    "\n",
    "preprocessing(data_train)\n",
    "preprocessing(data_val)\n",
    "        \n",
    "x_train = data_train.drop('result',axis=1) #rimuove la colonna result dal dataframe\n",
    "data_val = data_val.drop('result', axis=1) #per la validation mi servono tutti i record, anche quelli malevoli\n",
    "\n",
    "#valori per la validation\n",
    "data_val = data_val.sample(frac=1, random_state=7492).reset_index(drop=True) #randomizza le righe del dataframe resettando gli indici\n",
    "percentage = 25\n",
    "x_val = data_val.head(int(len(data_val)*(percentage/100))) #prendo il 25% del dataset per la validation\n",
    "\n",
    "print(\"x_train dataframe shape: \", x_train.shape)\n",
    "print(\"x_val dataframe shape: \", x_val.shape)"
   ]
  },
  {
   "cell_type": "code",
   "execution_count": 117,
   "metadata": {},
   "outputs": [
    {
     "name": "stdout",
     "output_type": "stream",
     "text": [
      "Training input shape:  (7500, 21, 1)\n",
      "Validation input shape:  (3362, 21, 1)\n"
     ]
    }
   ],
   "source": [
    "arr_train = x_train.to_numpy() #conversione da dataframe ad array numpy\n",
    "arr_train = arr_train.reshape(arr_train.shape[0],arr_train.shape[1],1) #converte la shape da 2d a 3d per layer LSTM\n",
    "print(\"Training input shape: \", arr_train.shape)\n",
    "\n",
    "arr_val = x_val.to_numpy()\n",
    "arr_val = arr_val.reshape(arr_val.shape[0],arr_val.shape[1],1)\n",
    "print(\"Validation input shape: \", arr_val.shape)\n"
   ]
  },
  {
   "cell_type": "code",
   "execution_count": 118,
   "metadata": {},
   "outputs": [
    {
     "name": "stdout",
     "output_type": "stream",
     "text": [
      "Model: \"sequential_14\"\n",
      "_________________________________________________________________\n",
      "Layer (type)                 Output Shape              Param #   \n",
      "=================================================================\n",
      "lstm_48 (LSTM)               (None, 21, 16)            1152      \n",
      "_________________________________________________________________\n",
      "lstm_49 (LSTM)               (None, 8)                 800       \n",
      "_________________________________________________________________\n",
      "repeat_vector_14 (RepeatVect (None, 21, 8)             0         \n",
      "_________________________________________________________________\n",
      "lstm_50 (LSTM)               (None, 21, 8)             544       \n",
      "_________________________________________________________________\n",
      "lstm_51 (LSTM)               (None, 21, 16)            1600      \n",
      "_________________________________________________________________\n",
      "time_distributed_14 (TimeDis (None, 21, 1)             17        \n",
      "=================================================================\n",
      "Total params: 4,113\n",
      "Trainable params: 4,113\n",
      "Non-trainable params: 0\n",
      "_________________________________________________________________\n"
     ]
    }
   ],
   "source": [
    "model = keras.Sequential(\n",
    "    [\n",
    "       layers.Input(shape=(arr_train.shape[1], arr_train.shape[2])),\n",
    "       layers.LSTM(16, activation='relu', return_sequences=True), \n",
    "       layers.LSTM(8, activation='relu', return_sequences=False),\n",
    "        \n",
    "       layers.RepeatVector(arr_train.shape[1]), \n",
    "        \n",
    "        \n",
    "       layers.LSTM(8, activation='relu', return_sequences=True),\n",
    "       layers.LSTM(16, activation='relu', return_sequences=True),\n",
    "       layers.TimeDistributed(layers.Dense(1))    \n",
    "    ]\n",
    ")\n",
    "model.compile( optimizer='adam', loss='mse')\n",
    "model.summary()"
   ]
  },
  {
   "cell_type": "code",
   "execution_count": 119,
   "metadata": {
    "scrolled": true
   },
   "outputs": [
    {
     "name": "stdout",
     "output_type": "stream",
     "text": [
      "Epoch 1/50\n",
      "50/50 [==============================] - 3s 63ms/step - loss: 4.9833 - val_loss: 51.8352\n",
      "Epoch 2/50\n",
      "50/50 [==============================] - 2s 42ms/step - loss: 3.2120 - val_loss: 53.0706\n",
      "Epoch 3/50\n",
      "50/50 [==============================] - 2s 40ms/step - loss: 1.3670 - val_loss: 52.0280\n",
      "Epoch 4/50\n",
      "50/50 [==============================] - 3s 65ms/step - loss: 0.8146 - val_loss: 51.1179\n",
      "Epoch 5/50\n",
      "50/50 [==============================] - 2s 40ms/step - loss: 0.7825 - val_loss: 51.0647\n",
      "Epoch 6/50\n",
      "50/50 [==============================] - 2s 43ms/step - loss: 0.7282 - val_loss: 50.1612\n",
      "Epoch 7/50\n",
      "50/50 [==============================] - 2s 43ms/step - loss: 3.5773 - val_loss: 51.5856\n",
      "Epoch 8/50\n",
      "50/50 [==============================] - 2s 44ms/step - loss: 3.8756 - val_loss: 50.8037\n",
      "Epoch 9/50\n",
      "50/50 [==============================] - 2s 43ms/step - loss: 1.1579 - val_loss: 51.9751\n",
      "Epoch 10/50\n",
      "50/50 [==============================] - 2s 43ms/step - loss: 0.9539 - val_loss: 52.9598\n",
      "Epoch 11/50\n",
      "50/50 [==============================] - 2s 39ms/step - loss: 0.8638 - val_loss: 117.4444\n",
      "Epoch 12/50\n",
      "50/50 [==============================] - 2s 43ms/step - loss: 0.8082 - val_loss: 173.3958\n",
      "Epoch 13/50\n",
      "50/50 [==============================] - 2s 39ms/step - loss: 0.7854 - val_loss: 169.2751\n",
      "Epoch 14/50\n",
      "50/50 [==============================] - 2s 39ms/step - loss: 0.7374 - val_loss: 562.2360\n",
      "Epoch 15/50\n",
      "50/50 [==============================] - 2s 39ms/step - loss: 0.6996 - val_loss: 113.9269\n",
      "Epoch 16/50\n",
      "50/50 [==============================] - 2s 41ms/step - loss: 0.6721 - val_loss: 117.7508\n",
      "Epoch 17/50\n",
      "50/50 [==============================] - 2s 39ms/step - loss: 0.6578 - val_loss: 84.8393\n",
      "Epoch 18/50\n",
      "50/50 [==============================] - 2s 39ms/step - loss: 0.6483 - val_loss: 58.9619\n",
      "Epoch 19/50\n",
      "50/50 [==============================] - 2s 39ms/step - loss: 0.6429 - val_loss: 51.9918\n",
      "Epoch 20/50\n",
      "50/50 [==============================] - 2s 38ms/step - loss: 0.6375 - val_loss: 48.1890\n",
      "Epoch 21/50\n",
      "50/50 [==============================] - 2s 40ms/step - loss: 0.6302 - val_loss: 45.4338\n",
      "Epoch 22/50\n",
      "50/50 [==============================] - 2s 42ms/step - loss: 0.6218 - val_loss: 44.4788\n",
      "Epoch 23/50\n",
      "50/50 [==============================] - 2s 42ms/step - loss: 0.6143 - val_loss: 42.4954\n",
      "Epoch 24/50\n",
      "50/50 [==============================] - 2s 39ms/step - loss: 0.6130 - val_loss: 46.4190\n",
      "Epoch 25/50\n",
      "50/50 [==============================] - 2s 39ms/step - loss: 0.6032 - val_loss: 45.8497\n",
      "Epoch 26/50\n",
      "50/50 [==============================] - 2s 39ms/step - loss: 0.5965 - val_loss: 45.3453\n",
      "Epoch 27/50\n",
      "50/50 [==============================] - 2s 39ms/step - loss: 0.6088 - val_loss: 43.1138\n",
      "Epoch 28/50\n",
      "50/50 [==============================] - 2s 39ms/step - loss: 0.5864 - val_loss: 55.7848\n",
      "Epoch 29/50\n",
      "50/50 [==============================] - 2s 37ms/step - loss: 0.5930 - val_loss: 44.1371\n",
      "Epoch 30/50\n",
      "50/50 [==============================] - 2s 43ms/step - loss: 0.5771 - val_loss: 47.6053\n",
      "Epoch 31/50\n",
      "50/50 [==============================] - 2s 39ms/step - loss: 0.5773 - val_loss: 47.8559\n",
      "Epoch 32/50\n",
      "50/50 [==============================] - 2s 39ms/step - loss: 0.5734 - val_loss: 49.6629\n",
      "Epoch 33/50\n",
      "50/50 [==============================] - 2s 43ms/step - loss: 0.5924 - val_loss: 47.3578\n",
      "Epoch 34/50\n",
      "50/50 [==============================] - 2s 39ms/step - loss: 0.5676 - val_loss: 43.1028\n",
      "Epoch 35/50\n",
      "50/50 [==============================] - 2s 39ms/step - loss: 0.5622 - val_loss: 66.0430\n",
      "Epoch 36/50\n",
      "50/50 [==============================] - 2s 40ms/step - loss: 0.5527 - val_loss: 86.1615\n",
      "Epoch 37/50\n",
      "50/50 [==============================] - 2s 42ms/step - loss: 0.5542 - val_loss: 170.1133\n",
      "Epoch 38/50\n",
      "50/50 [==============================] - 2s 39ms/step - loss: 0.6008 - val_loss: 106.5124\n",
      "Epoch 39/50\n",
      "50/50 [==============================] - 2s 41ms/step - loss: 0.5817 - val_loss: 81.4853\n",
      "Epoch 40/50\n",
      "50/50 [==============================] - 2s 39ms/step - loss: 0.5510 - val_loss: 88.5054\n",
      "Epoch 41/50\n",
      "50/50 [==============================] - 2s 39ms/step - loss: 0.5927 - val_loss: 61.1357\n",
      "Epoch 42/50\n",
      "50/50 [==============================] - 2s 43ms/step - loss: 0.5663 - val_loss: 73.8577\n",
      "Epoch 43/50\n",
      "50/50 [==============================] - 2s 44ms/step - loss: 0.5418 - val_loss: 63.4261\n"
     ]
    }
   ],
   "source": [
    "history = model.fit(\n",
    "    arr_train,\n",
    "    arr_train,\n",
    "    epochs=50,\n",
    "    batch_size=150,\n",
    "    validation_data=(arr_val, arr_val),\n",
    "    callbacks=[\n",
    "        keras.callbacks.EarlyStopping(monitor=\"val_loss\", patience=20, mode=\"min\")\n",
    "    ],\n",
    ")"
   ]
  },
  {
   "cell_type": "code",
   "execution_count": 120,
   "metadata": {},
   "outputs": [
    {
     "data": {
      "text/plain": [
       "<matplotlib.legend.Legend at 0x22681fad340>"
      ]
     },
     "execution_count": 120,
     "metadata": {},
     "output_type": "execute_result"
    },
    {
     "data": {
      "image/png": "[encoded data removed]",
      "text/plain": [
       "<Figure size 432x288 with 1 Axes>"
      ]
     },
     "metadata": {
      "needs_background": "light"
     },
     "output_type": "display_data"
    }
   ],
   "source": [
    "plt.plot(history.history[\"loss\"], label=\"Training Loss\")\n",
    "plt.plot(history.history[\"val_loss\"], label=\"Validation Loss\")\n",
    "plt.legend()"
   ]
  },
  {
   "cell_type": "code",
   "execution_count": 121,
   "metadata": {},
   "outputs": [
    {
     "data": {
      "image/png": "[encoded data removed]",
      "text/plain": [
       "<Figure size 432x288 with 1 Axes>"
      ]
     },
     "metadata": {
      "needs_background": "light"
     },
     "output_type": "display_data"
    },
    {
     "name": "stdout",
     "output_type": "stream",
     "text": [
      "Reconstruction error threshold:  1.9401718137940702\n"
     ]
    }
   ],
   "source": [
    "x_train_pred = model.predict(arr_train)\n",
    "train_mae_loss = np.mean(np.abs(x_train_pred - arr_train), axis=1)\n",
    "train_mae_loss = train_mae_loss.ravel() #converte l'array numpy in 1d\n",
    "train_mae_loss = np.sort(train_mae_loss) #quicksort\n",
    "\n",
    "\n",
    "train_mae_loss_len = len(train_mae_loss)\n",
    "n_index = int(0.999*train_mae_loss_len)\n",
    "plt.hist(train_mae_loss, bins=100)\n",
    "plt.xlabel(\"Train MAE loss\")\n",
    "plt.ylabel(\"No of samples\")\n",
    "plt.show()\n",
    "\n",
    "# Get reconstruction loss threshold.\n",
    "train_mae_loss_split = train_mae_loss[:n_index]\n",
    "threshold = np.max(train_mae_loss_split)\n",
    "print(\"Reconstruction error threshold: \", threshold)"
   ]
  },
  {
   "cell_type": "code",
   "execution_count": 122,
   "metadata": {},
   "outputs": [
    {
     "name": "stdout",
     "output_type": "stream",
     "text": [
      "data_test_splitted dataframe shape:  (4035, 22)\n"
     ]
    }
   ],
   "source": [
    "#data_test\n",
    "\n",
    "data_test = data.copy()\n",
    "\n",
    "data_test = data_test.sample(frac=1, random_state=3839).reset_index(drop=True) #randomizza le righe del dataframe resettando gli indici\n",
    "percentage = 30\n",
    "data_test_splitted = data_test.head(int(len(data_test)*(percentage/100))) #prendo il 30% del dataset completo per il test\n",
    "\n",
    "print(\"data_test_splitted dataframe shape: \", data_test_splitted.shape)"
   ]
  },
  {
   "cell_type": "code",
   "execution_count": 123,
   "metadata": {},
   "outputs": [
    {
     "name": "stdout",
     "output_type": "stream",
     "text": [
      "Total :  4035\n",
      "Normal :  2285\n",
      "Malicious :  1750\n"
     ]
    },
    {
     "data": {
      "image/png": "[encoded data removed]",
      "text/plain": [
       "<Figure size 432x288 with 1 Axes>"
      ]
     },
     "metadata": {
      "needs_background": "light"
     },
     "output_type": "display_data"
    },
    {
     "name": "stdout",
     "output_type": "stream",
     "text": [
      "x_test shape : (4035, 21)\n"
     ]
    },
    {
     "name": "stderr",
     "output_type": "stream",
     "text": [
      "<ipython-input-115-14dd7e54de29>:5: SettingWithCopyWarning: \n",
      "A value is trying to be set on a copy of a slice from a DataFrame.\n",
      "Try using .loc[row_indexer,col_indexer] = value instead\n",
      "\n",
      "See the caveats in the documentation: https://pandas.pydata.org/pandas-docs/stable/user_guide/indexing.html#returning-a-view-versus-a-copy\n",
      "  data[column] = le.fit_transform(data[column])\n"
     ]
    }
   ],
   "source": [
    "total_flows_count_test = data_test_splitted[\"result\"].count()\n",
    "normal_flows_count_test = len(data_test_splitted[data_test_splitted.result == \"normal\"])\n",
    "anomaly_flows_count_test = len(data_test_splitted[data_test_splitted.result != \"normal\"])\n",
    "\n",
    "print(\"Total : \",total_flows_count_test)\n",
    "print(\"Normal : \",normal_flows_count_test)\n",
    "print(\"Malicious : \",anomaly_flows_count_test)\n",
    "\n",
    "# x-coordinates of left sides of bars  \n",
    "left = [1, 1.5] \n",
    "  \n",
    "# heights of bars \n",
    "height = [normal_flows_count_test, anomaly_flows_count_test] \n",
    "  \n",
    "# labels for bars \n",
    "tick_label = ['Normal', 'Malicious'] \n",
    "  \n",
    "# bar chart\n",
    "plt.bar(left, height, tick_label = tick_label, \n",
    "        width = 0.4, color = ['blue', 'orange']) \n",
    "  \n",
    "# Rinominazione asse x \n",
    "plt.xlabel('Tipologia di record') \n",
    "# Rinominazione asse y \n",
    "plt.ylabel('Numero di record') \n",
    "# Titolo\n",
    "plt.title('Numero di samples del dataset per il test') \n",
    "  \n",
    "plt.show() \n",
    "\n",
    "preprocessing(data_test_splitted)\n",
    "x_test = data_test_splitted.drop('result',axis=1) #rimuove la colonna result dal dataframe\n",
    "print(\"x_test shape :\", x_test.shape)"
   ]
  },
  {
   "cell_type": "code",
   "execution_count": 124,
   "metadata": {},
   "outputs": [
    {
     "name": "stdout",
     "output_type": "stream",
     "text": [
      "Training input shape:  (4035, 21, 1)\n"
     ]
    }
   ],
   "source": [
    "arr_test = x_test.to_numpy() #conversione da dataframe ad array numpy\n",
    "arr_test = arr_test.reshape(arr_test.shape[0],arr_test.shape[1],1) #converte la shape da 2d a 3d per layer LSTM\n",
    "print(\"Training input shape: \", arr_test.shape)"
   ]
  },
  {
   "cell_type": "code",
   "execution_count": 125,
   "metadata": {},
   "outputs": [
    {
     "data": {
      "image/png": "[encoded data removed]",
      "text/plain": [
       "<Figure size 432x288 with 1 Axes>"
      ]
     },
     "metadata": {
      "needs_background": "light"
     },
     "output_type": "display_data"
    },
    {
     "name": "stdout",
     "output_type": "stream",
     "text": [
      "Number of anomaly samples:  1408\n",
      "Indices of anomaly samples:  (array([   1,    3,    6, ..., 4023, 4032, 4033], dtype=int64),)\n"
     ]
    }
   ],
   "source": [
    "arr_test_pred = model.predict(arr_test)\n",
    "test_mae_loss = np.mean(np.abs(arr_test_pred - arr_test), axis=1)\n",
    "test_mae_loss = test_mae_loss.reshape((-1))\n",
    "                                       \n",
    "plt.hist(test_mae_loss, bins=50)\n",
    "plt.xlabel(\"test MAE loss\")\n",
    "plt.ylabel(\"No of samples\")\n",
    "plt.show()\n",
    "\n",
    "# Detect all the samples which are anomalies.\n",
    "anomalies = (test_mae_loss > threshold).tolist()\n",
    "print(\"Number of anomaly samples: \", np.sum(anomalies))\n",
    "print(\"Indices of anomaly samples: \", np.where(anomalies))                                       "
   ]
  },
  {
   "cell_type": "code",
   "execution_count": null,
   "metadata": {},
   "outputs": [],
   "source": []
  },
  {
   "cell_type": "code",
   "execution_count": null,
   "metadata": {},
   "outputs": [],
   "source": []
  }
 ],
 "metadata": {
  "kernelspec": {
   "display_name": "Python 3",
   "language": "python",
   "name": "python3"
  },
  "language_info": {
   "codemirror_mode": {
    "name": "ipython",
    "version": 3
   },
   "file_extension": ".py",
   "mimetype": "text/x-python",
   "name": "python",
   "nbconvert_exporter": "python",
   "pygments_lexer": "ipython3",
   "version": "3.8.3"
  }
 },
 "nbformat": 4,
 "nbformat_minor": 4
}
