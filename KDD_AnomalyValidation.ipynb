{
 "cells": [
  {
   "cell_type": "code",
   "execution_count": 146,
   "metadata": {},
   "outputs": [
    {
     "name": "stdout",
     "output_type": "stream",
     "text": [
      "Librerie importate con successo\n"
     ]
    }
   ],
   "source": [
    "import pandas as pd\n",
    "import numpy as np\n",
    "from tensorflow import keras\n",
    "from tensorflow.keras import regularizers\n",
    "from tensorflow.keras import layers\n",
    "from tensorflow.keras.utils import to_categorical\n",
    "from tensorflow.keras.models import Sequential\n",
    "from sklearn.model_selection import train_test_split as splitter\n",
    "import cProfile\n",
    "import pstats\n",
    "import os\n",
    "import sys\n",
    "from sklearn.metrics import classification_report, confusion_matrix\n",
    "from sklearn.preprocessing import LabelEncoder\n",
    "from datetime import datetime\n",
    "from matplotlib import pyplot as plt\n",
    "from matplotlib import dates as md\n",
    "\n",
    "print(\"Librerie importate con successo\")"
   ]
  },
  {
   "cell_type": "code",
   "execution_count": 147,
   "metadata": {},
   "outputs": [
    {
     "name": "stdout",
     "output_type": "stream",
     "text": [
      "Shape del dataset :  (13451, 22)\n"
     ]
    }
   ],
   "source": [
    "#Carico il dataset\n",
    "\n",
    "data = pd.read_csv('../Datasets/kdd_prediction.csv', delimiter=',',\n",
    "                       dtype={'protocol_type': str, 'service': str, 'flag': str, 'result': str})\n",
    "\n",
    "data = data.sample(frac=1, random_state=1283).reset_index(drop=True) #shuffle\n",
    "print(\"Shape del dataset : \", data.shape)"
   ]
  },
  {
   "cell_type": "code",
   "execution_count": 148,
   "metadata": {},
   "outputs": [
    {
     "name": "stdout",
     "output_type": "stream",
     "text": [
      "Total :  13451\n",
      "Normal :  7500\n",
      "Malicious :  5951\n"
     ]
    },
    {
     "data": {
      "image/png": "[encoded data removed]",
      "text/plain": [
       "<Figure size 432x288 with 1 Axes>"
      ]
     },
     "metadata": {
      "needs_background": "light"
     },
     "output_type": "display_data"
    }
   ],
   "source": [
    "#Effettuo il plot del dataset\n",
    "\n",
    "total_flows_count = data[\"result\"].count()\n",
    "normal_flows_count = len(data[data.result == \"normal\"])\n",
    "anomaly_flows_count = len(data[data.result != \"normal\"])\n",
    "\n",
    "print(\"Total : \",total_flows_count)\n",
    "print(\"Normal : \",normal_flows_count)\n",
    "print(\"Malicious : \",anomaly_flows_count)\n",
    "\n",
    "# x-coordinates of left sides of bars  \n",
    "left = [1, 1.5] \n",
    "  \n",
    "# heights of bars \n",
    "height = [normal_flows_count, anomaly_flows_count] \n",
    "  \n",
    "# labels for bars \n",
    "tick_label = ['Normal', 'Malicious'] \n",
    "  \n",
    "# bar chart\n",
    "plt.bar(left, height, tick_label = tick_label, \n",
    "        width = 0.4, color = ['green', 'red']) \n",
    "  \n",
    "# Rinominazione asse x \n",
    "plt.xlabel('Tipologia di record') \n",
    "# Rinominazione asse y \n",
    "plt.ylabel('Numero di record') \n",
    "# Titolo\n",
    "plt.title('Numero di samples del dataset') \n",
    "  \n",
    "plt.show() "
   ]
  },
  {
   "cell_type": "code",
   "execution_count": 149,
   "metadata": {},
   "outputs": [],
   "source": [
    "def preprocessing(data):\n",
    "    for column in data.columns:\n",
    "        if data[column].dtype == type(object):\n",
    "            le = LabelEncoder()\n",
    "            data[column] = le.fit_transform(data[column])"
   ]
  },
  {
   "cell_type": "code",
   "execution_count": 150,
   "metadata": {},
   "outputs": [
    {
     "name": "stdout",
     "output_type": "stream",
     "text": [
      "Shape dataframe per il train :  (4500, 21)\n",
      "Shape dataframe per la validation :  (1500, 21)\n"
     ]
    }
   ],
   "source": [
    "normal_data = data[data.result == \"normal\"] #prendo solo i valori \"normali\" \n",
    "\n",
    "#voglio che sia il train che la validation siano effettuati su record normali ma che siano tra loro differenti\n",
    "\n",
    "data_train, data_val, data_test = np.split(normal_data, [int(.6*len(normal_data)), int(.8*len(normal_data))])\n",
    "\n",
    "preprocessing(data_train)\n",
    "preprocessing(data_val)\n",
    "        \n",
    "x_train = data_train.drop('result',axis=1) #rimuove la colonna result dal dataframe\n",
    "x_val = data_val.drop('result', axis=1) #rimuove il label\n",
    "\n",
    "print(\"Shape dataframe per il train : \", x_train.shape)\n",
    "print(\"Shape dataframe per la validation : \", x_val.shape)"
   ]
  },
  {
   "cell_type": "code",
   "execution_count": 151,
   "metadata": {},
   "outputs": [
    {
     "name": "stdout",
     "output_type": "stream",
     "text": [
      "Training input shape:  (4500, 21, 1)\n",
      "Validation input shape:  (1500, 21, 1)\n"
     ]
    }
   ],
   "source": [
    "arr_train = x_train.to_numpy() #conversione da dataframe ad array numpy\n",
    "arr_train = arr_train.reshape(arr_train.shape[0],arr_train.shape[1],1) #converte la shape da 2d a 3d per layer LSTM\n",
    "print(\"Training input shape: \", arr_train.shape)\n",
    "\n",
    "arr_val = x_val.to_numpy()\n",
    "arr_val = arr_val.reshape(arr_val.shape[0],arr_val.shape[1],1)\n",
    "print(\"Validation input shape: \", arr_val.shape)\n"
   ]
  },
  {
   "cell_type": "code",
   "execution_count": 152,
   "metadata": {},
   "outputs": [
    {
     "name": "stdout",
     "output_type": "stream",
     "text": [
      "Model: \"sequential_7\"\n",
      "_________________________________________________________________\n",
      "Layer (type)                 Output Shape              Param #   \n",
      "=================================================================\n",
      "lstm_26 (LSTM)               (None, 21, 16)            1152      \n",
      "_________________________________________________________________\n",
      "lstm_27 (LSTM)               (None, 8)                 800       \n",
      "_________________________________________________________________\n",
      "repeat_vector_7 (RepeatVecto (None, 21, 8)             0         \n",
      "_________________________________________________________________\n",
      "lstm_28 (LSTM)               (None, 21, 8)             544       \n",
      "_________________________________________________________________\n",
      "lstm_29 (LSTM)               (None, 21, 16)            1600      \n",
      "_________________________________________________________________\n",
      "time_distributed_7 (TimeDist (None, 21, 1)             17        \n",
      "=================================================================\n",
      "Total params: 4,113\n",
      "Trainable params: 4,113\n",
      "Non-trainable params: 0\n",
      "_________________________________________________________________\n"
     ]
    }
   ],
   "source": [
    "model = keras.Sequential(\n",
    "    [\n",
    "       layers.Input(shape=(arr_train.shape[1], arr_train.shape[2])),\n",
    "       layers.LSTM(16, activation='relu', return_sequences=True), \n",
    "       layers.LSTM(8, activation='relu', return_sequences=False),\n",
    "        \n",
    "       layers.RepeatVector(arr_train.shape[1]), \n",
    "        \n",
    "        \n",
    "       layers.LSTM(8, activation='relu', return_sequences=True),\n",
    "       layers.LSTM(16, activation='relu', return_sequences=True),\n",
    "       layers.TimeDistributed(layers.Dense(1))    \n",
    "    ]\n",
    ")\n",
    "model.compile( optimizer='adam', loss='mse')\n",
    "model.summary()"
   ]
  },
  {
   "cell_type": "code",
   "execution_count": 153,
   "metadata": {
    "scrolled": true
   },
   "outputs": [
    {
     "name": "stdout",
     "output_type": "stream",
     "text": [
      "Epoch 1/50\n",
      "30/30 [==============================] - 2s 71ms/step - loss: 5.0345 - val_loss: 3.6043\n",
      "Epoch 2/50\n",
      "30/30 [==============================] - 1s 39ms/step - loss: 4.8807 - val_loss: 3.5679\n",
      "Epoch 3/50\n",
      "30/30 [==============================] - 1s 42ms/step - loss: 4.7569 - val_loss: 3.4808\n",
      "Epoch 4/50\n",
      "30/30 [==============================] - 1s 42ms/step - loss: 4.4535 - val_loss: 3.2888\n",
      "Epoch 5/50\n",
      "30/30 [==============================] - 1s 42ms/step - loss: 3.0453 - val_loss: 2.3326\n",
      "Epoch 6/50\n",
      "30/30 [==============================] - 1s 42ms/step - loss: 1.0038 - val_loss: 2.5093\n",
      "Epoch 7/50\n",
      "30/30 [==============================] - 1s 40ms/step - loss: 0.7898 - val_loss: 2.5203\n",
      "Epoch 8/50\n",
      "30/30 [==============================] - 1s 40ms/step - loss: 0.8064 - val_loss: 2.4790\n",
      "Epoch 9/50\n",
      "30/30 [==============================] - 1s 42ms/step - loss: 0.7801 - val_loss: 2.4572\n",
      "Epoch 10/50\n",
      "30/30 [==============================] - 1s 42ms/step - loss: 0.7589 - val_loss: 2.4417\n",
      "Epoch 11/50\n",
      "30/30 [==============================] - 1s 40ms/step - loss: 0.7368 - val_loss: 2.3849\n",
      "Epoch 12/50\n",
      "30/30 [==============================] - 1s 38ms/step - loss: 0.7119 - val_loss: 2.3747\n",
      "Epoch 13/50\n",
      "30/30 [==============================] - 1s 43ms/step - loss: 0.6830 - val_loss: 2.3503\n",
      "Epoch 14/50\n",
      "30/30 [==============================] - 1s 43ms/step - loss: 0.6477 - val_loss: 3.8420\n",
      "Epoch 15/50\n",
      "30/30 [==============================] - 1s 39ms/step - loss: 0.6081 - val_loss: 2.5384\n",
      "Epoch 16/50\n",
      "30/30 [==============================] - 1s 39ms/step - loss: 0.5713 - val_loss: 3.4611\n",
      "Epoch 17/50\n",
      "30/30 [==============================] - 1s 40ms/step - loss: 0.8681 - val_loss: 2.9788\n",
      "Epoch 18/50\n",
      "30/30 [==============================] - 1s 42ms/step - loss: 0.7232 - val_loss: 2.6051\n",
      "Epoch 19/50\n",
      "30/30 [==============================] - 1s 43ms/step - loss: 0.6531 - val_loss: 2.5684\n",
      "Epoch 20/50\n",
      "30/30 [==============================] - 1s 42ms/step - loss: 0.6170 - val_loss: 2.5455\n",
      "Epoch 21/50\n",
      "30/30 [==============================] - 1s 43ms/step - loss: 0.6011 - val_loss: 2.5542\n",
      "Epoch 22/50\n",
      "30/30 [==============================] - 1s 42ms/step - loss: 0.5627 - val_loss: 2.5599\n",
      "Epoch 23/50\n",
      "30/30 [==============================] - 1s 42ms/step - loss: 0.5394 - val_loss: 2.4224\n",
      "Epoch 24/50\n",
      "30/30 [==============================] - 1s 38ms/step - loss: 0.7335 - val_loss: 2.5790\n",
      "Epoch 25/50\n",
      "30/30 [==============================] - 1s 41ms/step - loss: 0.5697 - val_loss: 2.5620\n"
     ]
    }
   ],
   "source": [
    "history = model.fit(\n",
    "    arr_train,\n",
    "    arr_train,\n",
    "    epochs=50,\n",
    "    batch_size=150,\n",
    "    validation_data=(arr_val, arr_val),\n",
    "    callbacks=[\n",
    "        keras.callbacks.EarlyStopping(monitor=\"val_loss\", patience=20, mode=\"min\")\n",
    "    ],\n",
    ")"
   ]
  },
  {
   "cell_type": "code",
   "execution_count": 154,
   "metadata": {},
   "outputs": [
    {
     "data": {
      "text/plain": [
       "<matplotlib.legend.Legend at 0x1fc30fcbfd0>"
      ]
     },
     "execution_count": 154,
     "metadata": {},
     "output_type": "execute_result"
    },
    {
     "data": {
      "image/png": "[encoded data removed]",
      "text/plain": [
       "<Figure size 432x288 with 1 Axes>"
      ]
     },
     "metadata": {
      "needs_background": "light"
     },
     "output_type": "display_data"
    }
   ],
   "source": [
    "plt.plot(history.history[\"loss\"], label=\"Training Loss\")\n",
    "plt.plot(history.history[\"val_loss\"], label=\"Validation Loss\")\n",
    "plt.legend()"
   ]
  },
  {
   "cell_type": "code",
   "execution_count": 155,
   "metadata": {},
   "outputs": [
    {
     "data": {
      "image/png": "[encoded data removed]",
      "text/plain": [
       "<Figure size 432x288 with 1 Axes>"
      ]
     },
     "metadata": {
      "needs_background": "light"
     },
     "output_type": "display_data"
    },
    {
     "name": "stdout",
     "output_type": "stream",
     "text": [
      "Reconstruction error threshold:  2.0082835081152277\n"
     ]
    }
   ],
   "source": [
    "x_train_pred = model.predict(arr_train)\n",
    "train_mae_loss = np.mean(np.abs(x_train_pred - arr_train), axis=1)\n",
    "train_mae_loss = train_mae_loss.ravel() #converte l'array numpy in 1d\n",
    "train_mae_loss = np.sort(train_mae_loss) #quicksort\n",
    "\n",
    "\n",
    "train_mae_loss_len = len(train_mae_loss)\n",
    "n_index = int(0.999*train_mae_loss_len)\n",
    "plt.hist(train_mae_loss, bins=100)\n",
    "plt.xlabel(\"Train MAE loss\")\n",
    "plt.ylabel(\"No of samples\")\n",
    "plt.show()\n",
    "\n",
    "# Get reconstruction loss threshold.\n",
    "train_mae_loss_split = train_mae_loss[:n_index]\n",
    "threshold = np.max(train_mae_loss_split)\n",
    "print(\"Reconstruction error threshold: \", threshold)"
   ]
  },
  {
   "cell_type": "code",
   "execution_count": 156,
   "metadata": {},
   "outputs": [
    {
     "name": "stdout",
     "output_type": "stream",
     "text": [
      "Shape del dataset per il test:  (2690, 22)\n"
     ]
    }
   ],
   "source": [
    "#data_test\n",
    "#il dataset per il test sarà formato dai 1500 sample normali prelevati precedentemente a cui aggiungerò dei sample anomali\n",
    "#in particolare prelevo il 20% dei sample anomali e li concateno ai 1500 normali precedentemente ottenuti\n",
    "\n",
    "anomaly_data = data[data.result != \"normal\"] #prendo solo i valori \"anomali\"\n",
    "\n",
    "percentage = 20\n",
    "anomaly_test_data = anomaly_data.head(int(len(anomaly_data)*(percentage/100)))\n",
    "\n",
    "frames = [data_test, anomaly_test_data]\n",
    "final_test_data = pd.concat(frames)\n",
    "\n",
    "print(\"Shape del dataset per il test: \", final_test_data.shape)"
   ]
  },
  {
   "cell_type": "code",
   "execution_count": 157,
   "metadata": {},
   "outputs": [
    {
     "name": "stdout",
     "output_type": "stream",
     "text": [
      "Total :  2690\n",
      "Normal :  1500\n",
      "Malicious :  1190\n"
     ]
    },
    {
     "data": {
      "image/png": "[encoded data removed]",
      "text/plain": [
       "<Figure size 432x288 with 1 Axes>"
      ]
     },
     "metadata": {
      "needs_background": "light"
     },
     "output_type": "display_data"
    },
    {
     "name": "stdout",
     "output_type": "stream",
     "text": [
      "x_test shape : (2690, 21)\n"
     ]
    }
   ],
   "source": [
    "total_flows_count_test = final_test_data[\"result\"].count()\n",
    "normal_flows_count_test = len(final_test_data[final_test_data.result == \"normal\"])\n",
    "anomaly_flows_count_test = len(final_test_data[final_test_data.result != \"normal\"])\n",
    "\n",
    "print(\"Total : \",total_flows_count_test)\n",
    "print(\"Normal : \",normal_flows_count_test)\n",
    "print(\"Malicious : \",anomaly_flows_count_test)\n",
    "\n",
    "# x-coordinates of left sides of bars  \n",
    "left = [1, 1.5] \n",
    "  \n",
    "# heights of bars \n",
    "height = [normal_flows_count_test, anomaly_flows_count_test] \n",
    "  \n",
    "# labels for bars \n",
    "tick_label = ['Normal', 'Malicious'] \n",
    "  \n",
    "# bar chart\n",
    "plt.bar(left, height, tick_label = tick_label, \n",
    "        width = 0.4, color = ['blue', 'orange']) \n",
    "  \n",
    "# Rinominazione asse x \n",
    "plt.xlabel('Tipologia di record') \n",
    "# Rinominazione asse y \n",
    "plt.ylabel('Numero di record') \n",
    "# Titolo\n",
    "plt.title('Numero di samples del dataset per il test') \n",
    "  \n",
    "plt.show() \n",
    "\n",
    "preprocessing(final_test_data)\n",
    "x_test = final_test_data.drop('result',axis=1) #rimuove la colonna result dal dataframe\n",
    "print(\"x_test shape :\", x_test.shape)"
   ]
  },
  {
   "cell_type": "code",
   "execution_count": 158,
   "metadata": {},
   "outputs": [
    {
     "name": "stdout",
     "output_type": "stream",
     "text": [
      "Training input shape:  (2690, 21, 1)\n"
     ]
    }
   ],
   "source": [
    "arr_test = x_test.to_numpy() #conversione da dataframe ad array numpy\n",
    "arr_test = arr_test.reshape(arr_test.shape[0],arr_test.shape[1],1) #converte la shape da 2d a 3d per layer LSTM\n",
    "print(\"Training input shape: \", arr_test.shape)"
   ]
  },
  {
   "cell_type": "code",
   "execution_count": 159,
   "metadata": {},
   "outputs": [
    {
     "data": {
      "image/png": "[encoded data removed]",
      "text/plain": [
       "<Figure size 432x288 with 1 Axes>"
      ]
     },
     "metadata": {
      "needs_background": "light"
     },
     "output_type": "display_data"
    },
    {
     "name": "stdout",
     "output_type": "stream",
     "text": [
      "Number di sample anomali rilevati:  832\n",
      "Numero di sample anomali rivelati erroneamente:  500\n",
      "Numero di sample anomali rilevati correttamente:  332\n",
      "Numero di sample anomali non rivelati:  855\n",
      "\n",
      "\n",
      "Indices of anomaly samples:  (array([   6,   11,   14,   30,   32,   42,   45,   56,   58,   64,   68,\n",
      "         69,   70,   71,   81,   87,   93,   96,  104,  109,  117,  124,\n",
      "        134,  141,  143,  145,  148,  155,  157,  165,  169,  172,  173,\n",
      "        186,  187,  188,  189,  190,  193,  199,  201,  205,  207,  208,\n",
      "        213,  221,  223,  227,  228,  230,  238,  242,  243,  259,  261,\n",
      "        283,  285,  287,  289,  293,  296,  313,  316,  320,  329,  348,\n",
      "        349,  357,  362,  375,  379,  380,  390,  394,  399,  405,  407,\n",
      "        408,  413,  429,  431,  462,  473,  495,  497,  509,  515,  528,\n",
      "        530,  532,  553,  560,  572,  582,  583,  584,  593,  594,  607,\n",
      "        608,  616,  618,  620,  628,  633,  635,  644,  654,  670,  682,\n",
      "        689,  691,  693,  698,  699,  700,  711,  712,  720,  733,  734,\n",
      "        736,  741,  742,  748,  749,  755,  771,  780,  783,  791,  796,\n",
      "        804,  823,  824,  828,  831,  834,  836,  838,  841,  846,  848,\n",
      "        850,  855,  858,  861,  862,  870,  871,  875,  877,  890,  892,\n",
      "        895,  897,  903,  911,  918,  920,  925,  937,  941,  955,  979,\n",
      "        980,  981,  997, 1000, 1001, 1002, 1008, 1017, 1026, 1028, 1032,\n",
      "       1033, 1045, 1046, 1052, 1054, 1055, 1067, 1069, 1078, 1085, 1091,\n",
      "       1117, 1120, 1123, 1126, 1129, 1130, 1131, 1132, 1133, 1134, 1135,\n",
      "       1157, 1163, 1164, 1169, 1175, 1179, 1188, 1193, 1194, 1197, 1207,\n",
      "       1208, 1212, 1220, 1238, 1243, 1253, 1266, 1270, 1283, 1284, 1285,\n",
      "       1286, 1288, 1293, 1297, 1299, 1302, 1316, 1317, 1328, 1330, 1331,\n",
      "       1347, 1351, 1353, 1370, 1372, 1374, 1375, 1377, 1380, 1388, 1400,\n",
      "       1415, 1417, 1438, 1446, 1447, 1470, 1472, 1477, 1480, 1481, 1490,\n",
      "       1499, 1502, 1503, 1506, 1507, 1509, 1511, 1513, 1515, 1518, 1523,\n",
      "       1526, 1527, 1529, 1533, 1534, 1536, 1544, 1548, 1550, 1553, 1554,\n",
      "       1560, 1563, 1565, 1566, 1568, 1569, 1570, 1573, 1574, 1579, 1580,\n",
      "       1581, 1582, 1584, 1586, 1589, 1590, 1591, 1594, 1596, 1597, 1600,\n",
      "       1601, 1602, 1603, 1605, 1607, 1609, 1612, 1614, 1615, 1618, 1620,\n",
      "       1621, 1622, 1624, 1625, 1627, 1629, 1631, 1638, 1640, 1641, 1643,\n",
      "       1645, 1649, 1651, 1652, 1653, 1656, 1657, 1659, 1660, 1661, 1662,\n",
      "       1663, 1669, 1670, 1671, 1672, 1673, 1675, 1676, 1677, 1679, 1680,\n",
      "       1685, 1687, 1689, 1692, 1693, 1695, 1696, 1697, 1698, 1699, 1701,\n",
      "       1706, 1707, 1709, 1710, 1711, 1713, 1714, 1715, 1716, 1717, 1720,\n",
      "       1721, 1723, 1724, 1728, 1730, 1731, 1732, 1733, 1736, 1740, 1745,\n",
      "       1746, 1748, 1749, 1753, 1758, 1766, 1767, 1768, 1770, 1774, 1775,\n",
      "       1776, 1777, 1779, 1780, 1781, 1782, 1784, 1785, 1787, 1789, 1790,\n",
      "       1792, 1794, 1798, 1799, 1802, 1807, 1809, 1812, 1814, 1815, 1820,\n",
      "       1821, 1824, 1825, 1826, 1829, 1830, 1831, 1833, 1838, 1840, 1841,\n",
      "       1843, 1844, 1845, 1848, 1849, 1852, 1853, 1859, 1860, 1862, 1864,\n",
      "       1865, 1867, 1868, 1871, 1875, 1876, 1877, 1881, 1882, 1883, 1884,\n",
      "       1887, 1890, 1891, 1895, 1896, 1897, 1898, 1899, 1900, 1901, 1903,\n",
      "       1904, 1909, 1911, 1912, 1914, 1916, 1920, 1921, 1922, 1923, 1925,\n",
      "       1926, 1927, 1929, 1930, 1933, 1934, 1935, 1937, 1939, 1940, 1941,\n",
      "       1942, 1944, 1946, 1947, 1948, 1950, 1951, 1952, 1953, 1954, 1959,\n",
      "       1960, 1962, 1968, 1969, 1973, 1975, 1977, 1978, 1980, 1981, 1982,\n",
      "       1983, 1985, 1988, 1991, 1993, 1994, 1997, 1998, 1999, 2000, 2002,\n",
      "       2003, 2004, 2007, 2011, 2012, 2013, 2016, 2017, 2022, 2025, 2026,\n",
      "       2027, 2029, 2036, 2037, 2039, 2041, 2043, 2045, 2046, 2047, 2049,\n",
      "       2050, 2053, 2054, 2057, 2058, 2061, 2062, 2065, 2070, 2073, 2074,\n",
      "       2076, 2078, 2080, 2081, 2090, 2093, 2096, 2097, 2099, 2100, 2101,\n",
      "       2102, 2104, 2105, 2107, 2109, 2111, 2112, 2113, 2114, 2116, 2117,\n",
      "       2118, 2121, 2122, 2126, 2127, 2128, 2129, 2130, 2132, 2133, 2134,\n",
      "       2136, 2140, 2146, 2147, 2148, 2150, 2154, 2156, 2157, 2160, 2162,\n",
      "       2164, 2166, 2168, 2169, 2171, 2173, 2174, 2176, 2177, 2178, 2179,\n",
      "       2181, 2186, 2190, 2193, 2195, 2198, 2199, 2200, 2201, 2202, 2206,\n",
      "       2207, 2213, 2214, 2219, 2220, 2221, 2223, 2224, 2225, 2226, 2228,\n",
      "       2229, 2230, 2233, 2234, 2235, 2236, 2238, 2240, 2241, 2244, 2246,\n",
      "       2248, 2250, 2253, 2255, 2261, 2264, 2265, 2268, 2269, 2276, 2282,\n",
      "       2285, 2291, 2295, 2297, 2299, 2303, 2304, 2305, 2308, 2309, 2310,\n",
      "       2312, 2313, 2314, 2315, 2316, 2318, 2320, 2321, 2323, 2324, 2325,\n",
      "       2329, 2330, 2331, 2332, 2334, 2335, 2336, 2340, 2341, 2344, 2346,\n",
      "       2347, 2348, 2351, 2352, 2353, 2354, 2357, 2361, 2363, 2364, 2366,\n",
      "       2368, 2372, 2373, 2374, 2377, 2379, 2380, 2383, 2384, 2386, 2387,\n",
      "       2393, 2395, 2399, 2410, 2411, 2412, 2415, 2417, 2418, 2419, 2420,\n",
      "       2421, 2422, 2428, 2430, 2434, 2437, 2442, 2443, 2444, 2445, 2447,\n",
      "       2448, 2449, 2451, 2452, 2454, 2455, 2456, 2457, 2458, 2459, 2464,\n",
      "       2472, 2474, 2476, 2478, 2482, 2487, 2488, 2491, 2492, 2494, 2495,\n",
      "       2497, 2499, 2501, 2502, 2504, 2505, 2506, 2508, 2511, 2512, 2514,\n",
      "       2516, 2521, 2523, 2526, 2529, 2530, 2531, 2535, 2537, 2544, 2545,\n",
      "       2546, 2547, 2548, 2549, 2550, 2552, 2553, 2554, 2556, 2559, 2561,\n",
      "       2564, 2565, 2567, 2568, 2569, 2573, 2575, 2578, 2579, 2581, 2582,\n",
      "       2587, 2588, 2589, 2599, 2602, 2603, 2605, 2608, 2611, 2612, 2613,\n",
      "       2615, 2616, 2617, 2618, 2620, 2621, 2622, 2624, 2628, 2630, 2633,\n",
      "       2634, 2636, 2637, 2638, 2639, 2640, 2641, 2645, 2646, 2650, 2652,\n",
      "       2655, 2657, 2658, 2662, 2666, 2667, 2668, 2670, 2673, 2677, 2679,\n",
      "       2680, 2681, 2683, 2684, 2685, 2686, 2687], dtype=int64),)\n"
     ]
    }
   ],
   "source": [
    "arr_test_pred = model.predict(arr_test)\n",
    "test_mae_loss = np.mean(np.abs(arr_test_pred - arr_test), axis=1)\n",
    "test_mae_loss = test_mae_loss.reshape((-1))\n",
    "                                       \n",
    "plt.hist(test_mae_loss, bins=50)\n",
    "plt.xlabel(\"test MAE loss\")\n",
    "plt.ylabel(\"No of samples\")\n",
    "plt.show()\n",
    "\n",
    "#print(data_test_with_label)\n",
    "\n",
    "# Detect all the samples which are anomalies.\n",
    "anomalies = (test_mae_loss > threshold).tolist()\n",
    "count = 0\n",
    "false_negative = 0\n",
    "false_positive = 0\n",
    "\n",
    "\n",
    "for i in anomalies:\n",
    "    if ( i == True ):\n",
    "        if ( data_test_with_label.iloc[count].result == \"normal\"):\n",
    "            false_negative = false_negative + 1\n",
    "    if (i == False):\n",
    "        if( data_test_with_label.iloc[count].result != \"normal\"):\n",
    "            false_positive = false_positive + 1\n",
    "    count = count + 1\n",
    "        \n",
    "print(\"Number di sample anomali rilevati: \", np.sum(anomalies))\n",
    "print(\"Numero di sample anomali rivelati erroneamente: \", false_negative)\n",
    "print(\"Numero di sample anomali rilevati correttamente: \", np.sum(anomalies)-false_negative)\n",
    "print(\"Numero di sample anomali non rivelati: \", false_positive)\n",
    "print(\"\")\n",
    "print(\"\")\n",
    "print(\"Indices of anomaly samples: \", np.where(anomalies))                                       "
   ]
  },
  {
   "cell_type": "code",
   "execution_count": null,
   "metadata": {},
   "outputs": [],
   "source": []
  },
  {
   "cell_type": "code",
   "execution_count": null,
   "metadata": {},
   "outputs": [],
   "source": []
  }
 ],
 "metadata": {
  "kernelspec": {
   "display_name": "Python 3",
   "language": "python",
   "name": "python3"
  },
  "language_info": {
   "codemirror_mode": {
    "name": "ipython",
    "version": 3
   },
   "file_extension": ".py",
   "mimetype": "text/x-python",
   "name": "python",
   "nbconvert_exporter": "python",
   "pygments_lexer": "ipython3",
   "version": "3.8.3"
  }
 },
 "nbformat": 4,
 "nbformat_minor": 4
}
