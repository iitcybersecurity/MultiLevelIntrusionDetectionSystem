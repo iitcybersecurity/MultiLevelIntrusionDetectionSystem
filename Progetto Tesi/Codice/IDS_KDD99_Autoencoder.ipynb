{
 "cells": [
  {
   "cell_type": "code",
   "execution_count": 117,
   "metadata": {},
   "outputs": [
    {
     "name": "stdout",
     "output_type": "stream",
     "text": [
      "Librerie importate con successo\n"
     ]
    }
   ],
   "source": [
    "import pandas as pd\n",
    "import numpy as np\n",
    "from tensorflow import keras\n",
    "from tensorflow.keras import regularizers\n",
    "from tensorflow.keras import layers\n",
    "from tensorflow.keras.utils import to_categorical\n",
    "from tensorflow.keras.models import Sequential\n",
    "from sklearn.model_selection import train_test_split as splitter\n",
    "import cProfile\n",
    "import pstats\n",
    "import os\n",
    "import sys\n",
    "from sklearn.metrics import classification_report, confusion_matrix\n",
    "from sklearn.preprocessing import LabelEncoder\n",
    "from sklearn.preprocessing import OneHotEncoder\n",
    "from sklearn.preprocessing import MinMaxScaler\n",
    "from datetime import datetime\n",
    "from matplotlib import pyplot as plt\n",
    "from matplotlib import dates as md\n",
    "\n",
    "print(\"Librerie importate con successo\")"
   ]
  },
  {
   "cell_type": "code",
   "execution_count": 118,
   "metadata": {},
   "outputs": [
    {
     "name": "stdout",
     "output_type": "stream",
     "text": [
      "Shape del dataset :  (13451, 22)\n"
     ]
    }
   ],
   "source": [
    "#Carico il dataset\n",
    "\n",
    "data = pd.read_csv('../Datasets/kdd_prediction.csv', delimiter=',',\n",
    "                       dtype={'protocol_type': str, 'service': str, 'flag': str, 'result': str})\n",
    "\n",
    "data = data.sample(frac=1, random_state=8324).reset_index(drop=True) #shuffle\n",
    "print(\"Shape del dataset : \", data.shape)"
   ]
  },
  {
   "cell_type": "code",
   "execution_count": 119,
   "metadata": {},
   "outputs": [
    {
     "name": "stdout",
     "output_type": "stream",
     "text": [
      "Total :  13451\n",
      "Normal :  7500\n",
      "Malicious :  5951\n"
     ]
    },
    {
     "data": {
      "image/png": "[encoded data removed]",
      "text/plain": [
       "<Figure size 432x288 with 1 Axes>"
      ]
     },
     "metadata": {
      "needs_background": "light"
     },
     "output_type": "display_data"
    }
   ],
   "source": [
    "#Effettuo il plot del dataset\n",
    "\n",
    "total_flows_count = data[\"result\"].count()\n",
    "normal_flows_count = len(data[data.result == \"normal\"])\n",
    "anomaly_flows_count = len(data[data.result != \"normal\"])\n",
    "\n",
    "print(\"Total : \",total_flows_count)\n",
    "print(\"Normal : \",normal_flows_count)\n",
    "print(\"Malicious : \",anomaly_flows_count)\n",
    "\n",
    "# x-coordinates of left sides of bars  \n",
    "left = [1, 1.5] \n",
    "  \n",
    "# heights of bars \n",
    "height = [normal_flows_count, anomaly_flows_count] \n",
    "  \n",
    "# labels for bars \n",
    "tick_label = ['Normal', 'Malicious'] \n",
    "  \n",
    "# bar chart\n",
    "plt.bar(left, height, tick_label = tick_label, \n",
    "        width = 0.4, color = ['green', 'red']) \n",
    "  \n",
    "# Rinominazione asse x \n",
    "plt.xlabel('Tipologia di record') \n",
    "# Rinominazione asse y \n",
    "plt.ylabel('Numero di record') \n",
    "# Titolo\n",
    "plt.title('Numero di samples del dataset') \n",
    "  \n",
    "plt.show() "
   ]
  },
  {
   "cell_type": "code",
   "execution_count": 120,
   "metadata": {},
   "outputs": [],
   "source": [
    "#Funzioni utili preprocessing\n",
    "\n",
    "#ottiene una service_list dal file service.txt prelevando ogni riga e inserendola in una lista\n",
    "def get_service_list(dirname='list', filename='service_mio.txt'):\n",
    "    print('Getting service list...')\n",
    "    with open(os.path.join(dirname, filename), 'r') as service:\n",
    "        service_list = service.read().split('\\n')\n",
    "    return service_list\n",
    "\n",
    "#ottiene una flag_list dal file flag.txt prelevando ogni riga e inserendola in una lista\n",
    "def get_flag_list(dirname='list', filename='flag_mio.txt'):\n",
    "    print('Getting flag list...')\n",
    "    with open(os.path.join(dirname, filename), 'r') as flag:\n",
    "        flag_list = flag.read().split('\\n')\n",
    "    return flag_list"
   ]
  },
  {
   "cell_type": "code",
   "execution_count": 121,
   "metadata": {},
   "outputs": [
    {
     "name": "stdout",
     "output_type": "stream",
     "text": [
      "Getting service list...\n",
      "Getting flag list...\n",
      "Replacing protocol_type values to numeric...\n",
      "Replacing service values to numeric...\n",
      "Replacing flag values to numeric...\n"
     ]
    }
   ],
   "source": [
    "service_list = get_service_list(dirname='list', filename='service_mio.txt')\n",
    "flag_list = get_flag_list(dirname='list', filename='flag_mio.txt')\n",
    "\n",
    "print('Replacing protocol_type values to numeric...')\n",
    "data.protocol_type.replace(['tcp', 'udp', 'icmp'], range(3), inplace=True)\n",
    "\n",
    "print('Replacing service values to numeric...')\n",
    "data.service.replace(service_list, range(len(service_list)), inplace=True)\n",
    "\n",
    "print('Replacing flag values to numeric...')\n",
    "data.flag.replace(flag_list, range(len(flag_list)), inplace=True)"
   ]
  },
  {
   "cell_type": "code",
   "execution_count": 122,
   "metadata": {},
   "outputs": [
    {
     "name": "stdout",
     "output_type": "stream",
     "text": [
      "Converting count data (index 22, 31, 32) to machine readable...\n",
      "Converting type data (index 1, 2, 3) to machine readable...\n",
      "Dropping and attaching one-hot encoding data...\n",
      "Final shape of data: (13451, 95)\n"
     ]
    }
   ],
   "source": [
    "sc = MinMaxScaler()\n",
    "enc = OneHotEncoder(categories=[range(3), range(len(service_list)), range(len(flag_list))])\n",
    "num_desc = data.loc[:, ['duration', 'src_bytes', 'dst_bytes']].describe()\n",
    "\n",
    "label, df_label = [], []\n",
    "    \n",
    "label = data['result'].copy().values.reshape((data.shape[0], 1))\n",
    "df_label = pd.DataFrame(label)\n",
    "data.drop(['result'], axis=1, inplace=True)   \n",
    "\n",
    "attr_name = ['duration', '', '', '', 'src_bytes', 'dst_bytes']\n",
    "\n",
    "for i in ['duration', 'src_bytes', 'dst_bytes']:\n",
    "    iqr = (num_desc[i].values[6] - num_desc[i].values[4])\n",
    "    std = num_desc[i].values[6] + iqr * 1.5  # IQR upper fence = Q3 + 1.5 * IQR\n",
    "    if std == 0:\n",
    "        data[i] = data[i].map(lambda x: 1 if x > 0 else 0)\n",
    "    else:\n",
    "        data[i] = data[i].map(lambda x: std if x > std else x)\n",
    "sc.fit(data[['duration', 'src_bytes', 'dst_bytes']].values)\n",
    "data[['duration', 'src_bytes', 'dst_bytes']] = sc.transform(data[['duration', 'src_bytes', 'dst_bytes']].values)\n",
    "\n",
    "print('Converting count data (index 22, 31, 32) to machine readable...')\n",
    "sc.fit(data[['count']].values.astype(np.float32))\n",
    "data[['count']] = sc.transform(data[['count']].values.astype(np.float32))\n",
    "\n",
    "print('Converting type data (index 1, 2, 3) to machine readable...')\n",
    "enc.fit(data[['protocol_type','service','flag']].values)\n",
    "one_hot_arr = enc.transform(data[['protocol_type','service','flag']].values).toarray()\n",
    "\n",
    "print('Dropping and attaching one-hot encoding data...')\n",
    "data.drop(['protocol_type','service','flag'], axis=1, inplace=True)\n",
    "data_final = np.concatenate((data.values, one_hot_arr, df_label), axis=1)\n",
    "data_final = pd.DataFrame(data_final)\n",
    "\n",
    "print('Final shape of data:', data_final.shape)"
   ]
  },
  {
   "cell_type": "code",
   "execution_count": 123,
   "metadata": {},
   "outputs": [
    {
     "name": "stdout",
     "output_type": "stream",
     "text": [
      "Shape dataframe per il train :  (4500, 94)\n",
      "Shape dataframe per la validation :  (1500, 94)\n"
     ]
    }
   ],
   "source": [
    "\n",
    "normal_data = data_final[data_final[94] == \"normal\"] #prendo solo i valori \"normali\" \n",
    "\n",
    "#voglio che sia il train che la validation siano effettuati su record normali ma che siano tra loro differenti\n",
    "\n",
    "data_train, data_val, data_test = np.split(normal_data, [int(.6*len(normal_data)), int(.8*len(normal_data))])\n",
    "        \n",
    "x_train = data_train.drop([94],axis=1) #rimuove la colonna result dal dataframe\n",
    "x_val = data_val.drop([94], axis=1) #rimuove il label\n",
    "\n",
    "print(\"Shape dataframe per il train : \", x_train.shape)\n",
    "print(\"Shape dataframe per la validation : \", x_val.shape)"
   ]
  },
  {
   "cell_type": "code",
   "execution_count": 124,
   "metadata": {},
   "outputs": [
    {
     "name": "stdout",
     "output_type": "stream",
     "text": [
      "Shape numpy array per il train :  (4500, 94, 1)\n",
      "Shape numpy array per la validation :  (1500, 94, 1)\n"
     ]
    }
   ],
   "source": [
    "x_train_arr = np.asarray(x_train).astype(np.float32)\n",
    "x_train_arr = x_train_arr.reshape(x_train_arr.shape[0],x_train_arr.shape[1],1) #converte la shape da 2d a 3d per layer LSTM\n",
    "\n",
    "x_val_arr = np.asarray(x_val).astype(np.float32)\n",
    "x_val_arr = x_val_arr.reshape(x_val_arr.shape[0],x_val_arr.shape[1],1) #converte la shape da 2d a 3d per layer LSTM\n",
    "\n",
    "\n",
    "print(\"Shape numpy array per il train : \", x_train_arr.shape)\n",
    "print(\"Shape numpy array per la validation : \", x_val_arr.shape)"
   ]
  },
  {
   "cell_type": "code",
   "execution_count": 125,
   "metadata": {
    "scrolled": true
   },
   "outputs": [
    {
     "name": "stdout",
     "output_type": "stream",
     "text": [
      "Model: \"sequential_10\"\n",
      "_________________________________________________________________\n",
      "Layer (type)                 Output Shape              Param #   \n",
      "=================================================================\n",
      "lstm_12 (LSTM)               (None, 94, 8)             320       \n",
      "_________________________________________________________________\n",
      "dense_85 (Dense)             (None, 94, 512)           4608      \n",
      "_________________________________________________________________\n",
      "dropout_70 (Dropout)         (None, 94, 512)           0         \n",
      "_________________________________________________________________\n",
      "leaky_re_lu_70 (LeakyReLU)   (None, 94, 512)           0         \n",
      "_________________________________________________________________\n",
      "dense_86 (Dense)             (None, 94, 256)           131328    \n",
      "_________________________________________________________________\n",
      "dropout_71 (Dropout)         (None, 94, 256)           0         \n",
      "_________________________________________________________________\n",
      "leaky_re_lu_71 (LeakyReLU)   (None, 94, 256)           0         \n",
      "_________________________________________________________________\n",
      "dense_87 (Dense)             (None, 94, 128)           32896     \n",
      "_________________________________________________________________\n",
      "dropout_72 (Dropout)         (None, 94, 128)           0         \n",
      "_________________________________________________________________\n",
      "leaky_re_lu_72 (LeakyReLU)   (None, 94, 128)           0         \n",
      "_________________________________________________________________\n",
      "dense_88 (Dense)             (None, 94, 64)            8256      \n",
      "_________________________________________________________________\n",
      "dropout_73 (Dropout)         (None, 94, 64)            0         \n",
      "_________________________________________________________________\n",
      "leaky_re_lu_73 (LeakyReLU)   (None, 94, 64)            0         \n",
      "_________________________________________________________________\n",
      "dense_89 (Dense)             (None, 94, 128)           8320      \n",
      "_________________________________________________________________\n",
      "dropout_74 (Dropout)         (None, 94, 128)           0         \n",
      "_________________________________________________________________\n",
      "leaky_re_lu_74 (LeakyReLU)   (None, 94, 128)           0         \n",
      "_________________________________________________________________\n",
      "dense_90 (Dense)             (None, 94, 256)           33024     \n",
      "_________________________________________________________________\n",
      "dropout_75 (Dropout)         (None, 94, 256)           0         \n",
      "_________________________________________________________________\n",
      "leaky_re_lu_75 (LeakyReLU)   (None, 94, 256)           0         \n",
      "_________________________________________________________________\n",
      "dense_91 (Dense)             (None, 94, 512)           131584    \n",
      "_________________________________________________________________\n",
      "dropout_76 (Dropout)         (None, 94, 512)           0         \n",
      "_________________________________________________________________\n",
      "leaky_re_lu_76 (LeakyReLU)   (None, 94, 512)           0         \n",
      "_________________________________________________________________\n",
      "dense_92 (Dense)             (None, 94, 94)            48222     \n",
      "_________________________________________________________________\n",
      "lstm_13 (LSTM)               (None, 94, 8)             3296      \n",
      "_________________________________________________________________\n",
      "time_distributed_6 (TimeDist (None, 94, 1)             9         \n",
      "=================================================================\n",
      "Total params: 401,863\n",
      "Trainable params: 401,863\n",
      "Non-trainable params: 0\n",
      "_________________________________________________________________\n"
     ]
    }
   ],
   "source": [
    "model = keras.Sequential(\n",
    "    [\n",
    "       layers.Input(shape=(x_train_arr.shape[1],x_train_arr.shape[2])),\n",
    "       layers.LSTM(8, activation='relu', return_sequences=True),\n",
    "       layers.Dense(512),\n",
    "       layers.Dropout(0.5),\n",
    "       layers.LeakyReLU(0.01),\n",
    "       layers.Dense(256),\n",
    "       layers.Dropout(0.5),\n",
    "       layers.LeakyReLU(0.01),\n",
    "       layers.Dense(128),\n",
    "       layers.Dropout(0.5),\n",
    "       layers.LeakyReLU(0.01),\n",
    "        \n",
    "       layers.Dense(64),\n",
    "       layers.Dropout(0.5),\n",
    "       layers.LeakyReLU(0.01),\n",
    "        \n",
    "       layers.Dense(128),\n",
    "       layers.Dropout(0.5),\n",
    "       layers.LeakyReLU(0.01),\n",
    "       layers.Dense(256),\n",
    "       layers.Dropout(0.5),\n",
    "       layers.LeakyReLU(0.01),\n",
    "       layers.Dense(512),\n",
    "       layers.Dropout(0.5),\n",
    "       layers.LeakyReLU(0.01),\n",
    "       layers.Dense(x_train_arr.shape[1], activation='sigmoid'),\n",
    "       layers.LSTM(8, activation='relu', return_sequences=True),\n",
    "       layers.TimeDistributed(layers.Dense(1)),\n",
    "    ]\n",
    ")\n",
    "\n",
    "optimizer = keras.optimizers.Adam(lr=0.001)\n",
    "model.compile( optimizer=optimizer, loss='mse')\n",
    "model.summary()"
   ]
  },
  {
   "cell_type": "code",
   "execution_count": 126,
   "metadata": {
    "scrolled": false
   },
   "outputs": [
    {
     "name": "stdout",
     "output_type": "stream",
     "text": [
      "Epoch 1/100\n",
      "900/900 [==============================] - 31s 34ms/step - loss: 0.0964 - val_loss: 0.1427\n",
      "Epoch 2/100\n",
      "900/900 [==============================] - 34s 38ms/step - loss: 0.0896 - val_loss: 0.1420\n",
      "Epoch 3/100\n",
      "900/900 [==============================] - 34s 38ms/step - loss: 0.0865 - val_loss: 0.1260\n",
      "Epoch 4/100\n",
      "900/900 [==============================] - 34s 38ms/step - loss: 0.0697 - val_loss: 0.1219\n",
      "Epoch 5/100\n",
      "900/900 [==============================] - 34s 38ms/step - loss: 0.0655 - val_loss: 0.1144\n",
      "Epoch 6/100\n",
      "900/900 [==============================] - 34s 38ms/step - loss: 0.0660 - val_loss: 0.0955\n",
      "Epoch 7/100\n",
      "900/900 [==============================] - 34s 38ms/step - loss: 0.0571 - val_loss: 0.0999\n",
      "Epoch 8/100\n",
      "900/900 [==============================] - 35s 38ms/step - loss: 0.0548 - val_loss: 0.0937\n",
      "Epoch 9/100\n",
      "900/900 [==============================] - 34s 38ms/step - loss: 0.0587 - val_loss: 0.0891\n",
      "Epoch 10/100\n",
      "900/900 [==============================] - 34s 38ms/step - loss: 0.0570 - val_loss: 0.0980\n",
      "Epoch 11/100\n",
      "900/900 [==============================] - 34s 38ms/step - loss: 0.0650 - val_loss: 0.1137\n",
      "Epoch 12/100\n",
      "900/900 [==============================] - 34s 38ms/step - loss: 0.0640 - val_loss: 0.0938\n",
      "Epoch 13/100\n",
      "900/900 [==============================] - 34s 38ms/step - loss: 0.0571 - val_loss: 0.0920\n",
      "Epoch 14/100\n",
      "900/900 [==============================] - 35s 39ms/step - loss: 0.0544 - val_loss: 0.0944\n",
      "Epoch 15/100\n",
      "900/900 [==============================] - 34s 38ms/step - loss: 0.0589 - val_loss: 0.0945\n",
      "Epoch 16/100\n",
      "900/900 [==============================] - 34s 38ms/step - loss: 0.0582 - val_loss: 0.0878\n",
      "Epoch 17/100\n",
      "900/900 [==============================] - 35s 39ms/step - loss: 0.0545 - val_loss: 0.0955\n",
      "Epoch 18/100\n",
      "900/900 [==============================] - 35s 38ms/step - loss: 0.0530 - val_loss: 0.0874\n",
      "Epoch 19/100\n",
      "900/900 [==============================] - 35s 38ms/step - loss: 0.0508 - val_loss: 0.0917\n",
      "Epoch 20/100\n",
      "900/900 [==============================] - 34s 38ms/step - loss: 0.0530 - val_loss: 0.0902\n",
      "Epoch 21/100\n",
      "900/900 [==============================] - 34s 38ms/step - loss: 0.0544 - val_loss: 0.1055\n",
      "Epoch 22/100\n",
      "900/900 [==============================] - 35s 39ms/step - loss: 0.0501 - val_loss: 0.1027\n",
      "Epoch 23/100\n",
      "900/900 [==============================] - 34s 38ms/step - loss: 0.0576 - val_loss: 0.1060\n",
      "Epoch 24/100\n",
      "900/900 [==============================] - 34s 38ms/step - loss: 0.0581 - val_loss: 0.1075\n",
      "Epoch 25/100\n",
      "900/900 [==============================] - 34s 38ms/step - loss: 0.0552 - val_loss: 0.1058\n",
      "Epoch 26/100\n",
      "900/900 [==============================] - 34s 38ms/step - loss: 0.0564 - val_loss: 0.1007\n",
      "Epoch 27/100\n",
      "900/900 [==============================] - 34s 38ms/step - loss: 0.0649 - val_loss: 0.1050\n",
      "Epoch 28/100\n",
      "900/900 [==============================] - 34s 38ms/step - loss: 0.0625 - val_loss: 0.1122\n",
      "Epoch 29/100\n",
      "900/900 [==============================] - 34s 38ms/step - loss: 0.0557 - val_loss: 0.0896\n",
      "Epoch 30/100\n",
      "900/900 [==============================] - 34s 38ms/step - loss: 0.0528 - val_loss: 0.0955\n",
      "Epoch 31/100\n",
      "900/900 [==============================] - 34s 38ms/step - loss: 0.0554 - val_loss: 0.0945\n",
      "Epoch 32/100\n",
      "900/900 [==============================] - 34s 38ms/step - loss: 0.0623 - val_loss: 0.0922\n",
      "Epoch 33/100\n",
      "900/900 [==============================] - 34s 38ms/step - loss: 0.0625 - val_loss: 0.0941\n",
      "Epoch 34/100\n",
      "900/900 [==============================] - 34s 38ms/step - loss: 0.0566 - val_loss: 0.1006\n",
      "Epoch 35/100\n",
      "900/900 [==============================] - 35s 39ms/step - loss: 0.0648 - val_loss: 0.1042\n",
      "Epoch 36/100\n",
      "900/900 [==============================] - 35s 38ms/step - loss: 0.0583 - val_loss: 0.1020\n",
      "Epoch 37/100\n",
      "900/900 [==============================] - 34s 38ms/step - loss: 0.0557 - val_loss: 0.1087\n",
      "Epoch 38/100\n",
      "900/900 [==============================] - 34s 38ms/step - loss: 0.0689 - val_loss: 0.1431\n"
     ]
    }
   ],
   "source": [
    "history = model.fit(\n",
    "    x_train_arr,\n",
    "    x_train_arr,\n",
    "    epochs=100,\n",
    "    batch_size=5,\n",
    "    validation_data=(x_val_arr, x_val_arr),\n",
    "    callbacks=[\n",
    "        keras.callbacks.EarlyStopping(monitor=\"val_loss\", patience=20, mode=\"min\")\n",
    "    ],\n",
    ")"
   ]
  },
  {
   "cell_type": "code",
   "execution_count": 127,
   "metadata": {},
   "outputs": [
    {
     "data": {
      "text/plain": [
       "<matplotlib.legend.Legend at 0x1b280eda730>"
      ]
     },
     "execution_count": 127,
     "metadata": {},
     "output_type": "execute_result"
    },
    {
     "data": {
      "image/png": "[encoded data removed]",
      "text/plain": [
       "<Figure size 432x288 with 1 Axes>"
      ]
     },
     "metadata": {
      "needs_background": "light"
     },
     "output_type": "display_data"
    }
   ],
   "source": [
    "plt.plot(history.history[\"loss\"], label=\"Training Loss\")\n",
    "plt.plot(history.history[\"val_loss\"], label=\"Validation Loss\")\n",
    "plt.legend()"
   ]
  },
  {
   "cell_type": "code",
   "execution_count": 128,
   "metadata": {},
   "outputs": [
    {
     "data": {
      "image/png": "[encoded data removed]",
      "text/plain": [
       "<Figure size 432x288 with 1 Axes>"
      ]
     },
     "metadata": {
      "needs_background": "light"
     },
     "output_type": "display_data"
    },
    {
     "name": "stdout",
     "output_type": "stream",
     "text": [
      "Reconstruction error threshold:  0.015996054\n"
     ]
    }
   ],
   "source": [
    "x_train_pred = model.predict(x_train_arr)\n",
    "train_mae_loss = np.mean(np.abs(x_train_pred - x_train_arr), axis=1)\n",
    "train_mae_loss = train_mae_loss.ravel() #converte l'array numpy in 1d\n",
    "train_mae_loss = np.sort(train_mae_loss) #quicksort\n",
    "\n",
    "\n",
    "train_mae_loss_len = len(train_mae_loss)\n",
    "n_index = int(0.75*train_mae_loss_len)\n",
    "plt.hist(train_mae_loss, bins=100)\n",
    "plt.xlabel(\"Train MAE loss\")\n",
    "plt.ylabel(\"No of samples\")\n",
    "plt.show()\n",
    "\n",
    "# Get reconstruction loss threshold.\n",
    "train_mae_loss_split = train_mae_loss[:n_index]\n",
    "threshold = np.max(train_mae_loss_split)\n",
    "print(\"Reconstruction error threshold: \", threshold)"
   ]
  },
  {
   "cell_type": "code",
   "execution_count": 129,
   "metadata": {},
   "outputs": [
    {
     "name": "stdout",
     "output_type": "stream",
     "text": [
      "Shape del dataset per il test:  (2690, 95)\n"
     ]
    }
   ],
   "source": [
    "#data_test\n",
    "#il dataset per il test sarà formato dai 1500 sample normali prelevati precedentemente a cui aggiungerò dei sample anomali\n",
    "#in particolare prelevo il 20% dei sample anomali e li concateno ai 1500 normali precedentemente ottenuti\n",
    "\n",
    "anomaly_data = data_final[data_final[94] != \"normal\"] #prendo solo i valori \"anomali\"\n",
    "\n",
    "percentage = 20\n",
    "anomaly_test_data = anomaly_data.head(int(len(anomaly_data)*(percentage/100)))\n",
    "\n",
    "frames = [data_test, anomaly_test_data]\n",
    "final_test_data = pd.concat(frames)\n",
    "\n",
    "print(\"Shape del dataset per il test: \", final_test_data.shape)"
   ]
  },
  {
   "cell_type": "code",
   "execution_count": 130,
   "metadata": {},
   "outputs": [
    {
     "name": "stdout",
     "output_type": "stream",
     "text": [
      "Total :  2690\n",
      "Normal :  1500\n",
      "Malicious :  1190\n"
     ]
    },
    {
     "data": {
      "image/png": "[encoded data removed]",
      "text/plain": [
       "<Figure size 432x288 with 1 Axes>"
      ]
     },
     "metadata": {
      "needs_background": "light"
     },
     "output_type": "display_data"
    },
    {
     "name": "stdout",
     "output_type": "stream",
     "text": [
      "x_test shape : (2690, 94)\n"
     ]
    }
   ],
   "source": [
    "total_flows_count_test = final_test_data[94].count()\n",
    "normal_flows_count_test = len(final_test_data[final_test_data[94] == \"normal\"])\n",
    "anomaly_flows_count_test = len(final_test_data[final_test_data[94] != \"normal\"])\n",
    "\n",
    "print(\"Total : \",total_flows_count_test)\n",
    "print(\"Normal : \",normal_flows_count_test)\n",
    "print(\"Malicious : \",anomaly_flows_count_test)\n",
    "\n",
    "# x-coordinates of left sides of bars  \n",
    "left = [1, 1.5] \n",
    "  \n",
    "# heights of bars \n",
    "height = [normal_flows_count_test, anomaly_flows_count_test] \n",
    "  \n",
    "# labels for bars \n",
    "tick_label = ['Normal', 'Malicious'] \n",
    "  \n",
    "# bar chart\n",
    "plt.bar(left, height, tick_label = tick_label, \n",
    "        width = 0.4, color = ['blue', 'orange']) \n",
    "  \n",
    "# Rinominazione asse x \n",
    "plt.xlabel('Tipologia di record') \n",
    "# Rinominazione asse y \n",
    "plt.ylabel('Numero di record') \n",
    "# Titolo\n",
    "plt.title('Numero di samples del dataset per il test') \n",
    "  \n",
    "plt.show() \n",
    "\n",
    "data_test_with_label = final_test_data.copy()\n",
    "x_test = final_test_data.drop([94],axis=1) #rimuove la colonna dei result dal dataframe\n",
    "\n",
    "print(\"x_test shape :\", x_test.shape)"
   ]
  },
  {
   "cell_type": "code",
   "execution_count": 133,
   "metadata": {},
   "outputs": [
    {
     "name": "stdout",
     "output_type": "stream",
     "text": [
      "Shape numpy array per il test :  (2690, 94, 1)\n"
     ]
    }
   ],
   "source": [
    "x_test_arr = np.asarray(x_test).astype(np.float32)\n",
    "x_test_arr = x_test_arr.reshape(x_test_arr.shape[0],x_test_arr.shape[1],1) #converte la shape da 2d a 3d per layer LSTM\n",
    "\n",
    "print(\"Shape numpy array per il test : \", x_test_arr.shape)"
   ]
  },
  {
   "cell_type": "code",
   "execution_count": 134,
   "metadata": {},
   "outputs": [
    {
     "data": {
      "image/png": "[encoded data removed]",
      "text/plain": [
       "<Figure size 432x288 with 1 Axes>"
      ]
     },
     "metadata": {
      "needs_background": "light"
     },
     "output_type": "display_data"
    },
    {
     "name": "stdout",
     "output_type": "stream",
     "text": [
      "Number di sample anomali rilevati:  1567\n",
      "Numero di sample anomali rivelati erroneamente:  0\n",
      "Numero di sample anomali rilevati correttamente:  1567\n",
      "Numero di sample anomali non rivelati:  0\n",
      "\n",
      "\n",
      "Indices of anomaly samples:  (array([   2,   11,   12, ..., 2687, 2688, 2689], dtype=int64), array([0, 0, 0, ..., 0, 0, 0], dtype=int64))\n"
     ]
    }
   ],
   "source": [
    "arr_test_pred = model.predict(x_test_arr)\n",
    "test_mae_loss = np.mean(np.abs(arr_test_pred - x_test_arr), axis=1)\n",
    "                                       \n",
    "plt.hist(test_mae_loss, bins=50)\n",
    "plt.xlabel(\"test MAE loss\")\n",
    "plt.ylabel(\"No of samples\")\n",
    "plt.show()\n",
    "\n",
    "\n",
    "# Detect all the samples which are anomalies.\n",
    "anomalies = (test_mae_loss > threshold).tolist()\n",
    "count = 0\n",
    "false_negative = 0\n",
    "false_positive = 0\n",
    "\n",
    "\n",
    "for i in anomalies:\n",
    "    if ( i == True ):\n",
    "        if ( data_test_with_label.iloc[count][94] == \"normal\"):\n",
    "            false_negative = false_negative + 1\n",
    "    if (i == False):\n",
    "        if( data_test_with_label.iloc[count][94] != \"normal\"):\n",
    "            false_positive = false_positive + 1\n",
    "    count = count + 1\n",
    "        \n",
    "print(\"Number di sample anomali rilevati: \", np.sum(anomalies))\n",
    "print(\"Numero di sample anomali rivelati erroneamente: \", false_negative)\n",
    "print(\"Numero di sample anomali rilevati correttamente: \", np.sum(anomalies)-false_negative)\n",
    "print(\"Numero di sample anomali non rivelati: \", false_positive)\n",
    "print(\"\")\n",
    "print(\"\")\n",
    "print(\"Indices of anomaly samples: \", np.where(anomalies))                                       "
   ]
  },
  {
   "cell_type": "code",
   "execution_count": null,
   "metadata": {},
   "outputs": [],
   "source": []
  },
  {
   "cell_type": "code",
   "execution_count": null,
   "metadata": {},
   "outputs": [],
   "source": []
  },
  {
   "cell_type": "code",
   "execution_count": null,
   "metadata": {},
   "outputs": [],
   "source": []
  }
 ],
 "metadata": {
  "celltoolbar": "Raw Cell Format",
  "kernelspec": {
   "display_name": "Python 3",
   "language": "python",
   "name": "python3"
  },
  "language_info": {
   "codemirror_mode": {
    "name": "ipython",
    "version": 3
   },
   "file_extension": ".py",
   "mimetype": "text/x-python",
   "name": "python",
   "nbconvert_exporter": "python",
   "pygments_lexer": "ipython3",
   "version": "3.8.3"
  }
 },
 "nbformat": 4,
 "nbformat_minor": 4
}
