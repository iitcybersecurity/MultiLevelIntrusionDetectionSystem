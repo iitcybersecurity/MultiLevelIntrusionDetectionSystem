{
 "cells": [
  {
   "cell_type": "code",
   "execution_count": 62,
   "metadata": {},
   "outputs": [
    {
     "name": "stdout",
     "output_type": "stream",
     "text": [
      "Librerie importate con successo\n"
     ]
    }
   ],
   "source": [
    "import pandas as pd\n",
    "import numpy as np\n",
    "from tensorflow import keras\n",
    "from tensorflow.keras import regularizers\n",
    "from tensorflow.keras import layers\n",
    "from tensorflow.keras.utils import to_categorical\n",
    "from tensorflow.keras.models import Sequential\n",
    "from sklearn.model_selection import train_test_split as splitter\n",
    "import cProfile\n",
    "import pstats\n",
    "import os\n",
    "import sys\n",
    "from sklearn.metrics import classification_report, confusion_matrix\n",
    "from sklearn.preprocessing import LabelEncoder\n",
    "from sklearn.preprocessing import OneHotEncoder\n",
    "from sklearn.preprocessing import MinMaxScaler\n",
    "from datetime import datetime\n",
    "from matplotlib import pyplot as plt\n",
    "from matplotlib import dates as md\n",
    "\n",
    "print(\"Librerie importate con successo\")"
   ]
  },
  {
   "cell_type": "code",
   "execution_count": 63,
   "metadata": {},
   "outputs": [
    {
     "name": "stdout",
     "output_type": "stream",
     "text": [
      "Shape del dataset :  (13451, 22)\n"
     ]
    }
   ],
   "source": [
    "#Carico il dataset\n",
    "\n",
    "data = pd.read_csv('../Datasets/kdd_prediction.csv', delimiter=',',\n",
    "                       dtype={'protocol_type': str, 'service': str, 'flag': str, 'result': str})\n",
    "\n",
    "#data = data.sample(frac=1, random_state=3928).reset_index(drop=True) #shuffle\n",
    "data = data.sample(frac=1, random_state=234).reset_index(drop=True) #shuffle\n",
    "\n",
    "print(\"Shape del dataset : \", data.shape)"
   ]
  },
  {
   "cell_type": "code",
   "execution_count": 64,
   "metadata": {},
   "outputs": [
    {
     "name": "stdout",
     "output_type": "stream",
     "text": [
      "Total :  13451\n",
      "Normal :  7500\n",
      "Malicious :  5951\n"
     ]
    },
    {
     "data": {
      "image/png": "[encoded data removed]",
      "text/plain": [
       "<Figure size 432x288 with 1 Axes>"
      ]
     },
     "metadata": {
      "needs_background": "light"
     },
     "output_type": "display_data"
    }
   ],
   "source": [
    "#Effettuo il plot del dataset\n",
    "\n",
    "total_flows_count = data[\"result\"].count()\n",
    "normal_flows_count = len(data[data.result == \"normal\"])\n",
    "anomaly_flows_count = len(data[data.result != \"normal\"])\n",
    "\n",
    "print(\"Total : \",total_flows_count)\n",
    "print(\"Normal : \",normal_flows_count)\n",
    "print(\"Malicious : \",anomaly_flows_count)\n",
    "\n",
    "# x-coordinates of left sides of bars  \n",
    "left = [1, 1.5] \n",
    "  \n",
    "# heights of bars \n",
    "height = [normal_flows_count, anomaly_flows_count] \n",
    "  \n",
    "# labels for bars \n",
    "tick_label = ['Normal', 'Malicious'] \n",
    "  \n",
    "# bar chart\n",
    "plt.bar(left, height, tick_label = tick_label, \n",
    "        width = 0.4, color = ['green', 'red']) \n",
    "  \n",
    "# Rinominazione asse x \n",
    "plt.xlabel('Tipologia di record') \n",
    "# Rinominazione asse y \n",
    "plt.ylabel('Numero di record') \n",
    "# Titolo\n",
    "plt.title('Numero di samples del dataset') \n",
    "  \n",
    "plt.show() "
   ]
  },
  {
   "cell_type": "code",
   "execution_count": 65,
   "metadata": {},
   "outputs": [],
   "source": [
    "#Funzioni utili preprocessing\n",
    "\n",
    "#ottiene una service_list dal file service.txt prelevando ogni riga e inserendola in una lista\n",
    "def get_service_list(dirname='list', filename='service_mio.txt'):\n",
    "    print('Getting service list...')\n",
    "    with open(os.path.join(dirname, filename), 'r') as service:\n",
    "        service_list = service.read().split('\\n')\n",
    "    return service_list\n",
    "\n",
    "#ottiene una flag_list dal file flag.txt prelevando ogni riga e inserendola in una lista\n",
    "def get_flag_list(dirname='list', filename='flag_mio.txt'):\n",
    "    print('Getting flag list...')\n",
    "    with open(os.path.join(dirname, filename), 'r') as flag:\n",
    "        flag_list = flag.read().split('\\n')\n",
    "    return flag_list"
   ]
  },
  {
   "cell_type": "code",
   "execution_count": 66,
   "metadata": {},
   "outputs": [
    {
     "name": "stdout",
     "output_type": "stream",
     "text": [
      "Getting service list...\n",
      "Getting flag list...\n",
      "Replacing protocol_type values to numeric...\n",
      "Replacing service values to numeric...\n",
      "Replacing flag values to numeric...\n"
     ]
    }
   ],
   "source": [
    "service_list = get_service_list(dirname='list', filename='service_mio.txt')\n",
    "flag_list = get_flag_list(dirname='list', filename='flag_mio.txt')\n",
    "\n",
    "print('Replacing protocol_type values to numeric...')\n",
    "data.protocol_type.replace(['tcp', 'udp', 'icmp'], range(3), inplace=True)\n",
    "\n",
    "print('Replacing service values to numeric...')\n",
    "data.service.replace(service_list, range(len(service_list)), inplace=True)\n",
    "\n",
    "print('Replacing flag values to numeric...')\n",
    "data.flag.replace(flag_list, range(len(flag_list)), inplace=True)"
   ]
  },
  {
   "cell_type": "code",
   "execution_count": 67,
   "metadata": {},
   "outputs": [
    {
     "name": "stdout",
     "output_type": "stream",
     "text": [
      "Converting count data (index 22, 31, 32) to machine readable...\n",
      "Converting type data (index 1, 2, 3) to machine readable...\n",
      "Dropping and attaching one-hot encoding data...\n",
      "Final shape of data: (13451, 95)\n"
     ]
    }
   ],
   "source": [
    "sc = MinMaxScaler()\n",
    "enc = OneHotEncoder(categories=[range(3), range(len(service_list)), range(len(flag_list))])\n",
    "num_desc = data.loc[:, ['duration', 'src_bytes', 'dst_bytes']].describe()\n",
    "\n",
    "label, df_label = [], []\n",
    "    \n",
    "label = data['result'].copy().values.reshape((data.shape[0], 1))\n",
    "df_label = pd.DataFrame(label)\n",
    "data.drop(['result'], axis=1, inplace=True)   \n",
    "\n",
    "attr_name = ['duration', '', '', '', 'src_bytes', 'dst_bytes']\n",
    "\n",
    "for i in ['duration', 'src_bytes', 'dst_bytes']:\n",
    "    iqr = (num_desc[i].values[6] - num_desc[i].values[4])\n",
    "    std = num_desc[i].values[6] + iqr * 1.5  # IQR upper fence = Q3 + 1.5 * IQR\n",
    "    if std == 0:\n",
    "        data[i] = data[i].map(lambda x: 1 if x > 0 else 0)\n",
    "    else:\n",
    "        data[i] = data[i].map(lambda x: std if x > std else x)\n",
    "sc.fit(data[['duration', 'src_bytes', 'dst_bytes']].values)\n",
    "data[['duration', 'src_bytes', 'dst_bytes']] = sc.transform(data[['duration', 'src_bytes', 'dst_bytes']].values)\n",
    "\n",
    "print('Converting count data (index 22, 31, 32) to machine readable...')\n",
    "sc.fit(data[['count']].values.astype(np.float32))\n",
    "data[['count']] = sc.transform(data[['count']].values.astype(np.float32))\n",
    "\n",
    "print('Converting type data (index 1, 2, 3) to machine readable...')\n",
    "enc.fit(data[['protocol_type','service','flag']].values)\n",
    "one_hot_arr = enc.transform(data[['protocol_type','service','flag']].values).toarray()\n",
    "\n",
    "print('Dropping and attaching one-hot encoding data...')\n",
    "data.drop(['protocol_type','service','flag'], axis=1, inplace=True)\n",
    "data_final = np.concatenate((data.values, one_hot_arr, df_label), axis=1)\n",
    "data_final = pd.DataFrame(data_final)\n",
    "\n",
    "print('Final shape of data:', data_final.shape)"
   ]
  },
  {
   "cell_type": "code",
   "execution_count": 68,
   "metadata": {},
   "outputs": [
    {
     "name": "stdout",
     "output_type": "stream",
     "text": [
      "Shape dataframe per il train :  (4500, 94)\n",
      "Shape dataframe per la validation :  (1500, 94)\n"
     ]
    }
   ],
   "source": [
    "\n",
    "normal_data = data_final[data_final[94] == \"normal\"] #prendo solo i valori \"normali\" \n",
    "\n",
    "#voglio che sia il train che la validation siano effettuati su record normali ma che siano tra loro differenti\n",
    "\n",
    "data_train, data_val, data_test = np.split(normal_data, [int(.6*len(normal_data)), int(.8*len(normal_data))])\n",
    "        \n",
    "x_train = data_train.drop([94],axis=1) #rimuove la colonna result dal dataframe\n",
    "x_val = data_val.drop([94], axis=1) #rimuove il label\n",
    "\n",
    "print(\"Shape dataframe per il train : \", x_train.shape)\n",
    "print(\"Shape dataframe per la validation : \", x_val.shape)"
   ]
  },
  {
   "cell_type": "code",
   "execution_count": 69,
   "metadata": {},
   "outputs": [
    {
     "name": "stdout",
     "output_type": "stream",
     "text": [
      "Shape numpy array per il train :  (4500, 94, 1)\n",
      "Shape numpy array per la validation :  (1500, 94, 1)\n"
     ]
    }
   ],
   "source": [
    "x_train_arr = np.asarray(x_train).astype(np.float32)\n",
    "x_train_arr = x_train_arr.reshape(x_train_arr.shape[0],x_train_arr.shape[1],1) #converte la shape da 2d a 3d per layer LSTM\n",
    "\n",
    "x_val_arr = np.asarray(x_val).astype(np.float32)\n",
    "x_val_arr = x_val_arr.reshape(x_val_arr.shape[0],x_val_arr.shape[1],1) #converte la shape da 2d a 3d per layer LSTM\n",
    "\n",
    "\n",
    "print(\"Shape numpy array per il train : \", x_train_arr.shape)\n",
    "print(\"Shape numpy array per la validation : \", x_val_arr.shape)"
   ]
  },
  {
   "cell_type": "code",
   "execution_count": 70,
   "metadata": {
    "scrolled": true
   },
   "outputs": [
    {
     "name": "stdout",
     "output_type": "stream",
     "text": [
      "Model: \"sequential_3\"\n",
      "_________________________________________________________________\n",
      "Layer (type)                 Output Shape              Param #   \n",
      "=================================================================\n",
      "lstm_6 (LSTM)                (None, 94, 16)            1152      \n",
      "_________________________________________________________________\n",
      "dense_27 (Dense)             (None, 94, 512)           8704      \n",
      "_________________________________________________________________\n",
      "dropout_21 (Dropout)         (None, 94, 512)           0         \n",
      "_________________________________________________________________\n",
      "leaky_re_lu_21 (LeakyReLU)   (None, 94, 512)           0         \n",
      "_________________________________________________________________\n",
      "dense_28 (Dense)             (None, 94, 256)           131328    \n",
      "_________________________________________________________________\n",
      "dropout_22 (Dropout)         (None, 94, 256)           0         \n",
      "_________________________________________________________________\n",
      "leaky_re_lu_22 (LeakyReLU)   (None, 94, 256)           0         \n",
      "_________________________________________________________________\n",
      "dense_29 (Dense)             (None, 94, 128)           32896     \n",
      "_________________________________________________________________\n",
      "dropout_23 (Dropout)         (None, 94, 128)           0         \n",
      "_________________________________________________________________\n",
      "leaky_re_lu_23 (LeakyReLU)   (None, 94, 128)           0         \n",
      "_________________________________________________________________\n",
      "dense_30 (Dense)             (None, 94, 64)            8256      \n",
      "_________________________________________________________________\n",
      "dropout_24 (Dropout)         (None, 94, 64)            0         \n",
      "_________________________________________________________________\n",
      "leaky_re_lu_24 (LeakyReLU)   (None, 94, 64)            0         \n",
      "_________________________________________________________________\n",
      "dense_31 (Dense)             (None, 94, 128)           8320      \n",
      "_________________________________________________________________\n",
      "dropout_25 (Dropout)         (None, 94, 128)           0         \n",
      "_________________________________________________________________\n",
      "leaky_re_lu_25 (LeakyReLU)   (None, 94, 128)           0         \n",
      "_________________________________________________________________\n",
      "dense_32 (Dense)             (None, 94, 256)           33024     \n",
      "_________________________________________________________________\n",
      "dropout_26 (Dropout)         (None, 94, 256)           0         \n",
      "_________________________________________________________________\n",
      "leaky_re_lu_26 (LeakyReLU)   (None, 94, 256)           0         \n",
      "_________________________________________________________________\n",
      "dense_33 (Dense)             (None, 94, 512)           131584    \n",
      "_________________________________________________________________\n",
      "dropout_27 (Dropout)         (None, 94, 512)           0         \n",
      "_________________________________________________________________\n",
      "leaky_re_lu_27 (LeakyReLU)   (None, 94, 512)           0         \n",
      "_________________________________________________________________\n",
      "dense_34 (Dense)             (None, 94, 94)            48222     \n",
      "_________________________________________________________________\n",
      "lstm_7 (LSTM)                (None, 94, 16)            7104      \n",
      "_________________________________________________________________\n",
      "time_distributed_3 (TimeDist (None, 94, 1)             17        \n",
      "=================================================================\n",
      "Total params: 410,607\n",
      "Trainable params: 410,607\n",
      "Non-trainable params: 0\n",
      "_________________________________________________________________\n"
     ]
    }
   ],
   "source": [
    "model = keras.Sequential(\n",
    "    [\n",
    "       layers.Input(shape=(x_train_arr.shape[1],x_train_arr.shape[2])),\n",
    "       layers.LSTM(16, activation='relu', return_sequences=True),\n",
    "       layers.Dense(512),\n",
    "       layers.Dropout(0.5),\n",
    "       layers.LeakyReLU(0.01),\n",
    "       layers.Dense(256),\n",
    "       layers.Dropout(0.5),\n",
    "       layers.LeakyReLU(0.01),\n",
    "       layers.Dense(128),\n",
    "       layers.Dropout(0.5),\n",
    "       layers.LeakyReLU(0.01),\n",
    "        \n",
    "       layers.Dense(64),\n",
    "       layers.Dropout(0.5),\n",
    "       layers.LeakyReLU(0.01),\n",
    "        \n",
    "       layers.Dense(128),\n",
    "       layers.Dropout(0.5),\n",
    "       layers.LeakyReLU(0.01),\n",
    "       layers.Dense(256),\n",
    "       layers.Dropout(0.5),\n",
    "       layers.LeakyReLU(0.01),\n",
    "       layers.Dense(512),\n",
    "       layers.Dropout(0.5),\n",
    "       layers.LeakyReLU(0.01),\n",
    "       layers.Dense(x_train_arr.shape[1], activation='sigmoid'),\n",
    "       layers.LSTM(16, activation='relu', return_sequences=True),\n",
    "       layers.TimeDistributed(layers.Dense(1)),\n",
    "    ]\n",
    ")\n",
    "\n",
    "optimizer = keras.optimizers.Adam(lr=0.01)\n",
    "model.compile( optimizer=optimizer, loss='mse')\n",
    "model.summary()"
   ]
  },
  {
   "cell_type": "code",
   "execution_count": 71,
   "metadata": {
    "scrolled": false
   },
   "outputs": [
    {
     "name": "stdout",
     "output_type": "stream",
     "text": [
      "Epoch 1/30\n",
      "15/15 [==============================] - 24s 2s/step - loss: 0.2848 - val_loss: 0.0861\n",
      "Epoch 2/30\n",
      "15/15 [==============================] - 23s 2s/step - loss: 0.2390 - val_loss: 0.0844\n",
      "Epoch 3/30\n",
      "15/15 [==============================] - 23s 2s/step - loss: 0.2396 - val_loss: 0.0842\n",
      "Epoch 4/30\n",
      "15/15 [==============================] - 22s 1s/step - loss: 0.2377 - val_loss: 0.0841\n",
      "Epoch 5/30\n",
      "15/15 [==============================] - 22s 1s/step - loss: 0.2377 - val_loss: 0.0841\n",
      "Epoch 6/30\n",
      "15/15 [==============================] - 23s 2s/step - loss: 0.2377 - val_loss: 0.0841\n",
      "Epoch 7/30\n",
      "15/15 [==============================] - 22s 1s/step - loss: 0.2377 - val_loss: 0.0841\n",
      "Epoch 8/30\n",
      "15/15 [==============================] - 22s 1s/step - loss: 0.2377 - val_loss: 0.0841\n",
      "Epoch 9/30\n",
      "15/15 [==============================] - 22s 1s/step - loss: 0.2377 - val_loss: 0.0841\n",
      "Epoch 10/30\n",
      "15/15 [==============================] - 22s 1s/step - loss: 0.2377 - val_loss: 0.0841\n",
      "Epoch 11/30\n",
      "15/15 [==============================] - 22s 1s/step - loss: 0.2377 - val_loss: 0.0841\n",
      "Epoch 12/30\n",
      "15/15 [==============================] - 22s 1s/step - loss: 0.2377 - val_loss: 0.0841\n",
      "Epoch 13/30\n",
      "15/15 [==============================] - 22s 1s/step - loss: 0.2377 - val_loss: 0.0841\n",
      "Epoch 14/30\n",
      "15/15 [==============================] - 22s 1s/step - loss: 0.2377 - val_loss: 0.0841\n",
      "Epoch 15/30\n",
      "15/15 [==============================] - 23s 2s/step - loss: 0.2377 - val_loss: 0.0841\n",
      "Epoch 16/30\n",
      "15/15 [==============================] - 21s 1s/step - loss: 0.2377 - val_loss: 0.0841\n",
      "Epoch 17/30\n",
      "15/15 [==============================] - 22s 1s/step - loss: 0.2377 - val_loss: 0.0841\n",
      "Epoch 18/30\n",
      "15/15 [==============================] - 22s 1s/step - loss: 0.2377 - val_loss: 0.0841\n",
      "Epoch 19/30\n",
      "15/15 [==============================] - 22s 1s/step - loss: 0.2377 - val_loss: 0.0841\n",
      "Epoch 20/30\n",
      "15/15 [==============================] - 22s 1s/step - loss: 0.2377 - val_loss: 0.0841\n",
      "Epoch 21/30\n",
      "15/15 [==============================] - 22s 1s/step - loss: 0.2377 - val_loss: 0.0841\n",
      "Epoch 22/30\n",
      "15/15 [==============================] - 22s 1s/step - loss: 0.2377 - val_loss: 0.0841\n",
      "Epoch 23/30\n",
      "15/15 [==============================] - 22s 1s/step - loss: 0.2377 - val_loss: 0.0841\n",
      "Epoch 24/30\n",
      "15/15 [==============================] - 22s 1s/step - loss: 0.2377 - val_loss: 0.0841\n",
      "Epoch 25/30\n",
      "15/15 [==============================] - 22s 1s/step - loss: 0.2377 - val_loss: 0.0841\n",
      "Epoch 26/30\n",
      "15/15 [==============================] - 22s 1s/step - loss: 0.2377 - val_loss: 0.0841\n",
      "Epoch 27/30\n",
      "15/15 [==============================] - 22s 1s/step - loss: 0.2377 - val_loss: 0.0841\n",
      "Epoch 28/30\n",
      "15/15 [==============================] - 23s 2s/step - loss: 0.2377 - val_loss: 0.0841\n",
      "Epoch 29/30\n",
      "15/15 [==============================] - 22s 1s/step - loss: 0.2377 - val_loss: 0.0841\n",
      "Epoch 30/30\n",
      "15/15 [==============================] - 22s 1s/step - loss: 0.2377 - val_loss: 0.0841\n"
     ]
    }
   ],
   "source": [
    "history = model.fit(\n",
    "    x_train_arr,\n",
    "    x_train_arr,\n",
    "    epochs=30,\n",
    "    batch_size=300,\n",
    "    validation_data=(x_val_arr, x_val_arr),\n",
    "    callbacks=[\n",
    "        keras.callbacks.EarlyStopping(monitor=\"val_loss\", patience=20, mode=\"min\")\n",
    "    ],\n",
    ")"
   ]
  },
  {
   "cell_type": "code",
   "execution_count": 72,
   "metadata": {},
   "outputs": [
    {
     "data": {
      "text/plain": [
       "<matplotlib.legend.Legend at 0x20e8dbf5f40>"
      ]
     },
     "execution_count": 72,
     "metadata": {},
     "output_type": "execute_result"
    },
    {
     "data": {
      "image/png": "[encoded data removed]",
      "text/plain": [
       "<Figure size 432x288 with 1 Axes>"
      ]
     },
     "metadata": {
      "needs_background": "light"
     },
     "output_type": "display_data"
    }
   ],
   "source": [
    "plt.plot(history.history[\"loss\"], label=\"Training Loss\")\n",
    "plt.plot(history.history[\"val_loss\"], label=\"Validation Loss\")\n",
    "plt.legend()"
   ]
  },
  {
   "cell_type": "code",
   "execution_count": 73,
   "metadata": {},
   "outputs": [
    {
     "data": {
      "image/png": "[encoded data removed]",
      "text/plain": [
       "<Figure size 432x288 with 1 Axes>"
      ]
     },
     "metadata": {
      "needs_background": "light"
     },
     "output_type": "display_data"
    },
    {
     "name": "stdout",
     "output_type": "stream",
     "text": [
      "Reconstruction error threshold:  0.100961566\n"
     ]
    }
   ],
   "source": [
    "x_train_pred = model.predict(x_train_arr)\n",
    "train_mae_loss = np.mean(np.abs(x_train_pred - x_train_arr), axis=1)\n",
    "train_mae_loss = train_mae_loss.ravel() #converte l'array numpy in 1d\n",
    "train_mae_loss = np.sort(train_mae_loss) #quicksort\n",
    "\n",
    "\n",
    "train_mae_loss_len = len(train_mae_loss)\n",
    "n_index = int(0.75*train_mae_loss_len)\n",
    "plt.hist(train_mae_loss, bins=100)\n",
    "plt.xlabel(\"Train MAE loss\")\n",
    "plt.ylabel(\"No of samples\")\n",
    "plt.show()\n",
    "\n",
    "# Get reconstruction loss threshold.\n",
    "train_mae_loss_split = train_mae_loss[:n_index]\n",
    "threshold = np.max(train_mae_loss_split)\n",
    "print(\"Reconstruction error threshold: \", threshold)"
   ]
  },
  {
   "cell_type": "code",
   "execution_count": 74,
   "metadata": {},
   "outputs": [
    {
     "name": "stdout",
     "output_type": "stream",
     "text": [
      "Shape del dataset per il test:  (2690, 95)\n"
     ]
    }
   ],
   "source": [
    "#data_test\n",
    "#il dataset per il test sarà formato dai 1500 sample normali prelevati precedentemente a cui aggiungerò dei sample anomali\n",
    "#in particolare prelevo il 20% dei sample anomali e li concateno ai 1500 normali precedentemente ottenuti\n",
    "\n",
    "anomaly_data = data_final[data_final[94] != \"normal\"] #prendo solo i valori \"anomali\"\n",
    "\n",
    "percentage = 20\n",
    "anomaly_test_data = anomaly_data.head(int(len(anomaly_data)*(percentage/100)))\n",
    "\n",
    "frames = [data_test, anomaly_test_data]\n",
    "final_test_data = pd.concat(frames)\n",
    "\n",
    "print(\"Shape del dataset per il test: \", final_test_data.shape)"
   ]
  },
  {
   "cell_type": "code",
   "execution_count": 75,
   "metadata": {
    "scrolled": true
   },
   "outputs": [
    {
     "name": "stdout",
     "output_type": "stream",
     "text": [
      "Total :  2690\n",
      "Normal :  1500\n",
      "Malicious :  1190\n"
     ]
    },
    {
     "data": {
      "image/png": "[encoded data removed]",
      "text/plain": [
       "<Figure size 432x288 with 1 Axes>"
      ]
     },
     "metadata": {
      "needs_background": "light"
     },
     "output_type": "display_data"
    }
   ],
   "source": [
    "total_flows_count_test = final_test_data[94].count()\n",
    "normal_flows_count_test = len(final_test_data[final_test_data[94] == \"normal\"])\n",
    "anomaly_flows_count_test = len(final_test_data[final_test_data[94] != \"normal\"])\n",
    "\n",
    "print(\"Total : \",total_flows_count_test)\n",
    "print(\"Normal : \",normal_flows_count_test)\n",
    "print(\"Malicious : \",anomaly_flows_count_test)\n",
    "\n",
    "# x-coordinates of left sides of bars  \n",
    "left = [1, 1.5] \n",
    "  \n",
    "# heights of bars \n",
    "height = [normal_flows_count_test, anomaly_flows_count_test] \n",
    "  \n",
    "# labels for bars \n",
    "tick_label = ['Normal', 'Malicious'] \n",
    "  \n",
    "# bar chart\n",
    "plt.bar(left, height, tick_label = tick_label, \n",
    "        width = 0.4, color = ['blue', 'orange']) \n",
    "  \n",
    "# Rinominazione asse x \n",
    "plt.xlabel('Tipologia di record') \n",
    "# Rinominazione asse y \n",
    "plt.ylabel('Numero di record') \n",
    "# Titolo\n",
    "plt.title('Numero di samples del dataset per il test') \n",
    "  \n",
    "plt.show() \n",
    "\n"
   ]
  },
  {
   "cell_type": "code",
   "execution_count": 76,
   "metadata": {},
   "outputs": [
    {
     "name": "stdout",
     "output_type": "stream",
     "text": [
      "Numero totale di tutte le anomalie : 1190\n",
      "Numero dei record u2r : 11\n",
      "Numero dei record r2l : 71\n",
      "Numero dei record probe : 100\n",
      "Numero dei record dos : 1008\n"
     ]
    },
    {
     "data": {
      "image/png": "[encoded data removed]",
      "text/plain": [
       "<Figure size 432x288 with 1 Axes>"
      ]
     },
     "metadata": {
      "needs_background": "light"
     },
     "output_type": "display_data"
    }
   ],
   "source": [
    "all_anomaly_count = len(final_test_data[final_test_data[94] != \"normal\"])\n",
    "u2r_count = len(final_test_data[final_test_data[94] == \"u2r\"])\n",
    "r2l_count = len(final_test_data[final_test_data[94] == \"r2l\"])\n",
    "probe_count = len(final_test_data[final_test_data[94] == \"probe\"])\n",
    "dos_count = len(final_test_data[final_test_data[94] == \"dos\"])\n",
    "\n",
    "print('Numero totale di tutte le anomalie :', all_anomaly_count)\n",
    "print('Numero dei record u2r :', u2r_count)\n",
    "print('Numero dei record r2l :',r2l_count)\n",
    "print('Numero dei record probe :',probe_count)\n",
    "print('Numero dei record dos :',dos_count)\n",
    "\n",
    "left = [1, 1.5, 2, 2.5] \n",
    "  \n",
    "# heights of bars \n",
    "height = [u2r_count, r2l_count, probe_count, dos_count] \n",
    "  \n",
    "# labels for bars \n",
    "tick_label = ['U2r', 'R2l', 'Probe', 'Dos'] \n",
    "  \n",
    "# bar chart\n",
    "plt.bar(left, height, tick_label = tick_label, \n",
    "        width = 0.4, color = ['red', 'orange', 'purple', 'yellow']) \n",
    "  \n",
    "# Rinominazione asse x \n",
    "plt.xlabel('Tipologia di attacco') \n",
    "# Rinominazione asse y \n",
    "plt.ylabel('Numero di record') \n",
    "# Titolo\n",
    "plt.title('Suddivisione anomalie nelle 4 tipologie di attacco') \n",
    "  \n",
    "plt.show() \n"
   ]
  },
  {
   "cell_type": "code",
   "execution_count": 77,
   "metadata": {},
   "outputs": [
    {
     "name": "stdout",
     "output_type": "stream",
     "text": [
      "x_test shape : (2690, 94)\n"
     ]
    }
   ],
   "source": [
    "data_test_with_label = final_test_data.copy()\n",
    "x_test = final_test_data.drop([94],axis=1) #rimuove la colonna dei result dal dataframe\n",
    "\n",
    "print(\"x_test shape :\", x_test.shape)"
   ]
  },
  {
   "cell_type": "code",
   "execution_count": 78,
   "metadata": {},
   "outputs": [
    {
     "name": "stdout",
     "output_type": "stream",
     "text": [
      "Shape numpy array per il test :  (2690, 94, 1)\n"
     ]
    }
   ],
   "source": [
    "x_test_arr = np.asarray(x_test).astype(np.float32)\n",
    "x_test_arr = x_test_arr.reshape(x_test_arr.shape[0],x_test_arr.shape[1],1) #converte la shape da 2d a 3d per layer LSTM\n",
    "\n",
    "print(\"Shape numpy array per il test : \", x_test_arr.shape)"
   ]
  },
  {
   "cell_type": "code",
   "execution_count": 82,
   "metadata": {},
   "outputs": [
    {
     "data": {
      "image/png": "[encoded data removed]",
      "text/plain": [
       "<Figure size 432x288 with 1 Axes>"
      ]
     },
     "metadata": {
      "needs_background": "light"
     },
     "output_type": "display_data"
    },
    {
     "name": "stdout",
     "output_type": "stream",
     "text": [
      "Number di sample anomali rilevati:  571\n",
      "Numero di sample anomali rivelati erroneamente:  369 (FN)\n",
      "Numero di sample anomali rilevati correttamente:  202 (TN)\n",
      "Numero di sample anomali non rivelati:  988 (FP)\n",
      "Numero di sample normali rivelati correttamente 1131 (TP)\n",
      "Numero di sample normali scambiati per anomalie 369 (FN)\n",
      "\n",
      "\n",
      "Numero di sample anomali U2R rilevati correttamente:  7 (TN)\n",
      "Numero di sample anomali U2R considerati Normali : 4 (FP)\n",
      "Numero di sample anomali R2L rilevati correttamente:  68 (TN)\n",
      "Numero di sample anomali R2L considerati normali : 3 (FP)\n",
      "Numero di sample anomali Probe rilevati correttamente:  4 (TN)\n",
      "Numero di sample anomali Probe considerati normali : 96 (FP)\n",
      "Numero di sample anomali Dos rilevati correttamente:  123 (TN)\n",
      "Numero di sample anomali Dos considerati normali : 885 (FP)\n",
      "\n",
      "Percentuale di anomalie rilevate correttamente sul totale delle anomalie -> 16.974789915966387 %\n",
      "Percentuale di sample normali rilevati correttamente sul totale dei sample normali -> 75.4 %\n"
     ]
    }
   ],
   "source": [
    "arr_test_pred = model.predict(x_test_arr)\n",
    "test_mae_loss = np.mean(np.abs(arr_test_pred - x_test_arr), axis=1)\n",
    "                                       \n",
    "plt.hist(test_mae_loss, bins=50)\n",
    "plt.xlabel(\"test MAE loss\")\n",
    "plt.ylabel(\"No of samples\")\n",
    "plt.show()\n",
    "\n",
    "\n",
    "# Detect all the samples which are anomalies.\n",
    "anomalies = (test_mae_loss > threshold).tolist()\n",
    "count = 0\n",
    "false_negative = 0\n",
    "false_positive = 0\n",
    "u2r_rilevati = 0\n",
    "u2r_non_rilevati = 0\n",
    "r2l_rilevati = 0\n",
    "r2l_non_rilevati = 0\n",
    "probe_rilevati = 0\n",
    "probe_non_rilevati = 0\n",
    "dos_rilevati = 0\n",
    "dos_non_rilevati = 0\n",
    "normal_corretti = 0\n",
    "\n",
    "for i in anomalies:\n",
    "    x = str(i)\n",
    "    if ( x == '[True]'): #Sono le anomalie rilevate\n",
    "        if ( data_test_with_label.iloc[count][94] == \"normal\"):\n",
    "            false_negative = false_negative + 1 #Anomalie rilevate che in realtà erano record normali\n",
    "        if ( data_test_with_label.iloc[count][94] == \"u2r\"):\n",
    "            u2r_rilevati = u2r_rilevati + 1\n",
    "        if ( data_test_with_label.iloc[count][94] == \"r2l\"):\n",
    "            r2l_rilevati = r2l_rilevati + 1\n",
    "        if ( data_test_with_label.iloc[count][94] == \"probe\"):\n",
    "            probe_rilevati = probe_rilevati + 1\n",
    "        if ( data_test_with_label.iloc[count][94] == \"dos\"):\n",
    "            dos_rilevati = dos_rilevati + 1\n",
    "    if (x == '[False]'):\n",
    "        if( data_test_with_label.iloc[count][94] != \"normal\"):\n",
    "            false_positive = false_positive + 1\n",
    "        if ( data_test_with_label.iloc[count][94] == \"u2r\"):\n",
    "            u2r_non_rilevati = u2r_non_rilevati + 1\n",
    "        if ( data_test_with_label.iloc[count][94] == \"r2l\"):\n",
    "            r2l_non_rilevati = r2l_non_rilevati + 1\n",
    "        if ( data_test_with_label.iloc[count][94] == \"probe\"):\n",
    "            probe_non_rilevati = probe_non_rilevati + 1\n",
    "        if ( data_test_with_label.iloc[count][94] == \"dos\"):\n",
    "            dos_non_rilevati = dos_non_rilevati + 1\n",
    "        if ( data_test_with_label.iloc[count][94] == \"normal\"):\n",
    "            normal_corretti = normal_corretti + 1\n",
    "    count = count + 1\n",
    "        \n",
    "print(\"Number di sample anomali rilevati: \", np.sum(anomalies))\n",
    "print(\"Numero di sample anomali rivelati erroneamente: \", false_negative,'(FN)')\n",
    "print(\"Numero di sample anomali rilevati correttamente: \", np.sum(anomalies)-false_negative, '(TN)')\n",
    "print(\"Numero di sample anomali non rivelati: \", false_positive, '(FP)')\n",
    "print(\"Numero di sample normali rivelati correttamente\", normal_corretti,\"(TP)\")\n",
    "print(\"Numero di sample normali scambiati per anomalie\", false_negative, '(FN)')\n",
    "print(\"\")\n",
    "print(\"Numero di sample anomali U2R rilevati correttamente: \", u2r_rilevati, '(TN)')\n",
    "print(\"Numero di sample anomali U2R considerati Normali :\", u2r_non_rilevati, '(FP)')\n",
    "print(\"Numero di sample anomali R2L rilevati correttamente: \", r2l_rilevati, '(TN)')\n",
    "print(\"Numero di sample anomali R2L considerati normali :\", r2l_non_rilevati, '(FP)')\n",
    "print(\"Numero di sample anomali Probe rilevati correttamente: \", probe_rilevati, '(TN)')\n",
    "print(\"Numero di sample anomali Probe considerati normali :\", probe_non_rilevati, '(FP)')\n",
    "print(\"Numero di sample anomali Dos rilevati correttamente: \", dos_rilevati, \"(TN)\")\n",
    "print(\"Numero di sample anomali Dos considerati normali :\", dos_non_rilevati, \"(FP)\")\n",
    "print(\"\")\n",
    "print(\"Percentuale di anomalie rilevate correttamente sul totale delle anomalie ->\",\n",
    "      ((np.sum(anomalies)-false_negative)/all_anomaly_count)*100, \"%\")\n",
    "print(\"Percentuale di sample normali rilevati correttamente sul totale dei sample normali ->\",\n",
    "     (normal_corretti/normal_flows_count_test)*100, \"%\")\n",
    "#print(\"Indices of anomaly samples: \", np.where(anomalies))                                       "
   ]
  },
  {
   "cell_type": "code",
   "execution_count": null,
   "metadata": {},
   "outputs": [],
   "source": []
  }
 ],
 "metadata": {
  "celltoolbar": "Raw Cell Format",
  "kernelspec": {
   "display_name": "Python 3",
   "language": "python",
   "name": "python3"
  },
  "language_info": {
   "codemirror_mode": {
    "name": "ipython",
    "version": 3
   },
   "file_extension": ".py",
   "mimetype": "text/x-python",
   "name": "python",
   "nbconvert_exporter": "python",
   "pygments_lexer": "ipython3",
   "version": "3.8.3"
  }
 },
 "nbformat": 4,
 "nbformat_minor": 4
}
