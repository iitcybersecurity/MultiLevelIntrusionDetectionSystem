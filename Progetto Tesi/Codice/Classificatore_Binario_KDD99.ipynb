{
 "cells": [
  {
   "cell_type": "code",
   "execution_count": 1,
   "metadata": {},
   "outputs": [
    {
     "name": "stdout",
     "output_type": "stream",
     "text": [
      "Librerie importate con successo\n"
     ]
    }
   ],
   "source": [
    "import pandas as pd\n",
    "import numpy as np\n",
    "from tensorflow import keras\n",
    "from tensorflow.keras import regularizers\n",
    "from tensorflow.keras import layers\n",
    "from tensorflow.keras.utils import to_categorical\n",
    "from tensorflow.keras.models import Sequential\n",
    "from tensorflow.keras.layers import Dense , Dropout\n",
    "from sklearn.model_selection import train_test_split as splitter\n",
    "import cProfile\n",
    "import pstats\n",
    "import os\n",
    "import sys\n",
    "from sklearn.metrics import classification_report, confusion_matrix, ConfusionMatrixDisplay\n",
    "from sklearn.preprocessing import LabelEncoder\n",
    "from datetime import datetime\n",
    "from matplotlib import pyplot as plt\n",
    "from matplotlib import dates as md\n",
    "\n",
    "print(\"Librerie importate con successo\")"
   ]
  },
  {
   "cell_type": "code",
   "execution_count": 2,
   "metadata": {},
   "outputs": [
    {
     "name": "stdout",
     "output_type": "stream",
     "text": [
      "Dataset importato con successo\n"
     ]
    }
   ],
   "source": [
    "data = pd.read_csv('../Datasets/kdd_prediction.csv', delimiter=',',\n",
    "                       dtype={'protocol_type': str, 'service': str, 'flag': str, 'result': str})\n",
    "\n",
    "print(\"Dataset importato con successo\")"
   ]
  },
  {
   "cell_type": "code",
   "execution_count": 3,
   "metadata": {},
   "outputs": [
    {
     "name": "stdout",
     "output_type": "stream",
     "text": [
      "Total :  13451\n",
      "Normal :  7500\n",
      "Malicious :  5951\n"
     ]
    },
    {
     "data": {
      "image/png": "[encoded data removed]",
      "text/plain": [
       "<Figure size 432x288 with 1 Axes>"
      ]
     },
     "metadata": {
      "needs_background": "light"
     },
     "output_type": "display_data"
    }
   ],
   "source": [
    "#Effettuo il plot del dataset\n",
    "\n",
    "total_flows_count = data[\"result\"].count()\n",
    "normal_flows_count = len(data[data.result == \"normal\"])\n",
    "anomaly_flows_count = len(data[data.result != \"normal\"])\n",
    "\n",
    "print(\"Total : \",total_flows_count)\n",
    "print(\"Normal : \",normal_flows_count)\n",
    "print(\"Malicious : \",anomaly_flows_count)\n",
    "\n",
    "# x-coordinates of left sides of bars  \n",
    "left = [1, 1.5] \n",
    "  \n",
    "# heights of bars \n",
    "height = [normal_flows_count, anomaly_flows_count] \n",
    "  \n",
    "# labels for bars \n",
    "tick_label = ['Normal', 'Malicious'] \n",
    "  \n",
    "# bar chart\n",
    "plt.bar(left, height, tick_label = tick_label, \n",
    "        width = 0.4, color = ['green', 'red']) \n",
    "  \n",
    "# Rinominazione asse x \n",
    "plt.xlabel('Tipologia di record') \n",
    "# Rinominazione asse y \n",
    "plt.ylabel('Numero di record') \n",
    "# Titolo\n",
    "plt.title('Numero di samples del dataset') \n",
    "  \n",
    "plt.show() "
   ]
  },
  {
   "cell_type": "code",
   "execution_count": 4,
   "metadata": {},
   "outputs": [],
   "source": [
    "def preprocessing(data):\n",
    "    for column in data.columns:\n",
    "        if data[column].dtype == type(object):\n",
    "            le = LabelEncoder()\n",
    "            data[column] = le.fit_transform(data[column])"
   ]
  },
  {
   "cell_type": "code",
   "execution_count": 5,
   "metadata": {},
   "outputs": [
    {
     "name": "stderr",
     "output_type": "stream",
     "text": [
      "C:\\Users\\39331\\anaconda3\\lib\\site-packages\\pandas\\core\\indexing.py:671: SettingWithCopyWarning: \n",
      "A value is trying to be set on a copy of a slice from a DataFrame\n",
      "\n",
      "See the caveats in the documentation: https://pandas.pydata.org/pandas-docs/stable/user_guide/indexing.html#returning-a-view-versus-a-copy\n",
      "  self._setitem_with_indexer(indexer, value)\n"
     ]
    }
   ],
   "source": [
    "#Converto tutti gli altri tipi di attacco in anomaly in modo da avere solo o normal o anomaly\n",
    "def conversione(df):\n",
    "    datacpy = df.copy()\n",
    "    for i in range(len(datacpy.result)):\n",
    "        if(datacpy.result.loc[i] != 'normal'):\n",
    "            datacpy.result.loc[i] = 'anomaly'\n",
    "    return datacpy\n",
    "\n",
    "df_data = conversione(data)"
   ]
  },
  {
   "cell_type": "code",
   "execution_count": 6,
   "metadata": {},
   "outputs": [],
   "source": [
    "preprocessing(df_data)\n",
    "\n",
    "y = df_data.result\n",
    "x = df_data.drop(\"result\", axis=1)\n",
    "\n",
    "profile = cProfile.Profile()\n",
    "x_train, x_test, y_train, y_test = splitter(x, y, test_size=0.3, random_state=32)\n"
   ]
  },
  {
   "cell_type": "code",
   "execution_count": 7,
   "metadata": {},
   "outputs": [
    {
     "name": "stdout",
     "output_type": "stream",
     "text": [
      "Il dataset per il train è composto da :  9415 record\n",
      "Il dataset per il train è composto da :  4186 anomalie\n",
      "Il dataset per il train è composto da :  5229 record normali\n"
     ]
    }
   ],
   "source": [
    "num_train = len(x_train)\n",
    "num_train_normal = 0\n",
    "\n",
    "print(\"Il dataset per il train è composto da : \",num_train,\"record\")\n",
    "\n",
    "for i in y_train:\n",
    "    if(i == 1):\n",
    "        num_train_normal = num_train_normal + 1\n",
    "        \n",
    "num_train_anomaly = num_train - num_train_normal\n",
    "\n",
    "print(\"Il dataset per il train è composto da : \",num_train_anomaly,\"anomalie\")\n",
    "print(\"Il dataset per il train è composto da : \",num_train_normal,\"record normali\")"
   ]
  },
  {
   "cell_type": "code",
   "execution_count": 8,
   "metadata": {},
   "outputs": [
    {
     "name": "stdout",
     "output_type": "stream",
     "text": [
      "Il dataset per il test è composto da :  4036 record\n",
      "Il dataset per il test è composto da :  1765 anomalie\n",
      "Il dataset per il test è composto da :  2271 record normali\n"
     ]
    }
   ],
   "source": [
    "num_test = len(x_test)\n",
    "num_test_normal = 0\n",
    "\n",
    "print(\"Il dataset per il test è composto da : \",num_test,\"record\")\n",
    "\n",
    "for i in y_test:\n",
    "    if(i == 1):\n",
    "        num_test_normal = num_test_normal + 1\n",
    "        \n",
    "num_test_anomaly = num_test - num_test_normal\n",
    "\n",
    "print(\"Il dataset per il test è composto da : \",num_test_anomaly,\"anomalie\")\n",
    "print(\"Il dataset per il test è composto da : \",num_test_normal,\"record normali\")"
   ]
  },
  {
   "cell_type": "code",
   "execution_count": 9,
   "metadata": {},
   "outputs": [],
   "source": [
    "profile.enable()\n",
    "y_train = to_categorical(y_train)\n",
    "y_test = to_categorical(y_test)\n",
    "val_indices = 200\n",
    "x_val = x_train[-val_indices:]\n",
    "y_val = y_train[-val_indices:]"
   ]
  },
  {
   "cell_type": "code",
   "execution_count": 10,
   "metadata": {},
   "outputs": [
    {
     "name": "stdout",
     "output_type": "stream",
     "text": [
      "Model: \"sequential\"\n",
      "_________________________________________________________________\n",
      "Layer (type)                 Output Shape              Param #   \n",
      "=================================================================\n",
      "dense (Dense)                (None, 1024)              22528     \n",
      "_________________________________________________________________\n",
      "dense_1 (Dense)              (None, 1024)              1049600   \n",
      "_________________________________________________________________\n",
      "dropout (Dropout)            (None, 1024)              0         \n",
      "_________________________________________________________________\n",
      "dense_2 (Dense)              (None, 1024)              1049600   \n",
      "_________________________________________________________________\n",
      "dense_3 (Dense)              (None, 1024)              1049600   \n",
      "_________________________________________________________________\n",
      "dropout_1 (Dropout)          (None, 1024)              0         \n",
      "_________________________________________________________________\n",
      "dense_4 (Dense)              (None, 1024)              1049600   \n",
      "_________________________________________________________________\n",
      "dense_5 (Dense)              (None, 1024)              1049600   \n",
      "_________________________________________________________________\n",
      "dropout_2 (Dropout)          (None, 1024)              0         \n",
      "_________________________________________________________________\n",
      "dense_6 (Dense)              (None, 512)               524800    \n",
      "_________________________________________________________________\n",
      "dense_7 (Dense)              (None, 512)               262656    \n",
      "_________________________________________________________________\n",
      "dense_8 (Dense)              (None, 2)                 1026      \n",
      "=================================================================\n",
      "Total params: 6,059,010\n",
      "Trainable params: 6,059,010\n",
      "Non-trainable params: 0\n",
      "_________________________________________________________________\n"
     ]
    }
   ],
   "source": [
    "model = Sequential()\n",
    "model.add(Dense(1024, activation='relu', input_dim=x_train.shape[1], kernel_regularizer=regularizers.l2(0.001)))\n",
    "model.add(Dense(1024, activation='relu', kernel_regularizer=regularizers.l2(0.001)))\n",
    "model.add(Dropout(0.5))\n",
    "model.add(Dense(1024, activation='relu', kernel_regularizer=regularizers.l2(0.001)))\n",
    "model.add(Dense(1024, activation='relu', kernel_regularizer=regularizers.l2(0.001)))\n",
    "model.add(Dropout(0.5))\n",
    "model.add(Dense(1024, activation='relu', kernel_regularizer=regularizers.l2(0.001)))\n",
    "model.add(Dense(1024, activation='relu', kernel_regularizer=regularizers.l2(0.001)))\n",
    "model.add(Dropout(0.5))\n",
    "model.add(Dense(512, activation='relu', kernel_regularizer=regularizers.l2(0.001)))\n",
    "model.add(Dense(512, activation='relu', kernel_regularizer=regularizers.l2(0.001)))\n",
    "model.add(Dense(2, activation='softmax'))\n",
    "model.compile(loss='categorical_crossentropy', optimizer='rmsprop', metrics=['accuracy'])\n",
    "model.summary()"
   ]
  },
  {
   "cell_type": "code",
   "execution_count": 11,
   "metadata": {},
   "outputs": [
    {
     "name": "stdout",
     "output_type": "stream",
     "text": [
      "Epoch 1/15\n",
      "19/19 [==============================] - 5s 265ms/step - loss: 8.7849 - accuracy: 0.5215 - val_loss: 4.5896 - val_accuracy: 0.4400\n",
      "Epoch 2/15\n",
      "19/19 [==============================] - 4s 229ms/step - loss: 4.0674 - accuracy: 0.6372 - val_loss: 3.5538 - val_accuracy: 0.7550\n",
      "Epoch 3/15\n",
      "19/19 [==============================] - 5s 237ms/step - loss: 3.2755 - accuracy: 0.8110 - val_loss: 2.6408 - val_accuracy: 0.9000\n",
      "Epoch 4/15\n",
      "19/19 [==============================] - 4s 236ms/step - loss: 2.2649 - accuracy: 0.9250 - val_loss: 1.8234 - val_accuracy: 0.9650\n",
      "Epoch 5/15\n",
      "19/19 [==============================] - 4s 229ms/step - loss: 1.6725 - accuracy: 0.9332 - val_loss: 1.3118 - val_accuracy: 0.9700\n",
      "Epoch 6/15\n",
      "19/19 [==============================] - 5s 245ms/step - loss: 1.2576 - accuracy: 0.9418 - val_loss: 0.8306 - val_accuracy: 0.9650\n",
      "Epoch 7/15\n",
      "19/19 [==============================] - 4s 227ms/step - loss: 0.7012 - accuracy: 0.9644 - val_loss: 0.5169 - val_accuracy: 0.9700\n",
      "Epoch 8/15\n",
      "19/19 [==============================] - 4s 225ms/step - loss: 0.4901 - accuracy: 0.9527 - val_loss: 0.3401 - val_accuracy: 0.9750\n",
      "Epoch 9/15\n",
      "19/19 [==============================] - 4s 228ms/step - loss: 0.3510 - accuracy: 0.9550 - val_loss: 0.2547 - val_accuracy: 0.9700\n",
      "Epoch 10/15\n",
      "19/19 [==============================] - 4s 226ms/step - loss: 0.2528 - accuracy: 0.9728 - val_loss: 0.2052 - val_accuracy: 0.9800\n",
      "Epoch 11/15\n",
      "19/19 [==============================] - 4s 227ms/step - loss: 0.2511 - accuracy: 0.9642 - val_loss: 0.2634 - val_accuracy: 0.9650\n",
      "Epoch 12/15\n",
      "19/19 [==============================] - 4s 224ms/step - loss: 0.2167 - accuracy: 0.9707 - val_loss: 0.1680 - val_accuracy: 0.9700\n",
      "Epoch 13/15\n",
      "19/19 [==============================] - 4s 229ms/step - loss: 0.2000 - accuracy: 0.9682 - val_loss: 0.1465 - val_accuracy: 0.9850\n",
      "Epoch 14/15\n",
      "19/19 [==============================] - 4s 225ms/step - loss: 0.1855 - accuracy: 0.9736 - val_loss: 0.1301 - val_accuracy: 0.9850\n",
      "Epoch 15/15\n",
      "19/19 [==============================] - 4s 224ms/step - loss: 0.1681 - accuracy: 0.9754 - val_loss: 0.1714 - val_accuracy: 0.9750\n"
     ]
    },
    {
     "data": {
      "text/plain": [
       "<tensorflow.python.keras.callbacks.History at 0x1b201387190>"
      ]
     },
     "execution_count": 11,
     "metadata": {},
     "output_type": "execute_result"
    }
   ],
   "source": [
    "model.fit(x_train, y_train, epochs=15, batch_size=512, validation_data=(x_val, y_val))"
   ]
  },
  {
   "cell_type": "code",
   "execution_count": 12,
   "metadata": {},
   "outputs": [],
   "source": [
    "y_pred = model.predict(x_test)\n",
    "profile.disable()\n",
    "y_pred = np.argmax(y_pred, axis=1)\n",
    "y_test = np.argmax(y_test, axis=1)\n",
    "profile.dump_stats('output.prof')\n",
    "stream = open('result/keras_kdd_profiling_binary.txt', 'w')\n",
    "stats = pstats.Stats('output.prof', stream=stream)\n",
    "stats.sort_stats('cumtime')\n",
    "stats.print_stats()\n",
    "os.remove('output.prof')"
   ]
  },
  {
   "cell_type": "code",
   "execution_count": 13,
   "metadata": {},
   "outputs": [
    {
     "data": {
      "image/png": "[encoded data removed]",
      "text/plain": [
       "<Figure size 432x288 with 2 Axes>"
      ]
     },
     "metadata": {
      "needs_background": "light"
     },
     "output_type": "display_data"
    },
    {
     "name": "stdout",
     "output_type": "stream",
     "text": [
      "              precision    recall  f1-score   support\n",
      "\n",
      "           0       0.97      0.99      0.98      1765\n",
      "           1       0.99      0.98      0.98      2271\n",
      "\n",
      "    accuracy                           0.98      4036\n",
      "   macro avg       0.98      0.98      0.98      4036\n",
      "weighted avg       0.98      0.98      0.98      4036\n",
      "\n"
     ]
    }
   ],
   "source": [
    "conf_matrix = confusion_matrix(y_test, y_pred)\n",
    "\n",
    "disp = ConfusionMatrixDisplay(confusion_matrix=conf_matrix)\n",
    "\n",
    "disp = disp.plot(cmap='YlOrBr')\n",
    "\n",
    "plt.show()\n",
    "print(classification_report(y_test, y_pred))"
   ]
  },
  {
   "cell_type": "code",
   "execution_count": null,
   "metadata": {},
   "outputs": [],
   "source": []
  }
 ],
 "metadata": {
  "kernelspec": {
   "display_name": "Python 3",
   "language": "python",
   "name": "python3"
  },
  "language_info": {
   "codemirror_mode": {
    "name": "ipython",
    "version": 3
   },
   "file_extension": ".py",
   "mimetype": "text/x-python",
   "name": "python",
   "nbconvert_exporter": "python",
   "pygments_lexer": "ipython3",
   "version": "3.8.3"
  }
 },
 "nbformat": 4,
 "nbformat_minor": 4
}
