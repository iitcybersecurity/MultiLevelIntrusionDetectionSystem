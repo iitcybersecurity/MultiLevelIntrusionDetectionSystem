{
 "cells": [
  {
   "cell_type": "code",
   "execution_count": 81,
   "metadata": {},
   "outputs": [
    {
     "name": "stdout",
     "output_type": "stream",
     "text": [
      "Librerie importate con successo\n"
     ]
    }
   ],
   "source": [
    "import pandas as pd\n",
    "import numpy as np\n",
    "from tensorflow import keras\n",
    "from tensorflow.keras import regularizers\n",
    "from tensorflow.keras import layers\n",
    "from tensorflow.keras.utils import to_categorical\n",
    "from tensorflow.keras.models import Sequential\n",
    "from tensorflow.keras.layers import Dense , Dropout\n",
    "from sklearn.model_selection import train_test_split as splitter\n",
    "import cProfile\n",
    "import pstats\n",
    "import os\n",
    "import sys\n",
    "from sklearn.metrics import classification_report, confusion_matrix, ConfusionMatrixDisplay\n",
    "from sklearn.preprocessing import LabelEncoder\n",
    "from datetime import datetime\n",
    "from matplotlib import pyplot as plt\n",
    "from matplotlib import dates as md\n",
    "\n",
    "print(\"Librerie importate con successo\")"
   ]
  },
  {
   "cell_type": "code",
   "execution_count": 82,
   "metadata": {},
   "outputs": [
    {
     "name": "stdout",
     "output_type": "stream",
     "text": [
      "Dataset importato con successo\n"
     ]
    }
   ],
   "source": [
    "data = pd.read_csv('../Datasets/kdd_prediction.csv', delimiter=',',\n",
    "                       dtype={'protocol_type': str, 'service': str, 'flag': str, 'result': str})\n",
    "\n",
    "print(\"Dataset importato con successo\")"
   ]
  },
  {
   "cell_type": "code",
   "execution_count": 83,
   "metadata": {},
   "outputs": [
    {
     "name": "stdout",
     "output_type": "stream",
     "text": [
      "Total :  13451\n",
      "Normal :  7500\n",
      "Malicious :  5951\n"
     ]
    },
    {
     "data": {
      "image/png": "[encoded data removed]",
      "text/plain": [
       "<Figure size 432x288 with 1 Axes>"
      ]
     },
     "metadata": {
      "needs_background": "light"
     },
     "output_type": "display_data"
    }
   ],
   "source": [
    "#Effettuo il plot del dataset\n",
    "\n",
    "total_flows_count = data[\"result\"].count()\n",
    "normal_flows_count = len(data[data.result == \"normal\"])\n",
    "anomaly_flows_count = len(data[data.result != \"normal\"])\n",
    "\n",
    "print(\"Total : \",total_flows_count)\n",
    "print(\"Normal : \",normal_flows_count)\n",
    "print(\"Malicious : \",anomaly_flows_count)\n",
    "\n",
    "# x-coordinates of left sides of bars  \n",
    "left = [1, 1.5] \n",
    "  \n",
    "# heights of bars \n",
    "height = [normal_flows_count, anomaly_flows_count] \n",
    "  \n",
    "# labels for bars \n",
    "tick_label = ['Normal', 'Malicious'] \n",
    "  \n",
    "# bar chart\n",
    "plt.bar(left, height, tick_label = tick_label, \n",
    "        width = 0.4, color = ['green', 'red']) \n",
    "  \n",
    "# Rinominazione asse x \n",
    "plt.xlabel('Tipologia di record') \n",
    "# Rinominazione asse y \n",
    "plt.ylabel('Numero di record') \n",
    "# Titolo\n",
    "plt.title('Numero di samples del dataset') \n",
    "  \n",
    "plt.show() "
   ]
  },
  {
   "cell_type": "code",
   "execution_count": 84,
   "metadata": {},
   "outputs": [],
   "source": [
    "def preprocessing(data):\n",
    "    for column in data.columns:\n",
    "        if data[column].dtype == type(object):\n",
    "            le = LabelEncoder()\n",
    "            data[column] = le.fit_transform(data[column])"
   ]
  },
  {
   "cell_type": "code",
   "execution_count": 85,
   "metadata": {},
   "outputs": [
    {
     "name": "stderr",
     "output_type": "stream",
     "text": [
      "C:\\Users\\39331\\anaconda3\\lib\\site-packages\\pandas\\core\\indexing.py:671: SettingWithCopyWarning: \n",
      "A value is trying to be set on a copy of a slice from a DataFrame\n",
      "\n",
      "See the caveats in the documentation: https://pandas.pydata.org/pandas-docs/stable/user_guide/indexing.html#returning-a-view-versus-a-copy\n",
      "  self._setitem_with_indexer(indexer, value)\n"
     ]
    }
   ],
   "source": [
    "#Converto tutti gli altri tipi di attacco in anomaly in modo da avere solo o normal o anomaly\n",
    "def conversione(df):\n",
    "    datacpy = df.copy()\n",
    "    for i in range(len(datacpy.result)):\n",
    "        if(datacpy.result.loc[i] != 'normal'):\n",
    "            datacpy.result.loc[i] = 'anomaly'\n",
    "    return datacpy\n",
    "\n",
    "df_data_confronti = data.copy()\n",
    "df_data = conversione(data)"
   ]
  },
  {
   "cell_type": "code",
   "execution_count": 86,
   "metadata": {},
   "outputs": [
    {
     "name": "stdout",
     "output_type": "stream",
     "text": [
      "y_test_confronti: \n",
      "5442    normal\n",
      "8755       dos\n",
      "5352    normal\n",
      "400     normal\n",
      "5772    normal\n",
      "         ...  \n",
      "5036     probe\n",
      "8286     probe\n",
      "2264    normal\n",
      "5819    normal\n",
      "7417       dos\n",
      "Name: result, Length: 4036, dtype: object\n",
      "y_test: \n",
      "5442    1\n",
      "8755    0\n",
      "5352    1\n",
      "400     1\n",
      "5772    1\n",
      "       ..\n",
      "5036    0\n",
      "8286    0\n",
      "2264    1\n",
      "5819    1\n",
      "7417    0\n",
      "Name: result, Length: 4036, dtype: int32\n"
     ]
    }
   ],
   "source": [
    "data_with_label = df_data.copy()\n",
    "\n",
    "seed = 5392\n",
    "\n",
    "#dati di train e test per calcolare FP/FN etc.\n",
    "y1 = df_data_confronti.result\n",
    "y_train_confronti, y_test_confronti = splitter(y1, test_size=0.3, random_state=seed)\n",
    "print(\"y_test_confronti: \")\n",
    "print(y_test_confronti)\n",
    "\n",
    "#dati per il train e il test\n",
    "preprocessing(df_data)\n",
    "\n",
    "y = df_data.result\n",
    "x = df_data.drop(\"result\", axis=1)\n",
    "\n",
    "profile = cProfile.Profile()\n",
    "x_train, x_test, y_train, y_test = splitter(x, y, test_size=0.3, random_state=seed)\n",
    "print('y_test: ')\n",
    "print(y_test)"
   ]
  },
  {
   "cell_type": "code",
   "execution_count": 87,
   "metadata": {},
   "outputs": [
    {
     "name": "stdout",
     "output_type": "stream",
     "text": [
      "Il dataset per il train è composto da :  9415 record\n",
      "Il dataset per il train è composto da :  4143 anomalie\n",
      "Il dataset per il train è composto da :  5272 record normali\n"
     ]
    }
   ],
   "source": [
    "num_train = len(x_train)\n",
    "num_train_normal = 0\n",
    "\n",
    "print(\"Il dataset per il train è composto da : \",num_train,\"record\")\n",
    "\n",
    "for i in y_train_confronti:\n",
    "    if(i == 'normal'):\n",
    "        num_train_normal = num_train_normal + 1\n",
    "        \n",
    "num_train_anomaly = num_train - num_train_normal\n",
    "\n",
    "print(\"Il dataset per il train è composto da : \",num_train_anomaly,\"anomalie\")\n",
    "print(\"Il dataset per il train è composto da : \",num_train_normal,\"record normali\")"
   ]
  },
  {
   "cell_type": "code",
   "execution_count": 88,
   "metadata": {},
   "outputs": [
    {
     "name": "stdout",
     "output_type": "stream",
     "text": [
      "Il dataset per il test è composto da :  4036 record (sia normali che anomali)\n",
      "\n",
      "Il dataset per il test è composto da 1808 anomalie di cui :\n",
      "i) 1525 record Dos\n",
      "ii) 104 record R2L\n",
      "iii) 20 record U2R\n",
      "iv) 159 record Probe\n",
      "\n",
      "Il dataset per il test è composto da 2228 record normali\n"
     ]
    }
   ],
   "source": [
    "num_test = len(x_test)\n",
    "num_test_normal = 0\n",
    "num_test_dos = 0\n",
    "num_test_r2l = 0\n",
    "num_test_probe = 0\n",
    "num_test_u2r = 0\n",
    "\n",
    "print(\"Il dataset per il test è composto da : \",num_test,\"record (sia normali che anomali)\")\n",
    "print(\"\")\n",
    "\n",
    "for i in y_test_confronti:\n",
    "    if(i == 'normal'):\n",
    "        num_test_normal = num_test_normal + 1\n",
    "    if(i == 'dos'):\n",
    "        num_test_dos = num_test_dos + 1\n",
    "    if(i == 'r2l'):\n",
    "        num_test_r2l = num_test_r2l + 1\n",
    "    if(i == 'u2r'):\n",
    "        num_test_u2r = num_test_u2r + 1\n",
    "    if(i == 'probe'):\n",
    "        num_test_probe = num_test_probe + 1\n",
    "\n",
    "num_test_anomaly = num_test - num_test_normal\n",
    "\n",
    "print(\"Il dataset per il test è composto da\",num_test_anomaly,\"anomalie di cui :\")\n",
    "print(\"i)\",num_test_dos, \"record Dos\")\n",
    "print(\"ii)\",num_test_r2l, \"record R2L\")\n",
    "print(\"iii)\",num_test_u2r, \"record U2R\")\n",
    "print(\"iv)\",num_test_probe, \"record Probe\")\n",
    "print(\"\")\n",
    "print(\"Il dataset per il test è composto da\",num_test_normal,\"record normali\")"
   ]
  },
  {
   "cell_type": "code",
   "execution_count": 89,
   "metadata": {},
   "outputs": [],
   "source": [
    "profile.enable()\n",
    "y_train = to_categorical(y_train)\n",
    "y_test = to_categorical(y_test)\n",
    "val_indices = 200\n",
    "x_val = x_train[-val_indices:]\n",
    "y_val = y_train[-val_indices:]"
   ]
  },
  {
   "cell_type": "code",
   "execution_count": 90,
   "metadata": {},
   "outputs": [
    {
     "name": "stdout",
     "output_type": "stream",
     "text": [
      "Model: \"sequential_2\"\n",
      "_________________________________________________________________\n",
      "Layer (type)                 Output Shape              Param #   \n",
      "=================================================================\n",
      "dense_18 (Dense)             (None, 1024)              22528     \n",
      "_________________________________________________________________\n",
      "dense_19 (Dense)             (None, 1024)              1049600   \n",
      "_________________________________________________________________\n",
      "dropout_6 (Dropout)          (None, 1024)              0         \n",
      "_________________________________________________________________\n",
      "dense_20 (Dense)             (None, 1024)              1049600   \n",
      "_________________________________________________________________\n",
      "dense_21 (Dense)             (None, 1024)              1049600   \n",
      "_________________________________________________________________\n",
      "dropout_7 (Dropout)          (None, 1024)              0         \n",
      "_________________________________________________________________\n",
      "dense_22 (Dense)             (None, 1024)              1049600   \n",
      "_________________________________________________________________\n",
      "dense_23 (Dense)             (None, 1024)              1049600   \n",
      "_________________________________________________________________\n",
      "dropout_8 (Dropout)          (None, 1024)              0         \n",
      "_________________________________________________________________\n",
      "dense_24 (Dense)             (None, 512)               524800    \n",
      "_________________________________________________________________\n",
      "dense_25 (Dense)             (None, 512)               262656    \n",
      "_________________________________________________________________\n",
      "dense_26 (Dense)             (None, 2)                 1026      \n",
      "=================================================================\n",
      "Total params: 6,059,010\n",
      "Trainable params: 6,059,010\n",
      "Non-trainable params: 0\n",
      "_________________________________________________________________\n"
     ]
    }
   ],
   "source": [
    "model = Sequential()\n",
    "model.add(Dense(1024, activation='relu', input_dim=x_train.shape[1], kernel_regularizer=regularizers.l2(0.001)))\n",
    "model.add(Dense(1024, activation='relu', kernel_regularizer=regularizers.l2(0.001)))\n",
    "model.add(Dropout(0.5))\n",
    "model.add(Dense(1024, activation='relu', kernel_regularizer=regularizers.l2(0.001)))\n",
    "model.add(Dense(1024, activation='relu', kernel_regularizer=regularizers.l2(0.001)))\n",
    "model.add(Dropout(0.5))\n",
    "model.add(Dense(1024, activation='relu', kernel_regularizer=regularizers.l2(0.001)))\n",
    "model.add(Dense(1024, activation='relu', kernel_regularizer=regularizers.l2(0.001)))\n",
    "model.add(Dropout(0.5))\n",
    "model.add(Dense(512, activation='relu', kernel_regularizer=regularizers.l2(0.001)))\n",
    "model.add(Dense(512, activation='relu', kernel_regularizer=regularizers.l2(0.001)))\n",
    "model.add(Dense(2, activation='softmax'))\n",
    "model.compile(loss='categorical_crossentropy', optimizer='rmsprop', metrics=['accuracy'])\n",
    "model.summary()"
   ]
  },
  {
   "cell_type": "code",
   "execution_count": 91,
   "metadata": {},
   "outputs": [
    {
     "name": "stdout",
     "output_type": "stream",
     "text": [
      "Epoch 1/15\n",
      "19/19 [==============================] - 5s 262ms/step - loss: 7.4464 - accuracy: 0.5372 - val_loss: 4.4490 - val_accuracy: 0.7650\n",
      "Epoch 2/15\n",
      "19/19 [==============================] - 4s 233ms/step - loss: 4.0461 - accuracy: 0.6309 - val_loss: 3.8996 - val_accuracy: 0.6500\n",
      "Epoch 3/15\n",
      "19/19 [==============================] - 4s 225ms/step - loss: 3.1081 - accuracy: 0.7142 - val_loss: 2.4752 - val_accuracy: 0.7300\n",
      "Epoch 4/15\n",
      "19/19 [==============================] - 4s 225ms/step - loss: 2.3482 - accuracy: 0.8195 - val_loss: 1.9610 - val_accuracy: 0.9300\n",
      "Epoch 5/15\n",
      "19/19 [==============================] - 4s 223ms/step - loss: 1.6074 - accuracy: 0.9288 - val_loss: 1.3721 - val_accuracy: 0.8450\n",
      "Epoch 6/15\n",
      "19/19 [==============================] - 5s 243ms/step - loss: 1.0361 - accuracy: 0.9426 - val_loss: 0.8606 - val_accuracy: 0.9350\n",
      "Epoch 7/15\n",
      "19/19 [==============================] - 4s 225ms/step - loss: 0.6993 - accuracy: 0.9426 - val_loss: 0.5099 - val_accuracy: 0.9500\n",
      "Epoch 8/15\n",
      "19/19 [==============================] - 4s 225ms/step - loss: 0.4285 - accuracy: 0.9556 - val_loss: 0.3584 - val_accuracy: 0.9500\n",
      "Epoch 9/15\n",
      "19/19 [==============================] - 4s 228ms/step - loss: 0.3408 - accuracy: 0.9492 - val_loss: 0.2758 - val_accuracy: 0.9500\n",
      "Epoch 10/15\n",
      "19/19 [==============================] - 4s 223ms/step - loss: 0.2349 - accuracy: 0.9682 - val_loss: 0.2408 - val_accuracy: 0.9550\n",
      "Epoch 11/15\n",
      "19/19 [==============================] - 4s 224ms/step - loss: 0.2734 - accuracy: 0.9550 - val_loss: 0.2778 - val_accuracy: 0.9500\n",
      "Epoch 12/15\n",
      "19/19 [==============================] - 4s 224ms/step - loss: 0.1940 - accuracy: 0.9732 - val_loss: 0.2587 - val_accuracy: 0.9600\n",
      "Epoch 13/15\n",
      "19/19 [==============================] - 4s 236ms/step - loss: 0.2304 - accuracy: 0.9623 - val_loss: 0.2183 - val_accuracy: 0.9550\n",
      "Epoch 14/15\n",
      "19/19 [==============================] - 4s 225ms/step - loss: 0.1748 - accuracy: 0.9758 - val_loss: 0.1963 - val_accuracy: 0.9650\n",
      "Epoch 15/15\n",
      "19/19 [==============================] - 4s 224ms/step - loss: 0.1805 - accuracy: 0.9712 - val_loss: 0.1714 - val_accuracy: 0.9650\n"
     ]
    },
    {
     "data": {
      "text/plain": [
       "<tensorflow.python.keras.callbacks.History at 0x1e6437a2940>"
      ]
     },
     "execution_count": 91,
     "metadata": {},
     "output_type": "execute_result"
    }
   ],
   "source": [
    "model.fit(x_train, y_train, epochs=15, batch_size=512, validation_data=(x_val, y_val))"
   ]
  },
  {
   "cell_type": "code",
   "execution_count": 92,
   "metadata": {},
   "outputs": [],
   "source": [
    "y_pred = model.predict(x_test)\n",
    "profile.disable()\n",
    "y_pred = np.argmax(y_pred, axis=1)\n",
    "y_test = np.argmax(y_test, axis=1)\n",
    "profile.dump_stats('output.prof')\n",
    "stream = open('result/keras_kdd_profiling_binary.txt', 'w')\n",
    "stats = pstats.Stats('output.prof', stream=stream)\n",
    "stats.sort_stats('cumtime')\n",
    "stats.print_stats()\n",
    "os.remove('output.prof')"
   ]
  },
  {
   "cell_type": "code",
   "execution_count": 99,
   "metadata": {},
   "outputs": [
    {
     "name": "stdout",
     "output_type": "stream",
     "text": [
      "Il numero di anomalie rilevate dal classificatore è : 1808 di cui 1765 Corrette (TN), 43 scambiate per normali (FP), 19 record normali classificati come anomalie (FN), infine ho 2209 record normali classificati come normali (TP)\n",
      "\n",
      "Ho classificato come anomalie: \n",
      "155 Probe (TN) --> 97.48427672955975 %\n",
      "92 R2L (TN) --> 88.46153846153845 %\n",
      "14 U2R (TN) --> 70.0 %\n",
      "1504 Dos (TN) --> 98.62295081967213 %\n",
      "19 Normali (FN) --> 0.8527827648114902 %\n",
      "\n",
      "Ho classificato come record normali: \n",
      "4 Probe (FP)\n",
      "12 R2L (FP)\n",
      "6 U2R (FP)\n",
      "21 Dos (FP)\n",
      "2209 Normali (TP) --> 99.1472172351885 %\n"
     ]
    },
    {
     "data": {
      "image/png": "[encoded data removed]",
      "text/plain": [
       "<Figure size 432x288 with 2 Axes>"
      ]
     },
     "metadata": {
      "needs_background": "light"
     },
     "output_type": "display_data"
    },
    {
     "name": "stdout",
     "output_type": "stream",
     "text": [
      "              precision    recall  f1-score   support\n",
      "\n",
      "           0       0.99      0.98      0.98      1808\n",
      "           1       0.98      0.99      0.99      2228\n",
      "\n",
      "    accuracy                           0.98      4036\n",
      "   macro avg       0.99      0.98      0.98      4036\n",
      "weighted avg       0.98      0.98      0.98      4036\n",
      "\n"
     ]
    }
   ],
   "source": [
    "conf_matrix = confusion_matrix(y_test, y_pred)\n",
    "\n",
    "count = 0 #contatore per il for\n",
    "\n",
    "y_test_confronti = y_test_confronti.reset_index(drop=True) #resetto gli indici facendoli ripartire da 0\n",
    "normal_to_anomaly = 0\n",
    "num_probe_classificate = 0\n",
    "num_r2l_classificate = 0\n",
    "num_u2r_classificate = 0\n",
    "num_dos_classificate = 0\n",
    "normal_to_normal = 0\n",
    "num_probe_to_normal = 0\n",
    "num_r2l_to_normal = 0\n",
    "num_u2r_to_normal = 0\n",
    "num_dos_to_normal = 0\n",
    "\n",
    "for i in y_pred:\n",
    "    if(i == 0): #il classificatore ha predetto una anomalia\n",
    "        if(y_test_confronti[count] == \"normal\"): #ho classificato una anomalia ma era un record normale\n",
    "            normal_to_anomaly = normal_to_anomaly + 1\n",
    "        if(y_test_confronti[count] == \"probe\"): #ho classificato una anomalia di tipo probe\n",
    "            num_probe_classificate = num_probe_classificate + 1\n",
    "        if(y_test_confronti[count] == \"r2l\"): #ho classificato una anomalia di tipo r2l\n",
    "            num_r2l_classificate = num_r2l_classificate + 1\n",
    "        if(y_test_confronti[count] == \"u2r\"): #ho classificato una anomalia di tipo u2r\n",
    "            num_u2r_classificate = num_u2r_classificate + 1\n",
    "        if(y_test_confronti[count] == \"dos\"): #ho classificato una anomalia di tipo dos\n",
    "            num_dos_classificate = num_dos_classificate + 1\n",
    "    if(i == 1): #il classificatore ha predetto un record normale\n",
    "        if(y_test_confronti[count] == \"normal\"): #ho classificato un record normale e lo era\n",
    "            normal_to_normal = normal_to_normal + 1\n",
    "        if(y_test_confronti[count] == \"probe\"): #ho classificato un record normale e era di tipo probe\n",
    "            num_probe_to_normal = num_probe_to_normal + 1\n",
    "        if(y_test_confronti[count] == \"r2l\"): #ho classificato un record normale e era di tipo r2l\n",
    "            num_r2l_to_normal = num_r2l_to_normal + 1\n",
    "        if(y_test_confronti[count] == \"u2r\"): #ho classificato un record normale e era di tipo u2r\n",
    "            num_u2r_to_normal = num_u2r_to_normal + 1\n",
    "        if(y_test_confronti[count] == \"dos\"): #ho classificato un record normale e era di tipo dos\n",
    "            num_dos_to_normal = num_dos_to_normal + 1\n",
    "    count=count +1\n",
    "\n",
    "disp = ConfusionMatrixDisplay(confusion_matrix=conf_matrix)\n",
    "\n",
    "disp = disp.plot(cmap='YlOrBr')\n",
    "\n",
    "anomalie_rilevate = conf_matrix[0][0]+conf_matrix[0][1]\n",
    "\n",
    "print(\"Il numero di anomalie rilevate dal classificatore è :\",anomalie_rilevate,\n",
    "     \"di cui\",conf_matrix[0][0], \"Corrette (TN),\", \n",
    "     conf_matrix[0][1], \"scambiate per normali (FP),\",\n",
    "     conf_matrix[1][0], \"record normali classificati come anomalie (FN),\",\n",
    "     \"infine ho\", conf_matrix[1][1], \"record normali classificati come normali (TP)\")\n",
    "print(\"\")\n",
    "\n",
    "print(\"Ho classificato come anomalie: \")\n",
    "print(num_probe_classificate, \"Probe (TN) -->\", (num_probe_classificate/num_test_probe)*100,\"%\")\n",
    "print(num_r2l_classificate, \"R2L (TN) -->\", (num_r2l_classificate/num_test_r2l)*100,\"%\")\n",
    "print(num_u2r_classificate, \"U2R (TN) -->\", (num_u2r_classificate/num_test_u2r)*100,\"%\")\n",
    "print(num_dos_classificate, \"Dos (TN) -->\", (num_dos_classificate/num_test_dos)*100,\"%\")\n",
    "print(normal_to_anomaly, \"Normali (FN) -->\", (normal_to_anomaly/num_test_normal)*100,\"%\")\n",
    "\n",
    "print(\"\")\n",
    "\n",
    "print(\"Ho classificato come record normali: \")\n",
    "print(num_probe_to_normal, \"Probe (FP)\")\n",
    "print(num_r2l_to_normal, \"R2L (FP)\")\n",
    "print(num_u2r_to_normal, \"U2R (FP)\")\n",
    "print(num_dos_to_normal, \"Dos (FP)\")\n",
    "print(normal_to_normal, \"Normali (TP) -->\", (normal_to_normal/num_test_normal)*100,\"%\")\n",
    "\n",
    "plt.show()\n",
    "print(classification_report(y_test, y_pred))"
   ]
  },
  {
   "cell_type": "code",
   "execution_count": null,
   "metadata": {},
   "outputs": [],
   "source": []
  }
 ],
 "metadata": {
  "kernelspec": {
   "display_name": "Python 3",
   "language": "python",
   "name": "python3"
  },
  "language_info": {
   "codemirror_mode": {
    "name": "ipython",
    "version": 3
   },
   "file_extension": ".py",
   "mimetype": "text/x-python",
   "name": "python",
   "nbconvert_exporter": "python",
   "pygments_lexer": "ipython3",
   "version": "3.8.3"
  }
 },
 "nbformat": 4,
 "nbformat_minor": 4
}
