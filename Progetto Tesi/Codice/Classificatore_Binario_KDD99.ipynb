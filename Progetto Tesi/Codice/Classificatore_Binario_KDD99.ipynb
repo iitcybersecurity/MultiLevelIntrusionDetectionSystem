{
 "cells": [
  {
   "cell_type": "code",
   "execution_count": 30,
   "metadata": {},
   "outputs": [
    {
     "name": "stdout",
     "output_type": "stream",
     "text": [
      "Librerie importate con successo\n"
     ]
    }
   ],
   "source": [
    "import pandas as pd\n",
    "import numpy as np\n",
    "from tensorflow import keras\n",
    "from tensorflow.keras import regularizers\n",
    "from tensorflow.keras import layers\n",
    "from tensorflow.keras.utils import to_categorical\n",
    "from tensorflow.keras.models import Sequential\n",
    "from tensorflow.keras.layers import Dense , Dropout\n",
    "from sklearn.model_selection import train_test_split as splitter\n",
    "import cProfile\n",
    "import pstats\n",
    "import os\n",
    "import sys\n",
    "from sklearn.metrics import classification_report, confusion_matrix, ConfusionMatrixDisplay\n",
    "from sklearn.preprocessing import LabelEncoder, MinMaxScaler, OneHotEncoder\n",
    "from datetime import datetime\n",
    "from matplotlib import pyplot as plt\n",
    "from matplotlib import dates as md\n",
    "\n",
    "print(\"Librerie importate con successo\")"
   ]
  },
  {
   "cell_type": "code",
   "execution_count": 31,
   "metadata": {},
   "outputs": [
    {
     "name": "stdout",
     "output_type": "stream",
     "text": [
      "Dataset importato con successo\n"
     ]
    }
   ],
   "source": [
    "data = pd.read_csv('../Datasets/kdd_prediction.csv', delimiter=',',\n",
    "                       dtype={'protocol_type': str, 'service': str, 'flag': str, 'result': str})\n",
    "\n",
    "print(\"Dataset importato con successo\")"
   ]
  },
  {
   "cell_type": "code",
   "execution_count": 32,
   "metadata": {},
   "outputs": [
    {
     "name": "stdout",
     "output_type": "stream",
     "text": [
      "Total :  13451\n",
      "Normal :  7500\n",
      "Malicious :  5951\n"
     ]
    },
    {
     "data": {
      "image/png": "[encoded data removed]",
      "text/plain": [
       "<Figure size 432x288 with 1 Axes>"
      ]
     },
     "metadata": {
      "needs_background": "light"
     },
     "output_type": "display_data"
    }
   ],
   "source": [
    "#Effettuo il plot del dataset\n",
    "\n",
    "total_flows_count = data[\"result\"].count()\n",
    "normal_flows_count = len(data[data.result == \"normal\"])\n",
    "anomaly_flows_count = len(data[data.result != \"normal\"])\n",
    "\n",
    "print(\"Total : \",total_flows_count)\n",
    "print(\"Normal : \",normal_flows_count)\n",
    "print(\"Malicious : \",anomaly_flows_count)\n",
    "\n",
    "# x-coordinates of left sides of bars  \n",
    "left = [1, 1.5] \n",
    "  \n",
    "# heights of bars \n",
    "height = [normal_flows_count, anomaly_flows_count] \n",
    "  \n",
    "# labels for bars \n",
    "tick_label = ['Normal', 'Malicious'] \n",
    "  \n",
    "# bar chart\n",
    "plt.bar(left, height, tick_label = tick_label, \n",
    "        width = 0.4, color = ['green', 'red']) \n",
    "  \n",
    "# Rinominazione asse x \n",
    "plt.xlabel('Tipologia di record') \n",
    "# Rinominazione asse y \n",
    "plt.ylabel('Numero di record') \n",
    "# Titolo\n",
    "plt.title('Numero di samples del dataset') \n",
    "  \n",
    "plt.show() "
   ]
  },
  {
   "cell_type": "code",
   "execution_count": 33,
   "metadata": {
    "scrolled": false
   },
   "outputs": [
    {
     "name": "stderr",
     "output_type": "stream",
     "text": [
      "C:\\Users\\39331\\anaconda3\\lib\\site-packages\\pandas\\core\\indexing.py:671: SettingWithCopyWarning: \n",
      "A value is trying to be set on a copy of a slice from a DataFrame\n",
      "\n",
      "See the caveats in the documentation: https://pandas.pydata.org/pandas-docs/stable/user_guide/indexing.html#returning-a-view-versus-a-copy\n",
      "  self._setitem_with_indexer(indexer, value)\n"
     ]
    }
   ],
   "source": [
    "#Converto tutti gli altri tipi di attacco in anomaly in modo da avere solo o normal o anomaly\n",
    "def conversione(df):\n",
    "    datacpy = df.copy()\n",
    "    for i in range(len(datacpy.result)):\n",
    "        if(datacpy.result.loc[i] != 'normal'):\n",
    "            datacpy.result.loc[i] = 'anomaly'\n",
    "    return datacpy\n",
    "\n",
    "df_data_confronti = data.copy()\n",
    "df_data = conversione(data)"
   ]
  },
  {
   "cell_type": "code",
   "execution_count": 34,
   "metadata": {},
   "outputs": [],
   "source": [
    "#Funzioni utili preprocessing\n",
    "\n",
    "#ottiene una service_list dal file service.txt prelevando ogni riga e inserendola in una lista\n",
    "def get_service_list(dirname='list', filename='service_mio.txt'):\n",
    "    print('Getting service list...')\n",
    "    with open(os.path.join(dirname, filename), 'r') as service:\n",
    "        service_list = service.read().split('\\n')\n",
    "    return service_list\n",
    "\n",
    "#ottiene una flag_list dal file flag.txt prelevando ogni riga e inserendola in una lista\n",
    "def get_flag_list(dirname='list', filename='flag_mio.txt'):\n",
    "    print('Getting flag list...')\n",
    "    with open(os.path.join(dirname, filename), 'r') as flag:\n",
    "        flag_list = flag.read().split('\\n')\n",
    "    return flag_list"
   ]
  },
  {
   "cell_type": "code",
   "execution_count": 35,
   "metadata": {},
   "outputs": [
    {
     "name": "stdout",
     "output_type": "stream",
     "text": [
      "Getting service list...\n",
      "Getting flag list...\n",
      "Replacing protocol_type values to numeric...\n",
      "Replacing service values to numeric...\n",
      "Replacing flag values to numeric...\n"
     ]
    }
   ],
   "source": [
    "service_list = get_service_list(dirname='list', filename='service_mio.txt')\n",
    "flag_list = get_flag_list(dirname='list', filename='flag_mio.txt')\n",
    "\n",
    "print('Replacing protocol_type values to numeric...')\n",
    "df_data.protocol_type.replace(['tcp', 'udp', 'icmp'], range(3), inplace=True)\n",
    "\n",
    "print('Replacing service values to numeric...')\n",
    "df_data.service.replace(service_list, range(len(service_list)), inplace=True)\n",
    "\n",
    "print('Replacing flag values to numeric...')\n",
    "df_data.flag.replace(flag_list, range(len(flag_list)), inplace=True)\n",
    "\n",
    "df_data.result.replace(['anomaly','normal'], range(2), inplace=True)"
   ]
  },
  {
   "cell_type": "code",
   "execution_count": 36,
   "metadata": {},
   "outputs": [
    {
     "name": "stdout",
     "output_type": "stream",
     "text": [
      "Conversione feature \"count\" in linguaggio macchina . . .\n",
      "Conversione indici 1,2,3 in linguaggio macchina . . .\n",
      "Rimuovo le features di indici 1,2,3 e concateno un hot encoder array\n",
      "\n",
      "\n",
      "Final shape of data: (13451, 95)\n",
      "\n",
      "\n"
     ]
    }
   ],
   "source": [
    "sc = MinMaxScaler()\n",
    "enc = OneHotEncoder(categories=[range(3), range(len(service_list)), range(len(flag_list))])\n",
    "num_desc = df_data.loc[:, ['duration', 'src_bytes', 'dst_bytes']].describe()\n",
    "\n",
    "label, df_label = [], []\n",
    "    \n",
    "label = df_data['result'].copy().values.reshape((df_data.shape[0], 1))\n",
    "df_label = pd.DataFrame(label)\n",
    "df_data.drop(['result'], axis=1, inplace=True)   \n",
    "\n",
    "attr_name = ['duration', '', '', '', 'src_bytes', 'dst_bytes']\n",
    "\n",
    "for i in ['duration', 'src_bytes', 'dst_bytes']:\n",
    "    iqr = (num_desc[i].values[6] - num_desc[i].values[4])\n",
    "    std = num_desc[i].values[6] + iqr * 1.5  # IQR upper fence = Q3 + 1.5 * IQR\n",
    "    if std == 0:\n",
    "        df_data[i] = df_data[i].map(lambda x: 1 if x > 0 else 0)\n",
    "    else:\n",
    "        df_data[i] = df_data[i].map(lambda x: std if x > std else x)\n",
    "sc.fit(df_data[['duration', 'src_bytes', 'dst_bytes']].values)\n",
    "df_data[['duration', 'src_bytes', 'dst_bytes']] = sc.transform(df_data[['duration', 'src_bytes', 'dst_bytes']].values)\n",
    "\n",
    "print('Conversione feature \"count\" in linguaggio macchina . . .')\n",
    "sc.fit(df_data[['count']].values.astype(np.float32))\n",
    "df_data[['count']] = sc.transform(data[['count']].values.astype(np.float32))\n",
    "\n",
    "print('Conversione indici 1,2,3 in linguaggio macchina . . .')\n",
    "enc.fit(df_data[['protocol_type','service','flag']].values)\n",
    "one_hot_arr = enc.transform(df_data[['protocol_type','service','flag']].values).toarray()\n",
    "\n",
    "print('Rimuovo le features di indici 1,2,3 e concateno un hot encoder array')\n",
    "df_data.drop(['protocol_type','service','flag'], axis=1, inplace=True)\n",
    "data_final = np.concatenate((df_data.values, one_hot_arr, df_label), axis=1)\n",
    "data_final = pd.DataFrame(data_final)\n",
    "\n",
    "print(\"\")\n",
    "print(\"\")\n",
    "print('Final shape of data:', data_final.shape)\n",
    "print(\"\")\n",
    "print(\"\")\n"
   ]
  },
  {
   "cell_type": "code",
   "execution_count": 37,
   "metadata": {},
   "outputs": [
    {
     "name": "stdout",
     "output_type": "stream",
     "text": [
      "y_test_confronti: \n",
      "5442    normal\n",
      "8755       dos\n",
      "5352    normal\n",
      "400     normal\n",
      "5772    normal\n",
      "         ...  \n",
      "5036     probe\n",
      "8286     probe\n",
      "2264    normal\n",
      "5819    normal\n",
      "7417       dos\n",
      "Name: result, Length: 4036, dtype: object\n",
      "y_test: \n",
      "5442    1.0\n",
      "8755    0.0\n",
      "5352    1.0\n",
      "400     1.0\n",
      "5772    1.0\n",
      "       ... \n",
      "5036    0.0\n",
      "8286    0.0\n",
      "2264    1.0\n",
      "5819    1.0\n",
      "7417    0.0\n",
      "Name: 94, Length: 4036, dtype: float64\n"
     ]
    }
   ],
   "source": [
    "seed = 5392\n",
    "\n",
    "#dati di train e test per calcolare FP/FN etc.\n",
    "y1 = df_data_confronti.result\n",
    "y_train_confronti, y_test_confronti = splitter(y1, test_size=0.3, random_state=seed)\n",
    "print(\"y_test_confronti: \")\n",
    "print(y_test_confronti)\n",
    "\n",
    "y = data_final[94]\n",
    "x = data_final.drop([94], axis=1)\n",
    "\n",
    "profile = cProfile.Profile()\n",
    "x_train, x_test, y_train, y_test = splitter(x, y, test_size=0.3, random_state=seed)\n",
    "print('y_test: ')\n",
    "print(y_test)"
   ]
  },
  {
   "cell_type": "code",
   "execution_count": 38,
   "metadata": {},
   "outputs": [
    {
     "name": "stdout",
     "output_type": "stream",
     "text": [
      "Il dataset per il train è composto da :  9415 record\n",
      "Il dataset per il train è composto da :  4143 anomalie\n",
      "Il dataset per il train è composto da :  5272 record normali\n"
     ]
    },
    {
     "data": {
      "image/png": "[encoded data removed]",
      "text/plain": [
       "<Figure size 432x288 with 1 Axes>"
      ]
     },
     "metadata": {
      "needs_background": "light"
     },
     "output_type": "display_data"
    }
   ],
   "source": [
    "num_train = len(x_train)\n",
    "num_train_normal = 0\n",
    "\n",
    "print(\"Il dataset per il train è composto da : \",num_train,\"record\")\n",
    "\n",
    "for i in y_train_confronti:\n",
    "    if(i == 'normal'):\n",
    "        num_train_normal = num_train_normal + 1\n",
    "        \n",
    "num_train_anomaly = num_train - num_train_normal\n",
    "\n",
    "print(\"Il dataset per il train è composto da : \",num_train_anomaly,\"anomalie\")\n",
    "print(\"Il dataset per il train è composto da : \",num_train_normal,\"record normali\")\n",
    "\n",
    "# x-coordinates of left sides of bars  \n",
    "left = [1, 1.5] \n",
    "  \n",
    "# heights of bars \n",
    "height = [num_train_normal, num_train_anomaly] \n",
    "  \n",
    "# labels for bars \n",
    "tick_label = ['Normal', 'Malicious'] \n",
    "  \n",
    "# bar chart\n",
    "plt.bar(left, height, tick_label = tick_label, \n",
    "        width = 0.4, color = ['cyan', 'mediumvioletred']) \n",
    "  \n",
    "# Rinominazione asse x \n",
    "plt.xlabel('Tipologia di record') \n",
    "# Rinominazione asse y \n",
    "plt.ylabel('Numero di record') \n",
    "# Titolo\n",
    "plt.title('Numero di samples del dataset di train') \n",
    "  \n",
    "plt.show() "
   ]
  },
  {
   "cell_type": "code",
   "execution_count": 39,
   "metadata": {},
   "outputs": [
    {
     "name": "stdout",
     "output_type": "stream",
     "text": [
      "Il dataset per il test è composto da :  4036 record (sia normali che anomali)\n",
      "\n",
      "Il dataset per il test è composto da :  4036 record\n",
      "Il dataset per il test è composto da :  1808 anomalie\n",
      "Il dataset per il test è composto da :  2228 record normali\n"
     ]
    },
    {
     "data": {
      "image/png": "[encoded data removed]",
      "text/plain": [
       "<Figure size 432x288 with 1 Axes>"
      ]
     },
     "metadata": {
      "needs_background": "light"
     },
     "output_type": "display_data"
    },
    {
     "name": "stdout",
     "output_type": "stream",
     "text": [
      "Il dataset per il test è composto da 1808 anomalie di cui :\n",
      "i) 1525 record Dos\n",
      "ii) 104 record R2L\n",
      "iii) 20 record U2R\n",
      "iv) 159 record Probe\n",
      "\n",
      "Il dataset per il test è composto da 2228 record normali\n"
     ]
    }
   ],
   "source": [
    "num_test = len(x_test)\n",
    "num_test_normal = 0\n",
    "num_test_dos = 0\n",
    "num_test_r2l = 0\n",
    "num_test_probe = 0\n",
    "num_test_u2r = 0\n",
    "\n",
    "print(\"Il dataset per il test è composto da : \",num_test,\"record (sia normali che anomali)\")\n",
    "print(\"\")\n",
    "\n",
    "for i in y_test_confronti:\n",
    "    if(i == 'normal'):\n",
    "        num_test_normal = num_test_normal + 1\n",
    "    if(i == 'dos'):\n",
    "        num_test_dos = num_test_dos + 1\n",
    "    if(i == 'r2l'):\n",
    "        num_test_r2l = num_test_r2l + 1\n",
    "    if(i == 'u2r'):\n",
    "        num_test_u2r = num_test_u2r + 1\n",
    "    if(i == 'probe'):\n",
    "        num_test_probe = num_test_probe + 1\n",
    "\n",
    "num_test_anomaly = num_test - num_test_normal\n",
    "\n",
    "print(\"Il dataset per il test è composto da : \",num_test,\"record\")\n",
    "print(\"Il dataset per il test è composto da : \",num_test_anomaly,\"anomalie\")\n",
    "print(\"Il dataset per il test è composto da : \",num_test_normal,\"record normali\")\n",
    "\n",
    "# x-coordinates of left sides of bars  \n",
    "left = [1, 1.5] \n",
    "  \n",
    "# heights of bars \n",
    "height = [num_test_normal, num_test_anomaly] \n",
    "  \n",
    "# labels for bars \n",
    "tick_label = ['Normal', 'Malicious'] \n",
    "  \n",
    "# bar chart\n",
    "plt.bar(left, height, tick_label = tick_label, \n",
    "        width = 0.4, color = ['darkseagreen', 'sandybrown']) \n",
    "  \n",
    "# Rinominazione asse x \n",
    "plt.xlabel('Tipologia di record') \n",
    "# Rinominazione asse y \n",
    "plt.ylabel('Numero di record') \n",
    "# Titolo\n",
    "plt.title('Numero di samples del dataset di test') \n",
    "  \n",
    "plt.show() \n",
    "\n",
    "print(\"Il dataset per il test è composto da\",num_test_anomaly,\"anomalie di cui :\")\n",
    "print(\"i)\",num_test_dos, \"record Dos\")\n",
    "print(\"ii)\",num_test_r2l, \"record R2L\")\n",
    "print(\"iii)\",num_test_u2r, \"record U2R\")\n",
    "print(\"iv)\",num_test_probe, \"record Probe\")\n",
    "print(\"\")\n",
    "print(\"Il dataset per il test è composto da\",num_test_normal,\"record normali\")"
   ]
  },
  {
   "cell_type": "code",
   "execution_count": 40,
   "metadata": {},
   "outputs": [],
   "source": [
    "profile.enable()\n",
    "y_train = to_categorical(y_train)\n",
    "y_test = to_categorical(y_test)\n",
    "val_indices = 200\n",
    "x_val = x_train[-val_indices:]\n",
    "y_val = y_train[-val_indices:]"
   ]
  },
  {
   "cell_type": "code",
   "execution_count": 41,
   "metadata": {},
   "outputs": [
    {
     "name": "stdout",
     "output_type": "stream",
     "text": [
      "Model: \"sequential\"\n",
      "_________________________________________________________________\n",
      "Layer (type)                 Output Shape              Param #   \n",
      "=================================================================\n",
      "dense (Dense)                (None, 1024)              97280     \n",
      "_________________________________________________________________\n",
      "dense_1 (Dense)              (None, 1024)              1049600   \n",
      "_________________________________________________________________\n",
      "dropout (Dropout)            (None, 1024)              0         \n",
      "_________________________________________________________________\n",
      "dense_2 (Dense)              (None, 1024)              1049600   \n",
      "_________________________________________________________________\n",
      "dense_3 (Dense)              (None, 1024)              1049600   \n",
      "_________________________________________________________________\n",
      "dropout_1 (Dropout)          (None, 1024)              0         \n",
      "_________________________________________________________________\n",
      "dense_4 (Dense)              (None, 1024)              1049600   \n",
      "_________________________________________________________________\n",
      "dense_5 (Dense)              (None, 1024)              1049600   \n",
      "_________________________________________________________________\n",
      "dropout_2 (Dropout)          (None, 1024)              0         \n",
      "_________________________________________________________________\n",
      "dense_6 (Dense)              (None, 512)               524800    \n",
      "_________________________________________________________________\n",
      "dense_7 (Dense)              (None, 512)               262656    \n",
      "_________________________________________________________________\n",
      "dense_8 (Dense)              (None, 2)                 1026      \n",
      "=================================================================\n",
      "Total params: 6,133,762\n",
      "Trainable params: 6,133,762\n",
      "Non-trainable params: 0\n",
      "_________________________________________________________________\n"
     ]
    }
   ],
   "source": [
    "model = Sequential()\n",
    "model.add(Dense(1024, activation='relu', input_dim=x_train.shape[1], kernel_regularizer=regularizers.l2(0.001)))\n",
    "model.add(Dense(1024, activation='relu', kernel_regularizer=regularizers.l2(0.001)))\n",
    "model.add(Dropout(0.5))\n",
    "model.add(Dense(1024, activation='relu', kernel_regularizer=regularizers.l2(0.001)))\n",
    "model.add(Dense(1024, activation='relu', kernel_regularizer=regularizers.l2(0.001)))\n",
    "model.add(Dropout(0.5))\n",
    "model.add(Dense(1024, activation='relu', kernel_regularizer=regularizers.l2(0.001)))\n",
    "model.add(Dense(1024, activation='relu', kernel_regularizer=regularizers.l2(0.001)))\n",
    "model.add(Dropout(0.5))\n",
    "model.add(Dense(512, activation='relu', kernel_regularizer=regularizers.l2(0.001)))\n",
    "model.add(Dense(512, activation='relu', kernel_regularizer=regularizers.l2(0.001)))\n",
    "model.add(Dense(2, activation='softmax'))\n",
    "model.compile(loss='categorical_crossentropy', optimizer='rmsprop', metrics=['accuracy'])\n",
    "model.summary()"
   ]
  },
  {
   "cell_type": "code",
   "execution_count": 42,
   "metadata": {},
   "outputs": [
    {
     "name": "stdout",
     "output_type": "stream",
     "text": [
      "Epoch 1/15\n",
      "19/19 [==============================] - 4s 185ms/step - loss: 4.7019 - accuracy: 0.7807 - val_loss: 2.8966 - val_accuracy: 0.9800\n",
      "Epoch 2/15\n",
      "19/19 [==============================] - 3s 157ms/step - loss: 2.2231 - accuracy: 0.9845 - val_loss: 1.5172 - val_accuracy: 0.9950\n",
      "Epoch 3/15\n",
      "19/19 [==============================] - 3s 164ms/step - loss: 1.1882 - accuracy: 0.9866 - val_loss: 0.7884 - val_accuracy: 1.0000\n",
      "Epoch 4/15\n",
      "19/19 [==============================] - 4s 198ms/step - loss: 0.6366 - accuracy: 0.9814 - val_loss: 0.4006 - val_accuracy: 0.9950\n",
      "Epoch 5/15\n",
      "19/19 [==============================] - 3s 172ms/step - loss: 0.3609 - accuracy: 0.9836 - val_loss: 0.2259 - val_accuracy: 0.9950\n",
      "Epoch 6/15\n",
      "19/19 [==============================] - 4s 193ms/step - loss: 0.2174 - accuracy: 0.9878 - val_loss: 0.2196 - val_accuracy: 0.9750\n",
      "Epoch 7/15\n",
      "19/19 [==============================] - 3s 173ms/step - loss: 0.1796 - accuracy: 0.9847 - val_loss: 0.1253 - val_accuracy: 0.9850\n",
      "Epoch 8/15\n",
      "19/19 [==============================] - 4s 186ms/step - loss: 0.1285 - accuracy: 0.9869 - val_loss: 0.0825 - val_accuracy: 1.0000\n",
      "Epoch 9/15\n",
      "19/19 [==============================] - 3s 180ms/step - loss: 0.1366 - accuracy: 0.9832 - val_loss: 0.0795 - val_accuracy: 0.9950\n",
      "Epoch 10/15\n",
      "19/19 [==============================] - 3s 173ms/step - loss: 0.1006 - accuracy: 0.9886 - val_loss: 0.0667 - val_accuracy: 0.9950\n",
      "Epoch 11/15\n",
      "19/19 [==============================] - 3s 173ms/step - loss: 0.1041 - accuracy: 0.9858 - val_loss: 0.0580 - val_accuracy: 1.0000\n",
      "Epoch 12/15\n",
      "19/19 [==============================] - 3s 178ms/step - loss: 0.0935 - accuracy: 0.9877 - val_loss: 0.0579 - val_accuracy: 0.9950\n",
      "Epoch 13/15\n",
      "19/19 [==============================] - 3s 180ms/step - loss: 0.0869 - accuracy: 0.9891 - val_loss: 0.0599 - val_accuracy: 0.9950\n",
      "Epoch 14/15\n",
      "19/19 [==============================] - 3s 174ms/step - loss: 0.0939 - accuracy: 0.9864 - val_loss: 0.0695 - val_accuracy: 0.9950\n",
      "Epoch 15/15\n",
      "19/19 [==============================] - 3s 171ms/step - loss: 0.0825 - accuracy: 0.9875 - val_loss: 0.0515 - val_accuracy: 0.9950\n"
     ]
    }
   ],
   "source": [
    "history = model.fit(x_train,\n",
    "                    y_train,\n",
    "                    epochs=15,\n",
    "                    batch_size=512,\n",
    "                    validation_data=(x_val, y_val)\n",
    "                   )"
   ]
  },
  {
   "cell_type": "code",
   "execution_count": 43,
   "metadata": {},
   "outputs": [
    {
     "data": {
      "text/plain": [
       "<matplotlib.legend.Legend at 0x2a06754a4f0>"
      ]
     },
     "execution_count": 43,
     "metadata": {},
     "output_type": "execute_result"
    },
    {
     "data": {
      "image/png": "[encoded data removed]",
      "text/plain": [
       "<Figure size 432x288 with 1 Axes>"
      ]
     },
     "metadata": {
      "needs_background": "light"
     },
     "output_type": "display_data"
    }
   ],
   "source": [
    "plt.plot(history.history[\"loss\"], label=\"Training Loss\")\n",
    "plt.plot(history.history[\"val_loss\"], label=\"Validation Loss\")\n",
    "plt.legend()"
   ]
  },
  {
   "cell_type": "code",
   "execution_count": 44,
   "metadata": {},
   "outputs": [],
   "source": [
    "y_pred = model.predict(x_test)\n",
    "profile.disable()\n",
    "y_pred = np.argmax(y_pred, axis=1)\n",
    "y_test = np.argmax(y_test, axis=1)\n",
    "profile.dump_stats('output.prof')\n",
    "stream = open('result/keras_kdd_profiling_binary.txt', 'w')\n",
    "stats = pstats.Stats('output.prof', stream=stream)\n",
    "stats.sort_stats('cumtime')\n",
    "stats.print_stats()\n",
    "os.remove('output.prof')"
   ]
  },
  {
   "cell_type": "code",
   "execution_count": 45,
   "metadata": {},
   "outputs": [
    {
     "name": "stdout",
     "output_type": "stream",
     "text": [
      "Il numero di anomalie rilevate dal classificatore è : 1808 di cui 1789 Corrette (TN), 19 scambiate per normali (FP), 17 record normali classificati come anomalie (FN), infine ho 2211 record normali classificati come normali (TP)\n",
      "\n",
      "Ho classificato come anomalie: \n",
      "151 Probe (TN) --> 94.9685534591195 %\n",
      "99 R2L (TN) --> 95.1923076923077 %\n",
      "17 U2R (TN) --> 85.0 %\n",
      "1522 Dos (TN) --> 99.80327868852459 %\n",
      "17 Normali (FN) --> 0.763016157989228 %\n",
      "\n",
      "Ho classificato come record normali: \n",
      "8 Probe (FP)\n",
      "5 R2L (FP)\n",
      "3 U2R (FP)\n",
      "3 Dos (FP)\n",
      "2211 Normali (TP) --> 99.23698384201077 %\n"
     ]
    },
    {
     "data": {
      "image/png": "[encoded data removed]",
      "text/plain": [
       "<Figure size 432x288 with 2 Axes>"
      ]
     },
     "metadata": {
      "needs_background": "light"
     },
     "output_type": "display_data"
    },
    {
     "name": "stdout",
     "output_type": "stream",
     "text": [
      "              precision    recall  f1-score   support\n",
      "\n",
      "           0       0.99      0.99      0.99      1808\n",
      "           1       0.99      0.99      0.99      2228\n",
      "\n",
      "    accuracy                           0.99      4036\n",
      "   macro avg       0.99      0.99      0.99      4036\n",
      "weighted avg       0.99      0.99      0.99      4036\n",
      "\n"
     ]
    }
   ],
   "source": [
    "conf_matrix = confusion_matrix(y_test, y_pred)\n",
    "\n",
    "count = 0 #contatore per il for\n",
    "\n",
    "y_test_confronti = y_test_confronti.reset_index(drop=True) #resetto gli indici facendoli ripartire da 0\n",
    "normal_to_anomaly = 0\n",
    "num_probe_classificate = 0\n",
    "num_r2l_classificate = 0\n",
    "num_u2r_classificate = 0\n",
    "num_dos_classificate = 0\n",
    "normal_to_normal = 0\n",
    "num_probe_to_normal = 0\n",
    "num_r2l_to_normal = 0\n",
    "num_u2r_to_normal = 0\n",
    "num_dos_to_normal = 0\n",
    "\n",
    "for i in y_pred:\n",
    "    if(i == 0): #il classificatore ha predetto una anomalia\n",
    "        if(y_test_confronti[count] == \"normal\"): #ho classificato una anomalia ma era un record normale\n",
    "            normal_to_anomaly = normal_to_anomaly + 1\n",
    "        if(y_test_confronti[count] == \"probe\"): #ho classificato una anomalia di tipo probe\n",
    "            num_probe_classificate = num_probe_classificate + 1\n",
    "        if(y_test_confronti[count] == \"r2l\"): #ho classificato una anomalia di tipo r2l\n",
    "            num_r2l_classificate = num_r2l_classificate + 1\n",
    "        if(y_test_confronti[count] == \"u2r\"): #ho classificato una anomalia di tipo u2r\n",
    "            num_u2r_classificate = num_u2r_classificate + 1\n",
    "        if(y_test_confronti[count] == \"dos\"): #ho classificato una anomalia di tipo dos\n",
    "            num_dos_classificate = num_dos_classificate + 1\n",
    "    if(i == 1): #il classificatore ha predetto un record normale\n",
    "        if(y_test_confronti[count] == \"normal\"): #ho classificato un record normale e lo era\n",
    "            normal_to_normal = normal_to_normal + 1\n",
    "        if(y_test_confronti[count] == \"probe\"): #ho classificato un record normale e era di tipo probe\n",
    "            num_probe_to_normal = num_probe_to_normal + 1\n",
    "        if(y_test_confronti[count] == \"r2l\"): #ho classificato un record normale e era di tipo r2l\n",
    "            num_r2l_to_normal = num_r2l_to_normal + 1\n",
    "        if(y_test_confronti[count] == \"u2r\"): #ho classificato un record normale e era di tipo u2r\n",
    "            num_u2r_to_normal = num_u2r_to_normal + 1\n",
    "        if(y_test_confronti[count] == \"dos\"): #ho classificato un record normale e era di tipo dos\n",
    "            num_dos_to_normal = num_dos_to_normal + 1\n",
    "    count=count +1\n",
    "\n",
    "disp = ConfusionMatrixDisplay(confusion_matrix=conf_matrix)\n",
    "\n",
    "disp = disp.plot(cmap='YlOrBr')\n",
    "\n",
    "anomalie_rilevate = conf_matrix[0][0]+conf_matrix[0][1]\n",
    "\n",
    "print(\"Il numero di anomalie rilevate dal classificatore è :\",anomalie_rilevate,\n",
    "     \"di cui\",conf_matrix[0][0], \"Corrette (TN),\", \n",
    "     conf_matrix[0][1], \"scambiate per normali (FP),\",\n",
    "     conf_matrix[1][0], \"record normali classificati come anomalie (FN),\",\n",
    "     \"infine ho\", conf_matrix[1][1], \"record normali classificati come normali (TP)\")\n",
    "print(\"\")\n",
    "\n",
    "print(\"Ho classificato come anomalie: \")\n",
    "print(num_probe_classificate, \"Probe (TN) -->\", (num_probe_classificate/num_test_probe)*100,\"%\")\n",
    "print(num_r2l_classificate, \"R2L (TN) -->\", (num_r2l_classificate/num_test_r2l)*100,\"%\")\n",
    "print(num_u2r_classificate, \"U2R (TN) -->\", (num_u2r_classificate/num_test_u2r)*100,\"%\")\n",
    "print(num_dos_classificate, \"Dos (TN) -->\", (num_dos_classificate/num_test_dos)*100,\"%\")\n",
    "print(normal_to_anomaly, \"Normali (FN) -->\", (normal_to_anomaly/num_test_normal)*100,\"%\")\n",
    "\n",
    "print(\"\")\n",
    "\n",
    "print(\"Ho classificato come record normali: \")\n",
    "print(num_probe_to_normal, \"Probe (FP)\")\n",
    "print(num_r2l_to_normal, \"R2L (FP)\")\n",
    "print(num_u2r_to_normal, \"U2R (FP)\")\n",
    "print(num_dos_to_normal, \"Dos (FP)\")\n",
    "print(normal_to_normal, \"Normali (TP) -->\", (normal_to_normal/num_test_normal)*100,\"%\")\n",
    "\n",
    "plt.show()\n",
    "print(classification_report(y_test, y_pred))"
   ]
  },
  {
   "cell_type": "code",
   "execution_count": null,
   "metadata": {},
   "outputs": [],
   "source": []
  }
 ],
 "metadata": {
  "kernelspec": {
   "display_name": "Python 3",
   "language": "python",
   "name": "python3"
  },
  "language_info": {
   "codemirror_mode": {
    "name": "ipython",
    "version": 3
   },
   "file_extension": ".py",
   "mimetype": "text/x-python",
   "name": "python",
   "nbconvert_exporter": "python",
   "pygments_lexer": "ipython3",
   "version": "3.8.3"
  }
 },
 "nbformat": 4,
 "nbformat_minor": 4
}
