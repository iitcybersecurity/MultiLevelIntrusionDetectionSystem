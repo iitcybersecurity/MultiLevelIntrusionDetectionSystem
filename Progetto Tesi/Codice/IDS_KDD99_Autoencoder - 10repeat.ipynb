{
 "cells": [
  {
   "cell_type": "code",
   "execution_count": 1,
   "metadata": {},
   "outputs": [
    {
     "name": "stdout",
     "output_type": "stream",
     "text": [
      "Librerie importate con successo\n"
     ]
    }
   ],
   "source": [
    "import pandas as pd\n",
    "import numpy as np\n",
    "from tensorflow import keras\n",
    "from tensorflow.keras import regularizers\n",
    "from tensorflow.keras import layers\n",
    "from tensorflow.keras.utils import to_categorical\n",
    "from tensorflow.keras.models import Sequential\n",
    "from sklearn.model_selection import train_test_split as splitter\n",
    "import cProfile\n",
    "import pstats\n",
    "import os\n",
    "import sys\n",
    "from sklearn.metrics import classification_report, confusion_matrix\n",
    "from sklearn.preprocessing import LabelEncoder\n",
    "from sklearn.preprocessing import OneHotEncoder\n",
    "from sklearn.preprocessing import MinMaxScaler\n",
    "from datetime import datetime\n",
    "from matplotlib import pyplot as plt\n",
    "from matplotlib import dates as md\n",
    "\n",
    "print(\"Librerie importate con successo\")"
   ]
  },
  {
   "cell_type": "code",
   "execution_count": 2,
   "metadata": {},
   "outputs": [
    {
     "name": "stdout",
     "output_type": "stream",
     "text": [
      "Shape del dataset :  (13451, 22)\n"
     ]
    }
   ],
   "source": [
    "#Carico il dataset\n",
    "\n",
    "data = pd.read_csv('../Datasets/kdd_prediction.csv', delimiter=',',\n",
    "                       dtype={'protocol_type': str, 'service': str, 'flag': str, 'result': str})\n",
    "\n",
    "data = data.sample(frac=1, random_state=45).reset_index(drop=True) #shuffle\n",
    "\n",
    "print(\"Shape del dataset : \", data.shape)\n"
   ]
  },
  {
   "cell_type": "code",
   "execution_count": 3,
   "metadata": {},
   "outputs": [
    {
     "name": "stdout",
     "output_type": "stream",
     "text": [
      "Total :  13451\n",
      "Normal :  7500\n",
      "Malicious :  5951\n"
     ]
    },
    {
     "data": {
      "image/png": "[encoded data removed]",
      "text/plain": [
       "<Figure size 432x288 with 1 Axes>"
      ]
     },
     "metadata": {
      "needs_background": "light"
     },
     "output_type": "display_data"
    }
   ],
   "source": [
    "#Effettuo il plot del dataset\n",
    "\n",
    "total_flows_count = data[\"result\"].count()\n",
    "normal_flows_count = len(data[data.result == \"normal\"])\n",
    "anomaly_flows_count = len(data[data.result != \"normal\"])\n",
    "\n",
    "print(\"Total : \",total_flows_count)\n",
    "print(\"Normal : \",normal_flows_count)\n",
    "print(\"Malicious : \",anomaly_flows_count)\n",
    "\n",
    "# x-coordinates of left sides of bars  \n",
    "left = [1, 1.5] \n",
    "  \n",
    "# heights of bars \n",
    "height = [normal_flows_count, anomaly_flows_count] \n",
    "  \n",
    "# labels for bars \n",
    "tick_label = ['Normal', 'Malicious'] \n",
    "  \n",
    "# bar chart\n",
    "plt.bar(left, height, tick_label = tick_label, \n",
    "        width = 0.4, color = ['green', 'red']) \n",
    "  \n",
    "# Rinominazione asse x \n",
    "plt.xlabel('Tipologia di record') \n",
    "# Rinominazione asse y \n",
    "plt.ylabel('Numero di record') \n",
    "# Titolo\n",
    "plt.title('Numero di samples del dataset') \n",
    "  \n",
    "plt.show() "
   ]
  },
  {
   "cell_type": "code",
   "execution_count": 4,
   "metadata": {
    "scrolled": true
   },
   "outputs": [
    {
     "name": "stdout",
     "output_type": "stream",
     "text": [
      "R2L :  381      Normal :  7500\n",
      "U2R :  50       DOS :  5000\n",
      "Probe :  520\n"
     ]
    },
    {
     "data": {
      "image/png": "[encoded data removed]",
      "text/plain": [
       "<Figure size 432x288 with 1 Axes>"
      ]
     },
     "metadata": {
      "needs_background": "light"
     },
     "output_type": "display_data"
    }
   ],
   "source": [
    "#plot che mi mostra la suddivisione tra i 4 attacchi\n",
    "\n",
    "r2l_flows_count = len(data[data.result == \"r2l\"])\n",
    "u2r_flows_count = len(data[data.result == \"u2r\"])\n",
    "dos_flows_count = len(data[data.result == \"dos\"])\n",
    "probe_flows_count = len(data[data.result == \"probe\"])\n",
    "\n",
    "print(\"R2L : \",r2l_flows_count,\"     Normal : \",normal_flows_count)\n",
    "print(\"U2R : \",u2r_flows_count,\"      DOS : \",dos_flows_count)\n",
    "print(\"Probe : \",probe_flows_count)\n",
    "\n",
    "left = [1, 1.5, 2, 2.5, 3] \n",
    "  \n",
    "# heights of bars \n",
    "height = [normal_flows_count, r2l_flows_count, u2r_flows_count, dos_flows_count, probe_flows_count] \n",
    "  \n",
    "# labels for bars \n",
    "tick_label = ['Normal', 'R2L', \"U2R\", \"DOS\", \"Probe\"] \n",
    "  \n",
    "# bar chart\n",
    "plt.bar(left, height, tick_label = tick_label, \n",
    "        width = 0.4, color = ['green','yellow', 'orange', 'red', 'purple']) \n",
    "  \n",
    "# Rinominazione asse x \n",
    "plt.xlabel('Tipologia di record') \n",
    "# Rinominazione asse y \n",
    "plt.ylabel('Numero di record') \n",
    "# Titolo\n",
    "plt.title('Suddivisione sample dataset') \n",
    "  \n",
    "plt.show() "
   ]
  },
  {
   "cell_type": "code",
   "execution_count": 5,
   "metadata": {},
   "outputs": [],
   "source": [
    "#Funzioni utili preprocessing\n",
    "\n",
    "#ottiene una service_list dal file service.txt prelevando ogni riga e inserendola in una lista\n",
    "def get_service_list(dirname='list', filename='service_mio.txt'):\n",
    "    print('Getting service list...')\n",
    "    with open(os.path.join(dirname, filename), 'r') as service:\n",
    "        service_list = service.read().split('\\n')\n",
    "    return service_list\n",
    "\n",
    "#ottiene una flag_list dal file flag.txt prelevando ogni riga e inserendola in una lista\n",
    "def get_flag_list(dirname='list', filename='flag_mio.txt'):\n",
    "    print('Getting flag list...')\n",
    "    with open(os.path.join(dirname, filename), 'r') as flag:\n",
    "        flag_list = flag.read().split('\\n')\n",
    "    return flag_list\n",
    "\n",
    "def encode_numeric_zscore(df, name, mean=None, sd=None):\n",
    "    if mean is None:\n",
    "        mean = df[name].mean()\n",
    "\n",
    "    if sd is None:\n",
    "        sd = df[name].std()\n",
    "\n",
    "    df[name] = (df[name] - mean) / sd"
   ]
  },
  {
   "cell_type": "code",
   "execution_count": 6,
   "metadata": {},
   "outputs": [
    {
     "name": "stdout",
     "output_type": "stream",
     "text": [
      "Getting service list...\n",
      "Getting flag list...\n",
      "Replacing protocol_type values to numeric...\n",
      "Replacing service values to numeric...\n",
      "Replacing flag values to numeric...\n"
     ]
    }
   ],
   "source": [
    "service_list = get_service_list(dirname='list', filename='service_mio.txt')\n",
    "flag_list = get_flag_list(dirname='list', filename='flag_mio.txt')\n",
    "\n",
    "print('Replacing protocol_type values to numeric...')\n",
    "data.protocol_type.replace(['tcp', 'udp', 'icmp'], range(3), inplace=True)\n",
    "\n",
    "print('Replacing service values to numeric...')\n",
    "data.service.replace(service_list, range(len(service_list)), inplace=True)\n",
    "\n",
    "print('Replacing flag values to numeric...')\n",
    "data.flag.replace(flag_list, range(len(flag_list)), inplace=True)\n",
    "\n",
    "encode_numeric_zscore(data, 'duration')\n",
    "encode_numeric_zscore(data, 'src_bytes')\n",
    "encode_numeric_zscore(data, 'dst_bytes')\n",
    "encode_numeric_zscore(data, 'land')\n",
    "encode_numeric_zscore(data, 'land')\n",
    "encode_numeric_zscore(data, 'wrong_fragment')\n",
    "encode_numeric_zscore(data, 'urgent')\n",
    "encode_numeric_zscore(data, 'hot')\n",
    "encode_numeric_zscore(data, 'num_failed_logins')\n",
    "encode_numeric_zscore(data, 'logged_in')\n",
    "encode_numeric_zscore(data, 'num_compromised')\n",
    "encode_numeric_zscore(data, 'root_shell')\n",
    "encode_numeric_zscore(data, 'su_attempted')\n",
    "encode_numeric_zscore(data, 'num_root')\n",
    "encode_numeric_zscore(data, 'num_file_creations')\n",
    "encode_numeric_zscore(data, 'num_shells')\n",
    "encode_numeric_zscore(data, 'num_access_files')\n",
    "encode_numeric_zscore(data, 'is_guest_login')\n",
    "encode_numeric_zscore(data, 'count')"
   ]
  },
  {
   "cell_type": "code",
   "execution_count": 7,
   "metadata": {},
   "outputs": [
    {
     "name": "stdout",
     "output_type": "stream",
     "text": [
      "Conversione feature \"count\" in linguaggio macchina . . .\n",
      "Conversione indici 1,2,3 in linguaggio macchina . . .\n",
      "Rimuovo le features di indici 1,2,3 e concateno un hot encoder array\n",
      "\n",
      "\n",
      "Final shape of data: (13451, 95)\n",
      "\n",
      "\n"
     ]
    }
   ],
   "source": [
    "sc = MinMaxScaler()\n",
    "enc = OneHotEncoder(categories=[range(3), range(len(service_list)), range(len(flag_list))])\n",
    "num_desc = data.loc[:, ['duration', 'src_bytes', 'dst_bytes']].describe()\n",
    "\n",
    "label, df_label = [], []\n",
    "    \n",
    "label = data['result'].copy().values.reshape((data.shape[0], 1))\n",
    "df_label = pd.DataFrame(label)\n",
    "data.drop(['result'], axis=1, inplace=True)   \n",
    "\n",
    "attr_name = ['duration', '', '', '', 'src_bytes', 'dst_bytes']\n",
    "\n",
    "for i in ['duration', 'src_bytes', 'dst_bytes']:\n",
    "    iqr = (num_desc[i].values[6] - num_desc[i].values[4])\n",
    "    std = num_desc[i].values[6] + iqr * 1.5  # IQR upper fence = Q3 + 1.5 * IQR\n",
    "    if std == 0:\n",
    "        data[i] = data[i].map(lambda x: 1 if x > 0 else 0)\n",
    "    else:\n",
    "        data[i] = data[i].map(lambda x: std if x > std else x)\n",
    "sc.fit(data[['duration', 'src_bytes', 'dst_bytes']].values)\n",
    "data[['duration', 'src_bytes', 'dst_bytes']] = sc.transform(data[['duration', 'src_bytes', 'dst_bytes']].values)\n",
    "\n",
    "print('Conversione feature \"count\" in linguaggio macchina . . .')\n",
    "sc.fit(data[['count']].values.astype(np.float32))\n",
    "data[['count']] = sc.transform(data[['count']].values.astype(np.float32))\n",
    "\n",
    "print('Conversione indici 1,2,3 in linguaggio macchina . . .')\n",
    "enc.fit(data[['protocol_type','service','flag']].values)\n",
    "one_hot_arr = enc.transform(data[['protocol_type','service','flag']].values).toarray()\n",
    "\n",
    "print('Rimuovo le features di indici 1,2,3 e concateno un hot encoder array')\n",
    "data.drop(['protocol_type','service','flag'], axis=1, inplace=True)\n",
    "data_final = np.concatenate((data.values, one_hot_arr, df_label), axis=1)\n",
    "data_final = pd.DataFrame(data_final)\n",
    "\n",
    "print(\"\")\n",
    "print(\"\")\n",
    "print('Final shape of data:', data_final.shape)\n",
    "print(\"\")\n",
    "print(\"\")"
   ]
  },
  {
   "cell_type": "code",
   "execution_count": 8,
   "metadata": {
    "scrolled": false
   },
   "outputs": [
    {
     "name": "stdout",
     "output_type": "stream",
     "text": [
      "Epoch 1/15\n",
      "71/71 [==============================] - 17s 244ms/step - loss: 0.1375 - val_loss: 0.2215\n",
      "Epoch 2/15\n",
      "71/71 [==============================] - 21s 292ms/step - loss: 0.0994 - val_loss: 0.1756\n",
      "Epoch 3/15\n",
      "71/71 [==============================] - 21s 295ms/step - loss: 0.0728 - val_loss: 0.1734\n",
      "Epoch 4/15\n",
      "71/71 [==============================] - 20s 289ms/step - loss: 0.0717 - val_loss: 0.1721\n",
      "Epoch 5/15\n",
      "71/71 [==============================] - 21s 292ms/step - loss: 0.0707 - val_loss: 0.1709\n",
      "Epoch 6/15\n",
      "71/71 [==============================] - 22s 306ms/step - loss: 0.0702 - val_loss: 0.1709\n",
      "Epoch 7/15\n",
      "71/71 [==============================] - 22s 304ms/step - loss: 0.0698 - val_loss: 0.1705\n",
      "Epoch 8/15\n",
      "71/71 [==============================] - 21s 301ms/step - loss: 0.0698 - val_loss: 0.1705\n",
      "Epoch 9/15\n",
      "71/71 [==============================] - 22s 304ms/step - loss: 0.0697 - val_loss: 0.1694\n",
      "Epoch 10/15\n",
      "71/71 [==============================] - 21s 290ms/step - loss: 0.0696 - val_loss: 0.1696\n",
      "Epoch 11/15\n",
      "71/71 [==============================] - 20s 279ms/step - loss: 0.0694 - val_loss: 0.1694\n",
      "Epoch 12/15\n",
      "71/71 [==============================] - 21s 298ms/step - loss: 0.0694 - val_loss: 0.1690\n",
      "Epoch 13/15\n",
      "71/71 [==============================] - 20s 285ms/step - loss: 0.0692 - val_loss: 0.1672\n",
      "Epoch 14/15\n",
      "71/71 [==============================] - 20s 286ms/step - loss: 0.0692 - val_loss: 0.1672\n",
      "Epoch 15/15\n",
      "71/71 [==============================] - 20s 275ms/step - loss: 0.0690 - val_loss: 0.1664\n"
     ]
    },
    {
     "data": {
      "image/png": "[encoded data removed]",
      "text/plain": [
       "<Figure size 432x288 with 1 Axes>"
      ]
     },
     "metadata": {
      "needs_background": "light"
     },
     "output_type": "display_data"
    },
    {
     "name": "stdout",
     "output_type": "stream",
     "text": [
      "Reconstruction error threshold:  0.016414227\n"
     ]
    },
    {
     "data": {
      "image/png": "[encoded data removed]",
      "text/plain": [
       "<Figure size 432x288 with 1 Axes>"
      ]
     },
     "metadata": {
      "needs_background": "light"
     },
     "output_type": "display_data"
    },
    {
     "name": "stdout",
     "output_type": "stream",
     "text": [
      "Number di sample anomali rilevati:  1517\n",
      "Numero di sample anomali rivelati erroneamente:  343 (FN)\n",
      "Numero di sample anomali rilevati correttamente:  1174 (TN)\n",
      "Numero di sample anomali non rivelati:  16 (FP)\n",
      "Numero di sample normali rivelati correttamente 1157 (TP)\n",
      "\n",
      "Numero di sample anomali U2R rilevati correttamente:  8 (TN)\n",
      "Numero di sample anomali U2R considerati Normali : 4 (FP)\n",
      "Numero di sample anomali R2L rilevati correttamente:  57 (TN)\n",
      "Numero di sample anomali R2L considerati normali : 12 (FP)\n",
      "Numero di sample anomali Probe rilevati correttamente:  93 (TN)\n",
      "Numero di sample anomali Probe considerati normali : 0 (FP)\n",
      "Numero di sample anomali Dos rilevati correttamente:  1016 (TN)\n",
      "Numero di sample anomali Dos considerati normali : 0 (FP)\n",
      "\n",
      "### 0 Anomaly / 1 Normal ###\n"
     ]
    },
    {
     "data": {
      "image/png": "[encoded data removed]",
      "text/plain": [
       "<Figure size 432x288 with 1 Axes>"
      ]
     },
     "metadata": {
      "needs_background": "light"
     },
     "output_type": "display_data"
    },
    {
     "name": "stdout",
     "output_type": "stream",
     "text": [
      "          predicted labels  \n",
      "0 :\n",
      "             precision:  0.774\n",
      "             recall:     0.987\n",
      "\n",
      "\n",
      "1 :\n",
      "             precision:  0.986\n",
      "             recall:     0.771\n",
      "\n",
      "\n",
      "Avg precision:     0.880\n",
      "Avg weight precision:     0.892\n",
      "Avg recall:     0.879\n",
      "Avg weight recall:     0.867\n",
      "\n",
      "Accuracy:  0.86654\n",
      "Epoch 1/15\n",
      "71/71 [==============================] - 20s 275ms/step - loss: 0.0914 - val_loss: 0.1724\n",
      "Epoch 2/15\n",
      "71/71 [==============================] - 19s 274ms/step - loss: 0.0710 - val_loss: 0.1713\n",
      "Epoch 3/15\n",
      "71/71 [==============================] - 20s 283ms/step - loss: 0.0705 - val_loss: 0.1711\n",
      "Epoch 4/15\n",
      "71/71 [==============================] - 21s 290ms/step - loss: 0.0701 - val_loss: 0.1702\n",
      "Epoch 5/15\n",
      "71/71 [==============================] - 20s 275ms/step - loss: 0.0699 - val_loss: 0.1699\n",
      "Epoch 6/15\n",
      "71/71 [==============================] - 20s 282ms/step - loss: 0.0697 - val_loss: 0.1694\n",
      "Epoch 7/15\n",
      "71/71 [==============================] - 20s 282ms/step - loss: 0.0696 - val_loss: 0.1688\n",
      "Epoch 8/15\n",
      "71/71 [==============================] - 20s 278ms/step - loss: 0.0692 - val_loss: 0.1699\n",
      "Epoch 9/15\n",
      "71/71 [==============================] - 20s 280ms/step - loss: 0.0694 - val_loss: 0.1696\n",
      "Epoch 10/15\n",
      "71/71 [==============================] - 20s 288ms/step - loss: 0.0676 - val_loss: 0.1807\n",
      "Epoch 11/15\n",
      "71/71 [==============================] - 21s 299ms/step - loss: 0.0682 - val_loss: 0.1539\n",
      "Epoch 12/15\n",
      "71/71 [==============================] - 20s 282ms/step - loss: 0.0627 - val_loss: 0.1410\n",
      "Epoch 13/15\n",
      "71/71 [==============================] - 20s 281ms/step - loss: 0.0593 - val_loss: 0.1242\n",
      "Epoch 14/15\n",
      "71/71 [==============================] - 20s 288ms/step - loss: 0.0586 - val_loss: 0.1130\n",
      "Epoch 15/15\n",
      "71/71 [==============================] - 21s 289ms/step - loss: 0.0562 - val_loss: 0.1319\n"
     ]
    },
    {
     "data": {
      "image/png": "[encoded data removed]",
      "text/plain": [
       "<Figure size 432x288 with 1 Axes>"
      ]
     },
     "metadata": {
      "needs_background": "light"
     },
     "output_type": "display_data"
    },
    {
     "name": "stdout",
     "output_type": "stream",
     "text": [
      "Reconstruction error threshold:  0.033848964\n"
     ]
    },
    {
     "data": {
      "image/png": "[encoded data removed]",
      "text/plain": [
       "<Figure size 432x288 with 1 Axes>"
      ]
     },
     "metadata": {
      "needs_background": "light"
     },
     "output_type": "display_data"
    },
    {
     "name": "stdout",
     "output_type": "stream",
     "text": [
      "Number di sample anomali rilevati:  1518\n",
      "Numero di sample anomali rivelati erroneamente:  346 (FN)\n",
      "Numero di sample anomali rilevati correttamente:  1172 (TN)\n",
      "Numero di sample anomali non rivelati:  18 (FP)\n",
      "Numero di sample normali rivelati correttamente 1154 (TP)\n",
      "\n",
      "Numero di sample anomali U2R rilevati correttamente:  8 (TN)\n",
      "Numero di sample anomali U2R considerati Normali : 4 (FP)\n",
      "Numero di sample anomali R2L rilevati correttamente:  58 (TN)\n",
      "Numero di sample anomali R2L considerati normali : 11 (FP)\n",
      "Numero di sample anomali Probe rilevati correttamente:  92 (TN)\n",
      "Numero di sample anomali Probe considerati normali : 1 (FP)\n",
      "Numero di sample anomali Dos rilevati correttamente:  1014 (TN)\n",
      "Numero di sample anomali Dos considerati normali : 2 (FP)\n",
      "\n",
      "### 0 Anomaly / 1 Normal ###\n"
     ]
    },
    {
     "data": {
      "image/png": "[encoded data removed]",
      "text/plain": [
       "<Figure size 432x288 with 1 Axes>"
      ]
     },
     "metadata": {
      "needs_background": "light"
     },
     "output_type": "display_data"
    },
    {
     "name": "stdout",
     "output_type": "stream",
     "text": [
      "          predicted labels  \n",
      "0 :\n",
      "             precision:  0.772\n",
      "             recall:     0.985\n",
      "\n",
      "\n",
      "1 :\n",
      "             precision:  0.985\n",
      "             recall:     0.769\n",
      "\n",
      "\n",
      "Avg precision:     0.878\n",
      "Avg weight precision:     0.891\n",
      "Avg recall:     0.877\n",
      "Avg weight recall:     0.865\n",
      "\n",
      "Accuracy:  0.86468\n",
      "Epoch 1/15\n",
      "71/71 [==============================] - 21s 292ms/step - loss: 0.1076 - val_loss: 0.1750\n",
      "Epoch 2/15\n",
      "71/71 [==============================] - 20s 287ms/step - loss: 0.0729 - val_loss: 0.1725\n",
      "Epoch 3/15\n",
      "71/71 [==============================] - 20s 278ms/step - loss: 0.0716 - val_loss: 0.1730\n",
      "Epoch 4/15\n",
      "71/71 [==============================] - 21s 289ms/step - loss: 0.0711 - val_loss: 0.1712\n",
      "Epoch 5/15\n",
      "71/71 [==============================] - 20s 277ms/step - loss: 0.0704 - val_loss: 0.1711\n",
      "Epoch 6/15\n",
      "71/71 [==============================] - 20s 285ms/step - loss: 0.0705 - val_loss: 0.1708\n",
      "Epoch 7/15\n",
      "71/71 [==============================] - 20s 287ms/step - loss: 0.0703 - val_loss: 0.1716\n",
      "Epoch 8/15\n",
      "71/71 [==============================] - 20s 278ms/step - loss: 0.0701 - val_loss: 0.1696\n",
      "Epoch 9/15\n",
      "71/71 [==============================] - 20s 285ms/step - loss: 0.0696 - val_loss: 0.1791\n",
      "Epoch 10/15\n",
      "71/71 [==============================] - 21s 298ms/step - loss: 0.0716 - val_loss: 0.1697\n",
      "Epoch 11/15\n",
      "71/71 [==============================] - 21s 298ms/step - loss: 0.0697 - val_loss: 0.1697\n",
      "Epoch 12/15\n",
      "71/71 [==============================] - 20s 288ms/step - loss: 0.0696 - val_loss: 0.1692\n",
      "Epoch 13/15\n",
      "71/71 [==============================] - 19s 273ms/step - loss: 0.0694 - val_loss: 0.1689\n",
      "Epoch 14/15\n",
      "71/71 [==============================] - 20s 280ms/step - loss: 0.0693 - val_loss: 0.1682\n",
      "Epoch 15/15\n",
      "71/71 [==============================] - 20s 276ms/step - loss: 0.0693 - val_loss: 0.1688\n"
     ]
    },
    {
     "data": {
      "image/png": "[encoded data removed]",
      "text/plain": [
       "<Figure size 432x288 with 1 Axes>"
      ]
     },
     "metadata": {
      "needs_background": "light"
     },
     "output_type": "display_data"
    },
    {
     "name": "stdout",
     "output_type": "stream",
     "text": [
      "Reconstruction error threshold:  0.03043169\n"
     ]
    },
    {
     "data": {
      "image/png": "[encoded data removed]",
      "text/plain": [
       "<Figure size 432x288 with 1 Axes>"
      ]
     },
     "metadata": {
      "needs_background": "light"
     },
     "output_type": "display_data"
    },
    {
     "name": "stdout",
     "output_type": "stream",
     "text": [
      "Number di sample anomali rilevati:  1530\n",
      "Numero di sample anomali rivelati erroneamente:  354 (FN)\n",
      "Numero di sample anomali rilevati correttamente:  1176 (TN)\n",
      "Numero di sample anomali non rivelati:  14 (FP)\n",
      "Numero di sample normali rivelati correttamente 1146 (TP)\n",
      "\n",
      "Numero di sample anomali U2R rilevati correttamente:  8 (TN)\n",
      "Numero di sample anomali U2R considerati Normali : 4 (FP)\n",
      "Numero di sample anomali R2L rilevati correttamente:  63 (TN)\n",
      "Numero di sample anomali R2L considerati normali : 6 (FP)\n",
      "Numero di sample anomali Probe rilevati correttamente:  91 (TN)\n",
      "Numero di sample anomali Probe considerati normali : 2 (FP)\n",
      "Numero di sample anomali Dos rilevati correttamente:  1014 (TN)\n",
      "Numero di sample anomali Dos considerati normali : 2 (FP)\n",
      "\n",
      "### 0 Anomaly / 1 Normal ###\n"
     ]
    },
    {
     "data": {
      "image/png": "[encoded data removed]",
      "text/plain": [
       "<Figure size 432x288 with 1 Axes>"
      ]
     },
     "metadata": {
      "needs_background": "light"
     },
     "output_type": "display_data"
    },
    {
     "name": "stdout",
     "output_type": "stream",
     "text": [
      "          predicted labels  \n",
      "0 :\n",
      "             precision:  0.769\n",
      "             recall:     0.988\n",
      "\n",
      "\n",
      "1 :\n",
      "             precision:  0.988\n",
      "             recall:     0.764\n",
      "\n",
      "\n",
      "Avg precision:     0.878\n",
      "Avg weight precision:     0.891\n",
      "Avg recall:     0.876\n",
      "Avg weight recall:     0.863\n",
      "\n",
      "Accuracy:  0.86320\n",
      "Epoch 1/15\n",
      "71/71 [==============================] - 20s 279ms/step - loss: 0.1018 - val_loss: 0.1717\n",
      "Epoch 2/15\n",
      "71/71 [==============================] - 20s 277ms/step - loss: 0.0709 - val_loss: 0.1686\n",
      "Epoch 3/15\n",
      "71/71 [==============================] - 20s 276ms/step - loss: 0.0698 - val_loss: 0.1678\n",
      "Epoch 4/15\n",
      "71/71 [==============================] - 20s 278ms/step - loss: 0.0691 - val_loss: 0.1617\n",
      "Epoch 5/15\n",
      "71/71 [==============================] - 20s 282ms/step - loss: 0.0674 - val_loss: 0.1560\n",
      "Epoch 6/15\n",
      "60/71 [========================>.....] - ETA: 3s - loss: 0.0742"
     ]
    },
    {
     "ename": "KeyboardInterrupt",
     "evalue": "",
     "output_type": "error",
     "traceback": [
      "\u001b[1;31m---------------------------------------------------------------------------\u001b[0m",
      "\u001b[1;31mKeyboardInterrupt\u001b[0m                         Traceback (most recent call last)",
      "\u001b[1;32m<ipython-input-8-bb7960bda096>\u001b[0m in \u001b[0;36m<module>\u001b[1;34m\u001b[0m\n\u001b[0;32m     49\u001b[0m     \u001b[0mmodel\u001b[0m\u001b[1;33m.\u001b[0m\u001b[0mcompile\u001b[0m\u001b[1;33m(\u001b[0m \u001b[0moptimizer\u001b[0m\u001b[1;33m=\u001b[0m\u001b[1;34m'adam'\u001b[0m\u001b[1;33m,\u001b[0m \u001b[0mloss\u001b[0m\u001b[1;33m=\u001b[0m\u001b[1;34m'mse'\u001b[0m\u001b[1;33m)\u001b[0m\u001b[1;33m\u001b[0m\u001b[1;33m\u001b[0m\u001b[0m\n\u001b[0;32m     50\u001b[0m \u001b[1;33m\u001b[0m\u001b[0m\n\u001b[1;32m---> 51\u001b[1;33m     history = model.fit(\n\u001b[0m\u001b[0;32m     52\u001b[0m     \u001b[0mx_train_arr\u001b[0m\u001b[1;33m,\u001b[0m\u001b[1;33m\u001b[0m\u001b[1;33m\u001b[0m\u001b[0m\n\u001b[0;32m     53\u001b[0m     \u001b[0mx_train_arr\u001b[0m\u001b[1;33m,\u001b[0m\u001b[1;33m\u001b[0m\u001b[1;33m\u001b[0m\u001b[0m\n",
      "\u001b[1;32m~\\anaconda3\\lib\\site-packages\\tensorflow\\python\\keras\\engine\\training.py\u001b[0m in \u001b[0;36m_method_wrapper\u001b[1;34m(self, *args, **kwargs)\u001b[0m\n\u001b[0;32m    106\u001b[0m   \u001b[1;32mdef\u001b[0m \u001b[0m_method_wrapper\u001b[0m\u001b[1;33m(\u001b[0m\u001b[0mself\u001b[0m\u001b[1;33m,\u001b[0m \u001b[1;33m*\u001b[0m\u001b[0margs\u001b[0m\u001b[1;33m,\u001b[0m \u001b[1;33m**\u001b[0m\u001b[0mkwargs\u001b[0m\u001b[1;33m)\u001b[0m\u001b[1;33m:\u001b[0m\u001b[1;33m\u001b[0m\u001b[1;33m\u001b[0m\u001b[0m\n\u001b[0;32m    107\u001b[0m     \u001b[1;32mif\u001b[0m \u001b[1;32mnot\u001b[0m \u001b[0mself\u001b[0m\u001b[1;33m.\u001b[0m\u001b[0m_in_multi_worker_mode\u001b[0m\u001b[1;33m(\u001b[0m\u001b[1;33m)\u001b[0m\u001b[1;33m:\u001b[0m  \u001b[1;31m# pylint: disable=protected-access\u001b[0m\u001b[1;33m\u001b[0m\u001b[1;33m\u001b[0m\u001b[0m\n\u001b[1;32m--> 108\u001b[1;33m       \u001b[1;32mreturn\u001b[0m \u001b[0mmethod\u001b[0m\u001b[1;33m(\u001b[0m\u001b[0mself\u001b[0m\u001b[1;33m,\u001b[0m \u001b[1;33m*\u001b[0m\u001b[0margs\u001b[0m\u001b[1;33m,\u001b[0m \u001b[1;33m**\u001b[0m\u001b[0mkwargs\u001b[0m\u001b[1;33m)\u001b[0m\u001b[1;33m\u001b[0m\u001b[1;33m\u001b[0m\u001b[0m\n\u001b[0m\u001b[0;32m    109\u001b[0m \u001b[1;33m\u001b[0m\u001b[0m\n\u001b[0;32m    110\u001b[0m     \u001b[1;31m# Running inside `run_distribute_coordinator` already.\u001b[0m\u001b[1;33m\u001b[0m\u001b[1;33m\u001b[0m\u001b[1;33m\u001b[0m\u001b[0m\n",
      "\u001b[1;32m~\\anaconda3\\lib\\site-packages\\tensorflow\\python\\keras\\engine\\training.py\u001b[0m in \u001b[0;36mfit\u001b[1;34m(self, x, y, batch_size, epochs, verbose, callbacks, validation_split, validation_data, shuffle, class_weight, sample_weight, initial_epoch, steps_per_epoch, validation_steps, validation_batch_size, validation_freq, max_queue_size, workers, use_multiprocessing)\u001b[0m\n\u001b[0;32m   1096\u001b[0m                 batch_size=batch_size):\n\u001b[0;32m   1097\u001b[0m               \u001b[0mcallbacks\u001b[0m\u001b[1;33m.\u001b[0m\u001b[0mon_train_batch_begin\u001b[0m\u001b[1;33m(\u001b[0m\u001b[0mstep\u001b[0m\u001b[1;33m)\u001b[0m\u001b[1;33m\u001b[0m\u001b[1;33m\u001b[0m\u001b[0m\n\u001b[1;32m-> 1098\u001b[1;33m               \u001b[0mtmp_logs\u001b[0m \u001b[1;33m=\u001b[0m \u001b[0mtrain_function\u001b[0m\u001b[1;33m(\u001b[0m\u001b[0miterator\u001b[0m\u001b[1;33m)\u001b[0m\u001b[1;33m\u001b[0m\u001b[1;33m\u001b[0m\u001b[0m\n\u001b[0m\u001b[0;32m   1099\u001b[0m               \u001b[1;32mif\u001b[0m \u001b[0mdata_handler\u001b[0m\u001b[1;33m.\u001b[0m\u001b[0mshould_sync\u001b[0m\u001b[1;33m:\u001b[0m\u001b[1;33m\u001b[0m\u001b[1;33m\u001b[0m\u001b[0m\n\u001b[0;32m   1100\u001b[0m                 \u001b[0mcontext\u001b[0m\u001b[1;33m.\u001b[0m\u001b[0masync_wait\u001b[0m\u001b[1;33m(\u001b[0m\u001b[1;33m)\u001b[0m\u001b[1;33m\u001b[0m\u001b[1;33m\u001b[0m\u001b[0m\n",
      "\u001b[1;32m~\\anaconda3\\lib\\site-packages\\tensorflow\\python\\eager\\def_function.py\u001b[0m in \u001b[0;36m__call__\u001b[1;34m(self, *args, **kwds)\u001b[0m\n\u001b[0;32m    778\u001b[0m       \u001b[1;32melse\u001b[0m\u001b[1;33m:\u001b[0m\u001b[1;33m\u001b[0m\u001b[1;33m\u001b[0m\u001b[0m\n\u001b[0;32m    779\u001b[0m         \u001b[0mcompiler\u001b[0m \u001b[1;33m=\u001b[0m \u001b[1;34m\"nonXla\"\u001b[0m\u001b[1;33m\u001b[0m\u001b[1;33m\u001b[0m\u001b[0m\n\u001b[1;32m--> 780\u001b[1;33m         \u001b[0mresult\u001b[0m \u001b[1;33m=\u001b[0m \u001b[0mself\u001b[0m\u001b[1;33m.\u001b[0m\u001b[0m_call\u001b[0m\u001b[1;33m(\u001b[0m\u001b[1;33m*\u001b[0m\u001b[0margs\u001b[0m\u001b[1;33m,\u001b[0m \u001b[1;33m**\u001b[0m\u001b[0mkwds\u001b[0m\u001b[1;33m)\u001b[0m\u001b[1;33m\u001b[0m\u001b[1;33m\u001b[0m\u001b[0m\n\u001b[0m\u001b[0;32m    781\u001b[0m \u001b[1;33m\u001b[0m\u001b[0m\n\u001b[0;32m    782\u001b[0m       \u001b[0mnew_tracing_count\u001b[0m \u001b[1;33m=\u001b[0m \u001b[0mself\u001b[0m\u001b[1;33m.\u001b[0m\u001b[0m_get_tracing_count\u001b[0m\u001b[1;33m(\u001b[0m\u001b[1;33m)\u001b[0m\u001b[1;33m\u001b[0m\u001b[1;33m\u001b[0m\u001b[0m\n",
      "\u001b[1;32m~\\anaconda3\\lib\\site-packages\\tensorflow\\python\\eager\\def_function.py\u001b[0m in \u001b[0;36m_call\u001b[1;34m(self, *args, **kwds)\u001b[0m\n\u001b[0;32m    805\u001b[0m       \u001b[1;31m# In this case we have created variables on the first call, so we run the\u001b[0m\u001b[1;33m\u001b[0m\u001b[1;33m\u001b[0m\u001b[1;33m\u001b[0m\u001b[0m\n\u001b[0;32m    806\u001b[0m       \u001b[1;31m# defunned version which is guaranteed to never create variables.\u001b[0m\u001b[1;33m\u001b[0m\u001b[1;33m\u001b[0m\u001b[1;33m\u001b[0m\u001b[0m\n\u001b[1;32m--> 807\u001b[1;33m       \u001b[1;32mreturn\u001b[0m \u001b[0mself\u001b[0m\u001b[1;33m.\u001b[0m\u001b[0m_stateless_fn\u001b[0m\u001b[1;33m(\u001b[0m\u001b[1;33m*\u001b[0m\u001b[0margs\u001b[0m\u001b[1;33m,\u001b[0m \u001b[1;33m**\u001b[0m\u001b[0mkwds\u001b[0m\u001b[1;33m)\u001b[0m  \u001b[1;31m# pylint: disable=not-callable\u001b[0m\u001b[1;33m\u001b[0m\u001b[1;33m\u001b[0m\u001b[0m\n\u001b[0m\u001b[0;32m    808\u001b[0m     \u001b[1;32melif\u001b[0m \u001b[0mself\u001b[0m\u001b[1;33m.\u001b[0m\u001b[0m_stateful_fn\u001b[0m \u001b[1;32mis\u001b[0m \u001b[1;32mnot\u001b[0m \u001b[1;32mNone\u001b[0m\u001b[1;33m:\u001b[0m\u001b[1;33m\u001b[0m\u001b[1;33m\u001b[0m\u001b[0m\n\u001b[0;32m    809\u001b[0m       \u001b[1;31m# Release the lock early so that multiple threads can perform the call\u001b[0m\u001b[1;33m\u001b[0m\u001b[1;33m\u001b[0m\u001b[1;33m\u001b[0m\u001b[0m\n",
      "\u001b[1;32m~\\anaconda3\\lib\\site-packages\\tensorflow\\python\\eager\\function.py\u001b[0m in \u001b[0;36m__call__\u001b[1;34m(self, *args, **kwargs)\u001b[0m\n\u001b[0;32m   2827\u001b[0m     \u001b[1;32mwith\u001b[0m \u001b[0mself\u001b[0m\u001b[1;33m.\u001b[0m\u001b[0m_lock\u001b[0m\u001b[1;33m:\u001b[0m\u001b[1;33m\u001b[0m\u001b[1;33m\u001b[0m\u001b[0m\n\u001b[0;32m   2828\u001b[0m       \u001b[0mgraph_function\u001b[0m\u001b[1;33m,\u001b[0m \u001b[0margs\u001b[0m\u001b[1;33m,\u001b[0m \u001b[0mkwargs\u001b[0m \u001b[1;33m=\u001b[0m \u001b[0mself\u001b[0m\u001b[1;33m.\u001b[0m\u001b[0m_maybe_define_function\u001b[0m\u001b[1;33m(\u001b[0m\u001b[0margs\u001b[0m\u001b[1;33m,\u001b[0m \u001b[0mkwargs\u001b[0m\u001b[1;33m)\u001b[0m\u001b[1;33m\u001b[0m\u001b[1;33m\u001b[0m\u001b[0m\n\u001b[1;32m-> 2829\u001b[1;33m     \u001b[1;32mreturn\u001b[0m \u001b[0mgraph_function\u001b[0m\u001b[1;33m.\u001b[0m\u001b[0m_filtered_call\u001b[0m\u001b[1;33m(\u001b[0m\u001b[0margs\u001b[0m\u001b[1;33m,\u001b[0m \u001b[0mkwargs\u001b[0m\u001b[1;33m)\u001b[0m  \u001b[1;31m# pylint: disable=protected-access\u001b[0m\u001b[1;33m\u001b[0m\u001b[1;33m\u001b[0m\u001b[0m\n\u001b[0m\u001b[0;32m   2830\u001b[0m \u001b[1;33m\u001b[0m\u001b[0m\n\u001b[0;32m   2831\u001b[0m   \u001b[1;33m@\u001b[0m\u001b[0mproperty\u001b[0m\u001b[1;33m\u001b[0m\u001b[1;33m\u001b[0m\u001b[0m\n",
      "\u001b[1;32m~\\anaconda3\\lib\\site-packages\\tensorflow\\python\\eager\\function.py\u001b[0m in \u001b[0;36m_filtered_call\u001b[1;34m(self, args, kwargs, cancellation_manager)\u001b[0m\n\u001b[0;32m   1841\u001b[0m       \u001b[0;31m`\u001b[0m\u001b[0margs\u001b[0m\u001b[0;31m`\u001b[0m \u001b[1;32mand\u001b[0m\u001b[0;31m \u001b[0m\u001b[0;31m`\u001b[0m\u001b[0mkwargs\u001b[0m\u001b[0;31m`\u001b[0m\u001b[1;33m.\u001b[0m\u001b[1;33m\u001b[0m\u001b[1;33m\u001b[0m\u001b[0m\n\u001b[0;32m   1842\u001b[0m     \"\"\"\n\u001b[1;32m-> 1843\u001b[1;33m     return self._call_flat(\n\u001b[0m\u001b[0;32m   1844\u001b[0m         [t for t in nest.flatten((args, kwargs), expand_composites=True)\n\u001b[0;32m   1845\u001b[0m          if isinstance(t, (ops.Tensor,\n",
      "\u001b[1;32m~\\anaconda3\\lib\\site-packages\\tensorflow\\python\\eager\\function.py\u001b[0m in \u001b[0;36m_call_flat\u001b[1;34m(self, args, captured_inputs, cancellation_manager)\u001b[0m\n\u001b[0;32m   1921\u001b[0m         and executing_eagerly):\n\u001b[0;32m   1922\u001b[0m       \u001b[1;31m# No tape is watching; skip to running the function.\u001b[0m\u001b[1;33m\u001b[0m\u001b[1;33m\u001b[0m\u001b[1;33m\u001b[0m\u001b[0m\n\u001b[1;32m-> 1923\u001b[1;33m       return self._build_call_outputs(self._inference_function.call(\n\u001b[0m\u001b[0;32m   1924\u001b[0m           ctx, args, cancellation_manager=cancellation_manager))\n\u001b[0;32m   1925\u001b[0m     forward_backward = self._select_forward_and_backward_functions(\n",
      "\u001b[1;32m~\\anaconda3\\lib\\site-packages\\tensorflow\\python\\eager\\function.py\u001b[0m in \u001b[0;36mcall\u001b[1;34m(self, ctx, args, cancellation_manager)\u001b[0m\n\u001b[0;32m    543\u001b[0m       \u001b[1;32mwith\u001b[0m \u001b[0m_InterpolateFunctionError\u001b[0m\u001b[1;33m(\u001b[0m\u001b[0mself\u001b[0m\u001b[1;33m)\u001b[0m\u001b[1;33m:\u001b[0m\u001b[1;33m\u001b[0m\u001b[1;33m\u001b[0m\u001b[0m\n\u001b[0;32m    544\u001b[0m         \u001b[1;32mif\u001b[0m \u001b[0mcancellation_manager\u001b[0m \u001b[1;32mis\u001b[0m \u001b[1;32mNone\u001b[0m\u001b[1;33m:\u001b[0m\u001b[1;33m\u001b[0m\u001b[1;33m\u001b[0m\u001b[0m\n\u001b[1;32m--> 545\u001b[1;33m           outputs = execute.execute(\n\u001b[0m\u001b[0;32m    546\u001b[0m               \u001b[0mstr\u001b[0m\u001b[1;33m(\u001b[0m\u001b[0mself\u001b[0m\u001b[1;33m.\u001b[0m\u001b[0msignature\u001b[0m\u001b[1;33m.\u001b[0m\u001b[0mname\u001b[0m\u001b[1;33m)\u001b[0m\u001b[1;33m,\u001b[0m\u001b[1;33m\u001b[0m\u001b[1;33m\u001b[0m\u001b[0m\n\u001b[0;32m    547\u001b[0m               \u001b[0mnum_outputs\u001b[0m\u001b[1;33m=\u001b[0m\u001b[0mself\u001b[0m\u001b[1;33m.\u001b[0m\u001b[0m_num_outputs\u001b[0m\u001b[1;33m,\u001b[0m\u001b[1;33m\u001b[0m\u001b[1;33m\u001b[0m\u001b[0m\n",
      "\u001b[1;32m~\\anaconda3\\lib\\site-packages\\tensorflow\\python\\eager\\execute.py\u001b[0m in \u001b[0;36mquick_execute\u001b[1;34m(op_name, num_outputs, inputs, attrs, ctx, name)\u001b[0m\n\u001b[0;32m     57\u001b[0m   \u001b[1;32mtry\u001b[0m\u001b[1;33m:\u001b[0m\u001b[1;33m\u001b[0m\u001b[1;33m\u001b[0m\u001b[0m\n\u001b[0;32m     58\u001b[0m     \u001b[0mctx\u001b[0m\u001b[1;33m.\u001b[0m\u001b[0mensure_initialized\u001b[0m\u001b[1;33m(\u001b[0m\u001b[1;33m)\u001b[0m\u001b[1;33m\u001b[0m\u001b[1;33m\u001b[0m\u001b[0m\n\u001b[1;32m---> 59\u001b[1;33m     tensors = pywrap_tfe.TFE_Py_Execute(ctx._handle, device_name, op_name,\n\u001b[0m\u001b[0;32m     60\u001b[0m                                         inputs, attrs, num_outputs)\n\u001b[0;32m     61\u001b[0m   \u001b[1;32mexcept\u001b[0m \u001b[0mcore\u001b[0m\u001b[1;33m.\u001b[0m\u001b[0m_NotOkStatusException\u001b[0m \u001b[1;32mas\u001b[0m \u001b[0me\u001b[0m\u001b[1;33m:\u001b[0m\u001b[1;33m\u001b[0m\u001b[1;33m\u001b[0m\u001b[0m\n",
      "\u001b[1;31mKeyboardInterrupt\u001b[0m: "
     ]
    }
   ],
   "source": [
    "normal_data = data_final[data_final[94] == \"normal\"] #prendo solo i valori \"normali\" \n",
    "\n",
    "#voglio che sia il train che la validation siano effettuati su record normali ma che siano tra loro differenti\n",
    "for i in range(10):\n",
    "    data_train, data_val, data_test = np.split(normal_data, [int(.6*len(normal_data)), int(.8*len(normal_data))])\n",
    "        \n",
    "    x_train = data_train.drop([94],axis=1) #rimuove la colonna result dal dataframe\n",
    "    x_val = data_val.drop([94], axis=1) #rimuove il label\n",
    "\n",
    "    x_train_arr = np.asarray(x_train).astype(np.float32)\n",
    "    x_train_arr = x_train_arr.reshape(x_train_arr.shape[0],x_train_arr.shape[1],1) #converte la shape da 2d a 3d per layer LSTM\n",
    "\n",
    "    x_val_arr = np.asarray(x_val).astype(np.float32)\n",
    "    x_val_arr = x_val_arr.reshape(x_val_arr.shape[0],x_val_arr.shape[1],1) #converte la shape da 2d a 3d per layer LSTM\n",
    "    \n",
    "    model = keras.Sequential(\n",
    "    [\n",
    "       layers.Input(shape=(x_train_arr.shape[1],x_train_arr.shape[2])),\n",
    "       layers.LSTM(16, activation='relu', return_sequences=True),\n",
    "       layers.Dense(512),\n",
    "       layers.Dropout(0.5),\n",
    "       layers.LeakyReLU(0.01),\n",
    "       layers.Dense(256),\n",
    "       layers.Dropout(0.5),\n",
    "       layers.LeakyReLU(0.01),\n",
    "       layers.Dense(128),\n",
    "       layers.Dropout(0.5),\n",
    "       layers.LeakyReLU(0.01),\n",
    "        \n",
    "       layers.Dense(64),\n",
    "       layers.Dropout(0.5),\n",
    "       layers.LeakyReLU(0.01),\n",
    "        \n",
    "       layers.Dense(128),\n",
    "       layers.Dropout(0.5),\n",
    "       layers.LeakyReLU(0.01),\n",
    "       layers.Dense(256),\n",
    "       layers.Dropout(0.5),\n",
    "       layers.LeakyReLU(0.01),\n",
    "       layers.Dense(512),\n",
    "       layers.Dropout(0.5),\n",
    "       layers.LeakyReLU(0.01),\n",
    "       layers.Dense(x_train_arr.shape[1], activation='sigmoid'),\n",
    "       layers.LSTM(16, activation='relu', return_sequences=True),\n",
    "       layers.TimeDistributed(layers.Dense(1)),\n",
    "    ]\n",
    "    )\n",
    "\n",
    "    model.compile( optimizer='adam', loss='mse')\n",
    "    \n",
    "    history = model.fit(\n",
    "    x_train_arr,\n",
    "    x_train_arr,\n",
    "    epochs=15,\n",
    "    batch_size=64,\n",
    "    validation_data=(x_val_arr, x_val_arr),\n",
    "    callbacks=[\n",
    "        keras.callbacks.EarlyStopping(monitor=\"val_loss\", patience=20, mode=\"min\")\n",
    "    ],\n",
    "    )\n",
    "    \n",
    "    x_train_pred = model.predict(x_train_arr)\n",
    "    train_mae_loss = np.mean(np.abs(x_train_pred - x_train_arr), axis=1)\n",
    "    train_mae_loss = train_mae_loss.ravel() #converte l'array numpy in 1d\n",
    "    train_mae_loss = np.sort(train_mae_loss) #quicksort\n",
    "\n",
    "\n",
    "    train_mae_loss_len = len(train_mae_loss)\n",
    "    n_index = int(0.75*train_mae_loss_len)\n",
    "    plt.hist(train_mae_loss, bins=100)\n",
    "    plt.xlabel(\"Train MAE loss\")\n",
    "    plt.ylabel(\"No of samples\")\n",
    "    plt.show()\n",
    "\n",
    "    # Get reconstruction loss threshold.\n",
    "    train_mae_loss_split = train_mae_loss[:n_index]\n",
    "    threshold = np.max(train_mae_loss_split)\n",
    "    print(\"Reconstruction error threshold: \", threshold)\n",
    "    \n",
    "    #data_test\n",
    "    #il dataset per il test sarà formato dai 1500 sample normali prelevati precedentemente a cui aggiungerò dei sample anomali\n",
    "    #in particolare prelevo il 20% dei sample anomali e li concateno ai 1500 normali precedentemente ottenuti\n",
    "\n",
    "    anomaly_data = data_final[data_final[94] != \"normal\"] #prendo solo i valori \"anomali\"\n",
    "\n",
    "    percentage = 20\n",
    "    anomaly_test_data = anomaly_data.head(int(len(anomaly_data)*(percentage/100)))\n",
    "\n",
    "    frames = [data_test, anomaly_test_data]\n",
    "    final_test_data = pd.concat(frames)\n",
    "\n",
    "    data_test_with_label = final_test_data.copy()\n",
    "    x_test = final_test_data.drop([94],axis=1) #rimuove la colonna dei result dal dataframe\n",
    "\n",
    "    x_test_arr = np.asarray(x_test).astype(np.float32)\n",
    "    x_test_arr = x_test_arr.reshape(x_test_arr.shape[0],x_test_arr.shape[1],1) #converte la shape da 2d a 3d per layer LSTM\n",
    "\n",
    "    arr_test_pred = model.predict(x_test_arr)\n",
    "    test_mae_loss = np.mean(np.abs(arr_test_pred - x_test_arr), axis=1)\n",
    "   \n",
    "\n",
    "    plt.hist(test_mae_loss, bins=50)\n",
    "    plt.xlabel(\"test MAE loss\")\n",
    "    plt.ylabel(\"No of samples\")\n",
    "    plt.show()\n",
    "\n",
    "\n",
    "    # Riconosce tutti i sample che sono anomalie\n",
    "    anomalies = (test_mae_loss > threshold).tolist()\n",
    "\n",
    "\n",
    "    count = 0\n",
    "    false_negative = 0\n",
    "    false_positive = 0\n",
    "    u2r_rilevati = 0\n",
    "    u2r_non_rilevati = 0\n",
    "    r2l_rilevati = 0\n",
    "    r2l_non_rilevati = 0\n",
    "    probe_rilevati = 0\n",
    "    probe_non_rilevati = 0\n",
    "    dos_rilevati = 0\n",
    "    dos_non_rilevati = 0\n",
    "    true_positive = 0\n",
    "\n",
    "    for i in anomalies:\n",
    "        x = str(i)\n",
    "        if ( x == '[True]'): #Sono le anomalie rilevate\n",
    "            if ( data_test_with_label.iloc[count][94] == \"normal\"):\n",
    "                false_negative = false_negative + 1 #Anomalie rilevate che in realtà erano record normali\n",
    "            if ( data_test_with_label.iloc[count][94] == \"u2r\"):\n",
    "                u2r_rilevati = u2r_rilevati + 1\n",
    "            if ( data_test_with_label.iloc[count][94] == \"r2l\"):\n",
    "                r2l_rilevati = r2l_rilevati + 1\n",
    "            if ( data_test_with_label.iloc[count][94] == \"probe\"):\n",
    "                probe_rilevati = probe_rilevati + 1\n",
    "            if ( data_test_with_label.iloc[count][94] == \"dos\"):\n",
    "                dos_rilevati = dos_rilevati + 1\n",
    "        if (x == '[False]'):\n",
    "            if( data_test_with_label.iloc[count][94] != \"normal\"):\n",
    "                false_positive = false_positive + 1\n",
    "            if ( data_test_with_label.iloc[count][94] == \"u2r\"):\n",
    "                u2r_non_rilevati = u2r_non_rilevati + 1\n",
    "            if ( data_test_with_label.iloc[count][94] == \"r2l\"):\n",
    "                r2l_non_rilevati = r2l_non_rilevati + 1\n",
    "            if ( data_test_with_label.iloc[count][94] == \"probe\"):\n",
    "                probe_non_rilevati = probe_non_rilevati + 1\n",
    "            if ( data_test_with_label.iloc[count][94] == \"dos\"):\n",
    "                dos_non_rilevati = dos_non_rilevati + 1\n",
    "            if ( data_test_with_label.iloc[count][94] == \"normal\"):\n",
    "                true_positive = true_positive + 1\n",
    "        count = count + 1\n",
    "    \n",
    "    true_negative = np.sum(anomalies)-false_negative\n",
    "        \n",
    "    print(\"Number di sample anomali rilevati: \", np.sum(anomalies))\n",
    "    print(\"Numero di sample anomali rivelati erroneamente: \", false_negative,'(FN)')\n",
    "    print(\"Numero di sample anomali rilevati correttamente: \", true_negative, '(TN)')\n",
    "    print(\"Numero di sample anomali non rivelati: \", false_positive, '(FP)')\n",
    "    print(\"Numero di sample normali rivelati correttamente\", true_positive,\"(TP)\")\n",
    "    print(\"\")\n",
    "    print(\"Numero di sample anomali U2R rilevati correttamente: \", u2r_rilevati, '(TN)')\n",
    "    print(\"Numero di sample anomali U2R considerati Normali :\", u2r_non_rilevati, '(FP)')\n",
    "    print(\"Numero di sample anomali R2L rilevati correttamente: \", r2l_rilevati, '(TN)')\n",
    "    print(\"Numero di sample anomali R2L considerati normali :\", r2l_non_rilevati, '(FP)')\n",
    "    print(\"Numero di sample anomali Probe rilevati correttamente: \", probe_rilevati, '(TN)')\n",
    "    print(\"Numero di sample anomali Probe considerati normali :\", probe_non_rilevati, '(FP)')\n",
    "    print(\"Numero di sample anomali Dos rilevati correttamente: \", dos_rilevati, \"(TN)\")\n",
    "    print(\"Numero di sample anomali Dos considerati normali :\", dos_non_rilevati, \"(FP)\")\n",
    "    print(\"\")\n",
    "\n",
    "    indici_riga_colonna = ['0','1']\n",
    "\n",
    "\n",
    "    values = np.array([[true_negative, false_positive],\n",
    "                       [false_negative, true_positive]])\n",
    "\n",
    "    fig, ax = plt.subplots()\n",
    "    im = ax.imshow(values, cmap='YlOrBr')\n",
    "\n",
    "    ax.set_xticks(np.arange(len(indici_riga_colonna)))\n",
    "    ax.set_yticks(np.arange(len(indici_riga_colonna)))\n",
    "\n",
    "    ax.set_xticklabels(indici_riga_colonna)\n",
    "    ax.set_yticklabels(indici_riga_colonna)\n",
    "\n",
    "    plt.setp(ax.get_xticklabels(),\n",
    "             rotation_mode=\"anchor\")\n",
    "\n",
    "    for i in range(len(indici_riga_colonna)):\n",
    "        for j in range(len(indici_riga_colonna)):\n",
    "            text = ax.text(j, i, values[i, j],\n",
    "                           ha=\"center\", va=\"center\")\n",
    "\n",
    "    ax.set_title(\"Confusion Matrix Binaria\")\n",
    "    fig.tight_layout()\n",
    "\n",
    "    print(\"### 0 Anomaly / 1 Normal ###\")\n",
    "    plt.show()\n",
    "\n",
    "    print(\"          predicted labels  \")\n",
    "\n",
    "    zero_precision = true_negative/(true_negative + false_negative) \n",
    "    one_precision = true_positive/(true_positive + false_positive) \n",
    "\n",
    "    zero_recall = true_negative/(true_negative + false_positive)\n",
    "    one_recall = true_positive/(true_positive + false_negative)\n",
    "\n",
    "    accuracy= (true_positive + true_negative)/(true_positive + true_negative + false_positive + false_negative)\n",
    "    print(\"0 :\")\n",
    "    print(\"             precision: \",\"%.3f\" % zero_precision)\n",
    "    print(\"             recall: \",\"   %.3f\" % zero_recall)\n",
    "    print(\"\")\n",
    "    print(\"\")\n",
    "    print(\"1 :\")\n",
    "    print(\"             precision: \",\"%.3f\" % one_precision)\n",
    "    print(\"             recall: \",\"   %.3f\" % one_recall)\n",
    "    print(\"\")\n",
    "    print(\"\")\n",
    "    avg_precision = (zero_precision + one_precision)/2\n",
    "    avg_precision_weight = (zero_precision*(true_negative+false_positive) + one_precision*(false_negative + true_positive))/(true_negative + false_positive + false_negative + true_positive)\n",
    "    avg_recall = (zero_recall + one_recall)/2\n",
    "    avg_recall_weight = (zero_recall*(true_negative+false_positive) + one_recall*(false_negative + true_positive))/(true_negative + false_positive + false_negative + true_positive)\n",
    "    print(\"Avg precision: \",\"   %.3f\" % avg_precision)\n",
    "    print(\"Avg weight precision: \",\"   %.3f\" % avg_precision_weight)\n",
    "    print(\"Avg recall: \",\"   %.3f\" % avg_recall)\n",
    "    print(\"Avg weight recall: \",\"   %.3f\" % avg_recall_weight)\n",
    "    print(\"\")\n",
    "    print(\"Accuracy: \", \"%.5f\" % accuracy)"
   ]
  },
  {
   "cell_type": "code",
   "execution_count": null,
   "metadata": {},
   "outputs": [],
   "source": []
  }
 ],
 "metadata": {
  "celltoolbar": "Raw Cell Format",
  "kernelspec": {
   "display_name": "Python 3",
   "language": "python",
   "name": "python3"
  },
  "language_info": {
   "codemirror_mode": {
    "name": "ipython",
    "version": 3
   },
   "file_extension": ".py",
   "mimetype": "text/x-python",
   "name": "python",
   "nbconvert_exporter": "python",
   "pygments_lexer": "ipython3",
   "version": "3.8.3"
  }
 },
 "nbformat": 4,
 "nbformat_minor": 4
}
