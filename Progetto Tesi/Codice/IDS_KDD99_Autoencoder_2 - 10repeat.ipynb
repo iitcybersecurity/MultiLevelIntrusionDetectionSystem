{
 "cells": [
  {
   "cell_type": "code",
   "execution_count": 9,
   "metadata": {},
   "outputs": [
    {
     "name": "stdout",
     "output_type": "stream",
     "text": [
      "Librerie importate con successo\n"
     ]
    }
   ],
   "source": [
    "import pandas as pd\n",
    "import numpy as np\n",
    "from tensorflow import keras\n",
    "from tensorflow.keras import regularizers\n",
    "from tensorflow.keras import layers\n",
    "from tensorflow.keras.utils import to_categorical\n",
    "from tensorflow.keras.models import Sequential\n",
    "from sklearn.model_selection import train_test_split as splitter\n",
    "import cProfile\n",
    "import pstats\n",
    "import os\n",
    "import sys\n",
    "from sklearn.metrics import classification_report, confusion_matrix\n",
    "from sklearn.preprocessing import LabelEncoder\n",
    "from sklearn.preprocessing import OneHotEncoder\n",
    "from sklearn.preprocessing import MinMaxScaler\n",
    "from datetime import datetime\n",
    "from matplotlib import pyplot as plt\n",
    "from matplotlib import dates as md\n",
    "\n",
    "print(\"Librerie importate con successo\")"
   ]
  },
  {
   "cell_type": "code",
   "execution_count": 10,
   "metadata": {},
   "outputs": [
    {
     "name": "stdout",
     "output_type": "stream",
     "text": [
      "Shape del dataset :  (13451, 22)\n"
     ]
    }
   ],
   "source": [
    "#Carico il dataset\n",
    "\n",
    "data = pd.read_csv('../Datasets/kdd_prediction.csv', delimiter=',',\n",
    "                       dtype={'protocol_type': str, 'service': str, 'flag': str, 'result': str})\n",
    "\n",
    "data = data.sample(frac=1, random_state=45).reset_index(drop=True) #shuffle\n",
    "\n",
    "print(\"Shape del dataset : \", data.shape)\n"
   ]
  },
  {
   "cell_type": "code",
   "execution_count": 11,
   "metadata": {},
   "outputs": [
    {
     "name": "stdout",
     "output_type": "stream",
     "text": [
      "Total :  13451\n",
      "Normal :  7500\n",
      "Malicious :  5951\n"
     ]
    },
    {
     "data": {
      "image/png": "[encoded data removed]",
      "text/plain": [
       "<Figure size 432x288 with 1 Axes>"
      ]
     },
     "metadata": {
      "needs_background": "light"
     },
     "output_type": "display_data"
    }
   ],
   "source": [
    "#Effettuo il plot del dataset\n",
    "\n",
    "total_flows_count = data[\"result\"].count()\n",
    "normal_flows_count = len(data[data.result == \"normal\"])\n",
    "anomaly_flows_count = len(data[data.result != \"normal\"])\n",
    "\n",
    "print(\"Total : \",total_flows_count)\n",
    "print(\"Normal : \",normal_flows_count)\n",
    "print(\"Malicious : \",anomaly_flows_count)\n",
    "\n",
    "# x-coordinates of left sides of bars  \n",
    "left = [1, 1.5] \n",
    "  \n",
    "# heights of bars \n",
    "height = [normal_flows_count, anomaly_flows_count] \n",
    "  \n",
    "# labels for bars \n",
    "tick_label = ['Normal', 'Malicious'] \n",
    "  \n",
    "# bar chart\n",
    "plt.bar(left, height, tick_label = tick_label, \n",
    "        width = 0.4, color = ['green', 'red']) \n",
    "  \n",
    "# Rinominazione asse x \n",
    "plt.xlabel('Tipologia di record') \n",
    "# Rinominazione asse y \n",
    "plt.ylabel('Numero di record') \n",
    "# Titolo\n",
    "plt.title('Numero di samples del dataset') \n",
    "  \n",
    "plt.show() "
   ]
  },
  {
   "cell_type": "code",
   "execution_count": 12,
   "metadata": {
    "scrolled": true
   },
   "outputs": [
    {
     "name": "stdout",
     "output_type": "stream",
     "text": [
      "R2L :  381      Normal :  7500\n",
      "U2R :  50       DOS :  5000\n",
      "Probe :  520\n"
     ]
    },
    {
     "data": {
      "image/png": "[encoded data removed]",
      "text/plain": [
       "<Figure size 432x288 with 1 Axes>"
      ]
     },
     "metadata": {
      "needs_background": "light"
     },
     "output_type": "display_data"
    }
   ],
   "source": [
    "#plot che mi mostra la suddivisione tra i 4 attacchi\n",
    "\n",
    "r2l_flows_count = len(data[data.result == \"r2l\"])\n",
    "u2r_flows_count = len(data[data.result == \"u2r\"])\n",
    "dos_flows_count = len(data[data.result == \"dos\"])\n",
    "probe_flows_count = len(data[data.result == \"probe\"])\n",
    "\n",
    "print(\"R2L : \",r2l_flows_count,\"     Normal : \",normal_flows_count)\n",
    "print(\"U2R : \",u2r_flows_count,\"      DOS : \",dos_flows_count)\n",
    "print(\"Probe : \",probe_flows_count)\n",
    "\n",
    "left = [1, 1.5, 2, 2.5, 3] \n",
    "  \n",
    "# heights of bars \n",
    "height = [normal_flows_count, r2l_flows_count, u2r_flows_count, dos_flows_count, probe_flows_count] \n",
    "  \n",
    "# labels for bars \n",
    "tick_label = ['Normal', 'R2L', \"U2R\", \"DOS\", \"Probe\"] \n",
    "  \n",
    "# bar chart\n",
    "plt.bar(left, height, tick_label = tick_label, \n",
    "        width = 0.4, color = ['green','yellow', 'orange', 'red', 'purple']) \n",
    "  \n",
    "# Rinominazione asse x \n",
    "plt.xlabel('Tipologia di record') \n",
    "# Rinominazione asse y \n",
    "plt.ylabel('Numero di record') \n",
    "# Titolo\n",
    "plt.title('Suddivisione sample dataset') \n",
    "  \n",
    "plt.show() "
   ]
  },
  {
   "cell_type": "code",
   "execution_count": 13,
   "metadata": {},
   "outputs": [],
   "source": [
    "#Funzioni utili preprocessing\n",
    "\n",
    "#ottiene una service_list dal file service.txt prelevando ogni riga e inserendola in una lista\n",
    "def get_service_list(dirname='list', filename='service_mio.txt'):\n",
    "    print('Getting service list...')\n",
    "    with open(os.path.join(dirname, filename), 'r') as service:\n",
    "        service_list = service.read().split('\\n')\n",
    "    return service_list\n",
    "\n",
    "#ottiene una flag_list dal file flag.txt prelevando ogni riga e inserendola in una lista\n",
    "def get_flag_list(dirname='list', filename='flag_mio.txt'):\n",
    "    print('Getting flag list...')\n",
    "    with open(os.path.join(dirname, filename), 'r') as flag:\n",
    "        flag_list = flag.read().split('\\n')\n",
    "    return flag_list\n",
    "\n",
    "def encode_numeric_zscore(df, name, mean=None, sd=None):\n",
    "    if mean is None:\n",
    "        mean = df[name].mean()\n",
    "\n",
    "    if sd is None:\n",
    "        sd = df[name].std()\n",
    "\n",
    "    df[name] = (df[name] - mean) / sd"
   ]
  },
  {
   "cell_type": "code",
   "execution_count": 14,
   "metadata": {},
   "outputs": [
    {
     "name": "stdout",
     "output_type": "stream",
     "text": [
      "Getting service list...\n",
      "Getting flag list...\n",
      "Replacing protocol_type values to numeric...\n",
      "Replacing service values to numeric...\n",
      "Replacing flag values to numeric...\n"
     ]
    }
   ],
   "source": [
    "service_list = get_service_list(dirname='list', filename='service_mio.txt')\n",
    "flag_list = get_flag_list(dirname='list', filename='flag_mio.txt')\n",
    "\n",
    "print('Replacing protocol_type values to numeric...')\n",
    "data.protocol_type.replace(['tcp', 'udp', 'icmp'], range(3), inplace=True)\n",
    "\n",
    "print('Replacing service values to numeric...')\n",
    "data.service.replace(service_list, range(len(service_list)), inplace=True)\n",
    "\n",
    "print('Replacing flag values to numeric...')\n",
    "data.flag.replace(flag_list, range(len(flag_list)), inplace=True)\n",
    "\n",
    "encode_numeric_zscore(data, 'duration')\n",
    "encode_numeric_zscore(data, 'src_bytes')\n",
    "encode_numeric_zscore(data, 'dst_bytes')\n",
    "encode_numeric_zscore(data, 'land')\n",
    "encode_numeric_zscore(data, 'land')\n",
    "encode_numeric_zscore(data, 'wrong_fragment')\n",
    "encode_numeric_zscore(data, 'urgent')\n",
    "encode_numeric_zscore(data, 'hot')\n",
    "encode_numeric_zscore(data, 'num_failed_logins')\n",
    "encode_numeric_zscore(data, 'logged_in')\n",
    "encode_numeric_zscore(data, 'num_compromised')\n",
    "encode_numeric_zscore(data, 'root_shell')\n",
    "encode_numeric_zscore(data, 'su_attempted')\n",
    "encode_numeric_zscore(data, 'num_root')\n",
    "encode_numeric_zscore(data, 'num_file_creations')\n",
    "encode_numeric_zscore(data, 'num_shells')\n",
    "encode_numeric_zscore(data, 'num_access_files')\n",
    "encode_numeric_zscore(data, 'is_guest_login')\n",
    "encode_numeric_zscore(data, 'count')"
   ]
  },
  {
   "cell_type": "code",
   "execution_count": 15,
   "metadata": {},
   "outputs": [
    {
     "name": "stdout",
     "output_type": "stream",
     "text": [
      "Conversione feature \"count\" in linguaggio macchina . . .\n",
      "Conversione indici 1,2,3 in linguaggio macchina . . .\n",
      "Rimuovo le features di indici 1,2,3 e concateno un hot encoder array\n",
      "\n",
      "\n",
      "Final shape of data: (13451, 95)\n",
      "\n",
      "\n"
     ]
    }
   ],
   "source": [
    "sc = MinMaxScaler()\n",
    "enc = OneHotEncoder(categories=[range(3), range(len(service_list)), range(len(flag_list))])\n",
    "num_desc = data.loc[:, ['duration', 'src_bytes', 'dst_bytes']].describe()\n",
    "\n",
    "label, df_label = [], []\n",
    "    \n",
    "label = data['result'].copy().values.reshape((data.shape[0], 1))\n",
    "df_label = pd.DataFrame(label)\n",
    "data.drop(['result'], axis=1, inplace=True)   \n",
    "\n",
    "attr_name = ['duration', '', '', '', 'src_bytes', 'dst_bytes']\n",
    "\n",
    "for i in ['duration', 'src_bytes', 'dst_bytes']:\n",
    "    iqr = (num_desc[i].values[6] - num_desc[i].values[4])\n",
    "    std = num_desc[i].values[6] + iqr * 1.5  # IQR upper fence = Q3 + 1.5 * IQR\n",
    "    if std == 0:\n",
    "        data[i] = data[i].map(lambda x: 1 if x > 0 else 0)\n",
    "    else:\n",
    "        data[i] = data[i].map(lambda x: std if x > std else x)\n",
    "sc.fit(data[['duration', 'src_bytes', 'dst_bytes']].values)\n",
    "data[['duration', 'src_bytes', 'dst_bytes']] = sc.transform(data[['duration', 'src_bytes', 'dst_bytes']].values)\n",
    "\n",
    "print('Conversione feature \"count\" in linguaggio macchina . . .')\n",
    "sc.fit(data[['count']].values.astype(np.float32))\n",
    "data[['count']] = sc.transform(data[['count']].values.astype(np.float32))\n",
    "\n",
    "print('Conversione indici 1,2,3 in linguaggio macchina . . .')\n",
    "enc.fit(data[['protocol_type','service','flag']].values)\n",
    "one_hot_arr = enc.transform(data[['protocol_type','service','flag']].values).toarray()\n",
    "\n",
    "print('Rimuovo le features di indici 1,2,3 e concateno un hot encoder array')\n",
    "data.drop(['protocol_type','service','flag'], axis=1, inplace=True)\n",
    "data_final = np.concatenate((data.values, one_hot_arr, df_label), axis=1)\n",
    "data_final = pd.DataFrame(data_final)\n",
    "\n",
    "print(\"\")\n",
    "print(\"\")\n",
    "print('Final shape of data:', data_final.shape)\n",
    "print(\"\")\n",
    "print(\"\")"
   ]
  },
  {
   "cell_type": "code",
   "execution_count": 16,
   "metadata": {
    "scrolled": false
   },
   "outputs": [
    {
     "name": "stdout",
     "output_type": "stream",
     "text": [
      "Epoch 1/15\n",
      "47/47 [==============================] - 12s 264ms/step - loss: 0.1409 - val_loss: 0.0731\n",
      "Epoch 2/15\n",
      "47/47 [==============================] - 12s 261ms/step - loss: 0.0827 - val_loss: 0.0350\n",
      "Epoch 3/15\n",
      "47/47 [==============================] - 14s 292ms/step - loss: 0.0669 - val_loss: 0.0318\n",
      "Epoch 4/15\n",
      "47/47 [==============================] - 14s 289ms/step - loss: 0.0617 - val_loss: 0.0311\n",
      "Epoch 5/15\n",
      "47/47 [==============================] - 13s 281ms/step - loss: 0.0562 - val_loss: 0.0329\n",
      "Epoch 6/15\n",
      "47/47 [==============================] - 15s 312ms/step - loss: 0.0448 - val_loss: 0.0277\n",
      "Epoch 7/15\n",
      "47/47 [==============================] - 13s 281ms/step - loss: 0.0340 - val_loss: 0.0254\n",
      "Epoch 8/15\n",
      "47/47 [==============================] - 14s 295ms/step - loss: 0.0319 - val_loss: 0.0232\n",
      "Epoch 9/15\n",
      "47/47 [==============================] - 13s 276ms/step - loss: 0.0306 - val_loss: 0.0218\n",
      "Epoch 10/15\n",
      "47/47 [==============================] - 13s 276ms/step - loss: 0.0301 - val_loss: 0.0158\n",
      "Epoch 11/15\n",
      "47/47 [==============================] - 13s 273ms/step - loss: 0.0299 - val_loss: 0.0187\n",
      "Epoch 12/15\n",
      "47/47 [==============================] - 14s 303ms/step - loss: 0.0292 - val_loss: 0.0177\n",
      "Epoch 13/15\n",
      "47/47 [==============================] - 15s 309ms/step - loss: 0.0293 - val_loss: 0.0147\n",
      "Epoch 14/15\n",
      "47/47 [==============================] - 13s 279ms/step - loss: 0.0289 - val_loss: 0.0146\n",
      "Epoch 15/15\n",
      "47/47 [==============================] - 13s 277ms/step - loss: 0.0274 - val_loss: 0.0144\n"
     ]
    },
    {
     "data": {
      "image/png": "[encoded data removed]",
      "text/plain": [
       "<Figure size 432x288 with 1 Axes>"
      ]
     },
     "metadata": {
      "needs_background": "light"
     },
     "output_type": "display_data"
    },
    {
     "name": "stdout",
     "output_type": "stream",
     "text": [
      "Reconstruction error threshold:  0.054741662\n"
     ]
    },
    {
     "data": {
      "image/png": "[encoded data removed]",
      "text/plain": [
       "<Figure size 432x288 with 1 Axes>"
      ]
     },
     "metadata": {
      "needs_background": "light"
     },
     "output_type": "display_data"
    },
    {
     "name": "stdout",
     "output_type": "stream",
     "text": [
      "Number di sample normali rilevati:  3195\n",
      "Numero di sample normali rivelati erroneamente:  421 (FP)\n",
      "Numero di sample normali rilevati correttamente:  2774 (TP)\n",
      "Numero di sample normali non rivelati (considerati anomalie):  257 (FN)\n",
      "Numero di sample anomali rivelati correttamente 928 (TN)\n",
      "Numero di sample anomali scambiati per normali 421 (FP)\n",
      "\n",
      "Numero di sample anomali U2R rilevati correttamente:  0 (TN)\n",
      "Numero di sample anomali U2R considerati Normali : 22 (FP)\n",
      "Numero di sample anomali R2L rilevati correttamente:  2 (TN)\n",
      "Numero di sample anomali R2L considerati normali : 134 (FP)\n",
      "Numero di sample anomali Probe rilevati correttamente:  152 (TN)\n",
      "Numero di sample anomali Probe considerati normali : 39 (FP)\n",
      "Numero di sample anomali Dos rilevati correttamente:  774 (TN)\n",
      "Numero di sample anomali Dos considerati normali : 226 (FP)\n",
      "\n",
      "### 0 Anomaly / 1 Normal ###\n"
     ]
    },
    {
     "data": {
      "image/png": "[encoded data removed]",
      "text/plain": [
       "<Figure size 432x288 with 1 Axes>"
      ]
     },
     "metadata": {
      "needs_background": "light"
     },
     "output_type": "display_data"
    },
    {
     "name": "stdout",
     "output_type": "stream",
     "text": [
      "          predicted labels  \n",
      "0 :\n",
      "             precision:  0.783\n",
      "             recall:     0.688\n",
      "\n",
      "\n",
      "1 :\n",
      "             precision:  0.868\n",
      "             recall:     0.915\n",
      "\n",
      "\n",
      "Avg precision:     0.826\n",
      "Avg weight precision:     0.842\n",
      "Avg recall:     0.802\n",
      "Avg weight recall:     0.845\n",
      "\n",
      "Accuracy:  0.84521\n",
      "Epoch 1/15\n",
      "47/47 [==============================] - 14s 288ms/step - loss: 0.1262 - val_loss: 0.0737\n",
      "Epoch 2/15\n",
      "47/47 [==============================] - 13s 277ms/step - loss: 0.0810 - val_loss: 0.0294\n",
      "Epoch 3/15\n",
      "47/47 [==============================] - 14s 298ms/step - loss: 0.0550 - val_loss: 0.0218\n",
      "Epoch 4/15\n",
      "47/47 [==============================] - 13s 280ms/step - loss: 0.0420 - val_loss: 0.0222\n",
      "Epoch 5/15\n",
      "47/47 [==============================] - 14s 295ms/step - loss: 0.0353 - val_loss: 0.0202\n",
      "Epoch 6/15\n",
      "47/47 [==============================] - 14s 291ms/step - loss: 0.0329 - val_loss: 0.0142\n",
      "Epoch 7/15\n",
      "47/47 [==============================] - 13s 283ms/step - loss: 0.0313 - val_loss: 0.0144\n",
      "Epoch 8/15\n",
      "47/47 [==============================] - 14s 288ms/step - loss: 0.0300 - val_loss: 0.0141\n",
      "Epoch 9/15\n",
      "47/47 [==============================] - 14s 303ms/step - loss: 0.0294 - val_loss: 0.0116\n",
      "Epoch 10/15\n",
      "47/47 [==============================] - 13s 281ms/step - loss: 0.0295 - val_loss: 0.0090\n",
      "Epoch 11/15\n",
      "47/47 [==============================] - 14s 294ms/step - loss: 0.0279 - val_loss: 0.0069\n",
      "Epoch 12/15\n",
      "47/47 [==============================] - 14s 288ms/step - loss: 0.0271 - val_loss: 0.0073\n",
      "Epoch 13/15\n",
      "47/47 [==============================] - 13s 281ms/step - loss: 0.0274 - val_loss: 0.0079\n",
      "Epoch 14/15\n",
      "47/47 [==============================] - 13s 280ms/step - loss: 0.0263 - val_loss: 0.0054\n",
      "Epoch 15/15\n",
      "47/47 [==============================] - 13s 279ms/step - loss: 0.0260 - val_loss: 0.0050\n"
     ]
    },
    {
     "data": {
      "image/png": "[encoded data removed]",
      "text/plain": [
       "<Figure size 432x288 with 1 Axes>"
      ]
     },
     "metadata": {
      "needs_background": "light"
     },
     "output_type": "display_data"
    },
    {
     "name": "stdout",
     "output_type": "stream",
     "text": [
      "Reconstruction error threshold:  0.025747357\n"
     ]
    },
    {
     "data": {
      "image/png": "[encoded data removed]",
      "text/plain": [
       "<Figure size 432x288 with 1 Axes>"
      ]
     },
     "metadata": {
      "needs_background": "light"
     },
     "output_type": "display_data"
    },
    {
     "name": "stdout",
     "output_type": "stream",
     "text": [
      "Number di sample normali rilevati:  3348\n",
      "Numero di sample normali rivelati erroneamente:  438 (FP)\n",
      "Numero di sample normali rilevati correttamente:  2910 (TP)\n",
      "Numero di sample normali non rivelati (considerati anomalie):  121 (FN)\n",
      "Numero di sample anomali rivelati correttamente 911 (TN)\n",
      "Numero di sample anomali scambiati per normali 438 (FP)\n",
      "\n",
      "Numero di sample anomali U2R rilevati correttamente:  0 (TN)\n",
      "Numero di sample anomali U2R considerati Normali : 22 (FP)\n",
      "Numero di sample anomali R2L rilevati correttamente:  1 (TN)\n",
      "Numero di sample anomali R2L considerati normali : 135 (FP)\n",
      "Numero di sample anomali Probe rilevati correttamente:  136 (TN)\n",
      "Numero di sample anomali Probe considerati normali : 55 (FP)\n",
      "Numero di sample anomali Dos rilevati correttamente:  774 (TN)\n",
      "Numero di sample anomali Dos considerati normali : 226 (FP)\n",
      "\n",
      "### 0 Anomaly / 1 Normal ###\n"
     ]
    },
    {
     "data": {
      "image/png": "[encoded data removed]",
      "text/plain": [
       "<Figure size 432x288 with 1 Axes>"
      ]
     },
     "metadata": {
      "needs_background": "light"
     },
     "output_type": "display_data"
    },
    {
     "name": "stdout",
     "output_type": "stream",
     "text": [
      "          predicted labels  \n",
      "0 :\n",
      "             precision:  0.883\n",
      "             recall:     0.675\n",
      "\n",
      "\n",
      "1 :\n",
      "             precision:  0.869\n",
      "             recall:     0.960\n",
      "\n",
      "\n",
      "Avg precision:     0.876\n",
      "Avg weight precision:     0.873\n",
      "Avg recall:     0.818\n",
      "Avg weight recall:     0.872\n",
      "\n",
      "Accuracy:  0.87237\n",
      "Epoch 1/15\n",
      "47/47 [==============================] - 13s 279ms/step - loss: 0.1655 - val_loss: 0.0732\n",
      "Epoch 2/15\n",
      "47/47 [==============================] - 13s 280ms/step - loss: 0.0917 - val_loss: 0.0408\n",
      "Epoch 3/15\n",
      "47/47 [==============================] - 13s 280ms/step - loss: 0.0685 - val_loss: 0.0526\n",
      "Epoch 4/15\n",
      "47/47 [==============================] - 13s 279ms/step - loss: 0.0634 - val_loss: 0.0502\n",
      "Epoch 5/15\n",
      "47/47 [==============================] - 13s 275ms/step - loss: 0.0587 - val_loss: 0.0545\n",
      "Epoch 6/15\n",
      "47/47 [==============================] - 13s 277ms/step - loss: 0.0548 - val_loss: 0.0811\n",
      "Epoch 7/15\n",
      "47/47 [==============================] - 13s 279ms/step - loss: 0.0487 - val_loss: 0.1502\n",
      "Epoch 8/15\n",
      "47/47 [==============================] - 13s 279ms/step - loss: 0.0378 - val_loss: 0.1889\n",
      "Epoch 9/15\n",
      "47/47 [==============================] - 13s 276ms/step - loss: 0.0314 - val_loss: 0.1661\n",
      "Epoch 10/15\n",
      "47/47 [==============================] - 13s 275ms/step - loss: 0.0318 - val_loss: 0.1048\n",
      "Epoch 11/15\n",
      "47/47 [==============================] - 14s 290ms/step - loss: 0.0290 - val_loss: 0.1111\n",
      "Epoch 12/15\n",
      "47/47 [==============================] - 14s 292ms/step - loss: 0.0292 - val_loss: 0.1710\n",
      "Epoch 13/15\n",
      "47/47 [==============================] - 15s 313ms/step - loss: 0.0284 - val_loss: 0.2051\n",
      "Epoch 14/15\n",
      "47/47 [==============================] - 14s 300ms/step - loss: 0.0282 - val_loss: 0.1313\n",
      "Epoch 15/15\n",
      "47/47 [==============================] - 14s 308ms/step - loss: 0.0277 - val_loss: 0.1817\n"
     ]
    },
    {
     "data": {
      "image/png": "[encoded data removed]",
      "text/plain": [
       "<Figure size 432x288 with 1 Axes>"
      ]
     },
     "metadata": {
      "needs_background": "light"
     },
     "output_type": "display_data"
    },
    {
     "name": "stdout",
     "output_type": "stream",
     "text": [
      "Reconstruction error threshold:  0.40370384\n"
     ]
    },
    {
     "data": {
      "image/png": "[encoded data removed]",
      "text/plain": [
       "<Figure size 432x288 with 1 Axes>"
      ]
     },
     "metadata": {
      "needs_background": "light"
     },
     "output_type": "display_data"
    },
    {
     "name": "stdout",
     "output_type": "stream",
     "text": [
      "Number di sample normali rilevati:  588\n",
      "Numero di sample normali rivelati erroneamente:  464 (FP)\n",
      "Numero di sample normali rilevati correttamente:  124 (TP)\n",
      "Numero di sample normali non rivelati (considerati anomalie):  2907 (FN)\n",
      "Numero di sample anomali rivelati correttamente 885 (TN)\n",
      "Numero di sample anomali scambiati per normali 464 (FP)\n",
      "\n",
      "Numero di sample anomali U2R rilevati correttamente:  7 (TN)\n",
      "Numero di sample anomali U2R considerati Normali : 15 (FP)\n",
      "Numero di sample anomali R2L rilevati correttamente:  24 (TN)\n",
      "Numero di sample anomali R2L considerati normali : 112 (FP)\n",
      "Numero di sample anomali Probe rilevati correttamente:  115 (TN)\n",
      "Numero di sample anomali Probe considerati normali : 76 (FP)\n",
      "Numero di sample anomali Dos rilevati correttamente:  739 (TN)\n",
      "Numero di sample anomali Dos considerati normali : 261 (FP)\n",
      "\n",
      "### 0 Anomaly / 1 Normal ###\n"
     ]
    },
    {
     "data": {
      "image/png": "[encoded data removed]",
      "text/plain": [
       "<Figure size 432x288 with 1 Axes>"
      ]
     },
     "metadata": {
      "needs_background": "light"
     },
     "output_type": "display_data"
    },
    {
     "name": "stdout",
     "output_type": "stream",
     "text": [
      "          predicted labels  \n",
      "0 :\n",
      "             precision:  0.233\n",
      "             recall:     0.656\n",
      "\n",
      "\n",
      "1 :\n",
      "             precision:  0.211\n",
      "             recall:     0.041\n",
      "\n",
      "\n",
      "Avg precision:     0.222\n",
      "Avg weight precision:     0.218\n",
      "Avg recall:     0.348\n",
      "Avg weight recall:     0.230\n",
      "\n",
      "Accuracy:  0.23037\n",
      "Epoch 1/15\n",
      "47/47 [==============================] - 14s 303ms/step - loss: 0.1473 - val_loss: 0.0776\n",
      "Epoch 2/15\n",
      "47/47 [==============================] - 15s 312ms/step - loss: 0.0898 - val_loss: 0.0388\n",
      "Epoch 3/15\n",
      "47/47 [==============================] - 13s 279ms/step - loss: 0.0707 - val_loss: 0.0359\n",
      "Epoch 4/15\n",
      "47/47 [==============================] - 14s 291ms/step - loss: 0.0679 - val_loss: 0.0322\n",
      "Epoch 5/15\n",
      "47/47 [==============================] - 13s 285ms/step - loss: 0.0637 - val_loss: 0.0259\n",
      "Epoch 6/15\n",
      "47/47 [==============================] - 13s 280ms/step - loss: 0.0564 - val_loss: 0.0246\n",
      "Epoch 7/15\n",
      "47/47 [==============================] - 13s 277ms/step - loss: 0.0458 - val_loss: 0.0273\n",
      "Epoch 8/15\n",
      "47/47 [==============================] - 13s 277ms/step - loss: 0.0357 - val_loss: 0.0208\n",
      "Epoch 9/15\n",
      "47/47 [==============================] - 14s 303ms/step - loss: 0.0322 - val_loss: 0.0242\n",
      "Epoch 10/15\n",
      "47/47 [==============================] - 13s 275ms/step - loss: 0.0299 - val_loss: 0.0315\n",
      "Epoch 11/15\n",
      "47/47 [==============================] - 13s 278ms/step - loss: 0.0290 - val_loss: 0.0192\n",
      "Epoch 12/15\n",
      "47/47 [==============================] - 13s 280ms/step - loss: 0.0275 - val_loss: 0.0134\n",
      "Epoch 13/15\n",
      "47/47 [==============================] - 13s 279ms/step - loss: 0.0279 - val_loss: 0.0126\n",
      "Epoch 14/15\n",
      "47/47 [==============================] - 13s 280ms/step - loss: 0.0273 - val_loss: 0.0130\n",
      "Epoch 15/15\n",
      "47/47 [==============================] - 13s 287ms/step - loss: 0.0279 - val_loss: 0.0100\n"
     ]
    },
    {
     "data": {
      "image/png": "[encoded data removed]",
      "text/plain": [
       "<Figure size 432x288 with 1 Axes>"
      ]
     },
     "metadata": {
      "needs_background": "light"
     },
     "output_type": "display_data"
    },
    {
     "name": "stdout",
     "output_type": "stream",
     "text": [
      "Reconstruction error threshold:  0.048397638\n"
     ]
    },
    {
     "data": {
      "image/png": "[encoded data removed]",
      "text/plain": [
       "<Figure size 432x288 with 1 Axes>"
      ]
     },
     "metadata": {
      "needs_background": "light"
     },
     "output_type": "display_data"
    },
    {
     "name": "stdout",
     "output_type": "stream",
     "text": [
      "Number di sample normali rilevati:  3168\n",
      "Numero di sample normali rivelati erroneamente:  390 (FP)\n",
      "Numero di sample normali rilevati correttamente:  2778 (TP)\n",
      "Numero di sample normali non rivelati (considerati anomalie):  253 (FN)\n",
      "Numero di sample anomali rivelati correttamente 959 (TN)\n",
      "Numero di sample anomali scambiati per normali 390 (FP)\n",
      "\n",
      "Numero di sample anomali U2R rilevati correttamente:  0 (TN)\n",
      "Numero di sample anomali U2R considerati Normali : 22 (FP)\n",
      "Numero di sample anomali R2L rilevati correttamente:  8 (TN)\n",
      "Numero di sample anomali R2L considerati normali : 128 (FP)\n",
      "Numero di sample anomali Probe rilevati correttamente:  174 (TN)\n",
      "Numero di sample anomali Probe considerati normali : 17 (FP)\n",
      "Numero di sample anomali Dos rilevati correttamente:  777 (TN)\n",
      "Numero di sample anomali Dos considerati normali : 223 (FP)\n",
      "\n",
      "### 0 Anomaly / 1 Normal ###\n"
     ]
    },
    {
     "data": {
      "image/png": "[encoded data removed]",
      "text/plain": [
       "<Figure size 432x288 with 1 Axes>"
      ]
     },
     "metadata": {
      "needs_background": "light"
     },
     "output_type": "display_data"
    },
    {
     "name": "stdout",
     "output_type": "stream",
     "text": [
      "          predicted labels  \n",
      "0 :\n",
      "             precision:  0.791\n",
      "             recall:     0.711\n",
      "\n",
      "\n",
      "1 :\n",
      "             precision:  0.877\n",
      "             recall:     0.917\n",
      "\n",
      "\n",
      "Avg precision:     0.834\n",
      "Avg weight precision:     0.851\n",
      "Avg recall:     0.814\n",
      "Avg weight recall:     0.853\n",
      "\n",
      "Accuracy:  0.85320\n",
      "Epoch 1/15\n",
      "47/47 [==============================] - 14s 288ms/step - loss: 0.2368 - val_loss: 0.0759\n",
      "Epoch 2/15\n",
      "47/47 [==============================] - 14s 308ms/step - loss: 0.1092 - val_loss: 0.0737\n",
      "Epoch 3/15\n",
      "47/47 [==============================] - 14s 295ms/step - loss: 0.1085 - val_loss: 0.0734\n",
      "Epoch 4/15\n",
      "47/47 [==============================] - 15s 311ms/step - loss: 0.1079 - val_loss: 0.0708\n",
      "Epoch 5/15\n",
      "47/47 [==============================] - 13s 281ms/step - loss: 0.0835 - val_loss: 0.0390\n",
      "Epoch 6/15\n",
      "47/47 [==============================] - 13s 283ms/step - loss: 0.0708 - val_loss: 0.0348\n",
      "Epoch 7/15\n",
      "47/47 [==============================] - 13s 281ms/step - loss: 0.0665 - val_loss: 0.0279\n",
      "Epoch 8/15\n",
      "47/47 [==============================] - 13s 276ms/step - loss: 0.0625 - val_loss: 0.0248\n",
      "Epoch 9/15\n",
      "47/47 [==============================] - 14s 290ms/step - loss: 0.0603 - val_loss: 0.0235\n",
      "Epoch 10/15\n",
      "47/47 [==============================] - 14s 303ms/step - loss: 0.0579 - val_loss: 0.0223\n",
      "Epoch 11/15\n",
      "47/47 [==============================] - 13s 286ms/step - loss: 0.0559 - val_loss: 0.0218\n",
      "Epoch 12/15\n",
      "47/47 [==============================] - 14s 291ms/step - loss: 0.0538 - val_loss: 0.0176\n",
      "Epoch 13/15\n",
      "47/47 [==============================] - 14s 290ms/step - loss: 0.0482 - val_loss: 0.0116\n",
      "Epoch 14/15\n",
      "47/47 [==============================] - 14s 308ms/step - loss: 0.0376 - val_loss: 0.0033\n",
      "Epoch 15/15\n",
      "47/47 [==============================] - 13s 281ms/step - loss: 0.0296 - val_loss: 0.0016\n"
     ]
    },
    {
     "data": {
      "image/png": "[encoded data removed]",
      "text/plain": [
       "<Figure size 432x288 with 1 Axes>"
      ]
     },
     "metadata": {
      "needs_background": "light"
     },
     "output_type": "display_data"
    },
    {
     "name": "stdout",
     "output_type": "stream",
     "text": [
      "Reconstruction error threshold:  0.009474794\n"
     ]
    },
    {
     "data": {
      "image/png": "[encoded data removed]",
      "text/plain": [
       "<Figure size 432x288 with 1 Axes>"
      ]
     },
     "metadata": {
      "needs_background": "light"
     },
     "output_type": "display_data"
    },
    {
     "name": "stdout",
     "output_type": "stream",
     "text": [
      "Number di sample normali rilevati:  3182\n",
      "Numero di sample normali rivelati erroneamente:  406 (FP)\n",
      "Numero di sample normali rilevati correttamente:  2776 (TP)\n",
      "Numero di sample normali non rivelati (considerati anomalie):  255 (FN)\n",
      "Numero di sample anomali rivelati correttamente 943 (TN)\n",
      "Numero di sample anomali scambiati per normali 406 (FP)\n",
      "\n",
      "Numero di sample anomali U2R rilevati correttamente:  0 (TN)\n",
      "Numero di sample anomali U2R considerati Normali : 22 (FP)\n",
      "Numero di sample anomali R2L rilevati correttamente:  1 (TN)\n",
      "Numero di sample anomali R2L considerati normali : 135 (FP)\n",
      "Numero di sample anomali Probe rilevati correttamente:  159 (TN)\n",
      "Numero di sample anomali Probe considerati normali : 32 (FP)\n",
      "Numero di sample anomali Dos rilevati correttamente:  783 (TN)\n",
      "Numero di sample anomali Dos considerati normali : 217 (FP)\n",
      "\n",
      "### 0 Anomaly / 1 Normal ###\n"
     ]
    },
    {
     "data": {
      "image/png": "[encoded data removed]",
      "text/plain": [
       "<Figure size 432x288 with 1 Axes>"
      ]
     },
     "metadata": {
      "needs_background": "light"
     },
     "output_type": "display_data"
    },
    {
     "name": "stdout",
     "output_type": "stream",
     "text": [
      "          predicted labels  \n",
      "0 :\n",
      "             precision:  0.787\n",
      "             recall:     0.699\n",
      "\n",
      "\n",
      "1 :\n",
      "             precision:  0.872\n",
      "             recall:     0.916\n",
      "\n",
      "\n",
      "Avg precision:     0.830\n",
      "Avg weight precision:     0.846\n",
      "Avg recall:     0.807\n",
      "Avg weight recall:     0.849\n",
      "\n",
      "Accuracy:  0.84909\n",
      "Epoch 1/15\n",
      "47/47 [==============================] - 13s 278ms/step - loss: 0.1354 - val_loss: 0.0756\n",
      "Epoch 2/15\n",
      "47/47 [==============================] - 13s 280ms/step - loss: 0.1099 - val_loss: 0.0751\n",
      "Epoch 3/15\n",
      "47/47 [==============================] - 13s 278ms/step - loss: 0.1098 - val_loss: 0.0750\n",
      "Epoch 4/15\n",
      "47/47 [==============================] - 14s 288ms/step - loss: 0.1096 - val_loss: 0.0748\n",
      "Epoch 5/15\n",
      "47/47 [==============================] - 13s 280ms/step - loss: 0.1094 - val_loss: 0.0745\n",
      "Epoch 6/15\n",
      "47/47 [==============================] - 13s 277ms/step - loss: 0.1091 - val_loss: 0.0742\n",
      "Epoch 7/15\n",
      "47/47 [==============================] - 14s 301ms/step - loss: 0.1089 - val_loss: 0.0739\n",
      "Epoch 8/15\n",
      "47/47 [==============================] - 14s 288ms/step - loss: 0.1086 - val_loss: 0.0736\n",
      "Epoch 9/15\n",
      "47/47 [==============================] - 13s 280ms/step - loss: 0.1084 - val_loss: 0.0735\n",
      "Epoch 10/15\n",
      "47/47 [==============================] - 13s 279ms/step - loss: 0.1031 - val_loss: 0.0427\n",
      "Epoch 11/15\n",
      "47/47 [==============================] - 14s 293ms/step - loss: 0.0744 - val_loss: 0.0362\n",
      "Epoch 12/15\n",
      "47/47 [==============================] - 14s 299ms/step - loss: 0.0704 - val_loss: 0.0352\n",
      "Epoch 13/15\n",
      "47/47 [==============================] - 14s 303ms/step - loss: 0.0688 - val_loss: 0.0335\n",
      "Epoch 14/15\n",
      "47/47 [==============================] - 13s 285ms/step - loss: 0.0600 - val_loss: 0.0366\n",
      "Epoch 15/15\n",
      "47/47 [==============================] - 13s 283ms/step - loss: 0.0419 - val_loss: 0.0243\n"
     ]
    },
    {
     "data": {
      "image/png": "[encoded data removed]",
      "text/plain": [
       "<Figure size 432x288 with 1 Axes>"
      ]
     },
     "metadata": {
      "needs_background": "light"
     },
     "output_type": "display_data"
    },
    {
     "name": "stdout",
     "output_type": "stream",
     "text": [
      "Reconstruction error threshold:  0.06736327\n"
     ]
    },
    {
     "data": {
      "image/png": "[encoded data removed]",
      "text/plain": [
       "<Figure size 432x288 with 1 Axes>"
      ]
     },
     "metadata": {
      "needs_background": "light"
     },
     "output_type": "display_data"
    },
    {
     "name": "stdout",
     "output_type": "stream",
     "text": [
      "Number di sample normali rilevati:  3164\n",
      "Numero di sample normali rivelati erroneamente:  385 (FP)\n",
      "Numero di sample normali rilevati correttamente:  2779 (TP)\n",
      "Numero di sample normali non rivelati (considerati anomalie):  252 (FN)\n",
      "Numero di sample anomali rivelati correttamente 964 (TN)\n",
      "Numero di sample anomali scambiati per normali 385 (FP)\n",
      "\n",
      "Numero di sample anomali U2R rilevati correttamente:  0 (TN)\n",
      "Numero di sample anomali U2R considerati Normali : 22 (FP)\n",
      "Numero di sample anomali R2L rilevati correttamente:  2 (TN)\n",
      "Numero di sample anomali R2L considerati normali : 134 (FP)\n",
      "Numero di sample anomali Probe rilevati correttamente:  187 (TN)\n",
      "Numero di sample anomali Probe considerati normali : 4 (FP)\n",
      "Numero di sample anomali Dos rilevati correttamente:  775 (TN)\n",
      "Numero di sample anomali Dos considerati normali : 225 (FP)\n",
      "\n",
      "### 0 Anomaly / 1 Normal ###\n"
     ]
    },
    {
     "data": {
      "image/png": "[encoded data removed]",
      "text/plain": [
       "<Figure size 432x288 with 1 Axes>"
      ]
     },
     "metadata": {
      "needs_background": "light"
     },
     "output_type": "display_data"
    },
    {
     "name": "stdout",
     "output_type": "stream",
     "text": [
      "          predicted labels  \n",
      "0 :\n",
      "             precision:  0.793\n",
      "             recall:     0.715\n",
      "\n",
      "\n",
      "1 :\n",
      "             precision:  0.878\n",
      "             recall:     0.917\n",
      "\n",
      "\n",
      "Avg precision:     0.836\n",
      "Avg weight precision:     0.852\n",
      "Avg recall:     0.816\n",
      "Avg weight recall:     0.855\n",
      "\n",
      "Accuracy:  0.85457\n",
      "Epoch 1/15\n",
      "47/47 [==============================] - 14s 291ms/step - loss: 0.1173 - val_loss: 0.0752\n",
      "Epoch 2/15\n",
      "47/47 [==============================] - 14s 291ms/step - loss: 0.1095 - val_loss: 0.0742\n",
      "Epoch 3/15\n",
      "47/47 [==============================] - 13s 281ms/step - loss: 0.0998 - val_loss: 0.0574\n",
      "Epoch 4/15\n",
      "47/47 [==============================] - 14s 298ms/step - loss: 0.0716 - val_loss: 0.0403\n",
      "Epoch 5/15\n",
      "47/47 [==============================] - 14s 295ms/step - loss: 0.0567 - val_loss: 0.0413\n",
      "Epoch 6/15\n",
      "47/47 [==============================] - 14s 296ms/step - loss: 0.0493 - val_loss: 0.0239\n",
      "Epoch 7/15\n",
      "47/47 [==============================] - 13s 280ms/step - loss: 0.0379 - val_loss: 0.0183\n",
      "Epoch 8/15\n",
      "47/47 [==============================] - 14s 293ms/step - loss: 0.0319 - val_loss: 0.0086\n",
      "Epoch 9/15\n",
      "47/47 [==============================] - 14s 299ms/step - loss: 0.0299 - val_loss: 0.0025\n",
      "Epoch 10/15\n",
      "47/47 [==============================] - 13s 277ms/step - loss: 0.0275 - val_loss: 0.0036\n",
      "Epoch 11/15\n",
      "47/47 [==============================] - 13s 273ms/step - loss: 0.0281 - val_loss: 0.0021\n",
      "Epoch 12/15\n",
      "47/47 [==============================] - 13s 277ms/step - loss: 0.0268 - val_loss: 0.0025\n",
      "Epoch 13/15\n",
      "47/47 [==============================] - 13s 281ms/step - loss: 0.0267 - val_loss: 0.0018\n",
      "Epoch 14/15\n",
      "47/47 [==============================] - 13s 277ms/step - loss: 0.0268 - val_loss: 0.0020\n",
      "Epoch 15/15\n",
      "47/47 [==============================] - 13s 278ms/step - loss: 0.0263 - val_loss: 0.0020\n"
     ]
    },
    {
     "data": {
      "image/png": "[encoded data removed]",
      "text/plain": [
       "<Figure size 432x288 with 1 Axes>"
      ]
     },
     "metadata": {
      "needs_background": "light"
     },
     "output_type": "display_data"
    },
    {
     "name": "stdout",
     "output_type": "stream",
     "text": [
      "Reconstruction error threshold:  0.013133193\n"
     ]
    },
    {
     "data": {
      "image/png": "[encoded data removed]",
      "text/plain": [
       "<Figure size 432x288 with 1 Axes>"
      ]
     },
     "metadata": {
      "needs_background": "light"
     },
     "output_type": "display_data"
    },
    {
     "name": "stdout",
     "output_type": "stream",
     "text": [
      "Number di sample normali rilevati:  3176\n",
      "Numero di sample normali rivelati erroneamente:  402 (FP)\n",
      "Numero di sample normali rilevati correttamente:  2774 (TP)\n",
      "Numero di sample normali non rivelati (considerati anomalie):  257 (FN)\n",
      "Numero di sample anomali rivelati correttamente 947 (TN)\n",
      "Numero di sample anomali scambiati per normali 402 (FP)\n",
      "\n",
      "Numero di sample anomali U2R rilevati correttamente:  0 (TN)\n",
      "Numero di sample anomali U2R considerati Normali : 22 (FP)\n",
      "Numero di sample anomali R2L rilevati correttamente:  2 (TN)\n",
      "Numero di sample anomali R2L considerati normali : 134 (FP)\n",
      "Numero di sample anomali Probe rilevati correttamente:  177 (TN)\n",
      "Numero di sample anomali Probe considerati normali : 14 (FP)\n",
      "Numero di sample anomali Dos rilevati correttamente:  768 (TN)\n",
      "Numero di sample anomali Dos considerati normali : 232 (FP)\n",
      "\n",
      "### 0 Anomaly / 1 Normal ###\n"
     ]
    },
    {
     "data": {
      "image/png": "[encoded data removed]",
      "text/plain": [
       "<Figure size 432x288 with 1 Axes>"
      ]
     },
     "metadata": {
      "needs_background": "light"
     },
     "output_type": "display_data"
    },
    {
     "name": "stdout",
     "output_type": "stream",
     "text": [
      "          predicted labels  \n",
      "0 :\n",
      "             precision:  0.787\n",
      "             recall:     0.702\n",
      "\n",
      "\n",
      "1 :\n",
      "             precision:  0.873\n",
      "             recall:     0.915\n",
      "\n",
      "\n",
      "Avg precision:     0.830\n",
      "Avg weight precision:     0.847\n",
      "Avg recall:     0.809\n",
      "Avg weight recall:     0.850\n",
      "\n",
      "Accuracy:  0.84954\n",
      "Epoch 1/15\n",
      "47/47 [==============================] - 13s 277ms/step - loss: 0.1247 - val_loss: 0.0712\n",
      "Epoch 2/15\n",
      "47/47 [==============================] - 13s 280ms/step - loss: 0.0784 - val_loss: 0.0359\n",
      "Epoch 3/15\n",
      "47/47 [==============================] - 13s 280ms/step - loss: 0.0678 - val_loss: 0.0329\n",
      "Epoch 4/15\n",
      "47/47 [==============================] - 13s 278ms/step - loss: 0.0653 - val_loss: 0.0309\n",
      "Epoch 5/15\n",
      "47/47 [==============================] - 13s 277ms/step - loss: 0.0590 - val_loss: 0.0269\n",
      "Epoch 6/15\n",
      "47/47 [==============================] - 13s 282ms/step - loss: 0.0453 - val_loss: 0.0282\n",
      "Epoch 7/15\n",
      "47/47 [==============================] - 13s 281ms/step - loss: 0.0355 - val_loss: 0.0369\n",
      "Epoch 8/15\n",
      "47/47 [==============================] - 13s 279ms/step - loss: 0.0312 - val_loss: 0.0296\n",
      "Epoch 9/15\n",
      "47/47 [==============================] - 13s 281ms/step - loss: 0.0287 - val_loss: 0.0306\n",
      "Epoch 10/15\n",
      "21/47 [============>.................] - ETA: 6s - loss: 0.0034"
     ]
    },
    {
     "ename": "KeyboardInterrupt",
     "evalue": "",
     "output_type": "error",
     "traceback": [
      "\u001b[1;31m---------------------------------------------------------------------------\u001b[0m",
      "\u001b[1;31mKeyboardInterrupt\u001b[0m                         Traceback (most recent call last)",
      "\u001b[1;32m<ipython-input-16-58207188875e>\u001b[0m in \u001b[0;36m<module>\u001b[1;34m\u001b[0m\n\u001b[0;32m     51\u001b[0m     \u001b[0mmodel\u001b[0m\u001b[1;33m.\u001b[0m\u001b[0mcompile\u001b[0m\u001b[1;33m(\u001b[0m \u001b[0moptimizer\u001b[0m\u001b[1;33m=\u001b[0m\u001b[1;34m'adam'\u001b[0m\u001b[1;33m,\u001b[0m \u001b[0mloss\u001b[0m\u001b[1;33m=\u001b[0m\u001b[1;34m'mse'\u001b[0m\u001b[1;33m)\u001b[0m\u001b[1;33m\u001b[0m\u001b[1;33m\u001b[0m\u001b[0m\n\u001b[0;32m     52\u001b[0m \u001b[1;33m\u001b[0m\u001b[0m\n\u001b[1;32m---> 53\u001b[1;33m     history = model.fit(\n\u001b[0m\u001b[0;32m     54\u001b[0m     \u001b[0mx_train_arr\u001b[0m\u001b[1;33m,\u001b[0m\u001b[1;33m\u001b[0m\u001b[1;33m\u001b[0m\u001b[0m\n\u001b[0;32m     55\u001b[0m     \u001b[0mx_train_arr\u001b[0m\u001b[1;33m,\u001b[0m\u001b[1;33m\u001b[0m\u001b[1;33m\u001b[0m\u001b[0m\n",
      "\u001b[1;32m~\\anaconda3\\lib\\site-packages\\tensorflow\\python\\keras\\engine\\training.py\u001b[0m in \u001b[0;36m_method_wrapper\u001b[1;34m(self, *args, **kwargs)\u001b[0m\n\u001b[0;32m    106\u001b[0m   \u001b[1;32mdef\u001b[0m \u001b[0m_method_wrapper\u001b[0m\u001b[1;33m(\u001b[0m\u001b[0mself\u001b[0m\u001b[1;33m,\u001b[0m \u001b[1;33m*\u001b[0m\u001b[0margs\u001b[0m\u001b[1;33m,\u001b[0m \u001b[1;33m**\u001b[0m\u001b[0mkwargs\u001b[0m\u001b[1;33m)\u001b[0m\u001b[1;33m:\u001b[0m\u001b[1;33m\u001b[0m\u001b[1;33m\u001b[0m\u001b[0m\n\u001b[0;32m    107\u001b[0m     \u001b[1;32mif\u001b[0m \u001b[1;32mnot\u001b[0m \u001b[0mself\u001b[0m\u001b[1;33m.\u001b[0m\u001b[0m_in_multi_worker_mode\u001b[0m\u001b[1;33m(\u001b[0m\u001b[1;33m)\u001b[0m\u001b[1;33m:\u001b[0m  \u001b[1;31m# pylint: disable=protected-access\u001b[0m\u001b[1;33m\u001b[0m\u001b[1;33m\u001b[0m\u001b[0m\n\u001b[1;32m--> 108\u001b[1;33m       \u001b[1;32mreturn\u001b[0m \u001b[0mmethod\u001b[0m\u001b[1;33m(\u001b[0m\u001b[0mself\u001b[0m\u001b[1;33m,\u001b[0m \u001b[1;33m*\u001b[0m\u001b[0margs\u001b[0m\u001b[1;33m,\u001b[0m \u001b[1;33m**\u001b[0m\u001b[0mkwargs\u001b[0m\u001b[1;33m)\u001b[0m\u001b[1;33m\u001b[0m\u001b[1;33m\u001b[0m\u001b[0m\n\u001b[0m\u001b[0;32m    109\u001b[0m \u001b[1;33m\u001b[0m\u001b[0m\n\u001b[0;32m    110\u001b[0m     \u001b[1;31m# Running inside `run_distribute_coordinator` already.\u001b[0m\u001b[1;33m\u001b[0m\u001b[1;33m\u001b[0m\u001b[1;33m\u001b[0m\u001b[0m\n",
      "\u001b[1;32m~\\anaconda3\\lib\\site-packages\\tensorflow\\python\\keras\\engine\\training.py\u001b[0m in \u001b[0;36mfit\u001b[1;34m(self, x, y, batch_size, epochs, verbose, callbacks, validation_split, validation_data, shuffle, class_weight, sample_weight, initial_epoch, steps_per_epoch, validation_steps, validation_batch_size, validation_freq, max_queue_size, workers, use_multiprocessing)\u001b[0m\n\u001b[0;32m   1096\u001b[0m                 batch_size=batch_size):\n\u001b[0;32m   1097\u001b[0m               \u001b[0mcallbacks\u001b[0m\u001b[1;33m.\u001b[0m\u001b[0mon_train_batch_begin\u001b[0m\u001b[1;33m(\u001b[0m\u001b[0mstep\u001b[0m\u001b[1;33m)\u001b[0m\u001b[1;33m\u001b[0m\u001b[1;33m\u001b[0m\u001b[0m\n\u001b[1;32m-> 1098\u001b[1;33m               \u001b[0mtmp_logs\u001b[0m \u001b[1;33m=\u001b[0m \u001b[0mtrain_function\u001b[0m\u001b[1;33m(\u001b[0m\u001b[0miterator\u001b[0m\u001b[1;33m)\u001b[0m\u001b[1;33m\u001b[0m\u001b[1;33m\u001b[0m\u001b[0m\n\u001b[0m\u001b[0;32m   1099\u001b[0m               \u001b[1;32mif\u001b[0m \u001b[0mdata_handler\u001b[0m\u001b[1;33m.\u001b[0m\u001b[0mshould_sync\u001b[0m\u001b[1;33m:\u001b[0m\u001b[1;33m\u001b[0m\u001b[1;33m\u001b[0m\u001b[0m\n\u001b[0;32m   1100\u001b[0m                 \u001b[0mcontext\u001b[0m\u001b[1;33m.\u001b[0m\u001b[0masync_wait\u001b[0m\u001b[1;33m(\u001b[0m\u001b[1;33m)\u001b[0m\u001b[1;33m\u001b[0m\u001b[1;33m\u001b[0m\u001b[0m\n",
      "\u001b[1;32m~\\anaconda3\\lib\\site-packages\\tensorflow\\python\\eager\\def_function.py\u001b[0m in \u001b[0;36m__call__\u001b[1;34m(self, *args, **kwds)\u001b[0m\n\u001b[0;32m    778\u001b[0m       \u001b[1;32melse\u001b[0m\u001b[1;33m:\u001b[0m\u001b[1;33m\u001b[0m\u001b[1;33m\u001b[0m\u001b[0m\n\u001b[0;32m    779\u001b[0m         \u001b[0mcompiler\u001b[0m \u001b[1;33m=\u001b[0m \u001b[1;34m\"nonXla\"\u001b[0m\u001b[1;33m\u001b[0m\u001b[1;33m\u001b[0m\u001b[0m\n\u001b[1;32m--> 780\u001b[1;33m         \u001b[0mresult\u001b[0m \u001b[1;33m=\u001b[0m \u001b[0mself\u001b[0m\u001b[1;33m.\u001b[0m\u001b[0m_call\u001b[0m\u001b[1;33m(\u001b[0m\u001b[1;33m*\u001b[0m\u001b[0margs\u001b[0m\u001b[1;33m,\u001b[0m \u001b[1;33m**\u001b[0m\u001b[0mkwds\u001b[0m\u001b[1;33m)\u001b[0m\u001b[1;33m\u001b[0m\u001b[1;33m\u001b[0m\u001b[0m\n\u001b[0m\u001b[0;32m    781\u001b[0m \u001b[1;33m\u001b[0m\u001b[0m\n\u001b[0;32m    782\u001b[0m       \u001b[0mnew_tracing_count\u001b[0m \u001b[1;33m=\u001b[0m \u001b[0mself\u001b[0m\u001b[1;33m.\u001b[0m\u001b[0m_get_tracing_count\u001b[0m\u001b[1;33m(\u001b[0m\u001b[1;33m)\u001b[0m\u001b[1;33m\u001b[0m\u001b[1;33m\u001b[0m\u001b[0m\n",
      "\u001b[1;32m~\\anaconda3\\lib\\site-packages\\tensorflow\\python\\eager\\def_function.py\u001b[0m in \u001b[0;36m_call\u001b[1;34m(self, *args, **kwds)\u001b[0m\n\u001b[0;32m    805\u001b[0m       \u001b[1;31m# In this case we have created variables on the first call, so we run the\u001b[0m\u001b[1;33m\u001b[0m\u001b[1;33m\u001b[0m\u001b[1;33m\u001b[0m\u001b[0m\n\u001b[0;32m    806\u001b[0m       \u001b[1;31m# defunned version which is guaranteed to never create variables.\u001b[0m\u001b[1;33m\u001b[0m\u001b[1;33m\u001b[0m\u001b[1;33m\u001b[0m\u001b[0m\n\u001b[1;32m--> 807\u001b[1;33m       \u001b[1;32mreturn\u001b[0m \u001b[0mself\u001b[0m\u001b[1;33m.\u001b[0m\u001b[0m_stateless_fn\u001b[0m\u001b[1;33m(\u001b[0m\u001b[1;33m*\u001b[0m\u001b[0margs\u001b[0m\u001b[1;33m,\u001b[0m \u001b[1;33m**\u001b[0m\u001b[0mkwds\u001b[0m\u001b[1;33m)\u001b[0m  \u001b[1;31m# pylint: disable=not-callable\u001b[0m\u001b[1;33m\u001b[0m\u001b[1;33m\u001b[0m\u001b[0m\n\u001b[0m\u001b[0;32m    808\u001b[0m     \u001b[1;32melif\u001b[0m \u001b[0mself\u001b[0m\u001b[1;33m.\u001b[0m\u001b[0m_stateful_fn\u001b[0m \u001b[1;32mis\u001b[0m \u001b[1;32mnot\u001b[0m \u001b[1;32mNone\u001b[0m\u001b[1;33m:\u001b[0m\u001b[1;33m\u001b[0m\u001b[1;33m\u001b[0m\u001b[0m\n\u001b[0;32m    809\u001b[0m       \u001b[1;31m# Release the lock early so that multiple threads can perform the call\u001b[0m\u001b[1;33m\u001b[0m\u001b[1;33m\u001b[0m\u001b[1;33m\u001b[0m\u001b[0m\n",
      "\u001b[1;32m~\\anaconda3\\lib\\site-packages\\tensorflow\\python\\eager\\function.py\u001b[0m in \u001b[0;36m__call__\u001b[1;34m(self, *args, **kwargs)\u001b[0m\n\u001b[0;32m   2827\u001b[0m     \u001b[1;32mwith\u001b[0m \u001b[0mself\u001b[0m\u001b[1;33m.\u001b[0m\u001b[0m_lock\u001b[0m\u001b[1;33m:\u001b[0m\u001b[1;33m\u001b[0m\u001b[1;33m\u001b[0m\u001b[0m\n\u001b[0;32m   2828\u001b[0m       \u001b[0mgraph_function\u001b[0m\u001b[1;33m,\u001b[0m \u001b[0margs\u001b[0m\u001b[1;33m,\u001b[0m \u001b[0mkwargs\u001b[0m \u001b[1;33m=\u001b[0m \u001b[0mself\u001b[0m\u001b[1;33m.\u001b[0m\u001b[0m_maybe_define_function\u001b[0m\u001b[1;33m(\u001b[0m\u001b[0margs\u001b[0m\u001b[1;33m,\u001b[0m \u001b[0mkwargs\u001b[0m\u001b[1;33m)\u001b[0m\u001b[1;33m\u001b[0m\u001b[1;33m\u001b[0m\u001b[0m\n\u001b[1;32m-> 2829\u001b[1;33m     \u001b[1;32mreturn\u001b[0m \u001b[0mgraph_function\u001b[0m\u001b[1;33m.\u001b[0m\u001b[0m_filtered_call\u001b[0m\u001b[1;33m(\u001b[0m\u001b[0margs\u001b[0m\u001b[1;33m,\u001b[0m \u001b[0mkwargs\u001b[0m\u001b[1;33m)\u001b[0m  \u001b[1;31m# pylint: disable=protected-access\u001b[0m\u001b[1;33m\u001b[0m\u001b[1;33m\u001b[0m\u001b[0m\n\u001b[0m\u001b[0;32m   2830\u001b[0m \u001b[1;33m\u001b[0m\u001b[0m\n\u001b[0;32m   2831\u001b[0m   \u001b[1;33m@\u001b[0m\u001b[0mproperty\u001b[0m\u001b[1;33m\u001b[0m\u001b[1;33m\u001b[0m\u001b[0m\n",
      "\u001b[1;32m~\\anaconda3\\lib\\site-packages\\tensorflow\\python\\eager\\function.py\u001b[0m in \u001b[0;36m_filtered_call\u001b[1;34m(self, args, kwargs, cancellation_manager)\u001b[0m\n\u001b[0;32m   1841\u001b[0m       \u001b[0;31m`\u001b[0m\u001b[0margs\u001b[0m\u001b[0;31m`\u001b[0m \u001b[1;32mand\u001b[0m\u001b[0;31m \u001b[0m\u001b[0;31m`\u001b[0m\u001b[0mkwargs\u001b[0m\u001b[0;31m`\u001b[0m\u001b[1;33m.\u001b[0m\u001b[1;33m\u001b[0m\u001b[1;33m\u001b[0m\u001b[0m\n\u001b[0;32m   1842\u001b[0m     \"\"\"\n\u001b[1;32m-> 1843\u001b[1;33m     return self._call_flat(\n\u001b[0m\u001b[0;32m   1844\u001b[0m         [t for t in nest.flatten((args, kwargs), expand_composites=True)\n\u001b[0;32m   1845\u001b[0m          if isinstance(t, (ops.Tensor,\n",
      "\u001b[1;32m~\\anaconda3\\lib\\site-packages\\tensorflow\\python\\eager\\function.py\u001b[0m in \u001b[0;36m_call_flat\u001b[1;34m(self, args, captured_inputs, cancellation_manager)\u001b[0m\n\u001b[0;32m   1921\u001b[0m         and executing_eagerly):\n\u001b[0;32m   1922\u001b[0m       \u001b[1;31m# No tape is watching; skip to running the function.\u001b[0m\u001b[1;33m\u001b[0m\u001b[1;33m\u001b[0m\u001b[1;33m\u001b[0m\u001b[0m\n\u001b[1;32m-> 1923\u001b[1;33m       return self._build_call_outputs(self._inference_function.call(\n\u001b[0m\u001b[0;32m   1924\u001b[0m           ctx, args, cancellation_manager=cancellation_manager))\n\u001b[0;32m   1925\u001b[0m     forward_backward = self._select_forward_and_backward_functions(\n",
      "\u001b[1;32m~\\anaconda3\\lib\\site-packages\\tensorflow\\python\\eager\\function.py\u001b[0m in \u001b[0;36mcall\u001b[1;34m(self, ctx, args, cancellation_manager)\u001b[0m\n\u001b[0;32m    543\u001b[0m       \u001b[1;32mwith\u001b[0m \u001b[0m_InterpolateFunctionError\u001b[0m\u001b[1;33m(\u001b[0m\u001b[0mself\u001b[0m\u001b[1;33m)\u001b[0m\u001b[1;33m:\u001b[0m\u001b[1;33m\u001b[0m\u001b[1;33m\u001b[0m\u001b[0m\n\u001b[0;32m    544\u001b[0m         \u001b[1;32mif\u001b[0m \u001b[0mcancellation_manager\u001b[0m \u001b[1;32mis\u001b[0m \u001b[1;32mNone\u001b[0m\u001b[1;33m:\u001b[0m\u001b[1;33m\u001b[0m\u001b[1;33m\u001b[0m\u001b[0m\n\u001b[1;32m--> 545\u001b[1;33m           outputs = execute.execute(\n\u001b[0m\u001b[0;32m    546\u001b[0m               \u001b[0mstr\u001b[0m\u001b[1;33m(\u001b[0m\u001b[0mself\u001b[0m\u001b[1;33m.\u001b[0m\u001b[0msignature\u001b[0m\u001b[1;33m.\u001b[0m\u001b[0mname\u001b[0m\u001b[1;33m)\u001b[0m\u001b[1;33m,\u001b[0m\u001b[1;33m\u001b[0m\u001b[1;33m\u001b[0m\u001b[0m\n\u001b[0;32m    547\u001b[0m               \u001b[0mnum_outputs\u001b[0m\u001b[1;33m=\u001b[0m\u001b[0mself\u001b[0m\u001b[1;33m.\u001b[0m\u001b[0m_num_outputs\u001b[0m\u001b[1;33m,\u001b[0m\u001b[1;33m\u001b[0m\u001b[1;33m\u001b[0m\u001b[0m\n",
      "\u001b[1;32m~\\anaconda3\\lib\\site-packages\\tensorflow\\python\\eager\\execute.py\u001b[0m in \u001b[0;36mquick_execute\u001b[1;34m(op_name, num_outputs, inputs, attrs, ctx, name)\u001b[0m\n\u001b[0;32m     57\u001b[0m   \u001b[1;32mtry\u001b[0m\u001b[1;33m:\u001b[0m\u001b[1;33m\u001b[0m\u001b[1;33m\u001b[0m\u001b[0m\n\u001b[0;32m     58\u001b[0m     \u001b[0mctx\u001b[0m\u001b[1;33m.\u001b[0m\u001b[0mensure_initialized\u001b[0m\u001b[1;33m(\u001b[0m\u001b[1;33m)\u001b[0m\u001b[1;33m\u001b[0m\u001b[1;33m\u001b[0m\u001b[0m\n\u001b[1;32m---> 59\u001b[1;33m     tensors = pywrap_tfe.TFE_Py_Execute(ctx._handle, device_name, op_name,\n\u001b[0m\u001b[0;32m     60\u001b[0m                                         inputs, attrs, num_outputs)\n\u001b[0;32m     61\u001b[0m   \u001b[1;32mexcept\u001b[0m \u001b[0mcore\u001b[0m\u001b[1;33m.\u001b[0m\u001b[0m_NotOkStatusException\u001b[0m \u001b[1;32mas\u001b[0m \u001b[0me\u001b[0m\u001b[1;33m:\u001b[0m\u001b[1;33m\u001b[0m\u001b[1;33m\u001b[0m\u001b[0m\n",
      "\u001b[1;31mKeyboardInterrupt\u001b[0m: "
     ]
    }
   ],
   "source": [
    "\n",
    "dos_data = data_final[data_final[94] == \"dos\"] #prendo solo gli attacchi \"dos\" \n",
    "\n",
    "\n",
    "\n",
    "for i in range(10):\n",
    "    #60% per il train / 20% per la validation / 20% per il test\n",
    "    data_train, data_val, data_test = np.split(dos_data, [int(.6*len(dos_data)), int(.8*len(dos_data))])\n",
    "\n",
    "    x_train = data_train.drop([94],axis=1) #rimuove la colonna result dal dataframe\n",
    "    x_val = data_val.drop([94], axis=1) #rimuove il label\n",
    "\n",
    "    x_train_arr = np.asarray(x_train).astype(np.float32)\n",
    "    x_train_arr = x_train_arr.reshape(x_train_arr.shape[0],x_train_arr.shape[1],1) #converte la shape da 2d a 3d per layer LSTM\n",
    "\n",
    "    x_val_arr = np.asarray(x_val).astype(np.float32)\n",
    "    x_val_arr = x_val_arr.reshape(x_val_arr.shape[0],x_val_arr.shape[1],1) #converte la shape da 2d a 3d per layer LSTM\n",
    "    \n",
    "    model = keras.Sequential(\n",
    "    [\n",
    "       layers.Input(shape=(x_train_arr.shape[1],x_train_arr.shape[2])),\n",
    "       layers.LSTM(16, activation='relu', return_sequences=True),\n",
    "       layers.Dense(512),\n",
    "       layers.Dropout(0.5),\n",
    "       layers.LeakyReLU(0.01),\n",
    "       layers.Dense(256),\n",
    "       layers.Dropout(0.5),\n",
    "       layers.LeakyReLU(0.01),\n",
    "       layers.Dense(128),\n",
    "       layers.Dropout(0.5),\n",
    "       layers.LeakyReLU(0.01),\n",
    "        \n",
    "       layers.Dense(64),\n",
    "       layers.Dropout(0.5),\n",
    "       layers.LeakyReLU(0.01),\n",
    "        \n",
    "       layers.Dense(128),\n",
    "       layers.Dropout(0.5),\n",
    "       layers.LeakyReLU(0.01),\n",
    "       layers.Dense(256),\n",
    "       layers.Dropout(0.5),\n",
    "       layers.LeakyReLU(0.01),\n",
    "       layers.Dense(512),\n",
    "       layers.Dropout(0.5),\n",
    "       layers.LeakyReLU(0.01),\n",
    "       layers.Dense(x_train_arr.shape[1], activation='sigmoid'),\n",
    "       layers.LSTM(16, activation='relu', return_sequences=True),\n",
    "       layers.TimeDistributed(layers.Dense(1)),\n",
    "    ]\n",
    "    )\n",
    "\n",
    "    model.compile( optimizer='adam', loss='mse')\n",
    "    \n",
    "    history = model.fit(\n",
    "    x_train_arr,\n",
    "    x_train_arr,\n",
    "    epochs=15,\n",
    "    batch_size=64,\n",
    "    validation_data=(x_val_arr, x_val_arr),\n",
    "    callbacks=[\n",
    "        keras.callbacks.EarlyStopping(monitor=\"val_loss\", patience=20, mode=\"min\")\n",
    "    ],\n",
    "    )\n",
    "    \n",
    "    x_train_pred = model.predict(x_train_arr)\n",
    "    train_mae_loss = np.mean(np.abs(x_train_pred - x_train_arr), axis=1)\n",
    "    train_mae_loss = train_mae_loss.ravel() #converte l'array numpy in 1d\n",
    "    train_mae_loss = np.sort(train_mae_loss) #quicksort\n",
    "\n",
    "\n",
    "    train_mae_loss_len = len(train_mae_loss)\n",
    "    n_index = int(0.75*train_mae_loss_len)\n",
    "    plt.hist(train_mae_loss, bins=100)\n",
    "    plt.xlabel(\"Train MAE loss\")\n",
    "    plt.ylabel(\"No of samples\")\n",
    "    plt.show()\n",
    "\n",
    "    # Get reconstruction loss threshold.\n",
    "    train_mae_loss_split = train_mae_loss[:n_index]\n",
    "    threshold = np.max(train_mae_loss_split)\n",
    "    print(\"Reconstruction error threshold: \", threshold)\n",
    "    \n",
    "\n",
    "    \n",
    "    #data_test\n",
    "    #il dataset per il test sarà formato dai 1000 sample dos prelevati precedentemente a cui aggiungerò dei sample normali\n",
    "    #e di altri attacchi (non dos)\n",
    "    #in particolare prelevo il 40% dei sample non dos\n",
    "\n",
    "    not_dos_data = data_final[data_final[94] != \"dos\"] #prendo solo i valori non \"dos\"\n",
    "    percentage = 40\n",
    "    not_dos_data = not_dos_data.head(int(len(not_dos_data)*(percentage/100)))\n",
    "    frames = [data_test, not_dos_data]\n",
    "    final_test_data = pd.concat(frames)\n",
    "\n",
    "    data_test_with_label = final_test_data.copy()\n",
    "    x_test = final_test_data.drop([94],axis=1) #rimuove la colonna dei result dal datafram\n",
    "\n",
    "    x_test_arr = np.asarray(x_test).astype(np.float32)\n",
    "    x_test_arr = x_test_arr.reshape(x_test_arr.shape[0],x_test_arr.shape[1],1) #converte la shape da 2d a 3d per layer LSTM\n",
    "\n",
    "    arr_test_pred = model.predict(x_test_arr)\n",
    "    test_mae_loss = np.mean(np.abs(arr_test_pred - x_test_arr), axis=1)\n",
    "                                       \n",
    "    plt.hist(test_mae_loss, bins=50)\n",
    "    plt.xlabel(\"test MAE loss\")\n",
    "    plt.ylabel(\"No of samples\")\n",
    "    plt.show()\n",
    "\n",
    "\n",
    "    # Detect all the samples which are anomalies.\n",
    "    not_anomalies = (test_mae_loss > threshold).tolist()\n",
    "    count = 0\n",
    "\n",
    "    u2r_rilevati = 0\n",
    "    u2r_non_rilevati = 0\n",
    "    r2l_rilevati = 0\n",
    "    r2l_non_rilevati = 0\n",
    "    probe_rilevati = 0\n",
    "    probe_non_rilevati = 0\n",
    "    dos_rilevati = 0\n",
    "    dos_non_rilevati = 0\n",
    "    normal_corretti = 0\n",
    "\n",
    "    true_positive = 0\n",
    "    false_negative = 0\n",
    "    false_positive = 0\n",
    "    true_negative = 0\n",
    "\n",
    "    for i in not_anomalies:\n",
    "        x = str(i)\n",
    "        if ( x == '[True]'): #record non anomali rilevati\n",
    "            if ( data_test_with_label.iloc[count][94] == \"normal\"):\n",
    "                true_positive = true_positive + 1 #record corretti\n",
    "            if ( data_test_with_label.iloc[count][94] == \"u2r\"): #record classificati come normali ma che sono u2r\n",
    "                u2r_rilevati = u2r_rilevati + 1\n",
    "            if ( data_test_with_label.iloc[count][94] == \"r2l\"):\n",
    "                r2l_rilevati = r2l_rilevati + 1\n",
    "            if ( data_test_with_label.iloc[count][94] == \"probe\"):\n",
    "                probe_rilevati = probe_rilevati + 1\n",
    "            if ( data_test_with_label.iloc[count][94] == \"dos\"):\n",
    "                dos_rilevati = dos_rilevati + 1\n",
    "        if (x == '[False]'): #record ritenuti anomali dall'autoencoder\n",
    "            if ( data_test_with_label.iloc[count][94] == \"u2r\"):\n",
    "                u2r_non_rilevati = u2r_non_rilevati + 1\n",
    "            if ( data_test_with_label.iloc[count][94] == \"r2l\"):\n",
    "                r2l_non_rilevati = r2l_non_rilevati + 1\n",
    "            if ( data_test_with_label.iloc[count][94] == \"probe\"):\n",
    "                probe_non_rilevati = probe_non_rilevati + 1\n",
    "            if ( data_test_with_label.iloc[count][94] == \"dos\"):\n",
    "                dos_non_rilevati = dos_non_rilevati + 1\n",
    "            if ( data_test_with_label.iloc[count][94] == \"normal\"): #record classificati come anomali ma in realtà normali\n",
    "                false_negative = false_negative + 1\n",
    "        count = count + 1\n",
    "    \n",
    "    false_positive = u2r_rilevati + r2l_rilevati + dos_rilevati + probe_rilevati\n",
    "    true_negative = u2r_non_rilevati + r2l_non_rilevati + dos_non_rilevati +  probe_non_rilevati\n",
    "        \n",
    "    print(\"Number di sample normali rilevati: \", np.sum(not_anomalies))\n",
    "    print(\"Numero di sample normali rivelati erroneamente: \", false_positive,'(FP)')\n",
    "    print(\"Numero di sample normali rilevati correttamente: \", true_positive, '(TP)')\n",
    "    print(\"Numero di sample normali non rivelati (considerati anomalie): \", false_negative, '(FN)')\n",
    "    print(\"Numero di sample anomali rivelati correttamente\", true_negative,\"(TN)\")\n",
    "    print(\"Numero di sample anomali scambiati per normali\", false_positive, '(FP)')\n",
    "    print(\"\")\n",
    "    print(\"Numero di sample anomali U2R rilevati correttamente: \", u2r_non_rilevati, '(TN)')\n",
    "    print(\"Numero di sample anomali U2R considerati Normali :\", u2r_rilevati, '(FP)')\n",
    "    print(\"Numero di sample anomali R2L rilevati correttamente: \", r2l_non_rilevati, '(TN)')\n",
    "    print(\"Numero di sample anomali R2L considerati normali :\", r2l_rilevati, '(FP)')\n",
    "    print(\"Numero di sample anomali Probe rilevati correttamente: \", probe_non_rilevati, '(TN)')\n",
    "    print(\"Numero di sample anomali Probe considerati normali :\", probe_rilevati, '(FP)')\n",
    "    print(\"Numero di sample anomali Dos rilevati correttamente: \", dos_non_rilevati, \"(TN)\")\n",
    "    print(\"Numero di sample anomali Dos considerati normali :\", dos_rilevati, \"(FP)\")\n",
    "    print(\"\")\n",
    "\n",
    "    indici_riga_colonna = ['0','1']\n",
    "\n",
    "\n",
    "    values = np.array([[true_negative, false_positive],\n",
    "                       [false_negative, true_positive]])\n",
    "\n",
    "    fig, ax = plt.subplots()\n",
    "    im = ax.imshow(values, cmap='YlOrBr')\n",
    "\n",
    "    ax.set_xticks(np.arange(len(indici_riga_colonna)))\n",
    "    ax.set_yticks(np.arange(len(indici_riga_colonna)))\n",
    "\n",
    "    ax.set_xticklabels(indici_riga_colonna)\n",
    "    ax.set_yticklabels(indici_riga_colonna)\n",
    "\n",
    "    plt.setp(ax.get_xticklabels(),\n",
    "             rotation_mode=\"anchor\")\n",
    "\n",
    "    for i in range(len(indici_riga_colonna)):\n",
    "        for j in range(len(indici_riga_colonna)):\n",
    "            text = ax.text(j, i, values[i, j],\n",
    "                           ha=\"center\", va=\"center\")\n",
    "\n",
    "    ax.set_title(\"Confusion Matrix Binaria\")\n",
    "    fig.tight_layout()\n",
    "\n",
    "    print(\"### 0 Anomaly / 1 Normal ###\")\n",
    "    plt.show()\n",
    "\n",
    "    print(\"          predicted labels  \")\n",
    "\n",
    "    zero_precision = true_negative/(true_negative + false_negative) \n",
    "    one_precision = true_positive/(true_positive + false_positive) \n",
    "\n",
    "    zero_recall = true_negative/(true_negative + false_positive)\n",
    "    one_recall = true_positive/(true_positive + false_negative)\n",
    "\n",
    "    accuracy= (true_positive + true_negative)/(true_positive + true_negative + false_positive + false_negative)\n",
    "    print(\"0 :\")\n",
    "    print(\"             precision: \",\"%.3f\" % zero_precision)\n",
    "    print(\"             recall: \",\"   %.3f\" % zero_recall)\n",
    "    print(\"\")\n",
    "    print(\"\")\n",
    "    print(\"1 :\")\n",
    "    print(\"             precision: \",\"%.3f\" % one_precision)\n",
    "    print(\"             recall: \",\"   %.3f\" % one_recall)\n",
    "    print(\"\")\n",
    "    print(\"\")\n",
    "    avg_precision = (zero_precision + one_precision)/2\n",
    "    avg_precision_weight = (zero_precision*(true_negative+false_positive) + one_precision*(false_negative + true_positive))/(true_negative + false_positive + false_negative + true_positive)\n",
    "    avg_recall = (zero_recall + one_recall)/2\n",
    "    avg_recall_weight = (zero_recall*(true_negative+false_positive) + one_recall*(false_negative + true_positive))/(true_negative + false_positive + false_negative + true_positive)\n",
    "    print(\"Avg precision: \",\"   %.3f\" % avg_precision)\n",
    "    print(\"Avg weight precision: \",\"   %.3f\" % avg_precision_weight)\n",
    "    print(\"Avg recall: \",\"   %.3f\" % avg_recall)\n",
    "    print(\"Avg weight recall: \",\"   %.3f\" % avg_recall_weight)\n",
    "    print(\"\")\n",
    "    print(\"Accuracy: \", \"%.5f\" % accuracy)"
   ]
  },
  {
   "cell_type": "code",
   "execution_count": null,
   "metadata": {},
   "outputs": [],
   "source": []
  }
 ],
 "metadata": {
  "celltoolbar": "Raw Cell Format",
  "kernelspec": {
   "display_name": "Python 3",
   "language": "python",
   "name": "python3"
  },
  "language_info": {
   "codemirror_mode": {
    "name": "ipython",
    "version": 3
   },
   "file_extension": ".py",
   "mimetype": "text/x-python",
   "name": "python",
   "nbconvert_exporter": "python",
   "pygments_lexer": "ipython3",
   "version": "3.8.3"
  }
 },
 "nbformat": 4,
 "nbformat_minor": 4
}
