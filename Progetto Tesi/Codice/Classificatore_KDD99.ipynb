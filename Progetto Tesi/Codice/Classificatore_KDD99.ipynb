{
 "cells": [
  {
   "cell_type": "code",
   "execution_count": 33,
   "metadata": {},
   "outputs": [
    {
     "name": "stdout",
     "output_type": "stream",
     "text": [
      "Librerie importate con successo\n"
     ]
    }
   ],
   "source": [
    "import pandas as pd\n",
    "import numpy as np\n",
    "from tensorflow import keras\n",
    "from tensorflow.keras import regularizers\n",
    "from tensorflow.keras import layers\n",
    "from tensorflow.keras.utils import to_categorical\n",
    "from tensorflow.keras.models import Sequential\n",
    "from tensorflow.keras.layers import Dense , Dropout\n",
    "from sklearn.model_selection import train_test_split as splitter\n",
    "import cProfile\n",
    "import pstats\n",
    "import os\n",
    "import sys\n",
    "from sklearn.metrics import classification_report, confusion_matrix, ConfusionMatrixDisplay\n",
    "from sklearn.preprocessing import LabelEncoder\n",
    "from datetime import datetime\n",
    "from matplotlib import pyplot as plt\n",
    "from matplotlib import dates as md\n",
    "\n",
    "print(\"Librerie importate con successo\")"
   ]
  },
  {
   "cell_type": "code",
   "execution_count": 34,
   "metadata": {},
   "outputs": [
    {
     "name": "stdout",
     "output_type": "stream",
     "text": [
      "Dataset importato con successo\n"
     ]
    }
   ],
   "source": [
    "data = pd.read_csv('../Datasets/kdd_prediction.csv', delimiter=',',\n",
    "                       dtype={'protocol_type': str, 'service': str, 'flag': str, 'result': str})\n",
    "\n",
    "print(\"Dataset importato con successo\")"
   ]
  },
  {
   "cell_type": "code",
   "execution_count": 35,
   "metadata": {},
   "outputs": [
    {
     "name": "stdout",
     "output_type": "stream",
     "text": [
      "Total :  13451\n",
      "Normal :  7500\n",
      "Malicious :  5951\n"
     ]
    },
    {
     "data": {
      "image/png": "[encoded data removed]",
      "text/plain": [
       "<Figure size 432x288 with 1 Axes>"
      ]
     },
     "metadata": {
      "needs_background": "light"
     },
     "output_type": "display_data"
    }
   ],
   "source": [
    "#Effettuo il plot del dataset\n",
    "\n",
    "total_flows_count = data[\"result\"].count()\n",
    "normal_flows_count = len(data[data.result == \"normal\"])\n",
    "anomaly_flows_count = len(data[data.result != \"normal\"])\n",
    "\n",
    "print(\"Total : \",total_flows_count)\n",
    "print(\"Normal : \",normal_flows_count)\n",
    "print(\"Malicious : \",anomaly_flows_count)\n",
    "\n",
    "# x-coordinates of left sides of bars  \n",
    "left = [1, 1.5] \n",
    "  \n",
    "# heights of bars \n",
    "height = [normal_flows_count, anomaly_flows_count] \n",
    "  \n",
    "# labels for bars \n",
    "tick_label = ['Normal', 'Malicious'] \n",
    "  \n",
    "# bar chart\n",
    "plt.bar(left, height, tick_label = tick_label, \n",
    "        width = 0.4, color = ['green', 'red']) \n",
    "  \n",
    "# Rinominazione asse x \n",
    "plt.xlabel('Tipologia di record') \n",
    "# Rinominazione asse y \n",
    "plt.ylabel('Numero di record') \n",
    "# Titolo\n",
    "plt.title('Numero di samples del dataset') \n",
    "  \n",
    "plt.show() "
   ]
  },
  {
   "cell_type": "code",
   "execution_count": 36,
   "metadata": {},
   "outputs": [],
   "source": [
    "def preprocessing(data):\n",
    "    for column in data.columns:\n",
    "        if data[column].dtype == type(object):\n",
    "            le = LabelEncoder()\n",
    "            data[column] = le.fit_transform(data[column])"
   ]
  },
  {
   "cell_type": "code",
   "execution_count": 37,
   "metadata": {},
   "outputs": [],
   "source": [
    "preprocessing(data)\n",
    "\n",
    "y = data.result\n",
    "x = data.drop(\"result\", axis=1)\n",
    "\n",
    "profile = cProfile.Profile()\n",
    "x_train, x_test, y_train, y_test = splitter(x, y, test_size=0.3, random_state=32)"
   ]
  },
  {
   "cell_type": "code",
   "execution_count": 38,
   "metadata": {},
   "outputs": [
    {
     "name": "stdout",
     "output_type": "stream",
     "text": [
      "Il dataset per il train è composto da :  9415 record\n",
      "Il dataset per il train è composto da :  4186 anomalie\n",
      "Il dataset per il train è composto da :  5229 record normali\n"
     ]
    }
   ],
   "source": [
    "num_train = len(x_train)\n",
    "num_train_normal = 0\n",
    "num_train_dos = 0\n",
    "num_train_r2l = 0\n",
    "num_train_u2r = 0\n",
    "num_train_probe = 0\n",
    "\n",
    "print(\"Il dataset per il train è composto da : \",num_train,\"record\")\n",
    "\n",
    "for i in y_train:\n",
    "    if(i == 0):\n",
    "        num_train_dos = num_train_dos + 1\n",
    "    if(i == 1):\n",
    "        num_train_normal = num_train_normal + 1\n",
    "    if(i == 2):\n",
    "        num_train_probe = num_train_probe + 1\n",
    "    if(i == 2):\n",
    "        num_train_r2l = num_train_r2l + 1\n",
    "    if(i == 2):\n",
    "        num_train_u2r = num_train_u2r + 1\n",
    "    \n",
    "        \n",
    "num_train_anomaly = num_train - num_train_normal\n",
    "\n",
    "print(\"Il dataset per il train è composto da : \",num_train_anomaly,\"anomalie\")\n",
    "print(\"Il dataset per il train è composto da : \",num_train_normal,\"record normali\")"
   ]
  },
  {
   "cell_type": "code",
   "execution_count": 39,
   "metadata": {},
   "outputs": [
    {
     "name": "stdout",
     "output_type": "stream",
     "text": [
      "Il dataset per il test è composto da :  4036 record\n",
      "Il dataset per il test è composto da :  1765 anomalie\n",
      "Il dataset per il test è composto da :  2271 record normali\n"
     ]
    }
   ],
   "source": [
    "num_test = len(x_test)\n",
    "num_test_normal = 0\n",
    "\n",
    "print(\"Il dataset per il test è composto da : \",num_test,\"record\")\n",
    "\n",
    "for i in y_test:\n",
    "    if(i == 1):\n",
    "        num_test_normal = num_test_normal + 1\n",
    "        \n",
    "num_test_anomaly = num_test - num_test_normal\n",
    "\n",
    "print(\"Il dataset per il test è composto da : \",num_test_anomaly,\"anomalie\")\n",
    "print(\"Il dataset per il test è composto da : \",num_test_normal,\"record normali\")"
   ]
  },
  {
   "cell_type": "code",
   "execution_count": 40,
   "metadata": {},
   "outputs": [],
   "source": [
    "profile.enable()\n",
    "y_train = to_categorical(y_train)\n",
    "y_test = to_categorical(y_test)\n",
    "val_indices = 200\n",
    "x_val = x_train[-val_indices:]\n",
    "y_val = y_train[-val_indices:]"
   ]
  },
  {
   "cell_type": "code",
   "execution_count": 41,
   "metadata": {},
   "outputs": [
    {
     "name": "stdout",
     "output_type": "stream",
     "text": [
      "Weight for class 0: 0.54\n",
      "Weight for class 1: 0.36\n",
      "Weight for class 2: 4.93\n",
      "Weight for class 3: 4.93\n",
      "Weight for class 4: 4.93\n"
     ]
    }
   ],
   "source": [
    "total = num_train\n",
    "# Scaling by total/2 helps keep the loss to a similar magnitude.\n",
    "# The sum of the weights of all examples stays the same.\n",
    "weight_for_0 = (1 / num_train_dos)*(total)/5.0 \n",
    "weight_for_1 = (1 / num_train_normal)*(total)/5.0\n",
    "weight_for_2 = (1 / num_train_probe)*(total)/5.0\n",
    "weight_for_3 = (1 / num_train_r2l)*(total)/5.0\n",
    "weight_for_4 = (1 / num_train_u2r)*(total)/5.0\n",
    "\n",
    "class_weight = {0: weight_for_0, 1: weight_for_1, 2: weight_for_2, 3: weight_for_3, 4: weight_for_4}\n",
    "\n",
    "print('Weight for class 0: {:.2f}'.format(weight_for_0))\n",
    "print('Weight for class 1: {:.2f}'.format(weight_for_1))\n",
    "print('Weight for class 2: {:.2f}'.format(weight_for_2))\n",
    "print('Weight for class 3: {:.2f}'.format(weight_for_3))\n",
    "print('Weight for class 4: {:.2f}'.format(weight_for_4))"
   ]
  },
  {
   "cell_type": "code",
   "execution_count": 42,
   "metadata": {},
   "outputs": [
    {
     "name": "stdout",
     "output_type": "stream",
     "text": [
      "Model: \"sequential_1\"\n",
      "_________________________________________________________________\n",
      "Layer (type)                 Output Shape              Param #   \n",
      "=================================================================\n",
      "dense_9 (Dense)              (None, 1024)              22528     \n",
      "_________________________________________________________________\n",
      "dense_10 (Dense)             (None, 1024)              1049600   \n",
      "_________________________________________________________________\n",
      "dropout_3 (Dropout)          (None, 1024)              0         \n",
      "_________________________________________________________________\n",
      "dense_11 (Dense)             (None, 1024)              1049600   \n",
      "_________________________________________________________________\n",
      "dense_12 (Dense)             (None, 1024)              1049600   \n",
      "_________________________________________________________________\n",
      "dropout_4 (Dropout)          (None, 1024)              0         \n",
      "_________________________________________________________________\n",
      "dense_13 (Dense)             (None, 1024)              1049600   \n",
      "_________________________________________________________________\n",
      "dense_14 (Dense)             (None, 1024)              1049600   \n",
      "_________________________________________________________________\n",
      "dropout_5 (Dropout)          (None, 1024)              0         \n",
      "_________________________________________________________________\n",
      "dense_15 (Dense)             (None, 512)               524800    \n",
      "_________________________________________________________________\n",
      "dense_16 (Dense)             (None, 512)               262656    \n",
      "_________________________________________________________________\n",
      "dense_17 (Dense)             (None, 5)                 2565      \n",
      "=================================================================\n",
      "Total params: 6,060,549\n",
      "Trainable params: 6,060,549\n",
      "Non-trainable params: 0\n",
      "_________________________________________________________________\n"
     ]
    }
   ],
   "source": [
    "model = Sequential()\n",
    "model.add(Dense(1024, activation='relu', input_dim=x_train.shape[1], kernel_regularizer=regularizers.l2(0.001)))\n",
    "model.add(Dense(1024, activation='relu', kernel_regularizer=regularizers.l2(0.001)))\n",
    "model.add(Dropout(0.5))\n",
    "model.add(Dense(1024, activation='relu', kernel_regularizer=regularizers.l2(0.001)))\n",
    "model.add(Dense(1024, activation='relu', kernel_regularizer=regularizers.l2(0.001)))\n",
    "model.add(Dropout(0.5))\n",
    "model.add(Dense(1024, activation='relu', kernel_regularizer=regularizers.l2(0.001)))\n",
    "model.add(Dense(1024, activation='relu', kernel_regularizer=regularizers.l2(0.001)))\n",
    "model.add(Dropout(0.5))\n",
    "model.add(Dense(512, activation='relu', kernel_regularizer=regularizers.l2(0.001)))\n",
    "model.add(Dense(512, activation='relu', kernel_regularizer=regularizers.l2(0.001)))\n",
    "model.add(Dense(5, activation='softmax'))\n",
    "model.compile(loss='categorical_crossentropy', optimizer='rmsprop', metrics=['accuracy'])\n",
    "model.summary()"
   ]
  },
  {
   "cell_type": "code",
   "execution_count": 43,
   "metadata": {},
   "outputs": [
    {
     "name": "stdout",
     "output_type": "stream",
     "text": [
      "Epoch 1/15\n",
      "19/19 [==============================] - 5s 259ms/step - loss: 7.1619 - accuracy: 0.2253 - val_loss: 5.5071 - val_accuracy: 0.4050\n",
      "Epoch 2/15\n",
      "19/19 [==============================] - 4s 222ms/step - loss: 4.6397 - accuracy: 0.3903 - val_loss: 4.5892 - val_accuracy: 0.0850\n",
      "Epoch 3/15\n",
      "19/19 [==============================] - 4s 221ms/step - loss: 3.7301 - accuracy: 0.4541 - val_loss: 3.6801 - val_accuracy: 0.0700\n",
      "Epoch 4/15\n",
      "19/19 [==============================] - 4s 236ms/step - loss: 2.8749 - accuracy: 0.5077 - val_loss: 2.9499 - val_accuracy: 0.4500\n",
      "Epoch 5/15\n",
      "19/19 [==============================] - 4s 224ms/step - loss: 2.1870 - accuracy: 0.6163 - val_loss: 2.1954 - val_accuracy: 0.8700\n",
      "Epoch 6/15\n",
      "19/19 [==============================] - 4s 224ms/step - loss: 1.7171 - accuracy: 0.7070 - val_loss: 1.4049 - val_accuracy: 0.9050\n",
      "Epoch 7/15\n",
      "19/19 [==============================] - 4s 227ms/step - loss: 1.2503 - accuracy: 0.7476 - val_loss: 1.2512 - val_accuracy: 0.5500\n",
      "Epoch 8/15\n",
      "19/19 [==============================] - 4s 226ms/step - loss: 1.1044 - accuracy: 0.6953 - val_loss: 1.0163 - val_accuracy: 0.8900\n",
      "Epoch 9/15\n",
      "19/19 [==============================] - 4s 225ms/step - loss: 0.9367 - accuracy: 0.7318 - val_loss: 0.8468 - val_accuracy: 0.7800\n",
      "Epoch 10/15\n",
      "19/19 [==============================] - 4s 227ms/step - loss: 0.8238 - accuracy: 0.8115 - val_loss: 1.6958 - val_accuracy: 0.4200\n",
      "Epoch 11/15\n",
      "19/19 [==============================] - 4s 228ms/step - loss: 0.7773 - accuracy: 0.7268 - val_loss: 0.6287 - val_accuracy: 0.9450\n",
      "Epoch 12/15\n",
      "19/19 [==============================] - 4s 223ms/step - loss: 0.7266 - accuracy: 0.7705 - val_loss: 0.7731 - val_accuracy: 0.9400\n",
      "Epoch 13/15\n",
      "19/19 [==============================] - 4s 223ms/step - loss: 0.7042 - accuracy: 0.7799 - val_loss: 0.8891 - val_accuracy: 0.9400\n",
      "Epoch 14/15\n",
      "19/19 [==============================] - 4s 225ms/step - loss: 0.7106 - accuracy: 0.7919 - val_loss: 0.5648 - val_accuracy: 0.9500\n",
      "Epoch 15/15\n",
      "19/19 [==============================] - 4s 234ms/step - loss: 0.6322 - accuracy: 0.7524 - val_loss: 0.8995 - val_accuracy: 0.9250\n"
     ]
    },
    {
     "data": {
      "text/plain": [
       "<tensorflow.python.keras.callbacks.History at 0x18e8dc30b20>"
      ]
     },
     "execution_count": 43,
     "metadata": {},
     "output_type": "execute_result"
    }
   ],
   "source": [
    "model.fit(x_train, y_train, epochs=15, batch_size=512, validation_data=(x_val, y_val), class_weight=class_weight)"
   ]
  },
  {
   "cell_type": "code",
   "execution_count": 44,
   "metadata": {},
   "outputs": [],
   "source": [
    "y_pred = model.predict(x_test)\n",
    "profile.disable()\n",
    "y_pred = np.argmax(y_pred, axis=1)\n",
    "y_test = np.argmax(y_test, axis=1)\n",
    "profile.dump_stats('output.prof')\n",
    "stream = open('result/keras_kdd_profiling.txt', 'w')\n",
    "stats = pstats.Stats('output.prof', stream=stream)\n",
    "stats.sort_stats('cumtime')\n",
    "stats.print_stats()\n",
    "os.remove('output.prof')"
   ]
  },
  {
   "cell_type": "code",
   "execution_count": 45,
   "metadata": {},
   "outputs": [
    {
     "name": "stdout",
     "output_type": "stream",
     "text": [
      "Il classificatore ha predetto in totale 1748 record Dos di cui 1462 corretti(TP), 286 predetti erroneamente(FP), 33 record Dos reali predetti in altri attacchi (FN)\n",
      "\n",
      "Il classificatore ha predetto in totale 2064 record Normali di cui 2035 corretti(TP), 29 predetti erroneamente(FP), 236 record Normali reali predetti in altri attacchi (FN)\n",
      "\n",
      "Il classificatore ha predetto in totale 88 record Probe di cui 11 corretti(TP), 77 predetti erroneamente(FP), 127 record Probe reali predetti in altri attacchi (FN)\n",
      "\n",
      "Il classificatore ha predetto in totale 122 record R2L di cui 105 corretti(TP), 17 predetti erroneamente(FP), 11 record R2L reali predetti in altri attacchi (FN)\n",
      "\n",
      "Il classificatore ha predetto in totale 14 record U2R di cui 10 corretti(TP), 4 predetti erroneamente(FP), 6 record U2R reali predetti in altri attacchi (FN)\n"
     ]
    },
    {
     "data": {
      "image/png": "[encoded data removed]",
      "text/plain": [
       "<Figure size 432x288 with 2 Axes>"
      ]
     },
     "metadata": {
      "needs_background": "light"
     },
     "output_type": "display_data"
    },
    {
     "name": "stdout",
     "output_type": "stream",
     "text": [
      "0 = Dos / 1 = Normal / 2 = Probe / 3 = r2l / 4 = u2r\n",
      "\n",
      "              precision    recall  f1-score   support\n",
      "\n",
      "           0       0.84      0.98      0.90      1495\n",
      "           1       0.99      0.90      0.94      2271\n",
      "           2       0.12      0.08      0.10       138\n",
      "           3       0.86      0.91      0.88       116\n",
      "           4       0.71      0.62      0.67        16\n",
      "\n",
      "    accuracy                           0.90      4036\n",
      "   macro avg       0.70      0.70      0.70      4036\n",
      "weighted avg       0.90      0.90      0.89      4036\n",
      "\n"
     ]
    }
   ],
   "source": [
    "conf_matrix = confusion_matrix(y_test, y_pred)\n",
    "\n",
    "# 0 = Dos / 1 = Normal / 2 = Probe / 3 = r2l / 4 = u2r\n",
    "\n",
    "print(\"Il classificatore ha predetto in totale\", \n",
    "      conf_matrix[0][0]+conf_matrix[1][0]+conf_matrix[2][0]+conf_matrix[3][0]+conf_matrix[4][0],\n",
    "      \"record Dos di cui\",conf_matrix[0][0],\"corretti(TP),\",\n",
    "      conf_matrix[1][0]+conf_matrix[2][0]+conf_matrix[3][0]+conf_matrix[4][0],\n",
    "      \"predetti erroneamente(FP),\",\n",
    "      conf_matrix[0][1]+conf_matrix[0][2]+conf_matrix[0][3]+conf_matrix[0][4],\n",
    "      \"record Dos reali predetti in altri attacchi (FN)\"\n",
    "     )\n",
    "print(\"\")\n",
    "print(\"Il classificatore ha predetto in totale\", \n",
    "      conf_matrix[0][1]+conf_matrix[1][1]+conf_matrix[2][1]+conf_matrix[3][1]+conf_matrix[4][1],\n",
    "      \"record Normali di cui\",conf_matrix[1][1],\"corretti(TP),\",\n",
    "      conf_matrix[0][1]+conf_matrix[2][1]+conf_matrix[3][1]+conf_matrix[4][1],\n",
    "      \"predetti erroneamente(FP),\",\n",
    "      conf_matrix[1][0]+conf_matrix[1][2]+conf_matrix[1][3]+conf_matrix[1][4],\n",
    "      \"record Normali reali predetti in altri attacchi (FN)\"\n",
    "     )\n",
    "print(\"\")\n",
    "print(\"Il classificatore ha predetto in totale\", \n",
    "      conf_matrix[0][2]+conf_matrix[1][2]+conf_matrix[2][2]+conf_matrix[3][2]+conf_matrix[4][2],\n",
    "      \"record Probe di cui\",conf_matrix[2][2],\"corretti(TP),\",\n",
    "      conf_matrix[0][2]+conf_matrix[1][2]+conf_matrix[3][2]+conf_matrix[4][2],\n",
    "      \"predetti erroneamente(FP),\",\n",
    "      conf_matrix[2][0]+conf_matrix[2][1]+conf_matrix[2][3]+conf_matrix[2][4],\n",
    "      \"record Probe reali predetti in altri attacchi (FN)\"\n",
    "     )\n",
    "print(\"\")\n",
    "print(\"Il classificatore ha predetto in totale\", \n",
    "      conf_matrix[0][3]+conf_matrix[1][3]+conf_matrix[2][3]+conf_matrix[3][3]+conf_matrix[4][3],\n",
    "      \"record R2L di cui\",conf_matrix[3][3],\"corretti(TP),\",\n",
    "      conf_matrix[0][3]+conf_matrix[1][3]+conf_matrix[2][3]+conf_matrix[4][3],\n",
    "      \"predetti erroneamente(FP),\",\n",
    "      conf_matrix[3][0]+conf_matrix[3][1]+conf_matrix[3][2]+conf_matrix[3][4],\n",
    "      \"record R2L reali predetti in altri attacchi (FN)\"\n",
    "     )\n",
    "print(\"\")\n",
    "print(\"Il classificatore ha predetto in totale\", \n",
    "      conf_matrix[0][4]+conf_matrix[1][4]+conf_matrix[2][4]+conf_matrix[3][4]+conf_matrix[4][4],\n",
    "      \"record U2R di cui\",conf_matrix[4][4],\"corretti(TP),\",\n",
    "      conf_matrix[0][4]+conf_matrix[1][4]+conf_matrix[2][4]+conf_matrix[3][4],\n",
    "      \"predetti erroneamente(FP),\",\n",
    "      conf_matrix[4][0]+conf_matrix[4][1]+conf_matrix[4][2]+conf_matrix[4][3],\n",
    "      \"record U2R reali predetti in altri attacchi (FN)\"\n",
    "     )\n",
    "\n",
    "disp = ConfusionMatrixDisplay(confusion_matrix=conf_matrix)\n",
    "\n",
    "disp = disp.plot(cmap='YlOrBr')\n",
    "\n",
    "plt.show()\n",
    "print(\"0 = Dos / 1 = Normal / 2 = Probe / 3 = r2l / 4 = u2r\")\n",
    "print(\"\")\n",
    "print(classification_report(y_test, y_pred))"
   ]
  },
  {
   "cell_type": "code",
   "execution_count": null,
   "metadata": {},
   "outputs": [],
   "source": []
  }
 ],
 "metadata": {
  "kernelspec": {
   "display_name": "Python 3",
   "language": "python",
   "name": "python3"
  },
  "language_info": {
   "codemirror_mode": {
    "name": "ipython",
    "version": 3
   },
   "file_extension": ".py",
   "mimetype": "text/x-python",
   "name": "python",
   "nbconvert_exporter": "python",
   "pygments_lexer": "ipython3",
   "version": "3.8.3"
  }
 },
 "nbformat": 4,
 "nbformat_minor": 4
}
