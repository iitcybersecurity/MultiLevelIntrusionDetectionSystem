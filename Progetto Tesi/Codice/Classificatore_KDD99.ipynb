{
 "cells": [
  {
   "cell_type": "code",
   "execution_count": 44,
   "metadata": {},
   "outputs": [
    {
     "name": "stdout",
     "output_type": "stream",
     "text": [
      "Librerie importate con successo\n"
     ]
    }
   ],
   "source": [
    "import pandas as pd\n",
    "import numpy as np\n",
    "from tensorflow import keras\n",
    "from tensorflow.keras import regularizers\n",
    "from tensorflow.keras import layers\n",
    "from tensorflow.keras.utils import to_categorical\n",
    "from tensorflow.keras.models import Sequential\n",
    "from tensorflow.keras.layers import Dense , Dropout\n",
    "from sklearn.model_selection import train_test_split as splitter\n",
    "import cProfile\n",
    "import pstats\n",
    "import os\n",
    "import sys\n",
    "from sklearn.metrics import classification_report, confusion_matrix, ConfusionMatrixDisplay\n",
    "from sklearn.preprocessing import LabelEncoder\n",
    "from datetime import datetime\n",
    "from matplotlib import pyplot as plt\n",
    "from matplotlib import dates as md\n",
    "\n",
    "print(\"Librerie importate con successo\")"
   ]
  },
  {
   "cell_type": "code",
   "execution_count": 45,
   "metadata": {},
   "outputs": [
    {
     "name": "stdout",
     "output_type": "stream",
     "text": [
      "Dataset importato con successo\n"
     ]
    }
   ],
   "source": [
    "data = pd.read_csv('../Datasets/kdd_prediction.csv', delimiter=',',\n",
    "                       dtype={'protocol_type': str, 'service': str, 'flag': str, 'result': str})\n",
    "\n",
    "print(\"Dataset importato con successo\")"
   ]
  },
  {
   "cell_type": "code",
   "execution_count": 46,
   "metadata": {},
   "outputs": [
    {
     "name": "stdout",
     "output_type": "stream",
     "text": [
      "Total :  13451\n",
      "Normal :  7500\n",
      "Malicious :  5951\n"
     ]
    },
    {
     "data": {
      "image/png": "[encoded data removed]",
      "text/plain": [
       "<Figure size 432x288 with 1 Axes>"
      ]
     },
     "metadata": {
      "needs_background": "light"
     },
     "output_type": "display_data"
    }
   ],
   "source": [
    "#Effettuo il plot del dataset\n",
    "\n",
    "total_flows_count = data[\"result\"].count()\n",
    "normal_flows_count = len(data[data.result == \"normal\"])\n",
    "anomaly_flows_count = len(data[data.result != \"normal\"])\n",
    "\n",
    "print(\"Total : \",total_flows_count)\n",
    "print(\"Normal : \",normal_flows_count)\n",
    "print(\"Malicious : \",anomaly_flows_count)\n",
    "\n",
    "# x-coordinates of left sides of bars  \n",
    "left = [1, 1.5] \n",
    "  \n",
    "# heights of bars \n",
    "height = [normal_flows_count, anomaly_flows_count] \n",
    "  \n",
    "# labels for bars \n",
    "tick_label = ['Normal', 'Malicious'] \n",
    "  \n",
    "# bar chart\n",
    "plt.bar(left, height, tick_label = tick_label, \n",
    "        width = 0.4, color = ['green', 'red']) \n",
    "  \n",
    "# Rinominazione asse x \n",
    "plt.xlabel('Tipologia di record') \n",
    "# Rinominazione asse y \n",
    "plt.ylabel('Numero di record') \n",
    "# Titolo\n",
    "plt.title('Numero di samples del dataset') \n",
    "  \n",
    "plt.show() "
   ]
  },
  {
   "cell_type": "code",
   "execution_count": 47,
   "metadata": {},
   "outputs": [],
   "source": [
    "def preprocessing(data):\n",
    "    for column in data.columns:\n",
    "        if data[column].dtype == type(object):\n",
    "            le = LabelEncoder()\n",
    "            data[column] = le.fit_transform(data[column])"
   ]
  },
  {
   "cell_type": "code",
   "execution_count": 49,
   "metadata": {},
   "outputs": [],
   "source": [
    "preprocessing(data)\n",
    "\n",
    "y = data.result\n",
    "x = data.drop(\"result\", axis=1)\n",
    "\n",
    "profile = cProfile.Profile()\n",
    "x_train, x_test, y_train, y_test = splitter(x, y, test_size=0.3, random_state=32)"
   ]
  },
  {
   "cell_type": "code",
   "execution_count": 7,
   "metadata": {},
   "outputs": [
    {
     "name": "stdout",
     "output_type": "stream",
     "text": [
      "Il dataset per il train è composto da :  9415 record\n",
      "Il dataset per il train è composto da :  4186 anomalie\n",
      "Il dataset per il train è composto da :  5229 record normali\n"
     ]
    }
   ],
   "source": [
    "num_train = len(x_train)\n",
    "num_train_normal = 0\n",
    "\n",
    "print(\"Il dataset per il train è composto da : \",num_train,\"record\")\n",
    "\n",
    "for i in y_train:\n",
    "    if(i == 1):\n",
    "        num_train_normal = num_train_normal + 1\n",
    "        \n",
    "num_train_anomaly = num_train - num_train_normal\n",
    "\n",
    "print(\"Il dataset per il train è composto da : \",num_train_anomaly,\"anomalie\")\n",
    "print(\"Il dataset per il train è composto da : \",num_train_normal,\"record normali\")"
   ]
  },
  {
   "cell_type": "code",
   "execution_count": 8,
   "metadata": {},
   "outputs": [
    {
     "name": "stdout",
     "output_type": "stream",
     "text": [
      "Il dataset per il test è composto da :  4036 record\n",
      "Il dataset per il test è composto da :  1765 anomalie\n",
      "Il dataset per il test è composto da :  2271 record normali\n"
     ]
    }
   ],
   "source": [
    "num_test = len(x_test)\n",
    "num_test_normal = 0\n",
    "\n",
    "print(\"Il dataset per il test è composto da : \",num_test,\"record\")\n",
    "\n",
    "for i in y_test:\n",
    "    if(i == 1):\n",
    "        num_test_normal = num_test_normal + 1\n",
    "        \n",
    "num_test_anomaly = num_test - num_test_normal\n",
    "\n",
    "print(\"Il dataset per il test è composto da : \",num_test_anomaly,\"anomalie\")\n",
    "print(\"Il dataset per il test è composto da : \",num_test_normal,\"record normali\")"
   ]
  },
  {
   "cell_type": "code",
   "execution_count": 9,
   "metadata": {},
   "outputs": [],
   "source": [
    "profile.enable()\n",
    "y_train = to_categorical(y_train)\n",
    "y_test = to_categorical(y_test)\n",
    "val_indices = 200\n",
    "x_val = x_train[-val_indices:]\n",
    "y_val = y_train[-val_indices:]"
   ]
  },
  {
   "cell_type": "code",
   "execution_count": 10,
   "metadata": {},
   "outputs": [
    {
     "name": "stdout",
     "output_type": "stream",
     "text": [
      "Model: \"sequential\"\n",
      "_________________________________________________________________\n",
      "Layer (type)                 Output Shape              Param #   \n",
      "=================================================================\n",
      "dense (Dense)                (None, 1024)              22528     \n",
      "_________________________________________________________________\n",
      "dense_1 (Dense)              (None, 1024)              1049600   \n",
      "_________________________________________________________________\n",
      "dropout (Dropout)            (None, 1024)              0         \n",
      "_________________________________________________________________\n",
      "dense_2 (Dense)              (None, 1024)              1049600   \n",
      "_________________________________________________________________\n",
      "dense_3 (Dense)              (None, 1024)              1049600   \n",
      "_________________________________________________________________\n",
      "dropout_1 (Dropout)          (None, 1024)              0         \n",
      "_________________________________________________________________\n",
      "dense_4 (Dense)              (None, 1024)              1049600   \n",
      "_________________________________________________________________\n",
      "dense_5 (Dense)              (None, 1024)              1049600   \n",
      "_________________________________________________________________\n",
      "dropout_2 (Dropout)          (None, 1024)              0         \n",
      "_________________________________________________________________\n",
      "dense_6 (Dense)              (None, 512)               524800    \n",
      "_________________________________________________________________\n",
      "dense_7 (Dense)              (None, 512)               262656    \n",
      "_________________________________________________________________\n",
      "dense_8 (Dense)              (None, 5)                 2565      \n",
      "=================================================================\n",
      "Total params: 6,060,549\n",
      "Trainable params: 6,060,549\n",
      "Non-trainable params: 0\n",
      "_________________________________________________________________\n"
     ]
    }
   ],
   "source": [
    "model = Sequential()\n",
    "model.add(Dense(1024, activation='relu', input_dim=x_train.shape[1], kernel_regularizer=regularizers.l2(0.001)))\n",
    "model.add(Dense(1024, activation='relu', kernel_regularizer=regularizers.l2(0.001)))\n",
    "model.add(Dropout(0.5))\n",
    "model.add(Dense(1024, activation='relu', kernel_regularizer=regularizers.l2(0.001)))\n",
    "model.add(Dense(1024, activation='relu', kernel_regularizer=regularizers.l2(0.001)))\n",
    "model.add(Dropout(0.5))\n",
    "model.add(Dense(1024, activation='relu', kernel_regularizer=regularizers.l2(0.001)))\n",
    "model.add(Dense(1024, activation='relu', kernel_regularizer=regularizers.l2(0.001)))\n",
    "model.add(Dropout(0.5))\n",
    "model.add(Dense(512, activation='relu', kernel_regularizer=regularizers.l2(0.001)))\n",
    "model.add(Dense(512, activation='relu', kernel_regularizer=regularizers.l2(0.001)))\n",
    "model.add(Dense(5, activation='softmax'))\n",
    "model.compile(loss='categorical_crossentropy', optimizer='rmsprop', metrics=['accuracy'])\n",
    "model.summary()"
   ]
  },
  {
   "cell_type": "code",
   "execution_count": 11,
   "metadata": {},
   "outputs": [
    {
     "name": "stdout",
     "output_type": "stream",
     "text": [
      "Epoch 1/15\n",
      "19/19 [==============================] - 10s 531ms/step - loss: 8.1372 - accuracy: 0.4372 - val_loss: 5.3399 - val_accuracy: 0.6900\n",
      "Epoch 2/15\n",
      "19/19 [==============================] - 8s 405ms/step - loss: 4.5061 - accuracy: 0.6400 - val_loss: 3.8778 - val_accuracy: 0.7050\n",
      "Epoch 3/15\n",
      "19/19 [==============================] - 7s 385ms/step - loss: 3.3934 - accuracy: 0.7341 - val_loss: 3.1279 - val_accuracy: 0.8100\n",
      "Epoch 4/15\n",
      "19/19 [==============================] - 7s 380ms/step - loss: 2.4214 - accuracy: 0.8563 - val_loss: 2.2345 - val_accuracy: 0.8400\n",
      "Epoch 5/15\n",
      "19/19 [==============================] - 7s 391ms/step - loss: 1.7728 - accuracy: 0.8854 - val_loss: 1.3218 - val_accuracy: 0.9450\n",
      "Epoch 6/15\n",
      "19/19 [==============================] - 7s 381ms/step - loss: 1.2421 - accuracy: 0.9105 - val_loss: 0.9484 - val_accuracy: 0.9550\n",
      "Epoch 7/15\n",
      "19/19 [==============================] - 7s 394ms/step - loss: 0.9342 - accuracy: 0.9125 - val_loss: 0.6839 - val_accuracy: 0.9500\n",
      "Epoch 8/15\n",
      "19/19 [==============================] - 7s 383ms/step - loss: 0.7635 - accuracy: 0.9047 - val_loss: 0.5796 - val_accuracy: 0.9550\n",
      "Epoch 9/15\n",
      "19/19 [==============================] - 7s 371ms/step - loss: 0.5641 - accuracy: 0.9315 - val_loss: 0.4407 - val_accuracy: 0.9600\n",
      "Epoch 10/15\n",
      "19/19 [==============================] - 8s 400ms/step - loss: 0.5704 - accuracy: 0.9106 - val_loss: 0.5026 - val_accuracy: 0.9450\n",
      "Epoch 11/15\n",
      "19/19 [==============================] - 7s 392ms/step - loss: 0.5050 - accuracy: 0.9229 - val_loss: 0.4151 - val_accuracy: 0.9450\n",
      "Epoch 12/15\n",
      "19/19 [==============================] - 7s 388ms/step - loss: 0.4472 - accuracy: 0.9267 - val_loss: 0.6227 - val_accuracy: 0.8500\n",
      "Epoch 13/15\n",
      "19/19 [==============================] - 8s 414ms/step - loss: 0.4616 - accuracy: 0.9296 - val_loss: 0.3243 - val_accuracy: 0.9600\n",
      "Epoch 14/15\n",
      "19/19 [==============================] - 8s 413ms/step - loss: 0.3895 - accuracy: 0.9360 - val_loss: 0.6649 - val_accuracy: 0.8500\n",
      "Epoch 15/15\n",
      "19/19 [==============================] - 7s 369ms/step - loss: 0.3874 - accuracy: 0.9330 - val_loss: 0.2730 - val_accuracy: 0.9600\n"
     ]
    },
    {
     "data": {
      "text/plain": [
       "<tensorflow.python.keras.callbacks.History at 0x17b71976c10>"
      ]
     },
     "execution_count": 11,
     "metadata": {},
     "output_type": "execute_result"
    }
   ],
   "source": [
    "model.fit(x_train, y_train, epochs=15, batch_size=512, validation_data=(x_val, y_val))"
   ]
  },
  {
   "cell_type": "code",
   "execution_count": 12,
   "metadata": {},
   "outputs": [],
   "source": [
    "y_pred = model.predict(x_test)\n",
    "profile.disable()\n",
    "y_pred = np.argmax(y_pred, axis=1)\n",
    "y_test = np.argmax(y_test, axis=1)\n",
    "profile.dump_stats('output.prof')\n",
    "stream = open('result/keras_kdd_profiling.txt', 'w')\n",
    "stats = pstats.Stats('output.prof', stream=stream)\n",
    "stats.sort_stats('cumtime')\n",
    "stats.print_stats()\n",
    "os.remove('output.prof')"
   ]
  },
  {
   "cell_type": "code",
   "execution_count": 57,
   "metadata": {},
   "outputs": [
    {
     "name": "stdout",
     "output_type": "stream",
     "text": [
      "Il classificatore ha predetto in totale 1611 record Dos di cui 1478 corretti(TP), 133 predetti erroneamente(FP), 17 record Dos reali predetti in altri attacchi (FN)\n",
      "\n",
      "Il classificatore ha predetto in totale 2292 record Normali di cui 2242 corretti(TP), 50 predetti erroneamente(FP), 29 record Normali reali predetti in altri attacchi (FN)\n",
      "\n",
      "Il classificatore ha predetto in totale 0 record Probe di cui 0 corretti(TP), 0 predetti erroneamente(FP), 138 record Probe reali predetti in altri attacchi (FN)\n",
      "\n",
      "Il classificatore ha predetto in totale 133 record R2L di cui 106 corretti(TP), 27 predetti erroneamente(FP), 10 record R2L reali predetti in altri attacchi (FN)\n",
      "\n",
      "Il classificatore ha predetto in totale 0 record U2R di cui 0 corretti(TP), 0 predetti erroneamente(FP), 16 record U2R reali predetti in altri attacchi (FN)\n"
     ]
    },
    {
     "data": {
      "image/png": "[encoded data removed]",
      "text/plain": [
       "<Figure size 432x288 with 2 Axes>"
      ]
     },
     "metadata": {
      "needs_background": "light"
     },
     "output_type": "display_data"
    },
    {
     "name": "stdout",
     "output_type": "stream",
     "text": [
      "0 = Dos / 1 = Normal / 2 = Probe / 3 = r2l / 4 = u2r\n",
      "              precision    recall  f1-score   support\n",
      "\n",
      "           0       0.92      0.99      0.95      1495\n",
      "           1       0.98      0.99      0.98      2271\n",
      "           2       0.00      0.00      0.00       138\n",
      "           3       0.80      0.91      0.85       116\n",
      "           4       0.00      0.00      0.00        16\n",
      "\n",
      "    accuracy                           0.95      4036\n",
      "   macro avg       0.54      0.58      0.56      4036\n",
      "weighted avg       0.91      0.95      0.93      4036\n",
      "\n"
     ]
    }
   ],
   "source": [
    "conf_matrix = confusion_matrix(y_test, y_pred)\n",
    "\n",
    "# 0 = Dos / 1 = Normal / 2 = Probe / 3 = r2l / 4 = u2r\n",
    "\n",
    "print(\"Il classificatore ha predetto in totale\", \n",
    "      conf_matrix[0][0]+conf_matrix[1][0]+conf_matrix[2][0]+conf_matrix[3][0]+conf_matrix[4][0],\n",
    "      \"record Dos di cui\",conf_matrix[0][0],\"corretti(TP),\",\n",
    "      conf_matrix[1][0]+conf_matrix[2][0]+conf_matrix[3][0]+conf_matrix[4][0],\n",
    "      \"predetti erroneamente(FP),\",\n",
    "      conf_matrix[0][1]+conf_matrix[0][2]+conf_matrix[0][3]+conf_matrix[0][4],\n",
    "      \"record Dos reali predetti in altri attacchi (FN)\"\n",
    "     )\n",
    "print(\"\")\n",
    "print(\"Il classificatore ha predetto in totale\", \n",
    "      conf_matrix[0][1]+conf_matrix[1][1]+conf_matrix[2][1]+conf_matrix[3][1]+conf_matrix[4][1],\n",
    "      \"record Normali di cui\",conf_matrix[1][1],\"corretti(TP),\",\n",
    "      conf_matrix[0][1]+conf_matrix[2][1]+conf_matrix[3][1]+conf_matrix[4][1],\n",
    "      \"predetti erroneamente(FP),\",\n",
    "      conf_matrix[1][0]+conf_matrix[1][2]+conf_matrix[1][3]+conf_matrix[1][4],\n",
    "      \"record Normali reali predetti in altri attacchi (FN)\"\n",
    "     )\n",
    "print(\"\")\n",
    "print(\"Il classificatore ha predetto in totale\", \n",
    "      conf_matrix[0][2]+conf_matrix[1][2]+conf_matrix[2][2]+conf_matrix[3][2]+conf_matrix[4][2],\n",
    "      \"record Probe di cui\",conf_matrix[2][2],\"corretti(TP),\",\n",
    "      conf_matrix[0][2]+conf_matrix[1][2]+conf_matrix[3][2]+conf_matrix[4][2],\n",
    "      \"predetti erroneamente(FP),\",\n",
    "      conf_matrix[2][0]+conf_matrix[2][1]+conf_matrix[2][3]+conf_matrix[2][4],\n",
    "      \"record Probe reali predetti in altri attacchi (FN)\"\n",
    "     )\n",
    "print(\"\")\n",
    "print(\"Il classificatore ha predetto in totale\", \n",
    "      conf_matrix[0][3]+conf_matrix[1][3]+conf_matrix[2][3]+conf_matrix[3][3]+conf_matrix[4][3],\n",
    "      \"record R2L di cui\",conf_matrix[3][3],\"corretti(TP),\",\n",
    "      conf_matrix[0][3]+conf_matrix[1][3]+conf_matrix[2][3]+conf_matrix[4][3],\n",
    "      \"predetti erroneamente(FP),\",\n",
    "      conf_matrix[3][0]+conf_matrix[3][1]+conf_matrix[3][2]+conf_matrix[3][4],\n",
    "      \"record R2L reali predetti in altri attacchi (FN)\"\n",
    "     )\n",
    "print(\"\")\n",
    "print(\"Il classificatore ha predetto in totale\", \n",
    "      conf_matrix[0][4]+conf_matrix[1][4]+conf_matrix[2][4]+conf_matrix[3][4]+conf_matrix[4][4],\n",
    "      \"record U2R di cui\",conf_matrix[4][4],\"corretti(TP),\",\n",
    "      conf_matrix[0][4]+conf_matrix[1][4]+conf_matrix[2][4]+conf_matrix[3][4],\n",
    "      \"predetti erroneamente(FP),\",\n",
    "      conf_matrix[4][0]+conf_matrix[4][1]+conf_matrix[4][2]+conf_matrix[4][3],\n",
    "      \"record U2R reali predetti in altri attacchi (FN)\"\n",
    "     )\n",
    "\n",
    "disp = ConfusionMatrixDisplay(confusion_matrix=conf_matrix)\n",
    "\n",
    "disp = disp.plot(cmap='YlOrBr')\n",
    "\n",
    "plt.show()\n",
    "print(\"0 = Dos / 1 = Normal / 2 = Probe / 3 = r2l / 4 = u2r\")\n",
    "print(\"\")\n",
    "print(classification_report(y_test, y_pred))"
   ]
  },
  {
   "cell_type": "code",
   "execution_count": null,
   "metadata": {},
   "outputs": [],
   "source": []
  }
 ],
 "metadata": {
  "kernelspec": {
   "display_name": "Python 3",
   "language": "python",
   "name": "python3"
  },
  "language_info": {
   "codemirror_mode": {
    "name": "ipython",
    "version": 3
   },
   "file_extension": ".py",
   "mimetype": "text/x-python",
   "name": "python",
   "nbconvert_exporter": "python",
   "pygments_lexer": "ipython3",
   "version": "3.8.3"
  }
 },
 "nbformat": 4,
 "nbformat_minor": 4
}
