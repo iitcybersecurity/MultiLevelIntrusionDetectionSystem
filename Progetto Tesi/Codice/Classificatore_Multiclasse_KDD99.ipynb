{
 "cells": [
  {
   "cell_type": "code",
   "execution_count": 1,
   "metadata": {},
   "outputs": [
    {
     "name": "stdout",
     "output_type": "stream",
     "text": [
      "Librerie importate con successo\n"
     ]
    }
   ],
   "source": [
    "import pandas as pd\n",
    "import numpy as np\n",
    "from tensorflow import keras\n",
    "from tensorflow.keras import regularizers\n",
    "from tensorflow.keras import layers\n",
    "from tensorflow.keras.utils import to_categorical\n",
    "from tensorflow.keras.models import Sequential\n",
    "from tensorflow.keras.layers import Dense , Dropout\n",
    "from sklearn.model_selection import train_test_split as splitter\n",
    "import cProfile\n",
    "import pstats\n",
    "import os\n",
    "import sys\n",
    "from sklearn.metrics import classification_report, confusion_matrix, ConfusionMatrixDisplay\n",
    "from sklearn.preprocessing import LabelEncoder, MinMaxScaler, OneHotEncoder\n",
    "from datetime import datetime\n",
    "from matplotlib import pyplot as plt\n",
    "from matplotlib import dates as md\n",
    "\n",
    "print(\"Librerie importate con successo\")"
   ]
  },
  {
   "cell_type": "code",
   "execution_count": 2,
   "metadata": {},
   "outputs": [
    {
     "name": "stdout",
     "output_type": "stream",
     "text": [
      "Dataset importato con successo\n"
     ]
    }
   ],
   "source": [
    "data = pd.read_csv('../Datasets/kdd_prediction.csv', delimiter=',',\n",
    "                       dtype={'protocol_type': str, 'service': str, 'flag': str, 'result': str})\n",
    "\n",
    "print(\"Dataset importato con successo\")"
   ]
  },
  {
   "cell_type": "code",
   "execution_count": 3,
   "metadata": {},
   "outputs": [
    {
     "name": "stdout",
     "output_type": "stream",
     "text": [
      "Total :  13451\n",
      "Normal :  7500\n",
      "Malicious :  5951\n"
     ]
    },
    {
     "data": {
      "image/png": "[encoded data removed]",
      "text/plain": [
       "<Figure size 432x288 with 1 Axes>"
      ]
     },
     "metadata": {
      "needs_background": "light"
     },
     "output_type": "display_data"
    }
   ],
   "source": [
    "#Effettuo il plot del dataset\n",
    "\n",
    "total_flows_count = data[\"result\"].count()\n",
    "normal_flows_count = len(data[data.result == \"normal\"])\n",
    "anomaly_flows_count = len(data[data.result != \"normal\"])\n",
    "\n",
    "print(\"Total : \",total_flows_count)\n",
    "print(\"Normal : \",normal_flows_count)\n",
    "print(\"Malicious : \",anomaly_flows_count)\n",
    "\n",
    "# x-coordinates of left sides of bars  \n",
    "left = [1, 1.5] \n",
    "  \n",
    "# heights of bars \n",
    "height = [normal_flows_count, anomaly_flows_count] \n",
    "  \n",
    "# labels for bars \n",
    "tick_label = ['Normal', 'Malicious'] \n",
    "  \n",
    "# bar chart\n",
    "plt.bar(left, height, tick_label = tick_label, \n",
    "        width = 0.4, color = ['green', 'red']) \n",
    "  \n",
    "# Rinominazione asse x \n",
    "plt.xlabel('Tipologia di record') \n",
    "# Rinominazione asse y \n",
    "plt.ylabel('Numero di record') \n",
    "# Titolo\n",
    "plt.title('Numero di samples del dataset') \n",
    "  \n",
    "plt.show() "
   ]
  },
  {
   "cell_type": "code",
   "execution_count": 4,
   "metadata": {},
   "outputs": [],
   "source": [
    "#Funzioni utili preprocessing\n",
    "\n",
    "#ottiene una service_list dal file service.txt prelevando ogni riga e inserendola in una lista\n",
    "def get_service_list(dirname='list', filename='service_mio.txt'):\n",
    "    print('Getting service list...')\n",
    "    with open(os.path.join(dirname, filename), 'r') as service:\n",
    "        service_list = service.read().split('\\n')\n",
    "    return service_list\n",
    "\n",
    "#ottiene una flag_list dal file flag.txt prelevando ogni riga e inserendola in una lista\n",
    "def get_flag_list(dirname='list', filename='flag_mio.txt'):\n",
    "    print('Getting flag list...')\n",
    "    with open(os.path.join(dirname, filename), 'r') as flag:\n",
    "        flag_list = flag.read().split('\\n')\n",
    "    return flag_list"
   ]
  },
  {
   "cell_type": "code",
   "execution_count": 5,
   "metadata": {},
   "outputs": [
    {
     "name": "stdout",
     "output_type": "stream",
     "text": [
      "Getting service list...\n",
      "Getting flag list...\n",
      "Replacing protocol_type values to numeric...\n",
      "Replacing service values to numeric...\n",
      "Replacing flag values to numeric...\n"
     ]
    }
   ],
   "source": [
    "service_list = get_service_list(dirname='list', filename='service_mio.txt')\n",
    "flag_list = get_flag_list(dirname='list', filename='flag_mio.txt')\n",
    "\n",
    "print('Replacing protocol_type values to numeric...')\n",
    "data.protocol_type.replace(['tcp', 'udp', 'icmp'], range(3), inplace=True)\n",
    "\n",
    "print('Replacing service values to numeric...')\n",
    "data.service.replace(service_list, range(len(service_list)), inplace=True)\n",
    "\n",
    "print('Replacing flag values to numeric...')\n",
    "data.flag.replace(flag_list, range(len(flag_list)), inplace=True)\n",
    "data.result.replace(['dos','normal','probe','r2l','u2r'], range(5), inplace=True)"
   ]
  },
  {
   "cell_type": "code",
   "execution_count": 6,
   "metadata": {},
   "outputs": [
    {
     "name": "stdout",
     "output_type": "stream",
     "text": [
      "Conversione feature \"count\" in linguaggio macchina . . .\n",
      "Conversione indici 1,2,3 in linguaggio macchina . . .\n",
      "Rimuovo le features di indici 1,2,3 e concateno un hot encoder array\n",
      "\n",
      "\n",
      "Final shape of data: (13451, 95)\n",
      "\n",
      "\n"
     ]
    }
   ],
   "source": [
    "sc = MinMaxScaler()\n",
    "enc = OneHotEncoder(categories=[range(3), range(len(service_list)), range(len(flag_list))])\n",
    "num_desc = data.loc[:, ['duration', 'src_bytes', 'dst_bytes']].describe()\n",
    "\n",
    "label, df_label = [], []\n",
    "    \n",
    "label = data['result'].copy().values.reshape((data.shape[0], 1))\n",
    "df_label = pd.DataFrame(label)\n",
    "data.drop(['result'], axis=1, inplace=True)   \n",
    "\n",
    "attr_name = ['duration', '', '', '', 'src_bytes', 'dst_bytes']\n",
    "\n",
    "for i in ['duration', 'src_bytes', 'dst_bytes']:\n",
    "    iqr = (num_desc[i].values[6] - num_desc[i].values[4])\n",
    "    std = num_desc[i].values[6] + iqr * 1.5  # IQR upper fence = Q3 + 1.5 * IQR\n",
    "    if std == 0:\n",
    "        data[i] = data[i].map(lambda x: 1 if x > 0 else 0)\n",
    "    else:\n",
    "        data[i] = data[i].map(lambda x: std if x > std else x)\n",
    "sc.fit(data[['duration', 'src_bytes', 'dst_bytes']].values)\n",
    "data[['duration', 'src_bytes', 'dst_bytes']] = sc.transform(data[['duration', 'src_bytes', 'dst_bytes']].values)\n",
    "\n",
    "print('Conversione feature \"count\" in linguaggio macchina . . .')\n",
    "sc.fit(data[['count']].values.astype(np.float32))\n",
    "data[['count']] = sc.transform(data[['count']].values.astype(np.float32))\n",
    "\n",
    "print('Conversione indici 1,2,3 in linguaggio macchina . . .')\n",
    "enc.fit(data[['protocol_type','service','flag']].values)\n",
    "one_hot_arr = enc.transform(data[['protocol_type','service','flag']].values).toarray()\n",
    "\n",
    "print('Rimuovo le features di indici 1,2,3 e concateno un hot encoder array')\n",
    "data.drop(['protocol_type','service','flag'], axis=1, inplace=True)\n",
    "data_final = np.concatenate((data.values, one_hot_arr, df_label), axis=1)\n",
    "data_final = pd.DataFrame(data_final)\n",
    "\n",
    "print(\"\")\n",
    "print(\"\")\n",
    "print('Final shape of data:', data_final.shape)\n",
    "print(\"\")\n",
    "print(\"\")"
   ]
  },
  {
   "cell_type": "code",
   "execution_count": 7,
   "metadata": {},
   "outputs": [],
   "source": [
    "y = data_final[94]\n",
    "x = data_final.drop([94], axis=1)\n",
    "profile = cProfile.Profile()\n",
    "x_train, x_test, y_train, y_test = splitter(x, y, test_size=0.3, random_state=32)"
   ]
  },
  {
   "cell_type": "code",
   "execution_count": 8,
   "metadata": {},
   "outputs": [
    {
     "name": "stdout",
     "output_type": "stream",
     "text": [
      "Il dataset per il train è composto da :  9415 record\n",
      "Il dataset per il train è composto da :  4186 anomalie\n",
      "Il dataset per il train è composto da :  5229 record normali\n"
     ]
    },
    {
     "data": {
      "image/png": "[encoded data removed]",
      "text/plain": [
       "<Figure size 432x288 with 1 Axes>"
      ]
     },
     "metadata": {
      "needs_background": "light"
     },
     "output_type": "display_data"
    }
   ],
   "source": [
    "num_train = len(x_train)\n",
    "num_train_normal = 0\n",
    "\n",
    "print(\"Il dataset per il train è composto da : \",num_train,\"record\")\n",
    "\n",
    "for i in y_train:\n",
    "    if(i == 1):\n",
    "        num_train_normal = num_train_normal + 1\n",
    "    \n",
    "        \n",
    "num_train_anomaly = num_train - num_train_normal\n",
    "\n",
    "print(\"Il dataset per il train è composto da : \",num_train_anomaly,\"anomalie\")\n",
    "print(\"Il dataset per il train è composto da : \",num_train_normal,\"record normali\")\n",
    "\n",
    "left = [1, 1.5] \n",
    "  \n",
    "# heights of bars \n",
    "height = [num_train_normal, num_train_anomaly] \n",
    "  \n",
    "# labels for bars \n",
    "tick_label = ['Normal', 'Malicious'] \n",
    "  \n",
    "# bar chart\n",
    "plt.bar(left, height, tick_label = tick_label, \n",
    "        width = 0.4, color = ['purple', 'grey']) \n",
    "  \n",
    "# Rinominazione asse x \n",
    "plt.xlabel('Tipologia di record') \n",
    "# Rinominazione asse y \n",
    "plt.ylabel('Numero di record') \n",
    "# Titolo\n",
    "plt.title('Numero di samples del dataset di train') \n",
    "  \n",
    "plt.show() "
   ]
  },
  {
   "cell_type": "code",
   "execution_count": 9,
   "metadata": {},
   "outputs": [
    {
     "name": "stdout",
     "output_type": "stream",
     "text": [
      "Il dataset per il test è composto da :  4036 record\n",
      "Il dataset per il test è composto da :  1765 anomalie\n",
      "Il dataset per il test è composto da :  2271 record normali\n"
     ]
    },
    {
     "data": {
      "image/png": "[encoded data removed]",
      "text/plain": [
       "<Figure size 432x288 with 1 Axes>"
      ]
     },
     "metadata": {
      "needs_background": "light"
     },
     "output_type": "display_data"
    }
   ],
   "source": [
    "num_test = len(x_test)\n",
    "num_test_normal = 0\n",
    "num_test_dos = 0\n",
    "num_test_r2l = 0\n",
    "num_test_u2r = 0\n",
    "num_test_probe = 0\n",
    "\n",
    "print(\"Il dataset per il test è composto da : \",num_test,\"record\")\n",
    "\n",
    "for i in y_test:\n",
    "    if(i == 0):\n",
    "        num_test_dos = num_test_dos + 1\n",
    "    if(i == 1):\n",
    "        num_test_normal = num_test_normal + 1\n",
    "    if(i == 2):\n",
    "        num_test_probe = num_test_probe + 1\n",
    "    if(i == 3):\n",
    "        num_test_r2l = num_test_r2l + 1\n",
    "    if(i == 4):\n",
    "        num_test_u2r = num_test_u2r + 1\n",
    "        \n",
    "num_test_anomaly = num_test - num_test_normal\n",
    "\n",
    "print(\"Il dataset per il test è composto da : \",num_test_anomaly,\"anomalie\")\n",
    "print(\"Il dataset per il test è composto da : \",num_test_normal,\"record normali\")\n",
    "\n",
    "left = [1, 1.5] \n",
    "  \n",
    "# heights of bars \n",
    "height = [num_test_normal, num_test_anomaly] \n",
    "  \n",
    "# labels for bars \n",
    "tick_label = ['Normal', 'Malicious'] \n",
    "  \n",
    "# bar chart\n",
    "plt.bar(left, height, tick_label = tick_label, \n",
    "        width = 0.4, color = ['Olive', 'brown']) \n",
    "  \n",
    "# Rinominazione asse x \n",
    "plt.xlabel('Tipologia di record') \n",
    "# Rinominazione asse y \n",
    "plt.ylabel('Numero di record') \n",
    "# Titolo\n",
    "plt.title('Numero di samples del dataset di test') \n",
    "  \n",
    "plt.show() "
   ]
  },
  {
   "cell_type": "code",
   "execution_count": 10,
   "metadata": {},
   "outputs": [
    {
     "name": "stdout",
     "output_type": "stream",
     "text": [
      "Il dataset per il test è composto da :  1495 record dos\n",
      "Il dataset per il test è composto da :  138 record probe\n",
      "Il dataset per il test è composto da :  116 record r2l\n",
      "Il dataset per il test è composto da :  16 record u2r\n"
     ]
    },
    {
     "data": {
      "image/png": "[encoded data removed]",
      "text/plain": [
       "<Figure size 432x288 with 1 Axes>"
      ]
     },
     "metadata": {
      "needs_background": "light"
     },
     "output_type": "display_data"
    }
   ],
   "source": [
    "print(\"Il dataset per il test è composto da : \",num_test_dos,\"record dos\")\n",
    "print(\"Il dataset per il test è composto da : \",num_test_probe,\"record probe\")\n",
    "print(\"Il dataset per il test è composto da : \",num_test_r2l,\"record r2l\")\n",
    "print(\"Il dataset per il test è composto da : \",num_test_u2r,\"record u2r\")\n",
    "\n",
    "left = [1, 1.5, 2, 2.5] \n",
    "  \n",
    "# heights of bars \n",
    "height = [num_test_dos, num_test_probe, num_test_r2l, num_test_u2r] \n",
    "  \n",
    "# labels for bars \n",
    "tick_label = ['Dos', 'Probe', \"R2L\", \"U2R\"] \n",
    "  \n",
    "# bar chart\n",
    "plt.bar(left, height, tick_label = tick_label, \n",
    "        width = 0.4, color = ['teal', 'cyan','deepskyblue','navy']) \n",
    "  \n",
    "# Rinominazione asse x \n",
    "plt.xlabel('Tipologia di record') \n",
    "# Rinominazione asse y \n",
    "plt.ylabel('Numero di record') \n",
    "# Titolo\n",
    "plt.title('Numero di samples anomali nel dataset di test') \n",
    "  \n",
    "plt.show() "
   ]
  },
  {
   "cell_type": "code",
   "execution_count": 11,
   "metadata": {},
   "outputs": [],
   "source": [
    "profile.enable()\n",
    "y_train = to_categorical(y_train)\n",
    "y_test = to_categorical(y_test)\n",
    "\n",
    "val_indices = 200\n",
    "x_val = x_train[-val_indices:]\n",
    "y_val = y_train[-val_indices:]\n"
   ]
  },
  {
   "cell_type": "code",
   "execution_count": 12,
   "metadata": {},
   "outputs": [
    {
     "name": "stdout",
     "output_type": "stream",
     "text": [
      "Model: \"sequential\"\n",
      "_________________________________________________________________\n",
      "Layer (type)                 Output Shape              Param #   \n",
      "=================================================================\n",
      "dense (Dense)                (None, 1024)              97280     \n",
      "_________________________________________________________________\n",
      "dense_1 (Dense)              (None, 1024)              1049600   \n",
      "_________________________________________________________________\n",
      "dropout (Dropout)            (None, 1024)              0         \n",
      "_________________________________________________________________\n",
      "dense_2 (Dense)              (None, 1024)              1049600   \n",
      "_________________________________________________________________\n",
      "dense_3 (Dense)              (None, 1024)              1049600   \n",
      "_________________________________________________________________\n",
      "dropout_1 (Dropout)          (None, 1024)              0         \n",
      "_________________________________________________________________\n",
      "dense_4 (Dense)              (None, 1024)              1049600   \n",
      "_________________________________________________________________\n",
      "dense_5 (Dense)              (None, 1024)              1049600   \n",
      "_________________________________________________________________\n",
      "dropout_2 (Dropout)          (None, 1024)              0         \n",
      "_________________________________________________________________\n",
      "dense_6 (Dense)              (None, 512)               524800    \n",
      "_________________________________________________________________\n",
      "dense_7 (Dense)              (None, 512)               262656    \n",
      "_________________________________________________________________\n",
      "dense_8 (Dense)              (None, 5)                 2565      \n",
      "=================================================================\n",
      "Total params: 6,135,301\n",
      "Trainable params: 6,135,301\n",
      "Non-trainable params: 0\n",
      "_________________________________________________________________\n"
     ]
    }
   ],
   "source": [
    "model = Sequential()\n",
    "model.add(Dense(1024, activation='relu', input_dim=x_train.shape[1], kernel_regularizer=regularizers.l2(0.001)))\n",
    "model.add(Dense(1024, activation='relu', kernel_regularizer=regularizers.l2(0.001)))\n",
    "model.add(Dropout(0.5))\n",
    "model.add(Dense(1024, activation='relu', kernel_regularizer=regularizers.l2(0.001)))\n",
    "model.add(Dense(1024, activation='relu', kernel_regularizer=regularizers.l2(0.001)))\n",
    "model.add(Dropout(0.5))\n",
    "model.add(Dense(1024, activation='relu', kernel_regularizer=regularizers.l2(0.001)))\n",
    "model.add(Dense(1024, activation='relu', kernel_regularizer=regularizers.l2(0.001)))\n",
    "model.add(Dropout(0.5))\n",
    "model.add(Dense(512, activation='relu', kernel_regularizer=regularizers.l2(0.001)))\n",
    "model.add(Dense(512, activation='relu', kernel_regularizer=regularizers.l2(0.001)))\n",
    "model.add(Dense(5, activation='softmax'))\n",
    "model.compile(loss='categorical_crossentropy', optimizer='rmsprop', metrics=['accuracy'])\n",
    "model.summary()"
   ]
  },
  {
   "cell_type": "code",
   "execution_count": 13,
   "metadata": {
    "scrolled": true
   },
   "outputs": [
    {
     "name": "stdout",
     "output_type": "stream",
     "text": [
      "Epoch 1/15\n",
      "19/19 [==============================] - 3s 169ms/step - loss: 6.0449 - accuracy: 0.5955 - val_loss: 3.6824 - val_accuracy: 0.9500\n",
      "Epoch 2/15\n",
      "19/19 [==============================] - 3s 162ms/step - loss: 3.1461 - accuracy: 0.9337 - val_loss: 2.4353 - val_accuracy: 0.9650\n",
      "Epoch 3/15\n",
      "19/19 [==============================] - 3s 158ms/step - loss: 2.1700 - accuracy: 0.9394 - val_loss: 1.6333 - val_accuracy: 0.9650\n",
      "Epoch 4/15\n",
      "19/19 [==============================] - 3s 155ms/step - loss: 1.4317 - accuracy: 0.9449 - val_loss: 1.0384 - val_accuracy: 0.9650\n",
      "Epoch 5/15\n",
      "19/19 [==============================] - 3s 156ms/step - loss: 0.9189 - accuracy: 0.9500 - val_loss: 0.6276 - val_accuracy: 0.9700\n",
      "Epoch 6/15\n",
      "19/19 [==============================] - 3s 156ms/step - loss: 0.6048 - accuracy: 0.9535 - val_loss: 0.3989 - val_accuracy: 0.9850\n",
      "Epoch 7/15\n",
      "19/19 [==============================] - 3s 164ms/step - loss: 0.4011 - accuracy: 0.9652 - val_loss: 0.4557 - val_accuracy: 0.9650\n",
      "Epoch 8/15\n",
      "19/19 [==============================] - 3s 175ms/step - loss: 0.3759 - accuracy: 0.9642 - val_loss: 0.2566 - val_accuracy: 0.9850\n",
      "Epoch 9/15\n",
      "19/19 [==============================] - 3s 176ms/step - loss: 0.3240 - accuracy: 0.9575 - val_loss: 0.2397 - val_accuracy: 0.9700\n",
      "Epoch 10/15\n",
      "19/19 [==============================] - 4s 191ms/step - loss: 0.2710 - accuracy: 0.9689 - val_loss: 0.1935 - val_accuracy: 0.9750\n",
      "Epoch 11/15\n",
      "19/19 [==============================] - 4s 186ms/step - loss: 0.2373 - accuracy: 0.9683 - val_loss: 0.2087 - val_accuracy: 0.9800\n",
      "Epoch 12/15\n",
      "19/19 [==============================] - 3s 182ms/step - loss: 0.2838 - accuracy: 0.9442 - val_loss: 0.1864 - val_accuracy: 0.9750\n",
      "Epoch 13/15\n",
      "19/19 [==============================] - 3s 173ms/step - loss: 0.2044 - accuracy: 0.9703 - val_loss: 0.1720 - val_accuracy: 0.9750\n",
      "Epoch 14/15\n",
      "19/19 [==============================] - 3s 173ms/step - loss: 0.2135 - accuracy: 0.9659 - val_loss: 0.1485 - val_accuracy: 0.9800\n",
      "Epoch 15/15\n",
      "19/19 [==============================] - 4s 198ms/step - loss: 0.1929 - accuracy: 0.9705 - val_loss: 0.1354 - val_accuracy: 0.9850\n"
     ]
    }
   ],
   "source": [
    "history=model.fit(x_train,\n",
    "          y_train,\n",
    "          epochs=15,\n",
    "          batch_size=512,\n",
    "          validation_data=(x_val, y_val)\n",
    "         )"
   ]
  },
  {
   "cell_type": "code",
   "execution_count": 14,
   "metadata": {},
   "outputs": [
    {
     "data": {
      "text/plain": [
       "<matplotlib.legend.Legend at 0x1ba5e96a7f0>"
      ]
     },
     "execution_count": 14,
     "metadata": {},
     "output_type": "execute_result"
    },
    {
     "data": {
      "image/png": "[encoded data removed]",
      "text/plain": [
       "<Figure size 432x288 with 1 Axes>"
      ]
     },
     "metadata": {
      "needs_background": "light"
     },
     "output_type": "display_data"
    }
   ],
   "source": [
    "plt.plot(history.history[\"loss\"], label=\"Training Loss\")\n",
    "plt.plot(history.history[\"val_loss\"], label=\"Validation Loss\")\n",
    "plt.legend()"
   ]
  },
  {
   "cell_type": "code",
   "execution_count": 15,
   "metadata": {},
   "outputs": [],
   "source": [
    "y_pred = model.predict(x_test)\n",
    "profile.disable()\n",
    "y_pred = np.argmax(y_pred, axis=1)\n",
    "y_test = np.argmax(y_test, axis=1)\n",
    "profile.dump_stats('output.prof')\n",
    "stream = open('result/keras_kdd_profiling.txt', 'w')\n",
    "stats = pstats.Stats('output.prof', stream=stream)\n",
    "stats.sort_stats('cumtime')\n",
    "stats.print_stats()\n",
    "os.remove('output.prof')"
   ]
  },
  {
   "cell_type": "code",
   "execution_count": 16,
   "metadata": {},
   "outputs": [
    {
     "name": "stdout",
     "output_type": "stream",
     "text": [
      "Il classificatore ha predetto in totale 1540 record Dos di cui 1494 corretti(TP), 46 predetti erroneamente(FP), 1 record Dos reali predetti in altri attacchi (FN)\n",
      "\n",
      "Il classificatore ha predetto in totale 2285 record Normali di cui 2247 corretti(TP), 38 predetti erroneamente(FP), 24 record Normali reali predetti in altri attacchi (FN)\n",
      "\n",
      "Il classificatore ha predetto in totale 88 record Probe di cui 83 corretti(TP), 5 predetti erroneamente(FP), 55 record Probe reali predetti in altri attacchi (FN)\n",
      "\n",
      "Il classificatore ha predetto in totale 123 record R2L di cui 97 corretti(TP), 26 predetti erroneamente(FP), 19 record R2L reali predetti in altri attacchi (FN)\n",
      "\n",
      "Il classificatore ha predetto in totale 0 record U2R di cui 0 corretti(TP), 0 predetti erroneamente(FP), 16 record U2R reali predetti in altri attacchi (FN)\n"
     ]
    },
    {
     "data": {
      "image/png": "[encoded data removed]",
      "text/plain": [
       "<Figure size 432x288 with 2 Axes>"
      ]
     },
     "metadata": {
      "needs_background": "light"
     },
     "output_type": "display_data"
    },
    {
     "name": "stdout",
     "output_type": "stream",
     "text": [
      "0 = Dos / 1 = Normal / 2 = Probe / 3 = r2l / 4 = u2r\n",
      "\n",
      "              precision    recall  f1-score   support\n",
      "\n",
      "           0       0.97      1.00      0.98      1495\n",
      "           1       0.98      0.99      0.99      2271\n",
      "           2       0.94      0.60      0.73       138\n",
      "           3       0.79      0.84      0.81       116\n",
      "           4       0.00      0.00      0.00        16\n",
      "\n",
      "    accuracy                           0.97      4036\n",
      "   macro avg       0.74      0.69      0.70      4036\n",
      "weighted avg       0.97      0.97      0.97      4036\n",
      "\n"
     ]
    },
    {
     "name": "stderr",
     "output_type": "stream",
     "text": [
      "C:\\Users\\39331\\anaconda3\\lib\\site-packages\\sklearn\\metrics\\_classification.py:1221: UndefinedMetricWarning: Precision and F-score are ill-defined and being set to 0.0 in labels with no predicted samples. Use `zero_division` parameter to control this behavior.\n",
      "  _warn_prf(average, modifier, msg_start, len(result))\n"
     ]
    }
   ],
   "source": [
    "conf_matrix = confusion_matrix(y_test, y_pred)\n",
    "\n",
    "# 0 = Dos / 1 = Normal / 2 = Probe / 3 = r2l / 4 = u2r\n",
    "\n",
    "print(\"Il classificatore ha predetto in totale\", \n",
    "      conf_matrix[0][0]+conf_matrix[1][0]+conf_matrix[2][0]+conf_matrix[3][0]+conf_matrix[4][0],\n",
    "      \"record Dos di cui\",conf_matrix[0][0],\"corretti(TP),\",\n",
    "      conf_matrix[1][0]+conf_matrix[2][0]+conf_matrix[3][0]+conf_matrix[4][0],\n",
    "      \"predetti erroneamente(FP),\",\n",
    "      conf_matrix[0][1]+conf_matrix[0][2]+conf_matrix[0][3]+conf_matrix[0][4],\n",
    "      \"record Dos reali predetti in altri attacchi (FN)\"\n",
    "     )\n",
    "print(\"\")\n",
    "print(\"Il classificatore ha predetto in totale\", \n",
    "      conf_matrix[0][1]+conf_matrix[1][1]+conf_matrix[2][1]+conf_matrix[3][1]+conf_matrix[4][1],\n",
    "      \"record Normali di cui\",conf_matrix[1][1],\"corretti(TP),\",\n",
    "      conf_matrix[0][1]+conf_matrix[2][1]+conf_matrix[3][1]+conf_matrix[4][1],\n",
    "      \"predetti erroneamente(FP),\",\n",
    "      conf_matrix[1][0]+conf_matrix[1][2]+conf_matrix[1][3]+conf_matrix[1][4],\n",
    "      \"record Normali reali predetti in altri attacchi (FN)\"\n",
    "     )\n",
    "print(\"\")\n",
    "print(\"Il classificatore ha predetto in totale\", \n",
    "      conf_matrix[0][2]+conf_matrix[1][2]+conf_matrix[2][2]+conf_matrix[3][2]+conf_matrix[4][2],\n",
    "      \"record Probe di cui\",conf_matrix[2][2],\"corretti(TP),\",\n",
    "      conf_matrix[0][2]+conf_matrix[1][2]+conf_matrix[3][2]+conf_matrix[4][2],\n",
    "      \"predetti erroneamente(FP),\",\n",
    "      conf_matrix[2][0]+conf_matrix[2][1]+conf_matrix[2][3]+conf_matrix[2][4],\n",
    "      \"record Probe reali predetti in altri attacchi (FN)\"\n",
    "     )\n",
    "print(\"\")\n",
    "print(\"Il classificatore ha predetto in totale\", \n",
    "      conf_matrix[0][3]+conf_matrix[1][3]+conf_matrix[2][3]+conf_matrix[3][3]+conf_matrix[4][3],\n",
    "      \"record R2L di cui\",conf_matrix[3][3],\"corretti(TP),\",\n",
    "      conf_matrix[0][3]+conf_matrix[1][3]+conf_matrix[2][3]+conf_matrix[4][3],\n",
    "      \"predetti erroneamente(FP),\",\n",
    "      conf_matrix[3][0]+conf_matrix[3][1]+conf_matrix[3][2]+conf_matrix[3][4],\n",
    "      \"record R2L reali predetti in altri attacchi (FN)\"\n",
    "     )\n",
    "print(\"\")\n",
    "print(\"Il classificatore ha predetto in totale\", \n",
    "      conf_matrix[0][4]+conf_matrix[1][4]+conf_matrix[2][4]+conf_matrix[3][4]+conf_matrix[4][4],\n",
    "      \"record U2R di cui\",conf_matrix[4][4],\"corretti(TP),\",\n",
    "      conf_matrix[0][4]+conf_matrix[1][4]+conf_matrix[2][4]+conf_matrix[3][4],\n",
    "      \"predetti erroneamente(FP),\",\n",
    "      conf_matrix[4][0]+conf_matrix[4][1]+conf_matrix[4][2]+conf_matrix[4][3],\n",
    "      \"record U2R reali predetti in altri attacchi (FN)\"\n",
    "     )\n",
    "\n",
    "disp = ConfusionMatrixDisplay(confusion_matrix=conf_matrix)\n",
    "\n",
    "disp = disp.plot(cmap='YlOrBr')\n",
    "\n",
    "plt.show()\n",
    "print(\"0 = Dos / 1 = Normal / 2 = Probe / 3 = r2l / 4 = u2r\")\n",
    "print(\"\")\n",
    "print(classification_report(y_test, y_pred))"
   ]
  },
  {
   "cell_type": "code",
   "execution_count": 24,
   "metadata": {},
   "outputs": [
    {
     "name": "stdout",
     "output_type": "stream",
     "text": [
      "### 0 Anomaly / 1 Normal ###\n"
     ]
    },
    {
     "data": {
      "image/png": "[encoded data removed]",
      "text/plain": [
       "<Figure size 432x288 with 1 Axes>"
      ]
     },
     "metadata": {
      "needs_background": "light"
     },
     "output_type": "display_data"
    },
    {
     "name": "stdout",
     "output_type": "stream",
     "text": [
      "          predicted labels  \n"
     ]
    }
   ],
   "source": [
    "#Calcolo a posteriori la rispettiva matrice di confusione binaria associata alla precedente\n",
    "\n",
    "#num_test_normal / num_test_dos etc . . .\n",
    "# 1 è normal mentre 0 2 3 4 sono anomalies\n",
    "\n",
    "#Record normali classificati come normali (TP)\n",
    "\n",
    "true_positive = conf_matrix[1][1]\n",
    "\n",
    "#record anomali classificati come anomali (TN)\n",
    "\n",
    "true_negative = (conf_matrix[0][0] + conf_matrix[0][2] + conf_matrix[0][3] + conf_matrix[0][4] +\n",
    "                + conf_matrix[2][0] + conf_matrix[2][2] + conf_matrix[2][3] + conf_matrix[2][4] \n",
    "                + conf_matrix[3][0] + conf_matrix[3][2] + conf_matrix[3][3] + conf_matrix[3][4] \n",
    "                + conf_matrix[4][0] + conf_matrix[4][2] + conf_matrix[4][3] + conf_matrix[4][4])\n",
    "            \n",
    "#record normali classificati come anomali (FN)\n",
    "\n",
    "false_negative = conf_matrix[1][0] + conf_matrix[1][2] + conf_matrix[1][3] + conf_matrix[1][4]\n",
    "\n",
    "#record anomali classificati come normali (FP)\n",
    "\n",
    "false_positive = conf_matrix[0][1] + conf_matrix[2][1] + conf_matrix[3][1] + conf_matrix[4][1]\n",
    "\n",
    "indici_riga_colonna = ['0','1']\n",
    "\n",
    "\n",
    "values = np.array([[true_negative, false_positive],\n",
    "                   [false_negative, true_positive]])\n",
    "\n",
    "fig, ax = plt.subplots()\n",
    "im = ax.imshow(values, cmap='YlOrBr')\n",
    "\n",
    "ax.set_xticks(np.arange(len(indici_riga_colonna)))\n",
    "ax.set_yticks(np.arange(len(indici_riga_colonna)))\n",
    "\n",
    "ax.set_xticklabels(indici_riga_colonna)\n",
    "ax.set_yticklabels(indici_riga_colonna)\n",
    "\n",
    "plt.setp(ax.get_xticklabels(),\n",
    "         rotation_mode=\"anchor\")\n",
    "\n",
    "for i in range(len(indici_riga_colonna)):\n",
    "    for j in range(len(indici_riga_colonna)):\n",
    "        text = ax.text(j, i, values[i, j],\n",
    "                       ha=\"center\", va=\"center\")\n",
    "\n",
    "ax.set_title(\"Confusion Matrix Binaria\")\n",
    "fig.tight_layout()\n",
    "\n",
    "print(\"### 0 Anomaly / 1 Normal ###\")\n",
    "plt.show()\n",
    "\n",
    "print(\"          predicted labels  \")\n",
    "\n"
   ]
  },
  {
   "cell_type": "code",
   "execution_count": 25,
   "metadata": {},
   "outputs": [
    {
     "name": "stdout",
     "output_type": "stream",
     "text": [
      "0 :\n",
      "             precision:  0.986\n",
      "             recall:     0.978\n",
      "\n",
      "\n",
      "1 :\n",
      "             precision:  0.983\n",
      "             recall:     0.989\n",
      "\n",
      "\n",
      "Accuracy:  0.98464\n"
     ]
    }
   ],
   "source": [
    "zero_precision = true_negative/(true_negative + false_negative) \n",
    "one_precision = true_positive/(true_positive + false_positive) \n",
    "\n",
    "zero_recall = true_negative/(true_negative + false_positive)\n",
    "one_recall = true_positive/(true_positive + false_negative)\n",
    "\n",
    "accuracy= (true_positive + true_negative)/(true_positive + true_negative + false_positive + false_negative)\n",
    "print(\"0 :\")\n",
    "print(\"             precision: \",\"%.3f\" % zero_precision)\n",
    "print(\"             recall: \",\"   %.3f\" % zero_recall)\n",
    "print(\"\")\n",
    "print(\"\")\n",
    "print(\"1 :\")\n",
    "print(\"             precision: \",\"%.3f\" % one_precision)\n",
    "print(\"             recall: \",\"   %.3f\" % one_recall)\n",
    "print(\"\")\n",
    "print(\"\")\n",
    "print(\"Accuracy: \", \"%.5f\" % accuracy)"
   ]
  },
  {
   "cell_type": "code",
   "execution_count": null,
   "metadata": {},
   "outputs": [],
   "source": [
    "default_stdout = sys.stdout\n",
    "f = open('result/accuracy_senza_penalty.txt', 'a')\n",
    "sys.stdout = f\n",
    "print(accuracy)\n",
    "f.close()\n",
    "sys.stdout = default_stdout"
   ]
  },
  {
   "cell_type": "code",
   "execution_count": null,
   "metadata": {},
   "outputs": [],
   "source": [
    "with open('result/accuracy_senza_penalty.txt') as f:\n",
    "    content = f.readlines()\n",
    "# you may also want to remove whitespace characters like `\\n` at the end of each line\n",
    "content = [x.strip() for x in content] \n",
    "\n",
    "all_sum = 0\n",
    "num_campioni = 0\n",
    "for i in content:\n",
    "    num_campioni = num_campioni + 1\n",
    "    all_sum = all_sum + float(i)\n",
    "\n",
    "avg_accuracy = all_sum/num_campioni\n",
    "print(avg_accuracy)"
   ]
  }
 ],
 "metadata": {
  "kernelspec": {
   "display_name": "Python 3",
   "language": "python",
   "name": "python3"
  },
  "language_info": {
   "codemirror_mode": {
    "name": "ipython",
    "version": 3
   },
   "file_extension": ".py",
   "mimetype": "text/x-python",
   "name": "python",
   "nbconvert_exporter": "python",
   "pygments_lexer": "ipython3",
   "version": "3.8.3"
  }
 },
 "nbformat": 4,
 "nbformat_minor": 4
}
