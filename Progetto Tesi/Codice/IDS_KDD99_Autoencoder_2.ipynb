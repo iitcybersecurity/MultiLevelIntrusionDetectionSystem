{
 "cells": [
  {
   "cell_type": "code",
   "execution_count": 100,
   "metadata": {},
   "outputs": [
    {
     "name": "stdout",
     "output_type": "stream",
     "text": [
      "Librerie importate con successo\n"
     ]
    }
   ],
   "source": [
    "import pandas as pd\n",
    "import numpy as np\n",
    "from tensorflow import keras\n",
    "from tensorflow.keras import regularizers\n",
    "from tensorflow.keras import layers\n",
    "from tensorflow.keras.utils import to_categorical\n",
    "from tensorflow.keras.models import Sequential\n",
    "from sklearn.model_selection import train_test_split as splitter\n",
    "import cProfile\n",
    "import pstats\n",
    "import os\n",
    "import sys\n",
    "from sklearn.metrics import classification_report, confusion_matrix\n",
    "from sklearn.preprocessing import LabelEncoder\n",
    "from sklearn.preprocessing import OneHotEncoder\n",
    "from sklearn.preprocessing import MinMaxScaler\n",
    "from datetime import datetime\n",
    "from matplotlib import pyplot as plt\n",
    "from matplotlib import dates as md\n",
    "\n",
    "print(\"Librerie importate con successo\")"
   ]
  },
  {
   "cell_type": "code",
   "execution_count": 101,
   "metadata": {},
   "outputs": [
    {
     "name": "stdout",
     "output_type": "stream",
     "text": [
      "Shape del dataset :  (13451, 22)\n"
     ]
    }
   ],
   "source": [
    "#Carico il dataset\n",
    "\n",
    "data = pd.read_csv('../Datasets/kdd_prediction.csv', delimiter=',',\n",
    "                       dtype={'protocol_type': str, 'service': str, 'flag': str, 'result': str})\n",
    "\n",
    "#data = data.sample(frac=1, random_state=3928).reset_index(drop=True) #shuffle\n",
    "data = data.sample(frac=1, random_state=234).reset_index(drop=True) #shuffle\n",
    "\n",
    "print(\"Shape del dataset : \", data.shape)"
   ]
  },
  {
   "cell_type": "code",
   "execution_count": 102,
   "metadata": {},
   "outputs": [
    {
     "name": "stdout",
     "output_type": "stream",
     "text": [
      "Total :  13451\n",
      "Normal :  7500\n",
      "Malicious :  5951\n"
     ]
    },
    {
     "data": {
      "image/png": "[encoded data removed]",
      "text/plain": [
       "<Figure size 432x288 with 1 Axes>"
      ]
     },
     "metadata": {
      "needs_background": "light"
     },
     "output_type": "display_data"
    }
   ],
   "source": [
    "#Effettuo il plot del dataset\n",
    "\n",
    "total_flows_count = data[\"result\"].count()\n",
    "normal_flows_count = len(data[data.result == \"normal\"])\n",
    "anomaly_flows_count = len(data[data.result != \"normal\"])\n",
    "\n",
    "print(\"Total : \",total_flows_count)\n",
    "print(\"Normal : \",normal_flows_count)\n",
    "print(\"Malicious : \",anomaly_flows_count)\n",
    "\n",
    "# x-coordinates of left sides of bars  \n",
    "left = [1, 1.5] \n",
    "  \n",
    "# heights of bars \n",
    "height = [normal_flows_count, anomaly_flows_count] \n",
    "  \n",
    "# labels for bars \n",
    "tick_label = ['Normal', 'Malicious'] \n",
    "  \n",
    "# bar chart\n",
    "plt.bar(left, height, tick_label = tick_label, \n",
    "        width = 0.4, color = ['green', 'red']) \n",
    "  \n",
    "# Rinominazione asse x \n",
    "plt.xlabel('Tipologia di record') \n",
    "# Rinominazione asse y \n",
    "plt.ylabel('Numero di record') \n",
    "# Titolo\n",
    "plt.title('Numero di samples del dataset') \n",
    "  \n",
    "plt.show() "
   ]
  },
  {
   "cell_type": "code",
   "execution_count": 103,
   "metadata": {},
   "outputs": [
    {
     "name": "stdout",
     "output_type": "stream",
     "text": [
      "Normal :  7500\n",
      "R2L :  381\n",
      "U2R :  50\n",
      "DOS :  5000\n",
      "Probe :  520\n"
     ]
    },
    {
     "data": {
      "image/png": "[encoded data removed]",
      "text/plain": [
       "<Figure size 432x288 with 1 Axes>"
      ]
     },
     "metadata": {
      "needs_background": "light"
     },
     "output_type": "display_data"
    }
   ],
   "source": [
    "#plot che mi mostra la suddivisione tra i 4 attacchi\n",
    "\n",
    "r2l_flows_count = len(data[data.result == \"r2l\"])\n",
    "u2r_flows_count = len(data[data.result == \"u2r\"])\n",
    "dos_flows_count = len(data[data.result == \"dos\"])\n",
    "probe_flows_count = len(data[data.result == \"probe\"])\n",
    "\n",
    "print(\"Normal : \",normal_flows_count)\n",
    "print(\"R2L : \",r2l_flows_count)\n",
    "print(\"U2R : \",u2r_flows_count)\n",
    "print(\"DOS : \",dos_flows_count)\n",
    "print(\"Probe : \",probe_flows_count)\n",
    "\n",
    "left = [1, 1.5, 2, 2.5, 3] \n",
    "  \n",
    "# heights of bars \n",
    "height = [normal_flows_count, r2l_flows_count, u2r_flows_count, dos_flows_count, probe_flows_count] \n",
    "  \n",
    "# labels for bars \n",
    "tick_label = ['Normal', 'R2L', \"U2R\", \"DOS\", \"Probe\"] \n",
    "  \n",
    "# bar chart\n",
    "plt.bar(left, height, tick_label = tick_label, \n",
    "        width = 0.4, color = ['green','yellow', 'orange', 'red', 'purple']) \n",
    "  \n",
    "# Rinominazione asse x \n",
    "plt.xlabel('Tipologia di record') \n",
    "# Rinominazione asse y \n",
    "plt.ylabel('Numero di record') \n",
    "# Titolo\n",
    "plt.title('Suddivisione sample dataset') \n",
    "  \n",
    "plt.show() "
   ]
  },
  {
   "cell_type": "code",
   "execution_count": 104,
   "metadata": {},
   "outputs": [],
   "source": [
    "#Funzioni utili preprocessing\n",
    "\n",
    "#ottiene una service_list dal file service.txt prelevando ogni riga e inserendola in una lista\n",
    "def get_service_list(dirname='list', filename='service_mio.txt'):\n",
    "    print('Getting service list...')\n",
    "    with open(os.path.join(dirname, filename), 'r') as service:\n",
    "        service_list = service.read().split('\\n')\n",
    "    return service_list\n",
    "\n",
    "#ottiene una flag_list dal file flag.txt prelevando ogni riga e inserendola in una lista\n",
    "def get_flag_list(dirname='list', filename='flag_mio.txt'):\n",
    "    print('Getting flag list...')\n",
    "    with open(os.path.join(dirname, filename), 'r') as flag:\n",
    "        flag_list = flag.read().split('\\n')\n",
    "    return flag_list"
   ]
  },
  {
   "cell_type": "code",
   "execution_count": 105,
   "metadata": {},
   "outputs": [
    {
     "name": "stdout",
     "output_type": "stream",
     "text": [
      "Getting service list...\n",
      "Getting flag list...\n",
      "Replacing protocol_type values to numeric...\n",
      "Replacing service values to numeric...\n",
      "Replacing flag values to numeric...\n"
     ]
    }
   ],
   "source": [
    "service_list = get_service_list(dirname='list', filename='service_mio.txt')\n",
    "flag_list = get_flag_list(dirname='list', filename='flag_mio.txt')\n",
    "\n",
    "print('Replacing protocol_type values to numeric...')\n",
    "data.protocol_type.replace(['tcp', 'udp', 'icmp'], range(3), inplace=True)\n",
    "\n",
    "print('Replacing service values to numeric...')\n",
    "data.service.replace(service_list, range(len(service_list)), inplace=True)\n",
    "\n",
    "print('Replacing flag values to numeric...')\n",
    "data.flag.replace(flag_list, range(len(flag_list)), inplace=True)"
   ]
  },
  {
   "cell_type": "code",
   "execution_count": 106,
   "metadata": {},
   "outputs": [
    {
     "name": "stdout",
     "output_type": "stream",
     "text": [
      "Converting count data (index 22, 31, 32) to machine readable...\n",
      "Converting type data (index 1, 2, 3) to machine readable...\n",
      "Dropping and attaching one-hot encoding data...\n",
      "Final shape of data: (13451, 95)\n"
     ]
    }
   ],
   "source": [
    "sc = MinMaxScaler()\n",
    "enc = OneHotEncoder(categories=[range(3), range(len(service_list)), range(len(flag_list))])\n",
    "num_desc = data.loc[:, ['duration', 'src_bytes', 'dst_bytes']].describe()\n",
    "\n",
    "label, df_label = [], []\n",
    "    \n",
    "label = data['result'].copy().values.reshape((data.shape[0], 1))\n",
    "df_label = pd.DataFrame(label)\n",
    "data.drop(['result'], axis=1, inplace=True)   \n",
    "\n",
    "attr_name = ['duration', '', '', '', 'src_bytes', 'dst_bytes']\n",
    "\n",
    "for i in ['duration', 'src_bytes', 'dst_bytes']:\n",
    "    iqr = (num_desc[i].values[6] - num_desc[i].values[4])\n",
    "    std = num_desc[i].values[6] + iqr * 1.5  # IQR upper fence = Q3 + 1.5 * IQR\n",
    "    if std == 0:\n",
    "        data[i] = data[i].map(lambda x: 1 if x > 0 else 0)\n",
    "    else:\n",
    "        data[i] = data[i].map(lambda x: std if x > std else x)\n",
    "sc.fit(data[['duration', 'src_bytes', 'dst_bytes']].values)\n",
    "data[['duration', 'src_bytes', 'dst_bytes']] = sc.transform(data[['duration', 'src_bytes', 'dst_bytes']].values)\n",
    "\n",
    "print('Converting count data (index 22, 31, 32) to machine readable...')\n",
    "sc.fit(data[['count']].values.astype(np.float32))\n",
    "data[['count']] = sc.transform(data[['count']].values.astype(np.float32))\n",
    "\n",
    "print('Converting type data (index 1, 2, 3) to machine readable...')\n",
    "enc.fit(data[['protocol_type','service','flag']].values)\n",
    "one_hot_arr = enc.transform(data[['protocol_type','service','flag']].values).toarray()\n",
    "\n",
    "print('Dropping and attaching one-hot encoding data...')\n",
    "data.drop(['protocol_type','service','flag'], axis=1, inplace=True)\n",
    "data_final = np.concatenate((data.values, one_hot_arr, df_label), axis=1)\n",
    "data_final = pd.DataFrame(data_final)\n",
    "\n",
    "print('Final shape of data:', data_final.shape)"
   ]
  },
  {
   "cell_type": "code",
   "execution_count": 107,
   "metadata": {},
   "outputs": [
    {
     "name": "stdout",
     "output_type": "stream",
     "text": [
      "Shape dataframe per il train :  (3000, 94)\n",
      "Shape dataframe per la validation :  (1000, 94)\n"
     ]
    }
   ],
   "source": [
    "dos_data = data_final[data_final[94] == \"dos\"] #prendo solo gli attacchi \"dos\" \n",
    "\n",
    "#60% per il train / 20% per la validation / 20% per il test\n",
    "data_train, data_val, data_test = np.split(dos_data, [int(.6*len(dos_data)), int(.8*len(dos_data))])\n",
    "\n",
    "x_train = data_train.drop([94],axis=1) #rimuove la colonna result dal dataframe\n",
    "x_val = data_val.drop([94], axis=1) #rimuove il label\n",
    "\n",
    "print(\"Shape dataframe per il train : \", x_train.shape)\n",
    "print(\"Shape dataframe per la validation : \", x_val.shape)"
   ]
  },
  {
   "cell_type": "code",
   "execution_count": 108,
   "metadata": {},
   "outputs": [
    {
     "name": "stdout",
     "output_type": "stream",
     "text": [
      "Shape numpy array per il train :  (3000, 94, 1)\n",
      "Shape numpy array per la validation :  (1000, 94, 1)\n"
     ]
    }
   ],
   "source": [
    "x_train_arr = np.asarray(x_train).astype(np.float32)\n",
    "x_train_arr = x_train_arr.reshape(x_train_arr.shape[0],x_train_arr.shape[1],1) #converte la shape da 2d a 3d per layer LSTM\n",
    "\n",
    "x_val_arr = np.asarray(x_val).astype(np.float32)\n",
    "x_val_arr = x_val_arr.reshape(x_val_arr.shape[0],x_val_arr.shape[1],1) #converte la shape da 2d a 3d per layer LSTM\n",
    "\n",
    "\n",
    "print(\"Shape numpy array per il train : \", x_train_arr.shape)\n",
    "print(\"Shape numpy array per la validation : \", x_val_arr.shape)"
   ]
  },
  {
   "cell_type": "code",
   "execution_count": 109,
   "metadata": {
    "scrolled": true
   },
   "outputs": [
    {
     "name": "stdout",
     "output_type": "stream",
     "text": [
      "Model: \"sequential_6\"\n",
      "_________________________________________________________________\n",
      "Layer (type)                 Output Shape              Param #   \n",
      "=================================================================\n",
      "lstm_12 (LSTM)               (None, 94, 16)            1152      \n",
      "_________________________________________________________________\n",
      "dense_54 (Dense)             (None, 94, 512)           8704      \n",
      "_________________________________________________________________\n",
      "dropout_42 (Dropout)         (None, 94, 512)           0         \n",
      "_________________________________________________________________\n",
      "leaky_re_lu_42 (LeakyReLU)   (None, 94, 512)           0         \n",
      "_________________________________________________________________\n",
      "dense_55 (Dense)             (None, 94, 256)           131328    \n",
      "_________________________________________________________________\n",
      "dropout_43 (Dropout)         (None, 94, 256)           0         \n",
      "_________________________________________________________________\n",
      "leaky_re_lu_43 (LeakyReLU)   (None, 94, 256)           0         \n",
      "_________________________________________________________________\n",
      "dense_56 (Dense)             (None, 94, 128)           32896     \n",
      "_________________________________________________________________\n",
      "dropout_44 (Dropout)         (None, 94, 128)           0         \n",
      "_________________________________________________________________\n",
      "leaky_re_lu_44 (LeakyReLU)   (None, 94, 128)           0         \n",
      "_________________________________________________________________\n",
      "dense_57 (Dense)             (None, 94, 64)            8256      \n",
      "_________________________________________________________________\n",
      "dropout_45 (Dropout)         (None, 94, 64)            0         \n",
      "_________________________________________________________________\n",
      "leaky_re_lu_45 (LeakyReLU)   (None, 94, 64)            0         \n",
      "_________________________________________________________________\n",
      "dense_58 (Dense)             (None, 94, 128)           8320      \n",
      "_________________________________________________________________\n",
      "dropout_46 (Dropout)         (None, 94, 128)           0         \n",
      "_________________________________________________________________\n",
      "leaky_re_lu_46 (LeakyReLU)   (None, 94, 128)           0         \n",
      "_________________________________________________________________\n",
      "dense_59 (Dense)             (None, 94, 256)           33024     \n",
      "_________________________________________________________________\n",
      "dropout_47 (Dropout)         (None, 94, 256)           0         \n",
      "_________________________________________________________________\n",
      "leaky_re_lu_47 (LeakyReLU)   (None, 94, 256)           0         \n",
      "_________________________________________________________________\n",
      "dense_60 (Dense)             (None, 94, 512)           131584    \n",
      "_________________________________________________________________\n",
      "dropout_48 (Dropout)         (None, 94, 512)           0         \n",
      "_________________________________________________________________\n",
      "leaky_re_lu_48 (LeakyReLU)   (None, 94, 512)           0         \n",
      "_________________________________________________________________\n",
      "dense_61 (Dense)             (None, 94, 94)            48222     \n",
      "_________________________________________________________________\n",
      "lstm_13 (LSTM)               (None, 94, 16)            7104      \n",
      "_________________________________________________________________\n",
      "time_distributed_6 (TimeDist (None, 94, 1)             17        \n",
      "=================================================================\n",
      "Total params: 410,607\n",
      "Trainable params: 410,607\n",
      "Non-trainable params: 0\n",
      "_________________________________________________________________\n"
     ]
    }
   ],
   "source": [
    "model = keras.Sequential(\n",
    "    [\n",
    "       layers.Input(shape=(x_train_arr.shape[1],x_train_arr.shape[2])),\n",
    "       layers.LSTM(16, activation='relu', return_sequences=True),\n",
    "       layers.Dense(512),\n",
    "       layers.Dropout(0.5),\n",
    "       layers.LeakyReLU(0.01),\n",
    "       layers.Dense(256),\n",
    "       layers.Dropout(0.5),\n",
    "       layers.LeakyReLU(0.01),\n",
    "       layers.Dense(128),\n",
    "       layers.Dropout(0.5),\n",
    "       layers.LeakyReLU(0.01),\n",
    "        \n",
    "       layers.Dense(64),\n",
    "       layers.Dropout(0.5),\n",
    "       layers.LeakyReLU(0.01),\n",
    "        \n",
    "       layers.Dense(128),\n",
    "       layers.Dropout(0.5),\n",
    "       layers.LeakyReLU(0.01),\n",
    "       layers.Dense(256),\n",
    "       layers.Dropout(0.5),\n",
    "       layers.LeakyReLU(0.01),\n",
    "       layers.Dense(512),\n",
    "       layers.Dropout(0.5),\n",
    "       layers.LeakyReLU(0.01),\n",
    "       layers.Dense(x_train_arr.shape[1], activation='sigmoid'),\n",
    "       layers.LSTM(16, activation='relu', return_sequences=True),\n",
    "       layers.TimeDistributed(layers.Dense(1)),\n",
    "    ]\n",
    ")\n",
    "\n",
    "optimizer = keras.optimizers.Adam(lr=0.01)\n",
    "model.compile( optimizer=optimizer, loss='mse')\n",
    "model.summary()"
   ]
  },
  {
   "cell_type": "code",
   "execution_count": 110,
   "metadata": {
    "scrolled": false
   },
   "outputs": [
    {
     "name": "stdout",
     "output_type": "stream",
     "text": [
      "Epoch 1/30\n",
      "10/10 [==============================] - 15s 2s/step - loss: 0.4949 - val_loss: 0.1908\n",
      "Epoch 2/30\n",
      "10/10 [==============================] - 15s 1s/step - loss: 0.1597 - val_loss: 0.1777\n",
      "Epoch 3/30\n",
      "10/10 [==============================] - 15s 2s/step - loss: 0.1542 - val_loss: 0.1776\n",
      "Epoch 4/30\n",
      "10/10 [==============================] - 15s 1s/step - loss: 0.1540 - val_loss: 0.1774\n",
      "Epoch 5/30\n",
      "10/10 [==============================] - 14s 1s/step - loss: 0.1535 - val_loss: 0.1752\n",
      "Epoch 6/30\n",
      "10/10 [==============================] - 15s 1s/step - loss: 0.1449 - val_loss: 0.1478\n",
      "Epoch 7/30\n",
      "10/10 [==============================] - 15s 1s/step - loss: 0.1220 - val_loss: 0.1415\n",
      "Epoch 8/30\n",
      "10/10 [==============================] - 16s 2s/step - loss: 0.1159 - val_loss: 0.1367\n",
      "Epoch 9/30\n",
      "10/10 [==============================] - 17s 2s/step - loss: 0.1129 - val_loss: 0.1347\n",
      "Epoch 10/30\n",
      "10/10 [==============================] - 15s 1s/step - loss: 0.1116 - val_loss: 0.1341\n",
      "Epoch 11/30\n",
      "10/10 [==============================] - 16s 2s/step - loss: 0.1109 - val_loss: 0.1340\n",
      "Epoch 12/30\n",
      "10/10 [==============================] - 16s 2s/step - loss: 0.1107 - val_loss: 0.1337\n",
      "Epoch 13/30\n",
      "10/10 [==============================] - 15s 1s/step - loss: 0.1106 - val_loss: 0.1338\n",
      "Epoch 14/30\n",
      "10/10 [==============================] - 15s 2s/step - loss: 0.1104 - val_loss: 0.1336\n",
      "Epoch 15/30\n",
      "10/10 [==============================] - 15s 1s/step - loss: 0.1106 - val_loss: 0.1335\n",
      "Epoch 16/30\n",
      "10/10 [==============================] - 15s 1s/step - loss: 0.1103 - val_loss: 0.1328\n",
      "Epoch 17/30\n",
      "10/10 [==============================] - 15s 1s/step - loss: 0.1102 - val_loss: 0.1328\n",
      "Epoch 18/30\n",
      "10/10 [==============================] - 15s 1s/step - loss: 0.1098 - val_loss: 0.1326\n",
      "Epoch 19/30\n",
      "10/10 [==============================] - 15s 2s/step - loss: 0.1096 - val_loss: 0.1328\n",
      "Epoch 20/30\n",
      "10/10 [==============================] - 15s 1s/step - loss: 0.1096 - val_loss: 0.1328\n",
      "Epoch 21/30\n",
      "10/10 [==============================] - 14s 1s/step - loss: 0.1096 - val_loss: 0.1328\n",
      "Epoch 22/30\n",
      "10/10 [==============================] - 14s 1s/step - loss: 0.1094 - val_loss: 0.1318\n",
      "Epoch 23/30\n",
      "10/10 [==============================] - 14s 1s/step - loss: 0.1090 - val_loss: 0.1315\n",
      "Epoch 24/30\n",
      "10/10 [==============================] - 14s 1s/step - loss: 0.1086 - val_loss: 0.1309\n",
      "Epoch 25/30\n",
      "10/10 [==============================] - 14s 1s/step - loss: 0.1082 - val_loss: 0.1305\n",
      "Epoch 26/30\n",
      "10/10 [==============================] - 14s 1s/step - loss: 0.1074 - val_loss: 0.1296\n",
      "Epoch 27/30\n",
      "10/10 [==============================] - 14s 1s/step - loss: 0.1061 - val_loss: 0.1275\n",
      "Epoch 28/30\n",
      "10/10 [==============================] - 14s 1s/step - loss: 0.1044 - val_loss: 0.1261\n",
      "Epoch 29/30\n",
      "10/10 [==============================] - 15s 1s/step - loss: 0.1029 - val_loss: 0.1247\n",
      "Epoch 30/30\n",
      "10/10 [==============================] - 14s 1s/step - loss: 0.1013 - val_loss: 0.1231\n"
     ]
    }
   ],
   "source": [
    "history = model.fit(\n",
    "    x_train_arr,\n",
    "    x_train_arr,\n",
    "    epochs=30,\n",
    "    batch_size=300,\n",
    "    validation_data=(x_val_arr, x_val_arr),\n",
    "    callbacks=[\n",
    "        keras.callbacks.EarlyStopping(monitor=\"val_loss\", patience=20, mode=\"min\")\n",
    "    ],\n",
    ")"
   ]
  },
  {
   "cell_type": "code",
   "execution_count": 111,
   "metadata": {},
   "outputs": [
    {
     "data": {
      "text/plain": [
       "<matplotlib.legend.Legend at 0x1c808b2ed00>"
      ]
     },
     "execution_count": 111,
     "metadata": {},
     "output_type": "execute_result"
    },
    {
     "data": {
      "image/png": "[encoded data removed]",
      "text/plain": [
       "<Figure size 432x288 with 1 Axes>"
      ]
     },
     "metadata": {
      "needs_background": "light"
     },
     "output_type": "display_data"
    }
   ],
   "source": [
    "plt.plot(history.history[\"loss\"], label=\"Training Loss\")\n",
    "plt.plot(history.history[\"val_loss\"], label=\"Validation Loss\")\n",
    "plt.legend()"
   ]
  },
  {
   "cell_type": "code",
   "execution_count": 112,
   "metadata": {},
   "outputs": [
    {
     "data": {
      "image/png": "[encoded data removed]",
      "text/plain": [
       "<Figure size 432x288 with 1 Axes>"
      ]
     },
     "metadata": {
      "needs_background": "light"
     },
     "output_type": "display_data"
    },
    {
     "name": "stdout",
     "output_type": "stream",
     "text": [
      "Reconstruction error threshold:  0.018522933\n"
     ]
    }
   ],
   "source": [
    "x_train_pred = model.predict(x_train_arr)\n",
    "train_mae_loss = np.mean(np.abs(x_train_pred - x_train_arr), axis=1)\n",
    "train_mae_loss = train_mae_loss.ravel() #converte l'array numpy in 1d\n",
    "train_mae_loss = np.sort(train_mae_loss) #quicksort\n",
    "\n",
    "\n",
    "train_mae_loss_len = len(train_mae_loss)\n",
    "n_index = int(0.75*train_mae_loss_len)\n",
    "plt.hist(train_mae_loss, bins=100)\n",
    "plt.xlabel(\"Train MAE loss\")\n",
    "plt.ylabel(\"No of samples\")\n",
    "plt.show()\n",
    "\n",
    "# Get reconstruction loss threshold.\n",
    "train_mae_loss_split = train_mae_loss[:n_index]\n",
    "threshold = np.max(train_mae_loss_split)\n",
    "print(\"Reconstruction error threshold: \", threshold)"
   ]
  },
  {
   "cell_type": "code",
   "execution_count": 113,
   "metadata": {},
   "outputs": [
    {
     "name": "stdout",
     "output_type": "stream",
     "text": [
      "Shape del dataset per il test:  (4380, 95)\n"
     ]
    }
   ],
   "source": [
    "#data_test\n",
    "#il dataset per il test sarà formato dai 1000 sample dos prelevati precedentemente a cui aggiungerò dei sample normali\n",
    "#e di altri attacchi (non dos)\n",
    "#in particolare prelevo il 40% dei sample non dos\n",
    "\n",
    "not_dos_data = data_final[data_final[94] != \"dos\"] #prendo solo i valori non \"dos\"\n",
    "percentage = 40\n",
    "not_dos_data = not_dos_data.head(int(len(not_dos_data)*(percentage/100)))\n",
    "frames = [data_test, not_dos_data]\n",
    "final_test_data = pd.concat(frames)\n",
    "\n",
    "print(\"Shape del dataset per il test: \", final_test_data.shape)"
   ]
  },
  {
   "cell_type": "code",
   "execution_count": 114,
   "metadata": {
    "scrolled": true
   },
   "outputs": [
    {
     "name": "stdout",
     "output_type": "stream",
     "text": [
      "Total :  4380\n",
      "Normal :  2988\n",
      "Malicious :  1392\n"
     ]
    },
    {
     "data": {
      "image/png": "[encoded data removed]",
      "text/plain": [
       "<Figure size 432x288 with 1 Axes>"
      ]
     },
     "metadata": {
      "needs_background": "light"
     },
     "output_type": "display_data"
    }
   ],
   "source": [
    "total_flows_count_test = final_test_data[94].count()\n",
    "normal_flows_count_test = len(final_test_data[final_test_data[94] == \"normal\"])\n",
    "anomaly_flows_count_test = len(final_test_data[final_test_data[94] != \"normal\"])\n",
    "\n",
    "print(\"Total : \",total_flows_count_test)\n",
    "print(\"Normal : \",normal_flows_count_test)\n",
    "print(\"Malicious : \",anomaly_flows_count_test)\n",
    "\n",
    "# x-coordinates of left sides of bars  \n",
    "left = [1, 1.5] \n",
    "  \n",
    "# heights of bars \n",
    "height = [normal_flows_count_test, anomaly_flows_count_test] \n",
    "  \n",
    "# labels for bars \n",
    "tick_label = ['Normal', 'Malicious'] \n",
    "  \n",
    "# bar chart\n",
    "plt.bar(left, height, tick_label = tick_label, \n",
    "        width = 0.4, color = ['blue', 'orange']) \n",
    "  \n",
    "# Rinominazione asse x \n",
    "plt.xlabel('Tipologia di record') \n",
    "# Rinominazione asse y \n",
    "plt.ylabel('Numero di record') \n",
    "# Titolo\n",
    "plt.title('Numero di samples del dataset per il test') \n",
    "  \n",
    "plt.show() \n",
    "\n"
   ]
  },
  {
   "cell_type": "code",
   "execution_count": 115,
   "metadata": {},
   "outputs": [
    {
     "name": "stdout",
     "output_type": "stream",
     "text": [
      "Numero totale di tutte le anomalie : 1392\n",
      "Numero dei record u2r : 24\n",
      "Numero dei record r2l : 153\n",
      "Numero dei record probe : 215\n",
      "Numero dei record dos : 1000\n"
     ]
    },
    {
     "data": {
      "image/png": "[encoded data removed]",
      "text/plain": [
       "<Figure size 432x288 with 1 Axes>"
      ]
     },
     "metadata": {
      "needs_background": "light"
     },
     "output_type": "display_data"
    }
   ],
   "source": [
    "all_anomaly_count = len(final_test_data[final_test_data[94] != \"normal\"])\n",
    "u2r_count = len(final_test_data[final_test_data[94] == \"u2r\"])\n",
    "r2l_count = len(final_test_data[final_test_data[94] == \"r2l\"])\n",
    "probe_count = len(final_test_data[final_test_data[94] == \"probe\"])\n",
    "dos_count = len(final_test_data[final_test_data[94] == \"dos\"])\n",
    "\n",
    "print('Numero totale di tutte le anomalie :', all_anomaly_count)\n",
    "print('Numero dei record u2r :', u2r_count)\n",
    "print('Numero dei record r2l :',r2l_count)\n",
    "print('Numero dei record probe :',probe_count)\n",
    "print('Numero dei record dos :',dos_count)\n",
    "\n",
    "left = [1, 1.5, 2, 2.5] \n",
    "  \n",
    "# heights of bars \n",
    "height = [u2r_count, r2l_count, probe_count, dos_count] \n",
    "  \n",
    "# labels for bars \n",
    "tick_label = ['U2r', 'R2l', 'Probe', 'Dos'] \n",
    "  \n",
    "# bar chart\n",
    "plt.bar(left, height, tick_label = tick_label, \n",
    "        width = 0.4, color = ['red', 'orange', 'purple', 'yellow']) \n",
    "  \n",
    "# Rinominazione asse x \n",
    "plt.xlabel('Tipologia di attacco') \n",
    "# Rinominazione asse y \n",
    "plt.ylabel('Numero di record') \n",
    "# Titolo\n",
    "plt.title('Suddivisione anomalie nelle 4 tipologie di attacco') \n",
    "  \n",
    "plt.show() \n"
   ]
  },
  {
   "cell_type": "code",
   "execution_count": 116,
   "metadata": {},
   "outputs": [
    {
     "name": "stdout",
     "output_type": "stream",
     "text": [
      "x_test shape : (4380, 94)\n"
     ]
    }
   ],
   "source": [
    "data_test_with_label = final_test_data.copy()\n",
    "x_test = final_test_data.drop([94],axis=1) #rimuove la colonna dei result dal dataframe\n",
    "\n",
    "print(\"x_test shape :\", x_test.shape)"
   ]
  },
  {
   "cell_type": "code",
   "execution_count": 117,
   "metadata": {},
   "outputs": [
    {
     "name": "stdout",
     "output_type": "stream",
     "text": [
      "Shape numpy array per il test :  (4380, 94, 1)\n"
     ]
    }
   ],
   "source": [
    "x_test_arr = np.asarray(x_test).astype(np.float32)\n",
    "x_test_arr = x_test_arr.reshape(x_test_arr.shape[0],x_test_arr.shape[1],1) #converte la shape da 2d a 3d per layer LSTM\n",
    "\n",
    "print(\"Shape numpy array per il test : \", x_test_arr.shape)"
   ]
  },
  {
   "cell_type": "code",
   "execution_count": 119,
   "metadata": {},
   "outputs": [
    {
     "data": {
      "image/png": "[encoded data removed]",
      "text/plain": [
       "<Figure size 432x288 with 1 Axes>"
      ]
     },
     "metadata": {
      "needs_background": "light"
     },
     "output_type": "display_data"
    },
    {
     "name": "stdout",
     "output_type": "stream",
     "text": [
      "Number di sample normali rilevati:  1497\n",
      "Numero di sample normali rivelati erroneamente:  434 (FP)\n",
      "Numero di sample normali rilevati correttamente:  1063 (TP)\n",
      "Numero di sample normali non rivelati (considerati anomalie):  1925 (FN)\n",
      "Numero di sample anomali rivelati correttamente 958 (TN)\n",
      "Numero di sample anomali scambiati per normali 434 (FP)\n",
      "\n",
      "Numero di sample anomali U2R rilevati correttamente:  5 (TN)\n",
      "Numero di sample anomali U2R considerati Normali : 19 (FP)\n",
      "Numero di sample anomali R2L rilevati correttamente:  21 (TN)\n",
      "Numero di sample anomali R2L considerati normali : 132 (FP)\n",
      "Numero di sample anomali Probe rilevati correttamente:  190 (TN)\n",
      "Numero di sample anomali Probe considerati normali : 25 (FP)\n",
      "Numero di sample anomali Dos rilevati correttamente:  742 (TN)\n",
      "Numero di sample anomali Dos considerati normali : 258 (FP)\n",
      "\n",
      "Percentuale di record normali rilevati correttamente sul totale dei record normali -> 35.57563587684069 %\n",
      "Percentuale di sample anomali rilevati correttamente sul totale delle anomalie-> 68.82183908045977 %\n"
     ]
    }
   ],
   "source": [
    "arr_test_pred = model.predict(x_test_arr)\n",
    "test_mae_loss = np.mean(np.abs(arr_test_pred - x_test_arr), axis=1)\n",
    "                                       \n",
    "plt.hist(test_mae_loss, bins=50)\n",
    "plt.xlabel(\"test MAE loss\")\n",
    "plt.ylabel(\"No of samples\")\n",
    "plt.show()\n",
    "\n",
    "\n",
    "# Detect all the samples which are anomalies.\n",
    "not_anomalies = (test_mae_loss > threshold).tolist()\n",
    "count = 0\n",
    "\n",
    "u2r_rilevati = 0\n",
    "u2r_non_rilevati = 0\n",
    "r2l_rilevati = 0\n",
    "r2l_non_rilevati = 0\n",
    "probe_rilevati = 0\n",
    "probe_non_rilevati = 0\n",
    "dos_rilevati = 0\n",
    "dos_non_rilevati = 0\n",
    "normal_corretti = 0\n",
    "\n",
    "true_positive = 0\n",
    "false_negative = 0\n",
    "false_positive = 0\n",
    "true_negative = 0\n",
    "\n",
    "for i in not_anomalies:\n",
    "    x = str(i)\n",
    "    if ( x == '[True]'): #record non anomali rilevati\n",
    "        if ( data_test_with_label.iloc[count][94] == \"normal\"):\n",
    "            true_positive = true_positive + 1 #record corretti\n",
    "        if ( data_test_with_label.iloc[count][94] == \"u2r\"): #record classificati come normali ma che sono u2r\n",
    "            u2r_rilevati = u2r_rilevati + 1\n",
    "        if ( data_test_with_label.iloc[count][94] == \"r2l\"):\n",
    "            r2l_rilevati = r2l_rilevati + 1\n",
    "        if ( data_test_with_label.iloc[count][94] == \"probe\"):\n",
    "            probe_rilevati = probe_rilevati + 1\n",
    "        if ( data_test_with_label.iloc[count][94] == \"dos\"):\n",
    "            dos_rilevati = dos_rilevati + 1\n",
    "    if (x == '[False]'): #record ritenuti anomali dall'autoencoder\n",
    "        if ( data_test_with_label.iloc[count][94] == \"u2r\"):\n",
    "            u2r_non_rilevati = u2r_non_rilevati + 1\n",
    "        if ( data_test_with_label.iloc[count][94] == \"r2l\"):\n",
    "            r2l_non_rilevati = r2l_non_rilevati + 1\n",
    "        if ( data_test_with_label.iloc[count][94] == \"probe\"):\n",
    "            probe_non_rilevati = probe_non_rilevati + 1\n",
    "        if ( data_test_with_label.iloc[count][94] == \"dos\"):\n",
    "            dos_non_rilevati = dos_non_rilevati + 1\n",
    "        if ( data_test_with_label.iloc[count][94] == \"normal\"): #record classificati come anomali ma in realtà normali\n",
    "            false_negative = false_negative + 1\n",
    "    count = count + 1\n",
    "    \n",
    "false_positive = u2r_rilevati + r2l_rilevati + dos_rilevati + probe_rilevati\n",
    "true_negative = u2r_non_rilevati + r2l_non_rilevati + dos_non_rilevati +  probe_non_rilevati\n",
    "        \n",
    "print(\"Number di sample normali rilevati: \", np.sum(not_anomalies))\n",
    "print(\"Numero di sample normali rivelati erroneamente: \", false_positive,'(FP)')\n",
    "print(\"Numero di sample normali rilevati correttamente: \", true_positive, '(TP)')\n",
    "print(\"Numero di sample normali non rivelati (considerati anomalie): \", false_negative, '(FN)')\n",
    "print(\"Numero di sample anomali rivelati correttamente\", true_negative,\"(TN)\")\n",
    "print(\"Numero di sample anomali scambiati per normali\", false_positive, '(FP)')\n",
    "print(\"\")\n",
    "print(\"Numero di sample anomali U2R rilevati correttamente: \", u2r_non_rilevati, '(TN)')\n",
    "print(\"Numero di sample anomali U2R considerati Normali :\", u2r_rilevati, '(FP)')\n",
    "print(\"Numero di sample anomali R2L rilevati correttamente: \", r2l_non_rilevati, '(TN)')\n",
    "print(\"Numero di sample anomali R2L considerati normali :\", r2l_rilevati, '(FP)')\n",
    "print(\"Numero di sample anomali Probe rilevati correttamente: \", probe_non_rilevati, '(TN)')\n",
    "print(\"Numero di sample anomali Probe considerati normali :\", probe_rilevati, '(FP)')\n",
    "print(\"Numero di sample anomali Dos rilevati correttamente: \", dos_non_rilevati, \"(TN)\")\n",
    "print(\"Numero di sample anomali Dos considerati normali :\", dos_rilevati, \"(FP)\")\n",
    "print(\"\")\n",
    "print(\"Percentuale di record normali rilevati correttamente sul totale dei record normali ->\",\n",
    "      (true_positive/normal_flows_count_test)*100, \"%\")\n",
    "print(\"Percentuale di sample anomali rilevati correttamente sul totale delle anomalie->\",\n",
    "     (true_negative/all_anomaly_count)*100, \"%\")\n",
    "#print(\"Indices of anomaly samples: \", np.where(anomalies))                                       "
   ]
  },
  {
   "cell_type": "code",
   "execution_count": null,
   "metadata": {},
   "outputs": [],
   "source": []
  }
 ],
 "metadata": {
  "celltoolbar": "Raw Cell Format",
  "kernelspec": {
   "display_name": "Python 3",
   "language": "python",
   "name": "python3"
  },
  "language_info": {
   "codemirror_mode": {
    "name": "ipython",
    "version": 3
   },
   "file_extension": ".py",
   "mimetype": "text/x-python",
   "name": "python",
   "nbconvert_exporter": "python",
   "pygments_lexer": "ipython3",
   "version": "3.8.3"
  }
 },
 "nbformat": 4,
 "nbformat_minor": 4
}
